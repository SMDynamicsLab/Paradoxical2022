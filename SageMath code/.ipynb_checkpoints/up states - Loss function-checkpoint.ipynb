{
 "cells": [
  {
   "cell_type": "markdown",
   "metadata": {},
   "source": [
    "# Learning rule from Loss Function"
   ]
  },
  {
   "cell_type": "markdown",
   "metadata": {},
   "source": [
    "## General prescription"
   ]
  },
  {
   "cell_type": "markdown",
   "metadata": {},
   "source": [
    "We consider the full neural+synaptic system in the QSS approximation, that is the synaptic subsystem and the quasi-steady-state values of $E$ and $I$. In this approximation, the general prescription to compute the learning rule from a loss function $L$ is:\n",
    "\n",
    "1. Consider a generic loss function depending on $E$ and $I$  \n",
    "$L = L(E,I)$\n",
    "\n",
    "\n",
    "2. The learning rules are  \n",
    "$\\displaystyle \\Delta W_{EE} = - \\alpha \\frac{\\partial L}{\\partial W_{EE}}$  \n",
    "$\\displaystyle \\Delta W_{EI} = - \\alpha \\frac{\\partial L}{\\partial W_{EI}}$  \n",
    "$\\dots \\mbox{etc.}$  \n",
    "\n",
    "\n",
    "3. The partial derivatives of the loss function are  \n",
    "$\\displaystyle \\frac{\\partial L}{\\partial W_{EE}} = \\frac{\\partial L}{\\partial E} \\frac{\\partial E}{\\partial W_{EE}} + \\frac{\\partial L}{\\partial I} \\frac{\\partial I}{\\partial W_{EE}}$  \n",
    "$\\displaystyle \\frac{\\partial L}{\\partial W_{EI}} = \\ldots$  \n",
    "\n",
    "\n",
    "4. The partial derivatives $\\displaystyle \\frac{\\partial E}{\\partial W_{EE}}, \\ldots$ etc. are to be taken from the quasi-steady-state values of $E$ and $I$"
   ]
  },
  {
   "cell_type": "markdown",
   "metadata": {},
   "source": [
    "## Partial derivatives of $E$ and $I$"
   ]
  },
  {
   "cell_type": "markdown",
   "metadata": {},
   "source": [
    "### Neural system"
   ]
  },
  {
   "cell_type": "code",
   "execution_count": 1,
   "metadata": {},
   "outputs": [],
   "source": [
    "%%capture\n",
    "load('up states - Neural subsystem stability.sage.py')"
   ]
  },
  {
   "cell_type": "code",
   "execution_count": 2,
   "metadata": {},
   "outputs": [
    {
     "data": {
      "text/html": [
       "<html><script type=\"math/tex; mode=display\">\\newcommand{\\Bold}[1]{\\mathbf{#1}}\\mathit{dEdt} = \\frac{{\\left(E W_{\\mathit{EE}} - I W_{\\mathit{EI}} - \\Theta_{E}\\right)} g_{E} - E}{\\tau_{E}}</script></html>"
      ],
      "text/plain": [
       "dEdt == ((E*W_EE - I*W_EI - Theta_E)*g_E - E)/tau_E"
      ]
     },
     "metadata": {},
     "output_type": "display_data"
    },
    {
     "data": {
      "text/html": [
       "<html><script type=\"math/tex; mode=display\">\\newcommand{\\Bold}[1]{\\mathbf{#1}}\\mathit{dIdt} = \\frac{{\\left(E W_{\\mathit{IE}} - I W_{\\mathit{II}} - \\Theta_{I}\\right)} g_{I} - I}{\\tau_{I}}</script></html>"
      ],
      "text/plain": [
       "dIdt == ((E*W_IE - I*W_II - Theta_I)*g_I - I)/tau_I"
      ]
     },
     "metadata": {},
     "output_type": "display_data"
    }
   ],
   "source": [
    "var('dEdWEE,dEdWEI,dEdWIE,dEdWII')\n",
    "var('dIdWEE,dIdWEI,dIdWIE,dIdWII')\n",
    "var('alpha')\n",
    "show(f_E)\n",
    "show(f_I)"
   ]
  },
  {
   "cell_type": "markdown",
   "metadata": {},
   "source": [
    "### Quasi-steady-state approximation\n",
    "(see e.g. ```up states - Homeostatic stability.ipynb```)"
   ]
  },
  {
   "cell_type": "markdown",
   "metadata": {},
   "source": [
    "$\\displaystyle \\tau_E\\frac{dE}{dt} \\ll E \\implies \\tau_E\\frac{dE}{dt} \\sim 0$  \n",
    "$\\displaystyle \\tau_I\\frac{dI}{dt} \\ll I \\implies \\tau_I\\frac{dI}{dt} \\sim 0$\n",
    "\n",
    "then\n",
    "\n",
    "$E = E_{ss}(W_{EE},\\ldots)$  \n",
    "$I = I_{ss}(W_{EE},\\ldots)$"
   ]
  },
  {
   "cell_type": "markdown",
   "metadata": {},
   "source": [
    "Compute the steady-state values $E=E_{ss}$ and $I=I_{ss}$ as implicit functions (the derivatives will have simpler expressions this way):  \n",
    "$E_{ss} = f(E_{ss},I_{ss})$  \n",
    "$E_{ss} = g(E_{ss},I_{ss})$"
   ]
  },
  {
   "cell_type": "code",
   "execution_count": 3,
   "metadata": {},
   "outputs": [
    {
     "data": {
      "text/html": [
       "<html><script type=\"math/tex; mode=display\">\\newcommand{\\Bold}[1]{\\mathbf{#1}}E = {\\left(E W_{\\mathit{EE}} - I W_{\\mathit{EI}} - \\Theta_{E}\\right)} g_{E}</script></html>"
      ],
      "text/plain": [
       "E == (E*W_EE - I*W_EI - Theta_E)*g_E"
      ]
     },
     "metadata": {},
     "output_type": "display_data"
    },
    {
     "data": {
      "text/html": [
       "<html><script type=\"math/tex; mode=display\">\\newcommand{\\Bold}[1]{\\mathbf{#1}}I = {\\left(E W_{\\mathit{IE}} - I W_{\\mathit{II}} - \\Theta_{I}\\right)} g_{I}</script></html>"
      ],
      "text/plain": [
       "I == (E*W_IE - I*W_II - Theta_I)*g_I"
      ]
     },
     "metadata": {},
     "output_type": "display_data"
    }
   ],
   "source": [
    "E_implicit = f_E.subs(dEdt==0)*tau_E + E\n",
    "I_implicit = f_I.subs(dIdt==0)*tau_I + I\n",
    "show(E_implicit)\n",
    "show(I_implicit)"
   ]
  },
  {
   "cell_type": "markdown",
   "metadata": {},
   "source": [
    "Also solve explicitly for $E$ and $I$:"
   ]
  },
  {
   "cell_type": "code",
   "execution_count": 4,
   "metadata": {},
   "outputs": [
    {
     "data": {
      "text/html": [
       "<html><script type=\"math/tex; mode=display\">\\newcommand{\\Bold}[1]{\\mathbf{#1}}E = \\frac{{\\left(\\Theta_{I} W_{\\mathit{EI}} g_{I} - {\\left(W_{\\mathit{II}} g_{I} + 1\\right)} \\Theta_{E}\\right)} g_{E}}{{\\left(W_{\\mathit{EI}} W_{\\mathit{IE}} g_{I} - {\\left(W_{\\mathit{II}} g_{I} + 1\\right)} W_{\\mathit{EE}}\\right)} g_{E} + W_{\\mathit{II}} g_{I} + 1}</script></html>"
      ],
      "text/plain": [
       "E == (Theta_I*W_EI*g_I - (W_II*g_I + 1)*Theta_E)*g_E/((W_EI*W_IE*g_I - (W_II*g_I + 1)*W_EE)*g_E + W_II*g_I + 1)"
      ]
     },
     "metadata": {},
     "output_type": "display_data"
    },
    {
     "data": {
      "text/html": [
       "<html><script type=\"math/tex; mode=display\">\\newcommand{\\Bold}[1]{\\mathbf{#1}}I = \\frac{{\\left(\\Theta_{I} W_{\\mathit{EE}} g_{I} - \\Theta_{E} W_{\\mathit{IE}} g_{I}\\right)} g_{E} - \\Theta_{I} g_{I}}{{\\left(W_{\\mathit{EI}} W_{\\mathit{IE}} g_{I} - {\\left(W_{\\mathit{II}} g_{I} + 1\\right)} W_{\\mathit{EE}}\\right)} g_{E} + W_{\\mathit{II}} g_{I} + 1}</script></html>"
      ],
      "text/plain": [
       "I == ((Theta_I*W_EE*g_I - Theta_E*W_IE*g_I)*g_E - Theta_I*g_I)/((W_EI*W_IE*g_I - (W_II*g_I + 1)*W_EE)*g_E + W_II*g_I + 1)"
      ]
     },
     "metadata": {},
     "output_type": "display_data"
    }
   ],
   "source": [
    "neuralFixedPoint = solve([E_implicit,I_implicit],E,I)\n",
    "E_ss = neuralFixedPoint[0][0]\n",
    "I_ss = neuralFixedPoint[0][1]\n",
    "show(E_ss)\n",
    "show(I_ss)"
   ]
  },
  {
   "cell_type": "markdown",
   "metadata": {},
   "source": [
    "Also solve explicitly for the weights:"
   ]
  },
  {
   "cell_type": "code",
   "execution_count": 5,
   "metadata": {},
   "outputs": [
    {
     "data": {
      "text/html": [
       "<html><script type=\"math/tex; mode=display\">\\newcommand{\\Bold}[1]{\\mathbf{#1}}\\left[W_{\\mathit{EI}} = \\frac{{\\left(E_{\\mathit{set}} W_{\\mathit{EE}} - \\Theta_{E}\\right)} g_{E} - E_{\\mathit{set}}}{I_{\\mathit{set}} g_{E}}, W_{\\mathit{II}} = \\frac{{\\left(E_{\\mathit{set}} W_{\\mathit{IE}} - \\Theta_{I}\\right)} g_{I} - I_{\\mathit{set}}}{I_{\\mathit{set}} g_{I}}\\right]</script></html>"
      ],
      "text/plain": [
       "[W_EI == ((E_set*W_EE - Theta_E)*g_E - E_set)/(I_set*g_E),\n",
       " W_II == ((E_set*W_IE - Theta_I)*g_I - I_set)/(I_set*g_I)]"
      ]
     },
     "metadata": {},
     "output_type": "display_data"
    },
    {
     "data": {
      "text/html": [
       "<html><script type=\"math/tex; mode=display\">\\newcommand{\\Bold}[1]{\\mathbf{#1}}\\left[W_{\\mathit{EIup}} = \\frac{{\\left(E_{\\mathit{set}} W_{\\mathit{EEup}} - \\Theta_{E}\\right)} g_{E} - E_{\\mathit{set}}}{I_{\\mathit{set}} g_{E}}, W_{\\mathit{IIup}} = \\frac{{\\left(E_{\\mathit{set}} W_{\\mathit{IEup}} - \\Theta_{I}\\right)} g_{I} - I_{\\mathit{set}}}{I_{\\mathit{set}} g_{I}}\\right]</script></html>"
      ],
      "text/plain": [
       "[W_EIup == ((E_set*W_EEup - Theta_E)*g_E - E_set)/(I_set*g_E),\n",
       " W_IIup == ((E_set*W_IEup - Theta_I)*g_I - I_set)/(I_set*g_I)]"
      ]
     },
     "metadata": {},
     "output_type": "display_data"
    }
   ],
   "source": [
    "var('E_set,I_set')\n",
    "var('W_EEup,W_EIup,W_IEup,W_IIup')\n",
    "Wup = [W_EE==W_EEup,W_EI==W_EIup,W_IE==W_IEup,W_II==W_IIup]\n",
    "synapticFixedPoint = solve([E.subs(E_ss)==E_set,I.subs(I_ss)==I_set],W_EI,W_II)[0]\n",
    "WEIWII_up = [synapticFixedPoint[k].subs(Wup) for k in [0,1]]\n",
    "show(synapticFixedPoint)\n",
    "show(WEIWII_up)"
   ]
  },
  {
   "cell_type": "markdown",
   "metadata": {},
   "source": [
    "### Partial derivatives of $E$ and $I$ from their implicit expressions"
   ]
  },
  {
   "cell_type": "markdown",
   "metadata": {},
   "source": [
    "Take the derivatives of the implicit expressions above assuming $E$ and $I$ depend on all weights and using the product rule when needed, e.g.:  \n",
    "$\\displaystyle \\frac{\\partial E}{\\partial W_{EE}} = g_E E + g_E W_{EE}\\frac{\\partial E}{\\partial W_{EE}} - g_E W_{EI}\\frac{\\partial I}{\\partial W_{EE}}$"
   ]
  },
  {
   "cell_type": "code",
   "execution_count": 6,
   "metadata": {},
   "outputs": [
    {
     "data": {
      "text/html": [
       "<html><script type=\"math/tex; mode=display\">\\newcommand{\\Bold}[1]{\\mathbf{#1}}\\mathit{dEdWEE} = -W_{\\mathit{EI}} \\mathit{dIdWEE} g_{E} + {\\left(W_{\\mathit{EE}} \\mathit{dEdWEE} + E\\right)} g_{E}</script></html>"
      ],
      "text/plain": [
       "dEdWEE == -W_EI*dIdWEE*g_E + (W_EE*dEdWEE + E)*g_E"
      ]
     },
     "metadata": {},
     "output_type": "display_data"
    },
    {
     "data": {
      "text/html": [
       "<html><script type=\"math/tex; mode=display\">\\newcommand{\\Bold}[1]{\\mathbf{#1}}\\mathit{dEdWEI} = W_{\\mathit{EE}} \\mathit{dEdWEI} g_{E} - {\\left(W_{\\mathit{EI}} \\mathit{dIdWEI} + I\\right)} g_{E}</script></html>"
      ],
      "text/plain": [
       "dEdWEI == W_EE*dEdWEI*g_E - (W_EI*dIdWEI + I)*g_E"
      ]
     },
     "metadata": {},
     "output_type": "display_data"
    },
    {
     "data": {
      "text/html": [
       "<html><script type=\"math/tex; mode=display\">\\newcommand{\\Bold}[1]{\\mathbf{#1}}\\mathit{dEdWIE} = W_{\\mathit{EE}} \\mathit{dEdWIE} g_{E} - W_{\\mathit{EI}} \\mathit{dIdWIE} g_{E}</script></html>"
      ],
      "text/plain": [
       "dEdWIE == W_EE*dEdWIE*g_E - W_EI*dIdWIE*g_E"
      ]
     },
     "metadata": {},
     "output_type": "display_data"
    },
    {
     "data": {
      "text/html": [
       "<html><script type=\"math/tex; mode=display\">\\newcommand{\\Bold}[1]{\\mathbf{#1}}\\mathit{dEdWII} = W_{\\mathit{EE}} \\mathit{dEdWII} g_{E} - W_{\\mathit{EI}} \\mathit{dIdWII} g_{E}</script></html>"
      ],
      "text/plain": [
       "dEdWII == W_EE*dEdWII*g_E - W_EI*dIdWII*g_E"
      ]
     },
     "metadata": {},
     "output_type": "display_data"
    },
    {
     "data": {
      "text/html": [
       "<html><script type=\"math/tex; mode=display\">\\newcommand{\\Bold}[1]{\\mathbf{#1}}\\mathit{dIdWEE} = W_{\\mathit{IE}} \\mathit{dEdWEE} g_{I} - W_{\\mathit{II}} \\mathit{dIdWEE} g_{I}</script></html>"
      ],
      "text/plain": [
       "dIdWEE == W_IE*dEdWEE*g_I - W_II*dIdWEE*g_I"
      ]
     },
     "metadata": {},
     "output_type": "display_data"
    },
    {
     "data": {
      "text/html": [
       "<html><script type=\"math/tex; mode=display\">\\newcommand{\\Bold}[1]{\\mathbf{#1}}\\mathit{dIdWEI} = W_{\\mathit{IE}} \\mathit{dEdWEI} g_{I} - W_{\\mathit{II}} \\mathit{dIdWEI} g_{I}</script></html>"
      ],
      "text/plain": [
       "dIdWEI == W_IE*dEdWEI*g_I - W_II*dIdWEI*g_I"
      ]
     },
     "metadata": {},
     "output_type": "display_data"
    },
    {
     "data": {
      "text/html": [
       "<html><script type=\"math/tex; mode=display\">\\newcommand{\\Bold}[1]{\\mathbf{#1}}\\mathit{dIdWIE} = -W_{\\mathit{II}} \\mathit{dIdWIE} g_{I} + {\\left(W_{\\mathit{IE}} \\mathit{dEdWIE} + E\\right)} g_{I}</script></html>"
      ],
      "text/plain": [
       "dIdWIE == -W_II*dIdWIE*g_I + (W_IE*dEdWIE + E)*g_I"
      ]
     },
     "metadata": {},
     "output_type": "display_data"
    },
    {
     "data": {
      "text/html": [
       "<html><script type=\"math/tex; mode=display\">\\newcommand{\\Bold}[1]{\\mathbf{#1}}\\mathit{dIdWII} = W_{\\mathit{IE}} \\mathit{dEdWII} g_{I} - {\\left(W_{\\mathit{II}} \\mathit{dIdWII} + I\\right)} g_{I}</script></html>"
      ],
      "text/plain": [
       "dIdWII == W_IE*dEdWII*g_I - (W_II*dIdWII + I)*g_I"
      ]
     },
     "metadata": {},
     "output_type": "display_data"
    }
   ],
   "source": [
    "dEimpdWEE = dEdWEE == g_E*(E + W_EE*dEdWEE) - g_E*W_EI*dIdWEE\n",
    "dEimpdWEI = dEdWEI == g_E*W_EE*dEdWEI - g_E*(I + W_EI*dIdWEI)\n",
    "dEimpdWIE = dEdWIE == g_E*W_EE*dEdWIE - g_E*W_EI*dIdWIE\n",
    "dEimpdWII = dEdWII == g_E*W_EE*dEdWII - g_E*W_EI*dIdWII\n",
    "dIimpdWEE = dIdWEE == g_I*W_IE*dEdWEE - g_I*W_II*dIdWEE\n",
    "dIimpdWEI = dIdWEI == g_I*W_IE*dEdWEI - g_I*W_II*dIdWEI\n",
    "dIimpdWIE = dIdWIE == g_I*(E + W_IE*dEdWIE) - g_I*W_II*dIdWIE\n",
    "dIimpdWII = dIdWII == g_I*W_IE*dEdWII - g_I*(I + W_II*dIdWII)\n",
    "dEimp = [dEimpdWEE,dEimpdWEI,dEimpdWIE,dEimpdWII]\n",
    "dIimp = [dIimpdWEE,dIimpdWEI,dIimpdWIE,dIimpdWII]\n",
    "show(dEimpdWEE)\n",
    "show(dEimpdWEI)\n",
    "show(dEimpdWIE)\n",
    "show(dEimpdWII)\n",
    "show(dIimpdWEE)\n",
    "show(dIimpdWEI)\n",
    "show(dIimpdWIE)\n",
    "show(dIimpdWII)"
   ]
  },
  {
   "cell_type": "code",
   "execution_count": 7,
   "metadata": {},
   "outputs": [
    {
     "data": {
      "text/html": [
       "<html><script type=\"math/tex; mode=display\">\\newcommand{\\Bold}[1]{\\mathbf{#1}}\\left[\\mathit{dEdWEE} = -\\frac{E W_{\\mathit{II}} g_{E} g_{I} + E g_{E}}{W_{\\mathit{EE}} g_{E} - {\\left({\\left(W_{\\mathit{EI}} W_{\\mathit{IE}} - W_{\\mathit{EE}} W_{\\mathit{II}}\\right)} g_{E} + W_{\\mathit{II}}\\right)} g_{I} - 1}, \\mathit{dEdWEI} = \\frac{I W_{\\mathit{II}} g_{E} g_{I} + I g_{E}}{W_{\\mathit{EE}} g_{E} - {\\left({\\left(W_{\\mathit{EI}} W_{\\mathit{IE}} - W_{\\mathit{EE}} W_{\\mathit{II}}\\right)} g_{E} + W_{\\mathit{II}}\\right)} g_{I} - 1}, \\mathit{dEdWIE} = \\frac{E W_{\\mathit{EI}} g_{E} g_{I}}{W_{\\mathit{EE}} g_{E} - {\\left({\\left(W_{\\mathit{EI}} W_{\\mathit{IE}} - W_{\\mathit{EE}} W_{\\mathit{II}}\\right)} g_{E} + W_{\\mathit{II}}\\right)} g_{I} - 1}, \\mathit{dEdWII} = -\\frac{I W_{\\mathit{EI}} g_{E} g_{I}}{W_{\\mathit{EE}} g_{E} - {\\left({\\left(W_{\\mathit{EI}} W_{\\mathit{IE}} - W_{\\mathit{EE}} W_{\\mathit{II}}\\right)} g_{E} + W_{\\mathit{II}}\\right)} g_{I} - 1}\\right]</script></html>"
      ],
      "text/plain": [
       "[dEdWEE == -(E*W_II*g_E*g_I + E*g_E)/(W_EE*g_E - ((W_EI*W_IE - W_EE*W_II)*g_E + W_II)*g_I - 1),\n",
       " dEdWEI == (I*W_II*g_E*g_I + I*g_E)/(W_EE*g_E - ((W_EI*W_IE - W_EE*W_II)*g_E + W_II)*g_I - 1),\n",
       " dEdWIE == E*W_EI*g_E*g_I/(W_EE*g_E - ((W_EI*W_IE - W_EE*W_II)*g_E + W_II)*g_I - 1),\n",
       " dEdWII == -I*W_EI*g_E*g_I/(W_EE*g_E - ((W_EI*W_IE - W_EE*W_II)*g_E + W_II)*g_I - 1)]"
      ]
     },
     "metadata": {},
     "output_type": "display_data"
    },
    {
     "data": {
      "text/html": [
       "<html><script type=\"math/tex; mode=display\">\\newcommand{\\Bold}[1]{\\mathbf{#1}}\\left[\\mathit{dIdWEE} = -\\frac{E W_{\\mathit{IE}} g_{E} g_{I}}{W_{\\mathit{EE}} g_{E} - {\\left({\\left(W_{\\mathit{EI}} W_{\\mathit{IE}} - W_{\\mathit{EE}} W_{\\mathit{II}}\\right)} g_{E} + W_{\\mathit{II}}\\right)} g_{I} - 1}, \\mathit{dIdWEI} = \\frac{I W_{\\mathit{IE}} g_{E} g_{I}}{W_{\\mathit{EE}} g_{E} - {\\left({\\left(W_{\\mathit{EI}} W_{\\mathit{IE}} - W_{\\mathit{EE}} W_{\\mathit{II}}\\right)} g_{E} + W_{\\mathit{II}}\\right)} g_{I} - 1}, \\mathit{dIdWIE} = \\frac{{\\left(E W_{\\mathit{EE}} g_{E} - E\\right)} g_{I}}{W_{\\mathit{EE}} g_{E} - {\\left({\\left(W_{\\mathit{EI}} W_{\\mathit{IE}} - W_{\\mathit{EE}} W_{\\mathit{II}}\\right)} g_{E} + W_{\\mathit{II}}\\right)} g_{I} - 1}, \\mathit{dIdWII} = -\\frac{{\\left(I W_{\\mathit{EE}} g_{E} - I\\right)} g_{I}}{W_{\\mathit{EE}} g_{E} - {\\left({\\left(W_{\\mathit{EI}} W_{\\mathit{IE}} - W_{\\mathit{EE}} W_{\\mathit{II}}\\right)} g_{E} + W_{\\mathit{II}}\\right)} g_{I} - 1}\\right]</script></html>"
      ],
      "text/plain": [
       "[dIdWEE == -E*W_IE*g_E*g_I/(W_EE*g_E - ((W_EI*W_IE - W_EE*W_II)*g_E + W_II)*g_I - 1),\n",
       " dIdWEI == I*W_IE*g_E*g_I/(W_EE*g_E - ((W_EI*W_IE - W_EE*W_II)*g_E + W_II)*g_I - 1),\n",
       " dIdWIE == (E*W_EE*g_E - E)*g_I/(W_EE*g_E - ((W_EI*W_IE - W_EE*W_II)*g_E + W_II)*g_I - 1),\n",
       " dIdWII == -(I*W_EE*g_E - I)*g_I/(W_EE*g_E - ((W_EI*W_IE - W_EE*W_II)*g_E + W_II)*g_I - 1)]"
      ]
     },
     "metadata": {},
     "output_type": "display_data"
    }
   ],
   "source": [
    "aux = solve([dEimp,dIimp],dEdWEE,dEdWEI,dEdWIE,dEdWII,dIdWEE,dIdWEI,dIdWIE,dIdWII)\n",
    "gradE = aux[0][0:4]\n",
    "gradI = aux[0][4:8]\n",
    "show(gradE)\n",
    "show(gradI)"
   ]
  },
  {
   "cell_type": "markdown",
   "metadata": {},
   "source": [
    "## Loss function"
   ]
  },
  {
   "cell_type": "markdown",
   "metadata": {},
   "source": [
    "$L(E,I) = \\frac{1}{2}(E - E_{set})^2 + \\frac{1}{2}(I - I_{set})^2$"
   ]
  },
  {
   "cell_type": "markdown",
   "metadata": {},
   "source": [
    "### Exact result"
   ]
  },
  {
   "cell_type": "markdown",
   "metadata": {},
   "source": [
    "Substitute the obtained expressions.  \n",
    "Take for instance the change in $W_{EE}$:  \n",
    "$\\displaystyle \\Delta W_{EE} = \\eta \\frac{\\partial L}{\\partial W_{EE}}$  \n",
    "and substitute the obtained expressions into the derivative  \n",
    "$\\displaystyle \\frac{\\partial L}{\\partial W_{EE}} = \\frac{\\partial L}{\\partial E} \\frac{\\partial E}{\\partial W_{EE}} + \\frac{\\partial L}{\\partial I} \\frac{\\partial I}{\\partial W_{EE}}$"
   ]
  },
  {
   "cell_type": "code",
   "execution_count": 8,
   "metadata": {},
   "outputs": [
    {
     "data": {
      "text/html": [
       "<html><script type=\"math/tex; mode=display\">\\newcommand{\\Bold}[1]{\\mathbf{#1}}E - E_{\\mathit{set}}</script></html>"
      ],
      "text/plain": [
       "E - E_set"
      ]
     },
     "metadata": {},
     "output_type": "display_data"
    },
    {
     "data": {
      "text/html": [
       "<html><script type=\"math/tex; mode=display\">\\newcommand{\\Bold}[1]{\\mathbf{#1}}I - I_{\\mathit{set}}</script></html>"
      ],
      "text/plain": [
       "I - I_set"
      ]
     },
     "metadata": {},
     "output_type": "display_data"
    }
   ],
   "source": [
    "L = (E - E_set)^2/2 + (I - I_set)^2/2\n",
    "dLdE = diff(L,E)\n",
    "dLdI = diff(L,I)\n",
    "show(dLdE)\n",
    "show(dLdI)"
   ]
  },
  {
   "cell_type": "code",
   "execution_count": 9,
   "metadata": {},
   "outputs": [
    {
     "data": {
      "text/html": [
       "<html><script type=\"math/tex; mode=display\">\\newcommand{\\Bold}[1]{\\mathbf{#1}}\\frac{{\\left({\\left({\\left(E I - E I_{\\mathit{set}}\\right)} W_{\\mathit{IE}} + {\\left(E^{2} - E E_{\\mathit{set}}\\right)} W_{\\mathit{II}}\\right)} g_{E} g_{I} + {\\left(E^{2} - E E_{\\mathit{set}}\\right)} g_{E}\\right)} \\alpha}{W_{\\mathit{EE}} g_{E} - {\\left({\\left(W_{\\mathit{EI}} W_{\\mathit{IE}} - W_{\\mathit{EE}} W_{\\mathit{II}}\\right)} g_{E} + W_{\\mathit{II}}\\right)} g_{I} - 1}</script></html>"
      ],
      "text/plain": [
       "(((E*I - E*I_set)*W_IE + (E^2 - E*E_set)*W_II)*g_E*g_I + (E^2 - E*E_set)*g_E)*alpha/(W_EE*g_E - ((W_EI*W_IE - W_EE*W_II)*g_E + W_II)*g_I - 1)"
      ]
     },
     "metadata": {},
     "output_type": "display_data"
    },
    {
     "data": {
      "text/html": [
       "<html><script type=\"math/tex; mode=display\">\\newcommand{\\Bold}[1]{\\mathbf{#1}}-\\frac{{\\left({\\left(E - E_{\\mathit{set}}\\right)} I g_{E} + {\\left({\\left(E - E_{\\mathit{set}}\\right)} I W_{\\mathit{II}} + {\\left(I^{2} - I I_{\\mathit{set}}\\right)} W_{\\mathit{IE}}\\right)} g_{E} g_{I}\\right)} \\alpha}{W_{\\mathit{EE}} g_{E} - {\\left({\\left(W_{\\mathit{EI}} W_{\\mathit{IE}} - W_{\\mathit{EE}} W_{\\mathit{II}}\\right)} g_{E} + W_{\\mathit{II}}\\right)} g_{I} - 1}</script></html>"
      ],
      "text/plain": [
       "-((E - E_set)*I*g_E + ((E - E_set)*I*W_II + (I^2 - I*I_set)*W_IE)*g_E*g_I)*alpha/(W_EE*g_E - ((W_EI*W_IE - W_EE*W_II)*g_E + W_II)*g_I - 1)"
      ]
     },
     "metadata": {},
     "output_type": "display_data"
    },
    {
     "data": {
      "text/html": [
       "<html><script type=\"math/tex; mode=display\">\\newcommand{\\Bold}[1]{\\mathbf{#1}}\\frac{{\\left(E I - E I_{\\mathit{set}} - {\\left({\\left(E I - E I_{\\mathit{set}}\\right)} W_{\\mathit{EE}} + {\\left(E^{2} - E E_{\\mathit{set}}\\right)} W_{\\mathit{EI}}\\right)} g_{E}\\right)} \\alpha g_{I}}{W_{\\mathit{EE}} g_{E} - {\\left({\\left(W_{\\mathit{EI}} W_{\\mathit{IE}} - W_{\\mathit{EE}} W_{\\mathit{II}}\\right)} g_{E} + W_{\\mathit{II}}\\right)} g_{I} - 1}</script></html>"
      ],
      "text/plain": [
       "(E*I - E*I_set - ((E*I - E*I_set)*W_EE + (E^2 - E*E_set)*W_EI)*g_E)*alpha*g_I/(W_EE*g_E - ((W_EI*W_IE - W_EE*W_II)*g_E + W_II)*g_I - 1)"
      ]
     },
     "metadata": {},
     "output_type": "display_data"
    },
    {
     "data": {
      "text/html": [
       "<html><script type=\"math/tex; mode=display\">\\newcommand{\\Bold}[1]{\\mathbf{#1}}-\\frac{{\\left(I^{2} - I I_{\\mathit{set}} - {\\left({\\left(E - E_{\\mathit{set}}\\right)} I W_{\\mathit{EI}} + {\\left(I^{2} - I I_{\\mathit{set}}\\right)} W_{\\mathit{EE}}\\right)} g_{E}\\right)} \\alpha g_{I}}{W_{\\mathit{EE}} g_{E} - {\\left({\\left(W_{\\mathit{EI}} W_{\\mathit{IE}} - W_{\\mathit{EE}} W_{\\mathit{II}}\\right)} g_{E} + W_{\\mathit{II}}\\right)} g_{I} - 1}</script></html>"
      ],
      "text/plain": [
       "-(I^2 - I*I_set - ((E - E_set)*I*W_EI + (I^2 - I*I_set)*W_EE)*g_E)*alpha*g_I/(W_EE*g_E - ((W_EI*W_IE - W_EE*W_II)*g_E + W_II)*g_I - 1)"
      ]
     },
     "metadata": {},
     "output_type": "display_data"
    }
   ],
   "source": [
    "dLdWEE = dLdE*dEdWEE.subs(gradE) + dLdI*dIdWEE.subs(gradI)\n",
    "dLdWEI = dLdE*dEdWEI.subs(gradE) + dLdI*dIdWEI.subs(gradI)\n",
    "dLdWIE = dLdE*dEdWIE.subs(gradE) + dLdI*dIdWIE.subs(gradI)\n",
    "dLdWII = dLdE*dEdWII.subs(gradE) + dLdI*dIdWII.subs(gradI)\n",
    "deltaWEE = -alpha*dLdWEE.full_simplify()\n",
    "deltaWEI = -alpha*dLdWEI.full_simplify()\n",
    "deltaWIE = -alpha*dLdWIE.full_simplify()\n",
    "deltaWII = -alpha*dLdWII.full_simplify()\n",
    "show(deltaWEE)\n",
    "show(deltaWEI)\n",
    "show(deltaWIE)\n",
    "show(deltaWII)"
   ]
  },
  {
   "cell_type": "markdown",
   "metadata": {},
   "source": [
    "The prescriptions for $\\Delta W_{EE}, \\ldots$ etc. are complicated expressions that depend on all weights and on $E$ and $I$ (which also depend on all weights)."
   ]
  },
  {
   "cell_type": "markdown",
   "metadata": {},
   "source": [
    "### Approximation: small weights"
   ]
  },
  {
   "cell_type": "markdown",
   "metadata": {},
   "source": [
    "The partial derivatives $\\displaystyle \\frac{\\partial E}{\\partial WEE},\\ldots$ are complicated functions of the weights but are very simple (linear) functions of $E$ and $I$, e.g.:"
   ]
  },
  {
   "cell_type": "code",
   "execution_count": 10,
   "metadata": {},
   "outputs": [
    {
     "data": {
      "text/html": [
       "<html><script type=\"math/tex; mode=display\">\\newcommand{\\Bold}[1]{\\mathbf{#1}}\\mathit{dEdWEE} = \\frac{{\\left(W_{\\mathit{II}} g_{I} + 1\\right)} E g_{E}}{W_{\\mathit{EI}} W_{\\mathit{IE}} g_{E} g_{I} - W_{\\mathit{EE}} W_{\\mathit{II}} g_{E} g_{I} - W_{\\mathit{EE}} g_{E} + W_{\\mathit{II}} g_{I} + 1}</script></html>"
      ],
      "text/plain": [
       "dEdWEE == (W_II*g_I + 1)*E*g_E/(W_EI*W_IE*g_E*g_I - W_EE*W_II*g_E*g_I - W_EE*g_E + W_II*g_I + 1)"
      ]
     },
     "metadata": {},
     "output_type": "display_data"
    }
   ],
   "source": [
    "show(gradE[0].full_simplify().factor())"
   ]
  },
  {
   "cell_type": "markdown",
   "metadata": {},
   "source": [
    "So we attempt a _sui generis_ multivariate Taylor expansion of the derivatives only, around zero as a function of the weights without further expanding $E$ and $I$."
   ]
  },
  {
   "cell_type": "markdown",
   "metadata": {},
   "source": [
    "First order approximation:"
   ]
  },
  {
   "cell_type": "code",
   "execution_count": 11,
   "metadata": {},
   "outputs": [
    {
     "data": {
      "text/html": [
       "<html><script type=\"math/tex; mode=display\">\\newcommand{\\Bold}[1]{\\mathbf{#1}}-{\\left(E^{2} - E E_{\\mathit{set}}\\right)} W_{\\mathit{EE}} \\alpha g_{E}^{2} - {\\left(E I - E I_{\\mathit{set}}\\right)} W_{\\mathit{IE}} \\alpha g_{E} g_{I} - {\\left(E^{2} - E E_{\\mathit{set}}\\right)} \\alpha g_{E}</script></html>"
      ],
      "text/plain": [
       "-(E^2 - E*E_set)*W_EE*alpha*g_E^2 - (E*I - E*I_set)*W_IE*alpha*g_E*g_I - (E^2 - E*E_set)*alpha*g_E"
      ]
     },
     "metadata": {},
     "output_type": "display_data"
    },
    {
     "data": {
      "text/html": [
       "<html><script type=\"math/tex; mode=display\">\\newcommand{\\Bold}[1]{\\mathbf{#1}}{\\left(E - E_{\\mathit{set}}\\right)} I W_{\\mathit{EE}} \\alpha g_{E}^{2} + {\\left(I^{2} - I I_{\\mathit{set}}\\right)} W_{\\mathit{IE}} \\alpha g_{E} g_{I} + {\\left(E - E_{\\mathit{set}}\\right)} I \\alpha g_{E}</script></html>"
      ],
      "text/plain": [
       "(E - E_set)*I*W_EE*alpha*g_E^2 + (I^2 - I*I_set)*W_IE*alpha*g_E*g_I + (E - E_set)*I*alpha*g_E"
      ]
     },
     "metadata": {},
     "output_type": "display_data"
    },
    {
     "data": {
      "text/html": [
       "<html><script type=\"math/tex; mode=display\">\\newcommand{\\Bold}[1]{\\mathbf{#1}}{\\left(E^{2} - E E_{\\mathit{set}}\\right)} W_{\\mathit{EI}} \\alpha g_{E} g_{I} + {\\left(E I - E I_{\\mathit{set}}\\right)} W_{\\mathit{II}} \\alpha g_{I}^{2} - {\\left(E I - E I_{\\mathit{set}}\\right)} \\alpha g_{I}</script></html>"
      ],
      "text/plain": [
       "(E^2 - E*E_set)*W_EI*alpha*g_E*g_I + (E*I - E*I_set)*W_II*alpha*g_I^2 - (E*I - E*I_set)*alpha*g_I"
      ]
     },
     "metadata": {},
     "output_type": "display_data"
    },
    {
     "data": {
      "text/html": [
       "<html><script type=\"math/tex; mode=display\">\\newcommand{\\Bold}[1]{\\mathbf{#1}}-{\\left(E - E_{\\mathit{set}}\\right)} I W_{\\mathit{EI}} \\alpha g_{E} g_{I} - {\\left(I^{2} - I I_{\\mathit{set}}\\right)} W_{\\mathit{II}} \\alpha g_{I}^{2} + {\\left(I^{2} - I I_{\\mathit{set}}\\right)} \\alpha g_{I}</script></html>"
      ],
      "text/plain": [
       "-(E - E_set)*I*W_EI*alpha*g_E*g_I - (I^2 - I*I_set)*W_II*alpha*g_I^2 + (I^2 - I*I_set)*alpha*g_I"
      ]
     },
     "metadata": {},
     "output_type": "display_data"
    }
   ],
   "source": [
    "var('W_EE,W_EI,W_IE,W_II')\n",
    "deltaWEE_sw = taylor(deltaWEE,(W_EE,0),(W_EI,0),(W_IE,0),(W_II,0),1)\n",
    "deltaWEI_sw = taylor(deltaWEI,(W_EE,0),(W_EI,0),(W_IE,0),(W_II,0),1)\n",
    "deltaWIE_sw = taylor(deltaWIE,(W_EE,0),(W_EI,0),(W_IE,0),(W_II,0),1)\n",
    "deltaWII_sw = taylor(deltaWII,(W_EE,0),(W_EI,0),(W_IE,0),(W_II,0),1)\n",
    "show(deltaWEE_sw)\n",
    "show(deltaWEI_sw)\n",
    "show(deltaWIE_sw)\n",
    "show(deltaWII_sw)"
   ]
  },
  {
   "cell_type": "markdown",
   "metadata": {},
   "source": [
    "### Approximation: weights are not small but near the Up state"
   ]
  },
  {
   "cell_type": "markdown",
   "metadata": {},
   "source": [
    "Same idea as before: we attempt a _sui generis_ multivariate Taylor expansion of the derivatives $dE/dWEE, \\ldots$ around the Up state, without further expanding $E$ and $I$."
   ]
  },
  {
   "cell_type": "code",
   "execution_count": 12,
   "metadata": {},
   "outputs": [
    {
     "data": {
      "text/html": [
       "<html><script type=\"math/tex; mode=display\">\\newcommand{\\Bold}[1]{\\mathbf{#1}}\\frac{{\\left(E_{\\mathit{set}} W_{\\mathit{IEup}} - \\Theta_{I}\\right)} E g_{E}}{\\Theta_{I} W_{\\mathit{EEup}} g_{E} - \\Theta_{E} W_{\\mathit{IEup}} g_{E} - \\Theta_{I}}</script></html>"
      ],
      "text/plain": [
       "(E_set*W_IEup - Theta_I)*E*g_E/(Theta_I*W_EEup*g_E - Theta_E*W_IEup*g_E - Theta_I)"
      ]
     },
     "metadata": {},
     "output_type": "display_data"
    },
    {
     "data": {
      "text/html": [
       "<html><script type=\"math/tex; mode=display\">\\newcommand{\\Bold}[1]{\\mathbf{#1}}-\\frac{{\\left(E_{\\mathit{set}} W_{\\mathit{IEup}} - \\Theta_{I}\\right)} I g_{E}}{\\Theta_{I} W_{\\mathit{EEup}} g_{E} - \\Theta_{E} W_{\\mathit{IEup}} g_{E} - \\Theta_{I}}</script></html>"
      ],
      "text/plain": [
       "-(E_set*W_IEup - Theta_I)*I*g_E/(Theta_I*W_EEup*g_E - Theta_E*W_IEup*g_E - Theta_I)"
      ]
     },
     "metadata": {},
     "output_type": "display_data"
    },
    {
     "data": {
      "text/html": [
       "<html><script type=\"math/tex; mode=display\">\\newcommand{\\Bold}[1]{\\mathbf{#1}}-\\frac{{\\left(E_{\\mathit{set}} W_{\\mathit{EEup}} g_{E} - \\Theta_{E} g_{E} - E_{\\mathit{set}}\\right)} E}{\\Theta_{I} W_{\\mathit{EEup}} g_{E} - \\Theta_{E} W_{\\mathit{IEup}} g_{E} - \\Theta_{I}}</script></html>"
      ],
      "text/plain": [
       "-(E_set*W_EEup*g_E - Theta_E*g_E - E_set)*E/(Theta_I*W_EEup*g_E - Theta_E*W_IEup*g_E - Theta_I)"
      ]
     },
     "metadata": {},
     "output_type": "display_data"
    },
    {
     "data": {
      "text/html": [
       "<html><script type=\"math/tex; mode=display\">\\newcommand{\\Bold}[1]{\\mathbf{#1}}\\frac{{\\left(E_{\\mathit{set}} W_{\\mathit{EEup}} g_{E} - \\Theta_{E} g_{E} - E_{\\mathit{set}}\\right)} I}{\\Theta_{I} W_{\\mathit{EEup}} g_{E} - \\Theta_{E} W_{\\mathit{IEup}} g_{E} - \\Theta_{I}}</script></html>"
      ],
      "text/plain": [
       "(E_set*W_EEup*g_E - Theta_E*g_E - E_set)*I/(Theta_I*W_EEup*g_E - Theta_E*W_IEup*g_E - Theta_I)"
      ]
     },
     "metadata": {},
     "output_type": "display_data"
    }
   ],
   "source": [
    "var('W_EE,W_EI,W_IE,W_II')\n",
    "degree = 0\n",
    "aux = taylor(dEdWEE.subs(gradE),(W_EE,W_EEup),(W_EI,W_EIup),(W_IE,W_IEup),(W_II,W_IIup),degree)\n",
    "dEdWEE_up = aux.subs(WEIWII_up).factor()\n",
    "aux = taylor(dEdWEI.subs(gradE),(W_EE,W_EEup),(W_EI,W_EIup),(W_IE,W_IEup),(W_II,W_IIup),degree)\n",
    "dEdWEI_up = aux.subs(WEIWII_up).factor()\n",
    "aux = taylor(dEdWIE.subs(gradE),(W_EE,W_EEup),(W_EI,W_EIup),(W_IE,W_IEup),(W_II,W_IIup),degree)\n",
    "dEdWIE_up = aux.subs(WEIWII_up).factor()\n",
    "aux = taylor(dEdWII.subs(gradE),(W_EE,W_EEup),(W_EI,W_EIup),(W_IE,W_IEup),(W_II,W_IIup),degree)\n",
    "dEdWII_up = aux.subs(WEIWII_up).factor()\n",
    "show(dEdWEE_up)\n",
    "show(dEdWEI_up)\n",
    "show(dEdWIE_up)\n",
    "show(dEdWII_up)"
   ]
  },
  {
   "cell_type": "code",
   "execution_count": 13,
   "metadata": {},
   "outputs": [
    {
     "data": {
      "text/html": [
       "<html><script type=\"math/tex; mode=display\">\\newcommand{\\Bold}[1]{\\mathbf{#1}}\\frac{E I_{\\mathit{set}} W_{\\mathit{IEup}} g_{E}}{\\Theta_{I} W_{\\mathit{EEup}} g_{E} - \\Theta_{E} W_{\\mathit{IEup}} g_{E} - \\Theta_{I}}</script></html>"
      ],
      "text/plain": [
       "E*I_set*W_IEup*g_E/(Theta_I*W_EEup*g_E - Theta_E*W_IEup*g_E - Theta_I)"
      ]
     },
     "metadata": {},
     "output_type": "display_data"
    },
    {
     "data": {
      "text/html": [
       "<html><script type=\"math/tex; mode=display\">\\newcommand{\\Bold}[1]{\\mathbf{#1}}-\\frac{I I_{\\mathit{set}} W_{\\mathit{IEup}} g_{E}}{\\Theta_{I} W_{\\mathit{EEup}} g_{E} - \\Theta_{E} W_{\\mathit{IEup}} g_{E} - \\Theta_{I}}</script></html>"
      ],
      "text/plain": [
       "-I*I_set*W_IEup*g_E/(Theta_I*W_EEup*g_E - Theta_E*W_IEup*g_E - Theta_I)"
      ]
     },
     "metadata": {},
     "output_type": "display_data"
    },
    {
     "data": {
      "text/html": [
       "<html><script type=\"math/tex; mode=display\">\\newcommand{\\Bold}[1]{\\mathbf{#1}}-\\frac{{\\left(W_{\\mathit{EEup}} g_{E} - 1\\right)} E I_{\\mathit{set}}}{\\Theta_{I} W_{\\mathit{EEup}} g_{E} - \\Theta_{E} W_{\\mathit{IEup}} g_{E} - \\Theta_{I}}</script></html>"
      ],
      "text/plain": [
       "-(W_EEup*g_E - 1)*E*I_set/(Theta_I*W_EEup*g_E - Theta_E*W_IEup*g_E - Theta_I)"
      ]
     },
     "metadata": {},
     "output_type": "display_data"
    },
    {
     "data": {
      "text/html": [
       "<html><script type=\"math/tex; mode=display\">\\newcommand{\\Bold}[1]{\\mathbf{#1}}\\frac{{\\left(W_{\\mathit{EEup}} g_{E} - 1\\right)} I I_{\\mathit{set}}}{\\Theta_{I} W_{\\mathit{EEup}} g_{E} - \\Theta_{E} W_{\\mathit{IEup}} g_{E} - \\Theta_{I}}</script></html>"
      ],
      "text/plain": [
       "(W_EEup*g_E - 1)*I*I_set/(Theta_I*W_EEup*g_E - Theta_E*W_IEup*g_E - Theta_I)"
      ]
     },
     "metadata": {},
     "output_type": "display_data"
    }
   ],
   "source": [
    "var('W_EE,W_EI,W_IE,W_II')\n",
    "aux = taylor(dIdWEE.subs(gradI),(W_EE,W_EEup),(W_EI,W_EIup),(W_IE,W_IEup),(W_II,W_IIup),degree)\n",
    "dIdWEE_up = aux.subs(WEIWII_up).factor()\n",
    "aux = taylor(dIdWEI.subs(gradI),(W_EE,W_EEup),(W_EI,W_EIup),(W_IE,W_IEup),(W_II,W_IIup),degree)\n",
    "dIdWEI_up = aux.subs(WEIWII_up).factor()\n",
    "aux = taylor(dIdWIE.subs(gradI),(W_EE,W_EEup),(W_EI,W_EIup),(W_IE,W_IEup),(W_II,W_IIup),degree)\n",
    "dIdWIE_up = aux.subs(WEIWII_up).factor()\n",
    "aux = taylor(dIdWII.subs(gradI),(W_EE,W_EEup),(W_EI,W_EIup),(W_IE,W_IEup),(W_II,W_IIup),degree)\n",
    "dIdWII_up = aux.subs(WEIWII_up).factor()\n",
    "show(dIdWEE_up)\n",
    "show(dIdWEI_up)\n",
    "show(dIdWIE_up)\n",
    "show(dIdWII_up)"
   ]
  },
  {
   "cell_type": "code",
   "execution_count": 14,
   "metadata": {},
   "outputs": [
    {
     "data": {
      "text/html": [
       "<html><script type=\"math/tex; mode=display\">\\newcommand{\\Bold}[1]{\\mathbf{#1}}-{\\left(\\frac{E {\\left(I - I_{\\mathit{set}}\\right)} I_{\\mathit{set}} W_{\\mathit{IEup}} g_{E}}{\\Theta_{I} W_{\\mathit{EEup}} g_{E} - \\Theta_{E} W_{\\mathit{IEup}} g_{E} - \\Theta_{I}} + \\frac{{\\left(E_{\\mathit{set}} W_{\\mathit{IEup}} - \\Theta_{I}\\right)} {\\left(E - E_{\\mathit{set}}\\right)} E g_{E}}{\\Theta_{I} W_{\\mathit{EEup}} g_{E} - \\Theta_{E} W_{\\mathit{IEup}} g_{E} - \\Theta_{I}}\\right)} \\alpha</script></html>"
      ],
      "text/plain": [
       "-(E*(I - I_set)*I_set*W_IEup*g_E/(Theta_I*W_EEup*g_E - Theta_E*W_IEup*g_E - Theta_I) + (E_set*W_IEup - Theta_I)*(E - E_set)*E*g_E/(Theta_I*W_EEup*g_E - Theta_E*W_IEup*g_E - Theta_I))*alpha"
      ]
     },
     "metadata": {},
     "output_type": "display_data"
    },
    {
     "data": {
      "text/html": [
       "<html><script type=\"math/tex; mode=display\">\\newcommand{\\Bold}[1]{\\mathbf{#1}}{\\left(\\frac{{\\left(I - I_{\\mathit{set}}\\right)} I I_{\\mathit{set}} W_{\\mathit{IEup}} g_{E}}{\\Theta_{I} W_{\\mathit{EEup}} g_{E} - \\Theta_{E} W_{\\mathit{IEup}} g_{E} - \\Theta_{I}} + \\frac{{\\left(E_{\\mathit{set}} W_{\\mathit{IEup}} - \\Theta_{I}\\right)} {\\left(E - E_{\\mathit{set}}\\right)} I g_{E}}{\\Theta_{I} W_{\\mathit{EEup}} g_{E} - \\Theta_{E} W_{\\mathit{IEup}} g_{E} - \\Theta_{I}}\\right)} \\alpha</script></html>"
      ],
      "text/plain": [
       "((I - I_set)*I*I_set*W_IEup*g_E/(Theta_I*W_EEup*g_E - Theta_E*W_IEup*g_E - Theta_I) + (E_set*W_IEup - Theta_I)*(E - E_set)*I*g_E/(Theta_I*W_EEup*g_E - Theta_E*W_IEup*g_E - Theta_I))*alpha"
      ]
     },
     "metadata": {},
     "output_type": "display_data"
    },
    {
     "data": {
      "text/html": [
       "<html><script type=\"math/tex; mode=display\">\\newcommand{\\Bold}[1]{\\mathbf{#1}}{\\left(\\frac{{\\left(W_{\\mathit{EEup}} g_{E} - 1\\right)} E {\\left(I - I_{\\mathit{set}}\\right)} I_{\\mathit{set}}}{\\Theta_{I} W_{\\mathit{EEup}} g_{E} - \\Theta_{E} W_{\\mathit{IEup}} g_{E} - \\Theta_{I}} + \\frac{{\\left(E_{\\mathit{set}} W_{\\mathit{EEup}} g_{E} - \\Theta_{E} g_{E} - E_{\\mathit{set}}\\right)} {\\left(E - E_{\\mathit{set}}\\right)} E}{\\Theta_{I} W_{\\mathit{EEup}} g_{E} - \\Theta_{E} W_{\\mathit{IEup}} g_{E} - \\Theta_{I}}\\right)} \\alpha</script></html>"
      ],
      "text/plain": [
       "((W_EEup*g_E - 1)*E*(I - I_set)*I_set/(Theta_I*W_EEup*g_E - Theta_E*W_IEup*g_E - Theta_I) + (E_set*W_EEup*g_E - Theta_E*g_E - E_set)*(E - E_set)*E/(Theta_I*W_EEup*g_E - Theta_E*W_IEup*g_E - Theta_I))*alpha"
      ]
     },
     "metadata": {},
     "output_type": "display_data"
    },
    {
     "data": {
      "text/html": [
       "<html><script type=\"math/tex; mode=display\">\\newcommand{\\Bold}[1]{\\mathbf{#1}}-{\\left(\\frac{{\\left(W_{\\mathit{EEup}} g_{E} - 1\\right)} {\\left(I - I_{\\mathit{set}}\\right)} I I_{\\mathit{set}}}{\\Theta_{I} W_{\\mathit{EEup}} g_{E} - \\Theta_{E} W_{\\mathit{IEup}} g_{E} - \\Theta_{I}} + \\frac{{\\left(E_{\\mathit{set}} W_{\\mathit{EEup}} g_{E} - \\Theta_{E} g_{E} - E_{\\mathit{set}}\\right)} {\\left(E - E_{\\mathit{set}}\\right)} I}{\\Theta_{I} W_{\\mathit{EEup}} g_{E} - \\Theta_{E} W_{\\mathit{IEup}} g_{E} - \\Theta_{I}}\\right)} \\alpha</script></html>"
      ],
      "text/plain": [
       "-((W_EEup*g_E - 1)*(I - I_set)*I*I_set/(Theta_I*W_EEup*g_E - Theta_E*W_IEup*g_E - Theta_I) + (E_set*W_EEup*g_E - Theta_E*g_E - E_set)*(E - E_set)*I/(Theta_I*W_EEup*g_E - Theta_E*W_IEup*g_E - Theta_I))*alpha"
      ]
     },
     "metadata": {},
     "output_type": "display_data"
    }
   ],
   "source": [
    "var('W_EE,W_EI,W_IE,W_II')\n",
    "dLdWEE_up = (dLdE*dEdWEE_up + dLdI*dIdWEE_up)\n",
    "dLdWEI_up = (dLdE*dEdWEI_up + dLdI*dIdWEI_up)\n",
    "dLdWIE_up = (dLdE*dEdWIE_up + dLdI*dIdWIE_up)\n",
    "dLdWII_up = (dLdE*dEdWII_up + dLdI*dIdWII_up)\n",
    "deltaWEE_up = -alpha*dLdWEE_up\n",
    "deltaWEI_up = -alpha*dLdWEI_up\n",
    "deltaWIE_up = -alpha*dLdWIE_up\n",
    "deltaWII_up = -alpha*dLdWII_up\n",
    "show(deltaWEE_up)\n",
    "show(deltaWEI_up)\n",
    "show(deltaWIE_up)\n",
    "show(deltaWII_up)"
   ]
  },
  {
   "cell_type": "markdown",
   "metadata": {},
   "source": [
    "Define new parameters and rewrite learning rules:"
   ]
  },
  {
   "cell_type": "code",
   "execution_count": 15,
   "metadata": {},
   "outputs": [
    {
     "data": {
      "text/html": [
       "<html><script type=\"math/tex; mode=display\">\\newcommand{\\Bold}[1]{\\mathbf{#1}}E_{\\mathit{set}} W_{\\mathit{EEup}} g_{E} - \\Theta_{E} g_{E} - E_{\\mathit{set}}</script></html>"
      ],
      "text/plain": [
       "E_set*W_EEup*g_E - Theta_E*g_E - E_set"
      ]
     },
     "metadata": {},
     "output_type": "display_data"
    },
    {
     "data": {
      "text/html": [
       "<html><script type=\"math/tex; mode=display\">\\newcommand{\\Bold}[1]{\\mathbf{#1}}E_{\\mathit{set}} W_{\\mathit{IEup}} - \\Theta_{I}</script></html>"
      ],
      "text/plain": [
       "E_set*W_IEup - Theta_I"
      ]
     },
     "metadata": {},
     "output_type": "display_data"
    },
    {
     "data": {
      "text/html": [
       "<html><script type=\"math/tex; mode=display\">\\newcommand{\\Bold}[1]{\\mathbf{#1}}W_{\\mathit{EEup}} g_{E} - 1</script></html>"
      ],
      "text/plain": [
       "W_EEup*g_E - 1"
      ]
     },
     "metadata": {},
     "output_type": "display_data"
    },
    {
     "data": {
      "text/html": [
       "<html><script type=\"math/tex; mode=display\">\\newcommand{\\Bold}[1]{\\mathbf{#1}}\\Theta_{I} W_{\\mathit{EEup}} g_{E} - \\Theta_{E} W_{\\mathit{IEup}} g_{E} - \\Theta_{I}</script></html>"
      ],
      "text/plain": [
       "Theta_I*W_EEup*g_E - Theta_E*W_IEup*g_E - Theta_I"
      ]
     },
     "metadata": {},
     "output_type": "display_data"
    }
   ],
   "source": [
    "AA = positive_WEI_cond.subs(Wup).lhs()\n",
    "BB = (sum(positive_WII_cond.subs(Wup).lhs().operands()[0:2])/g_I).factor()\n",
    "CC = paradox_cond.lhs().subs(Wup)\n",
    "DD = (I_up.rhs().numerator()/g_I).factor().subs(Wup)\n",
    "show(AA)\n",
    "show(BB)\n",
    "show(CC)\n",
    "show(DD)"
   ]
  },
  {
   "cell_type": "markdown",
   "metadata": {},
   "source": [
    "The following three parameters are positive definite:  \n",
    "1. $AA>0$ because it is equal to the \"positive $W_{EI}$\" condition\n",
    "2. $BB>0$ because it is equal to the first two terms in the \"positive $W_{II}$\" condition\n",
    "3. $DD>0$ because it is equal to the numerator of $I_{up}$ which must be positive (and its denominator is)\n",
    "\n",
    "Parameter $CC$ is equal to the paradoxical condition, so it is positive if the system is in the paradoxical regime."
   ]
  },
  {
   "cell_type": "code",
   "execution_count": 16,
   "metadata": {},
   "outputs": [
    {
     "data": {
      "text/html": [
       "<html><script type=\"math/tex; mode=display\">\\newcommand{\\Bold}[1]{\\mathbf{#1}}-\\frac{E {\\left(I - I_{\\mathit{set}}\\right)} I_{\\mathit{set}} W_{\\mathit{IEup}} \\alpha g_{E}}{\\Theta_{I} W_{\\mathit{EEup}} g_{E} - \\Theta_{E} W_{\\mathit{IEup}} g_{E} - \\Theta_{I}} - \\frac{{\\left(E_{\\mathit{set}} W_{\\mathit{IEup}} - \\Theta_{I}\\right)} {\\left(E - E_{\\mathit{set}}\\right)} E \\alpha g_{E}}{\\Theta_{I} W_{\\mathit{EEup}} g_{E} - \\Theta_{E} W_{\\mathit{IEup}} g_{E} - \\Theta_{I}}</script></html>"
      ],
      "text/plain": [
       "-E*(I - I_set)*I_set*W_IEup*alpha*g_E/(Theta_I*W_EEup*g_E - Theta_E*W_IEup*g_E - Theta_I) - (E_set*W_IEup - Theta_I)*(E - E_set)*E*alpha*g_E/(Theta_I*W_EEup*g_E - Theta_E*W_IEup*g_E - Theta_I)"
      ]
     },
     "metadata": {},
     "output_type": "display_data"
    },
    {
     "data": {
      "text/html": [
       "<html><script type=\"math/tex; mode=display\">\\newcommand{\\Bold}[1]{\\mathbf{#1}}\\frac{{\\left(I - I_{\\mathit{set}}\\right)} I I_{\\mathit{set}} W_{\\mathit{IEup}} \\alpha g_{E}}{\\Theta_{I} W_{\\mathit{EEup}} g_{E} - \\Theta_{E} W_{\\mathit{IEup}} g_{E} - \\Theta_{I}} + \\frac{{\\left(E_{\\mathit{set}} W_{\\mathit{IEup}} - \\Theta_{I}\\right)} {\\left(E - E_{\\mathit{set}}\\right)} I \\alpha g_{E}}{\\Theta_{I} W_{\\mathit{EEup}} g_{E} - \\Theta_{E} W_{\\mathit{IEup}} g_{E} - \\Theta_{I}}</script></html>"
      ],
      "text/plain": [
       "(I - I_set)*I*I_set*W_IEup*alpha*g_E/(Theta_I*W_EEup*g_E - Theta_E*W_IEup*g_E - Theta_I) + (E_set*W_IEup - Theta_I)*(E - E_set)*I*alpha*g_E/(Theta_I*W_EEup*g_E - Theta_E*W_IEup*g_E - Theta_I)"
      ]
     },
     "metadata": {},
     "output_type": "display_data"
    },
    {
     "data": {
      "text/html": [
       "<html><script type=\"math/tex; mode=display\">\\newcommand{\\Bold}[1]{\\mathbf{#1}}\\frac{{\\left(W_{\\mathit{EEup}} g_{E} - 1\\right)} E {\\left(I - I_{\\mathit{set}}\\right)} I_{\\mathit{set}} \\alpha}{\\Theta_{I} W_{\\mathit{EEup}} g_{E} - \\Theta_{E} W_{\\mathit{IEup}} g_{E} - \\Theta_{I}} + \\frac{{\\left(E_{\\mathit{set}} W_{\\mathit{EEup}} g_{E} - \\Theta_{E} g_{E} - E_{\\mathit{set}}\\right)} {\\left(E - E_{\\mathit{set}}\\right)} E \\alpha}{\\Theta_{I} W_{\\mathit{EEup}} g_{E} - \\Theta_{E} W_{\\mathit{IEup}} g_{E} - \\Theta_{I}}</script></html>"
      ],
      "text/plain": [
       "(W_EEup*g_E - 1)*E*(I - I_set)*I_set*alpha/(Theta_I*W_EEup*g_E - Theta_E*W_IEup*g_E - Theta_I) + (E_set*W_EEup*g_E - Theta_E*g_E - E_set)*(E - E_set)*E*alpha/(Theta_I*W_EEup*g_E - Theta_E*W_IEup*g_E - Theta_I)"
      ]
     },
     "metadata": {},
     "output_type": "display_data"
    },
    {
     "data": {
      "text/html": [
       "<html><script type=\"math/tex; mode=display\">\\newcommand{\\Bold}[1]{\\mathbf{#1}}-\\frac{{\\left(W_{\\mathit{EEup}} g_{E} - 1\\right)} {\\left(I - I_{\\mathit{set}}\\right)} I I_{\\mathit{set}} \\alpha}{\\Theta_{I} W_{\\mathit{EEup}} g_{E} - \\Theta_{E} W_{\\mathit{IEup}} g_{E} - \\Theta_{I}} - \\frac{{\\left(E_{\\mathit{set}} W_{\\mathit{EEup}} g_{E} - \\Theta_{E} g_{E} - E_{\\mathit{set}}\\right)} {\\left(E - E_{\\mathit{set}}\\right)} I \\alpha}{\\Theta_{I} W_{\\mathit{EEup}} g_{E} - \\Theta_{E} W_{\\mathit{IEup}} g_{E} - \\Theta_{I}}</script></html>"
      ],
      "text/plain": [
       "-(W_EEup*g_E - 1)*(I - I_set)*I*I_set*alpha/(Theta_I*W_EEup*g_E - Theta_E*W_IEup*g_E - Theta_I) - (E_set*W_EEup*g_E - Theta_E*g_E - E_set)*(E - E_set)*I*alpha/(Theta_I*W_EEup*g_E - Theta_E*W_IEup*g_E - Theta_I)"
      ]
     },
     "metadata": {},
     "output_type": "display_data"
    },
    {
     "data": {
      "text/html": [
       "<html><script type=\"math/tex; mode=display\">\\newcommand{\\Bold}[1]{\\mathbf{#1}}0</script></html>"
      ],
      "text/plain": [
       "0"
      ]
     },
     "metadata": {},
     "output_type": "display_data"
    },
    {
     "data": {
      "text/html": [
       "<html><script type=\"math/tex; mode=display\">\\newcommand{\\Bold}[1]{\\mathbf{#1}}0</script></html>"
      ],
      "text/plain": [
       "0"
      ]
     },
     "metadata": {},
     "output_type": "display_data"
    },
    {
     "data": {
      "text/html": [
       "<html><script type=\"math/tex; mode=display\">\\newcommand{\\Bold}[1]{\\mathbf{#1}}0</script></html>"
      ],
      "text/plain": [
       "0"
      ]
     },
     "metadata": {},
     "output_type": "display_data"
    },
    {
     "data": {
      "text/html": [
       "<html><script type=\"math/tex; mode=display\">\\newcommand{\\Bold}[1]{\\mathbf{#1}}0</script></html>"
      ],
      "text/plain": [
       "0"
      ]
     },
     "metadata": {},
     "output_type": "display_data"
    }
   ],
   "source": [
    "deltaWEE_up_v2 = alpha*W_IEup*g_E*I_set*E*(I_set-I)/DD + alpha*BB*g_E*E*(E_set-E)/DD\n",
    "deltaWEI_up_v2 = -alpha*W_IEup*g_E*I_set*I*(I_set-I)/DD - alpha*BB*g_E*I*(E_set-E)/DD\n",
    "deltaWIE_up_v2 = - alpha*AA*E*(E_set-E)/DD - alpha*CC*I_set*E*(I_set-I)/DD\n",
    "deltaWII_up_v2 = alpha*CC*I_set*I*(I_set-I)/DD + alpha*AA*I*(E_set-E)/DD\n",
    "show(deltaWEE_up_v2)\n",
    "show(deltaWEI_up_v2)\n",
    "show(deltaWIE_up_v2)\n",
    "show(deltaWII_up_v2)\n",
    "#confirm\n",
    "show((deltaWEE_up - deltaWEE_up_v2).expand())\n",
    "show((deltaWEI_up - deltaWEI_up_v2).expand())\n",
    "show((deltaWIE_up - deltaWIE_up_v2).expand())\n",
    "show((deltaWII_up - deltaWII_up_v2).expand())"
   ]
  },
  {
   "cell_type": "markdown",
   "metadata": {},
   "source": [
    "### Full approximation"
   ]
  },
  {
   "cell_type": "markdown",
   "metadata": {},
   "source": [
    "Substitute $E=E_{ss}(W_{EE},W_{EI},W_{IE},W_{II})$ and $I=I_{ss}(W_{EE},W_{EI},W_{IE},W_{II})$ and compute the full Taylor expansion as a function of the weights.\n",
    "Now $\\Delta W_{XY}$ is a polynomial function of all weights with no apparent homeostatic form:"
   ]
  },
  {
   "cell_type": "code",
   "execution_count": 17,
   "metadata": {},
   "outputs": [
    {
     "data": {
      "text/html": [
       "<html><script type=\"math/tex; mode=display\">\\newcommand{\\Bold}[1]{\\mathbf{#1}}\\left(-3\\right) \\Theta_{E}^{2} W_{\\mathit{EE}} \\alpha g_{E}^{4} + 2 \\Theta_{E} \\Theta_{I} W_{\\mathit{EI}} \\alpha g_{E}^{3} g_{I} - \\Theta_{E} \\Theta_{I} W_{\\mathit{IE}} \\alpha g_{E}^{2} g_{I}^{2} + \\left(-2\\right) E_{\\mathit{set}} \\Theta_{E} W_{\\mathit{EE}} \\alpha g_{E}^{3} + E_{\\mathit{set}} \\Theta_{I} W_{\\mathit{EI}} \\alpha g_{E}^{2} g_{I} - I_{\\mathit{set}} \\Theta_{E} W_{\\mathit{IE}} \\alpha g_{E}^{2} g_{I} - \\Theta_{E}^{2} \\alpha g_{E}^{3} - E_{\\mathit{set}} \\Theta_{E} \\alpha g_{E}^{2}</script></html>"
      ],
      "text/plain": [
       "(-3)*Theta_E^2*W_EE*alpha*g_E^4 + 2*Theta_E*Theta_I*W_EI*alpha*g_E^3*g_I - Theta_E*Theta_I*W_IE*alpha*g_E^2*g_I^2 + (-2)*E_set*Theta_E*W_EE*alpha*g_E^3 + E_set*Theta_I*W_EI*alpha*g_E^2*g_I - I_set*Theta_E*W_IE*alpha*g_E^2*g_I - Theta_E^2*alpha*g_E^3 - E_set*Theta_E*alpha*g_E^2"
      ]
     },
     "metadata": {},
     "output_type": "display_data"
    },
    {
     "data": {
      "text/html": [
       "<html><script type=\"math/tex; mode=display\">\\newcommand{\\Bold}[1]{\\mathbf{#1}}2 \\Theta_{E} \\Theta_{I} W_{\\mathit{EE}} \\alpha g_{E}^{3} g_{I} + \\Theta_{E}^{2} W_{\\mathit{IE}} \\alpha g_{E}^{3} g_{I} - \\Theta_{I}^{2} W_{\\mathit{EI}} \\alpha g_{E}^{2} g_{I}^{2} - \\Theta_{E} \\Theta_{I} W_{\\mathit{II}} \\alpha g_{E}^{2} g_{I}^{2} + \\Theta_{I}^{2} W_{\\mathit{IE}} \\alpha g_{E} g_{I}^{3} + E_{\\mathit{set}} \\Theta_{I} W_{\\mathit{EE}} \\alpha g_{E}^{2} g_{I} + E_{\\mathit{set}} \\Theta_{E} W_{\\mathit{IE}} \\alpha g_{E}^{2} g_{I} + I_{\\mathit{set}} \\Theta_{I} W_{\\mathit{IE}} \\alpha g_{E} g_{I}^{2} - E_{\\mathit{set}} \\Theta_{I} W_{\\mathit{II}} \\alpha g_{E} g_{I}^{2} + \\Theta_{E} \\Theta_{I} \\alpha g_{E}^{2} g_{I} + E_{\\mathit{set}} \\Theta_{I} \\alpha g_{E} g_{I}</script></html>"
      ],
      "text/plain": [
       "2*Theta_E*Theta_I*W_EE*alpha*g_E^3*g_I + Theta_E^2*W_IE*alpha*g_E^3*g_I - Theta_I^2*W_EI*alpha*g_E^2*g_I^2 - Theta_E*Theta_I*W_II*alpha*g_E^2*g_I^2 + Theta_I^2*W_IE*alpha*g_E*g_I^3 + E_set*Theta_I*W_EE*alpha*g_E^2*g_I + E_set*Theta_E*W_IE*alpha*g_E^2*g_I + I_set*Theta_I*W_IE*alpha*g_E*g_I^2 - E_set*Theta_I*W_II*alpha*g_E*g_I^2 + Theta_E*Theta_I*alpha*g_E^2*g_I + E_set*Theta_I*alpha*g_E*g_I"
      ]
     },
     "metadata": {},
     "output_type": "display_data"
    },
    {
     "data": {
      "text/html": [
       "<html><script type=\"math/tex; mode=display\">\\newcommand{\\Bold}[1]{\\mathbf{#1}}\\Theta_{E}^{2} W_{\\mathit{EI}} \\alpha g_{E}^{3} g_{I} - \\Theta_{E} \\Theta_{I} W_{\\mathit{EE}} \\alpha g_{E}^{2} g_{I}^{2} - \\Theta_{E}^{2} W_{\\mathit{IE}} \\alpha g_{E}^{2} g_{I}^{2} + \\Theta_{I}^{2} W_{\\mathit{EI}} \\alpha g_{E} g_{I}^{3} + 2 \\Theta_{E} \\Theta_{I} W_{\\mathit{II}} \\alpha g_{E} g_{I}^{3} - I_{\\mathit{set}} \\Theta_{E} W_{\\mathit{EE}} \\alpha g_{E}^{2} g_{I} + E_{\\mathit{set}} \\Theta_{E} W_{\\mathit{EI}} \\alpha g_{E}^{2} g_{I} + I_{\\mathit{set}} \\Theta_{I} W_{\\mathit{EI}} \\alpha g_{E} g_{I}^{2} + I_{\\mathit{set}} \\Theta_{E} W_{\\mathit{II}} \\alpha g_{E} g_{I}^{2} - \\Theta_{E} \\Theta_{I} \\alpha g_{E} g_{I}^{2} - I_{\\mathit{set}} \\Theta_{E} \\alpha g_{E} g_{I}</script></html>"
      ],
      "text/plain": [
       "Theta_E^2*W_EI*alpha*g_E^3*g_I - Theta_E*Theta_I*W_EE*alpha*g_E^2*g_I^2 - Theta_E^2*W_IE*alpha*g_E^2*g_I^2 + Theta_I^2*W_EI*alpha*g_E*g_I^3 + 2*Theta_E*Theta_I*W_II*alpha*g_E*g_I^3 - I_set*Theta_E*W_EE*alpha*g_E^2*g_I + E_set*Theta_E*W_EI*alpha*g_E^2*g_I + I_set*Theta_I*W_EI*alpha*g_E*g_I^2 + I_set*Theta_E*W_II*alpha*g_E*g_I^2 - Theta_E*Theta_I*alpha*g_E*g_I^2 - I_set*Theta_E*alpha*g_E*g_I"
      ]
     },
     "metadata": {},
     "output_type": "display_data"
    },
    {
     "data": {
      "text/html": [
       "<html><script type=\"math/tex; mode=display\">\\newcommand{\\Bold}[1]{\\mathbf{#1}}-\\Theta_{E} \\Theta_{I} W_{\\mathit{EI}} \\alpha g_{E}^{2} g_{I}^{2} + 2 \\Theta_{E} \\Theta_{I} W_{\\mathit{IE}} \\alpha g_{E} g_{I}^{3} + \\left(-3\\right) \\Theta_{I}^{2} W_{\\mathit{II}} \\alpha g_{I}^{4} - E_{\\mathit{set}} \\Theta_{I} W_{\\mathit{EI}} \\alpha g_{E} g_{I}^{2} + I_{\\mathit{set}} \\Theta_{E} W_{\\mathit{IE}} \\alpha g_{E} g_{I}^{2} + \\left(-2\\right) I_{\\mathit{set}} \\Theta_{I} W_{\\mathit{II}} \\alpha g_{I}^{3} + \\Theta_{I}^{2} \\alpha g_{I}^{3} + I_{\\mathit{set}} \\Theta_{I} \\alpha g_{I}^{2}</script></html>"
      ],
      "text/plain": [
       "-Theta_E*Theta_I*W_EI*alpha*g_E^2*g_I^2 + 2*Theta_E*Theta_I*W_IE*alpha*g_E*g_I^3 + (-3)*Theta_I^2*W_II*alpha*g_I^4 - E_set*Theta_I*W_EI*alpha*g_E*g_I^2 + I_set*Theta_E*W_IE*alpha*g_E*g_I^2 + (-2)*I_set*Theta_I*W_II*alpha*g_I^3 + Theta_I^2*alpha*g_I^3 + I_set*Theta_I*alpha*g_I^2"
      ]
     },
     "metadata": {},
     "output_type": "display_data"
    }
   ],
   "source": [
    "var('W_EE,W_EI,W_IE,W_II')\n",
    "deltaWEE_full = taylor(deltaWEE.subs(E_ss,I_ss),(W_EE,0),(W_EI,0),(W_IE,0),(W_II,0),1)\n",
    "deltaWEI_full = taylor(deltaWEI.subs(E_ss,I_ss),(W_EE,0),(W_EI,0),(W_IE,0),(W_II,0),1)\n",
    "deltaWIE_full = taylor(deltaWIE.subs(E_ss,I_ss),(W_EE,0),(W_EI,0),(W_IE,0),(W_II,0),1)\n",
    "deltaWII_full = taylor(deltaWII.subs(E_ss,I_ss),(W_EE,0),(W_EI,0),(W_IE,0),(W_II,0),1)\n",
    "R.<W_EE,W_EI,W_IE,W_II> = SR[]\n",
    "deltaWEE_full_poly = deltaWEE_full.polynomial(SR)\n",
    "deltaWEI_full_poly = deltaWEI_full.polynomial(SR)\n",
    "deltaWIE_full_poly = deltaWIE_full.polynomial(SR)\n",
    "deltaWII_full_poly = deltaWII_full.polynomial(SR)\n",
    "show(deltaWEE_full_poly)\n",
    "show(deltaWEI_full_poly)\n",
    "show(deltaWIE_full_poly)\n",
    "show(deltaWII_full_poly)"
   ]
  },
  {
   "cell_type": "code",
   "execution_count": null,
   "metadata": {},
   "outputs": [],
   "source": []
  },
  {
   "cell_type": "code",
   "execution_count": null,
   "metadata": {},
   "outputs": [],
   "source": []
  },
  {
   "cell_type": "code",
   "execution_count": null,
   "metadata": {},
   "outputs": [],
   "source": []
  }
 ],
 "metadata": {
  "kernelspec": {
   "display_name": "SageMath 9.1",
   "language": "sage",
   "name": "sagemath"
  },
  "language_info": {
   "codemirror_mode": {
    "name": "ipython",
    "version": 3
   },
   "file_extension": ".py",
   "mimetype": "text/x-python",
   "name": "python",
   "nbconvert_exporter": "python",
   "pygments_lexer": "ipython3",
   "version": "3.7.3"
  }
 },
 "nbformat": 4,
 "nbformat_minor": 2
}
