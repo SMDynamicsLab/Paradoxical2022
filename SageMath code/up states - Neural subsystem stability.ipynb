{
 "cells": [
  {
   "cell_type": "markdown",
   "metadata": {},
   "source": [
    "# Up states: Stability of the neural subsystem"
   ]
  },
  {
   "cell_type": "markdown",
   "metadata": {},
   "source": [
    "Soldado-Magraner, Motanis, Laje & Buonomano (2021)  \n",
    "Author: Rodrigo Laje"
   ]
  },
  {
   "cell_type": "markdown",
   "metadata": {},
   "source": [
    "## Neural dynamics"
   ]
  },
  {
   "cell_type": "markdown",
   "metadata": {},
   "source": [
    "### System's equations and fixed point (steady-state solution)"
   ]
  },
  {
   "cell_type": "code",
   "execution_count": 2,
   "metadata": {},
   "outputs": [],
   "source": [
    "var('E,I')\n",
    "var('W_EE,W_EI,W_IE,W_II')\n",
    "var('g_E,g_I')\n",
    "var('Theta_E,Theta_I')\n",
    "var('tau_E,tau_I')\n",
    "var('dEdt,dIdt');\n",
    "var('E_set,I_set');"
   ]
  },
  {
   "cell_type": "markdown",
   "metadata": {},
   "source": [
    "Units are firing-rate models with ReLU activation functions (gain $g_X$ and threshold $\\Theta_X$).  \n",
    "Assume in this notebook that synaptic weights are fixed.  \n",
    "\n",
    "There's a trivial fixed point at $E=I=0$ (when the inputs to both subpopulations are subthreshold --> Down state).  \n",
    "\n",
    "For synaptic current values above threshold:"
   ]
  },
  {
   "cell_type": "code",
   "execution_count": 4,
   "metadata": {},
   "outputs": [
    {
     "data": {
      "text/html": [
       "<html><script type=\"math/tex; mode=display\">\\newcommand{\\Bold}[1]{\\mathbf{#1}}\\mathit{dEdt} = \\frac{{\\left(E W_{\\mathit{EE}} - I W_{\\mathit{EI}} - \\Theta_{E}\\right)} g_{E} - E}{\\tau_{E}}</script></html>"
      ],
      "text/plain": [
       "dEdt == ((E*W_EE - I*W_EI - Theta_E)*g_E - E)/tau_E"
      ]
     },
     "metadata": {},
     "output_type": "display_data"
    },
    {
     "data": {
      "text/html": [
       "<html><script type=\"math/tex; mode=display\">\\newcommand{\\Bold}[1]{\\mathbf{#1}}\\mathit{dIdt} = \\frac{{\\left(E W_{\\mathit{IE}} - I W_{\\mathit{II}} - \\Theta_{I}\\right)} g_{I} - I}{\\tau_{I}}</script></html>"
      ],
      "text/plain": [
       "dIdt == ((E*W_IE - I*W_II - Theta_I)*g_I - I)/tau_I"
      ]
     },
     "metadata": {},
     "output_type": "display_data"
    }
   ],
   "source": [
    "f_E = dEdt == (-E + g_E*(W_EE*E - W_EI*I - Theta_E))/tau_E\n",
    "f_I = dIdt == (-I + g_I*(W_IE*E - W_II*I - Theta_I))/tau_I\n",
    "show(f_E)\n",
    "show(f_I)"
   ]
  },
  {
   "cell_type": "markdown",
   "metadata": {},
   "source": [
    "The non-trivial fixed point is the Up state:"
   ]
  },
  {
   "cell_type": "code",
   "execution_count": 5,
   "metadata": {},
   "outputs": [],
   "source": [
    "neuralFixedPoint = solve([f_E.subs(dEdt==0),f_I.subs(dIdt==0)],E,I)\n",
    "E_up = neuralFixedPoint[0][0]\n",
    "I_up = neuralFixedPoint[0][1]"
   ]
  },
  {
   "cell_type": "code",
   "execution_count": 6,
   "metadata": {},
   "outputs": [
    {
     "data": {
      "text/html": [
       "<html><script type=\"math/tex; mode=display\">\\newcommand{\\Bold}[1]{\\mathbf{#1}}E = \\frac{{\\left(\\Theta_{I} W_{\\mathit{EI}} g_{I} - {\\left(W_{\\mathit{II}} g_{I} + 1\\right)} \\Theta_{E}\\right)} g_{E}}{{\\left(W_{\\mathit{EI}} W_{\\mathit{IE}} g_{I} - {\\left(W_{\\mathit{II}} g_{I} + 1\\right)} W_{\\mathit{EE}}\\right)} g_{E} + W_{\\mathit{II}} g_{I} + 1}</script></html>"
      ],
      "text/plain": [
       "E == (Theta_I*W_EI*g_I - (W_II*g_I + 1)*Theta_E)*g_E/((W_EI*W_IE*g_I - (W_II*g_I + 1)*W_EE)*g_E + W_II*g_I + 1)"
      ]
     },
     "metadata": {},
     "output_type": "display_data"
    }
   ],
   "source": [
    "show(E_up)"
   ]
  },
  {
   "cell_type": "code",
   "execution_count": 7,
   "metadata": {},
   "outputs": [
    {
     "data": {
      "text/html": [
       "<html><script type=\"math/tex; mode=display\">\\newcommand{\\Bold}[1]{\\mathbf{#1}}I = \\frac{{\\left(\\Theta_{I} W_{\\mathit{EE}} g_{I} - \\Theta_{E} W_{\\mathit{IE}} g_{I}\\right)} g_{E} - \\Theta_{I} g_{I}}{{\\left(W_{\\mathit{EI}} W_{\\mathit{IE}} g_{I} - {\\left(W_{\\mathit{II}} g_{I} + 1\\right)} W_{\\mathit{EE}}\\right)} g_{E} + W_{\\mathit{II}} g_{I} + 1}</script></html>"
      ],
      "text/plain": [
       "I == ((Theta_I*W_EE*g_I - Theta_E*W_IE*g_I)*g_E - Theta_I*g_I)/((W_EI*W_IE*g_I - (W_II*g_I + 1)*W_EE)*g_E + W_II*g_I + 1)"
      ]
     },
     "metadata": {},
     "output_type": "display_data"
    }
   ],
   "source": [
    "show(I_up)"
   ]
  },
  {
   "cell_type": "markdown",
   "metadata": {},
   "source": [
    "### Nulclines and phase space"
   ]
  },
  {
   "cell_type": "code",
   "execution_count": 8,
   "metadata": {},
   "outputs": [
    {
     "data": {
      "text/html": [
       "<html><script type=\"math/tex; mode=display\">\\newcommand{\\Bold}[1]{\\mathbf{#1}}I = \\frac{{\\left(E W_{\\mathit{EE}} - \\Theta_{E}\\right)} g_{E} - E}{W_{\\mathit{EI}} g_{E}}</script></html>"
      ],
      "text/plain": [
       "I == ((E*W_EE - Theta_E)*g_E - E)/(W_EI*g_E)"
      ]
     },
     "metadata": {},
     "output_type": "display_data"
    },
    {
     "data": {
      "text/html": [
       "<html><script type=\"math/tex; mode=display\">\\newcommand{\\Bold}[1]{\\mathbf{#1}}I = \\frac{{\\left(E W_{\\mathit{IE}} - \\Theta_{I}\\right)} g_{I}}{W_{\\mathit{II}} g_{I} + 1}</script></html>"
      ],
      "text/plain": [
       "I == (E*W_IE - Theta_I)*g_I/(W_II*g_I + 1)"
      ]
     },
     "metadata": {},
     "output_type": "display_data"
    }
   ],
   "source": [
    "E_null = solve(f_E.subs(dEdt==0),I)[0]\n",
    "I_null = solve(f_I.subs(dIdt==0),I)[0]\n",
    "show(E_null)\n",
    "show(I_null)"
   ]
  },
  {
   "cell_type": "markdown",
   "metadata": {},
   "source": [
    "Parameter values:"
   ]
  },
  {
   "cell_type": "code",
   "execution_count": 9,
   "metadata": {},
   "outputs": [],
   "source": [
    "values_paradoxical = [g_E==1,g_I==4,E_set==5,I_set==14,Theta_E==4.8,Theta_I==25,tau_E==10,tau_I==2]"
   ]
  },
  {
   "cell_type": "code",
   "execution_count": 11,
   "metadata": {},
   "outputs": [
    {
     "data": {
      "image/png": "[encoded data removed]",
      "text/plain": [
       "Graphics object consisting of 4 graphics primitives"
      ]
     },
     "metadata": {},
     "output_type": "display_data"
    }
   ],
   "source": [
    "W_XY0 = [W_EE==5,W_EI==2,W_IE==10,W_II==2]\n",
    "values = values_paradoxical\n",
    "probe = [E==8,I==5]\n",
    "if dEdt.subs(f_E).subs(values).subs(W_XY0).subs(probe) > 0:\n",
    "    E_vel = '(+)'\n",
    "else:\n",
    "    E_vel = '(-)'\n",
    "if dIdt.subs(f_I).subs(values).subs(W_XY0).subs(probe) > 0:\n",
    "    I_vel = '(+)'\n",
    "else:\n",
    "    I_vel = '(-)'\n",
    "tt1 = text(E_vel,(E.subs(probe),I.subs(probe)+1),color='blue')\n",
    "tt2 = text(I_vel,(E.subs(probe),I.subs(probe)-1),color='magenta')\n",
    "E_max = 10\n",
    "I_max = 10\n",
    "fig1 = plot(I.subs(E_null).subs(values).subs(W_XY0),(E,0,E_max),legend_label='E_null',color='blue')\n",
    "fig2 = plot(I.subs(I_null).subs(values).subs(W_XY0),(E,0,E_max),legend_label='I_null',color='magenta')\n",
    "fig = fig1 + fig2 + tt1 + tt2\n",
    "fig.xmin(0)\n",
    "fig.xmax(E_max)\n",
    "fig.ymin(0)\n",
    "fig.ymax(I_max)\n",
    "fig.axes_labels(['$E$', '$I$'])\n",
    "fig.set_legend_options(loc='upper right',frameon=False)\n",
    "#fig.save('neural_nullclines.pdf')\n",
    "show(fig)"
   ]
  },
  {
   "cell_type": "markdown",
   "metadata": {},
   "source": [
    "### Stability of the neural fixed point"
   ]
  },
  {
   "cell_type": "markdown",
   "metadata": {},
   "source": [
    "Assume the Up state exists (see next section), that is there is a combination of values $E$, $I$, $W_{XY}$ that satisfy equations $E_{up}$ and $I_{up}$ above.  \n",
    "Conditions for the Up state to be linearly stable: all eigenvalues of the Jacobian matrix must have negative real part.  \n",
    "If the neural subsystem is  \n",
    "$\\displaystyle \\frac{dE}{dt} = f_E(E,I)$  \n",
    "$\\displaystyle \\frac{dI}{dt} = f_I(E,I)$  \n",
    "\n",
    "then the Jacobian matrix is  \n",
    "$J_{neural} = \\begin{pmatrix}\n",
    "\\displaystyle \\frac{\\partial f_E}{\\partial E} & \\displaystyle \\frac{\\partial f_E}{\\partial I} \\\\\n",
    "\\displaystyle \\frac{\\partial f_I}{\\partial E} & \\displaystyle \\frac{\\partial f_I}{\\partial I}\n",
    "\\end{pmatrix}\n",
    "$  "
   ]
  },
  {
   "cell_type": "code",
   "execution_count": 12,
   "metadata": {},
   "outputs": [
    {
     "data": {
      "text/html": [
       "<html><script type=\"math/tex; mode=display\">\\newcommand{\\Bold}[1]{\\mathbf{#1}}\\left(\\begin{array}{rr}\n",
       "\\frac{W_{\\mathit{EE}} g_{E} - 1}{\\tau_{E}} & -\\frac{W_{\\mathit{EI}} g_{E}}{\\tau_{E}} \\\\\n",
       "\\frac{W_{\\mathit{IE}} g_{I}}{\\tau_{I}} & -\\frac{W_{\\mathit{II}} g_{I} + 1}{\\tau_{I}}\n",
       "\\end{array}\\right)</script></html>"
      ],
      "text/plain": [
       "[ (W_EE*g_E - 1)/tau_E       -W_EI*g_E/tau_E]\n",
       "[       W_IE*g_I/tau_I -(W_II*g_I + 1)/tau_I]"
      ]
     },
     "metadata": {},
     "output_type": "display_data"
    }
   ],
   "source": [
    "J_neural = jacobian([f_E.rhs(),f_I.rhs()],(E,I))\n",
    "show(J_neural)"
   ]
  },
  {
   "cell_type": "markdown",
   "metadata": {},
   "source": [
    "Linear stability: the Up state is stable if the eigenvalues of the Jacobian evaluated at the Up state have negative real part. The Jacobian matrix is constant, thus its value is the same for any point.  \n",
    "\n",
    "For a 2x2 matrix the eigenvalues are:  \n",
    "$\\lambda_{\\pm} = \\frac{1}{2}\\left( \\mathit{Tr} \\pm \\sqrt{\\mathit{Tr}^2 - 4\\mathit{Det}}\\right)$  \n",
    "where $\\mathit{Tr}$ and $\\mathit{Det}$ are the trace and determinant of the matrix, respectively:  \n",
    "$\\mathit{Tr} = \\lambda_1 + \\lambda_2$  \n",
    "$\\mathit{Det} =  \\lambda_1 \\lambda_2$  \n",
    "\n",
    "- For complex eigenvalues the square root is imaginary and their real parts are $\\frac{1}{2}\\mathit{Tr}$. The stability condition is thus $\\mathit{Tr}<0$.\n",
    "- For real eigenvalues $\\mathit{Tr}^2 - 4\\mathit{Det}>0$. If in addition $\\mathit{Det}>0$, then $|\\mathit{Tr}| > \\sqrt{\\mathit{Tr}^2 - 4\\mathit{Det}}$. If $\\mathit{Tr}<0$ then $\\mathit{Tr} \\pm \\sqrt{\\mathit{Tr}^2 - 4\\mathit{Det}} < 0$.  \n",
    "\n",
    "In summary, for eigenvalues either complex or purely real, the real parts of both eigenvalues are negative if $\\mathit{Tr}<0$ and $\\mathit{Det}>0$, thus the stability conditions:"
   ]
  },
  {
   "cell_type": "code",
   "execution_count": 13,
   "metadata": {},
   "outputs": [
    {
     "data": {
      "text/html": [
       "<html><script type=\"math/tex; mode=display\">\\newcommand{\\Bold}[1]{\\mathbf{#1}}W_{\\mathit{EI}} W_{\\mathit{IE}} g_{E} g_{I} > {\\left(W_{\\mathit{EE}} g_{E} - 1\\right)} {\\left(W_{\\mathit{II}} g_{I} + 1\\right)}</script></html>"
      ],
      "text/plain": [
       "W_EI*W_IE*g_E*g_I > (W_EE*g_E - 1)*(W_II*g_I + 1)"
      ]
     },
     "metadata": {},
     "output_type": "display_data"
    },
    {
     "data": {
      "text/html": [
       "<html><script type=\"math/tex; mode=display\">\\newcommand{\\Bold}[1]{\\mathbf{#1}}{\\left(W_{\\mathit{II}} g_{I} + 1\\right)} \\tau_{E} > {\\left(W_{\\mathit{EE}} g_{E} - 1\\right)} \\tau_{I}</script></html>"
      ],
      "text/plain": [
       "(W_II*g_I + 1)*tau_E > (W_EE*g_E - 1)*tau_I"
      ]
     },
     "metadata": {},
     "output_type": "display_data"
    }
   ],
   "source": [
    "J_det = J_neural[0,0]*J_neural[1,1] - J_neural[0,1]*J_neural[1,0]\n",
    "J_tr = J_neural[0,0] + J_neural[1,1]\n",
    "neural_stable_detcond = ((J_det>0) + (g_E*W_EE-1)*(g_I*W_II+1)/(tau_E*tau_I))*tau_E*tau_I\n",
    "neural_stable_trcond = ((-J_tr>0) + (g_E*W_EE-1)/tau_E)*tau_I*tau_E\n",
    "show(neural_stable_detcond)\n",
    "show(neural_stable_trcond)"
   ]
  },
  {
   "cell_type": "markdown",
   "metadata": {},
   "source": [
    "### Existence of the Up state fixed point"
   ]
  },
  {
   "cell_type": "markdown",
   "metadata": {},
   "source": [
    "For the Up state to exist we need the values $E_{up}$ and $I_{up}$ to be positive.  \n",
    "First note that their denominator must be positive because it is equivalent to the determinant condition above:"
   ]
  },
  {
   "cell_type": "code",
   "execution_count": 15,
   "metadata": {},
   "outputs": [
    {
     "data": {
      "text/html": [
       "<html><script type=\"math/tex; mode=display\">\\newcommand{\\Bold}[1]{\\mathbf{#1}}W_{\\mathit{EI}} W_{\\mathit{IE}} g_{E} g_{I} - W_{\\mathit{EE}} W_{\\mathit{II}} g_{E} g_{I} - W_{\\mathit{EE}} g_{E} + W_{\\mathit{II}} g_{I} + 1</script></html>"
      ],
      "text/plain": [
       "W_EI*W_IE*g_E*g_I - W_EE*W_II*g_E*g_I - W_EE*g_E + W_II*g_I + 1"
      ]
     },
     "metadata": {},
     "output_type": "display_data"
    },
    {
     "data": {
      "text/html": [
       "<html><script type=\"math/tex; mode=display\">\\newcommand{\\Bold}[1]{\\mathbf{#1}}W_{\\mathit{EI}} W_{\\mathit{IE}} g_{E} g_{I} - {\\left(W_{\\mathit{EE}} g_{E} - 1\\right)} {\\left(W_{\\mathit{II}} g_{I} + 1\\right)} > 0</script></html>"
      ],
      "text/plain": [
       "W_EI*W_IE*g_E*g_I - (W_EE*g_E - 1)*(W_II*g_I + 1) > 0"
      ]
     },
     "metadata": {},
     "output_type": "display_data"
    },
    {
     "data": {
      "text/html": [
       "<html><script type=\"math/tex; mode=display\">\\newcommand{\\Bold}[1]{\\mathbf{#1}}0</script></html>"
      ],
      "text/plain": [
       "0"
      ]
     },
     "metadata": {},
     "output_type": "display_data"
    }
   ],
   "source": [
    "den = E.subs(E_up).denominator()\n",
    "neural_stable_detcond_aux = neural_stable_detcond.lhs() - neural_stable_detcond.rhs() > 0\n",
    "show(den)\n",
    "show(neural_stable_detcond_aux)\n",
    "# confirm:\n",
    "show((den - neural_stable_detcond_aux.lhs()).expand())"
   ]
  },
  {
   "cell_type": "markdown",
   "metadata": {},
   "source": [
    "Then $E_{up}$ and $I_{up}$ must have positive numerators:"
   ]
  },
  {
   "cell_type": "code",
   "execution_count": 16,
   "metadata": {},
   "outputs": [
    {
     "data": {
      "text/html": [
       "<html><script type=\"math/tex; mode=display\">\\newcommand{\\Bold}[1]{\\mathbf{#1}}\\Theta_{I} W_{\\mathit{EI}} g_{I} - \\Theta_{E} W_{\\mathit{II}} g_{I} - \\Theta_{E} > 0</script></html>"
      ],
      "text/plain": [
       "Theta_I*W_EI*g_I - Theta_E*W_II*g_I - Theta_E > 0"
      ]
     },
     "metadata": {},
     "output_type": "display_data"
    },
    {
     "data": {
      "text/html": [
       "<html><script type=\"math/tex; mode=display\">\\newcommand{\\Bold}[1]{\\mathbf{#1}}\\Theta_{I} W_{\\mathit{EE}} g_{E} - \\Theta_{E} W_{\\mathit{IE}} g_{E} - \\Theta_{I} > 0</script></html>"
      ],
      "text/plain": [
       "Theta_I*W_EE*g_E - Theta_E*W_IE*g_E - Theta_I > 0"
      ]
     },
     "metadata": {},
     "output_type": "display_data"
    }
   ],
   "source": [
    "up_exist_cond_1 = ((E.subs(E_up).numerator() > 0)/g_E).expand() # divide by a positive number only\n",
    "up_exist_cond_2 = ((I.subs(I_up).numerator() > 0)/g_I).expand()\n",
    "show(up_exist_cond_1)\n",
    "show(up_exist_cond_2)"
   ]
  },
  {
   "cell_type": "markdown",
   "metadata": {},
   "source": [
    "This conditions are equivalent to the positive determinant condition for the estability of the fixed point (see below)."
   ]
  },
  {
   "cell_type": "markdown",
   "metadata": {},
   "source": [
    "### Weight values as a function of the Up-state activities"
   ]
  },
  {
   "cell_type": "markdown",
   "metadata": {},
   "source": [
    "Given the activities $E_{set}$ and $I_{set}$, we can compute the weight values that are compatible with them, i.e. take  \n",
    "$E_{set}=E(W_{EE},W_{EI},W_{IE},W_{II})$  \n",
    "$I_{set}=I(W_{EE},W_{EI},W_{IE},W_{II})$  \n",
    "and solve for $W_{EI}$ and $W_{II}$ (since it is an underdetermined system, weights $W_{EE}$ and $W_{IE}$ are free)."
   ]
  },
  {
   "cell_type": "code",
   "execution_count": 17,
   "metadata": {},
   "outputs": [
    {
     "data": {
      "text/html": [
       "<html><script type=\"math/tex; mode=display\">\\newcommand{\\Bold}[1]{\\mathbf{#1}}W_{\\mathit{EI}} = \\frac{{\\left(E_{\\mathit{set}} W_{\\mathit{EE}} - \\Theta_{E}\\right)} g_{E} - E_{\\mathit{set}}}{I_{\\mathit{set}} g_{E}}</script></html>"
      ],
      "text/plain": [
       "W_EI == ((E_set*W_EE - Theta_E)*g_E - E_set)/(I_set*g_E)"
      ]
     },
     "metadata": {},
     "output_type": "display_data"
    },
    {
     "data": {
      "text/html": [
       "<html><script type=\"math/tex; mode=display\">\\newcommand{\\Bold}[1]{\\mathbf{#1}}W_{\\mathit{II}} = \\frac{{\\left(E_{\\mathit{set}} W_{\\mathit{IE}} - \\Theta_{I}\\right)} g_{I} - I_{\\mathit{set}}}{I_{\\mathit{set}} g_{I}}</script></html>"
      ],
      "text/plain": [
       "W_II == ((E_set*W_IE - Theta_I)*g_I - I_set)/(I_set*g_I)"
      ]
     },
     "metadata": {},
     "output_type": "display_data"
    }
   ],
   "source": [
    "[W_EIup,W_IIup] = solve([E_up.subs(E==E_set),I_up.subs(I==I_set)],W_EI,W_II)[0]\n",
    "show(W_EIup)\n",
    "show(W_IIup)"
   ]
  },
  {
   "cell_type": "markdown",
   "metadata": {},
   "source": [
    "Both weights must have positive values:"
   ]
  },
  {
   "cell_type": "code",
   "execution_count": 18,
   "metadata": {},
   "outputs": [
    {
     "data": {
      "text/html": [
       "<html><script type=\"math/tex; mode=display\">\\newcommand{\\Bold}[1]{\\mathbf{#1}}E_{\\mathit{set}} W_{\\mathit{EE}} g_{E} - \\Theta_{E} g_{E} - E_{\\mathit{set}} > 0</script></html>"
      ],
      "text/plain": [
       "E_set*W_EE*g_E - Theta_E*g_E - E_set > 0"
      ]
     },
     "metadata": {},
     "output_type": "display_data"
    }
   ],
   "source": [
    "positive_WEI_cond = solve(W_EI.subs(W_EIup)>0,W_EE)[0][2] # choose solution with positive I_set and g_I\n",
    "show(positive_WEI_cond)"
   ]
  },
  {
   "cell_type": "code",
   "execution_count": 19,
   "metadata": {},
   "outputs": [
    {
     "data": {
      "text/html": [
       "<html><script type=\"math/tex; mode=display\">\\newcommand{\\Bold}[1]{\\mathbf{#1}}E_{\\mathit{set}} W_{\\mathit{IE}} g_{I} - \\Theta_{I} g_{I} - I_{\\mathit{set}} > 0</script></html>"
      ],
      "text/plain": [
       "E_set*W_IE*g_I - Theta_I*g_I - I_set > 0"
      ]
     },
     "metadata": {},
     "output_type": "display_data"
    }
   ],
   "source": [
    "positive_WII_cond = solve(W_II.subs(W_IIup)>0,W_IE)[0][2] # choose solution with positive E_set and g_E\n",
    "show(positive_WII_cond)"
   ]
  },
  {
   "cell_type": "markdown",
   "metadata": {},
   "source": [
    "### Paradoxical effect"
   ]
  },
  {
   "cell_type": "markdown",
   "metadata": {},
   "source": [
    "The paradoxical effect arises when depolarization of the inhibitory subpopulation (increase of $I$, either produced by increased excitatory external input or increased excitatory drive from $E$) produces an actual _decrease_ of $I$. In this model, an external depolarization of $I$ can be mimicked by a decrease of its threshold $\\Theta_I$, thus there is a paradoxical effect whenever the coefficient of $\\Theta_I$ in the numerator of $I_{up}$ is positive."
   ]
  },
  {
   "cell_type": "markdown",
   "metadata": {},
   "source": [
    "Coefficient of inhibitory threshold $\\Theta_I$ in $I_{up}$:"
   ]
  },
  {
   "cell_type": "code",
   "execution_count": 20,
   "metadata": {},
   "outputs": [
    {
     "data": {
      "text/html": [
       "<html><script type=\"math/tex; mode=display\">\\newcommand{\\Bold}[1]{\\mathbf{#1}}\\frac{{\\left(W_{\\mathit{EE}} g_{E} - 1\\right)} g_{I}}{W_{\\mathit{EI}} W_{\\mathit{IE}} g_{E} g_{I} - W_{\\mathit{EE}} W_{\\mathit{II}} g_{E} g_{I} - W_{\\mathit{EE}} g_{E} + W_{\\mathit{II}} g_{I} + 1}</script></html>"
      ],
      "text/plain": [
       "(W_EE*g_E - 1)*g_I/(W_EI*W_IE*g_E*g_I - W_EE*W_II*g_E*g_I - W_EE*g_E + W_II*g_I + 1)"
      ]
     },
     "metadata": {},
     "output_type": "display_data"
    }
   ],
   "source": [
    "coeffThetaI = I_up.right().coefficient(Theta_I).factor()\n",
    "show(coeffThetaI)"
   ]
  },
  {
   "cell_type": "markdown",
   "metadata": {},
   "source": [
    "Note that the denominator must be positive because it is exactly the first stability condition for the neural system:"
   ]
  },
  {
   "cell_type": "code",
   "execution_count": 21,
   "metadata": {},
   "outputs": [
    {
     "data": {
      "text/html": [
       "<html><script type=\"math/tex; mode=display\">\\newcommand{\\Bold}[1]{\\mathbf{#1}}W_{\\mathit{EI}} W_{\\mathit{IE}} g_{E} g_{I} > {\\left(W_{\\mathit{EE}} g_{E} - 1\\right)} {\\left(W_{\\mathit{II}} g_{I} + 1\\right)}</script></html>"
      ],
      "text/plain": [
       "W_EI*W_IE*g_E*g_I > (W_EE*g_E - 1)*(W_II*g_I + 1)"
      ]
     },
     "metadata": {},
     "output_type": "display_data"
    },
    {
     "data": {
      "text/html": [
       "<html><script type=\"math/tex; mode=display\">\\newcommand{\\Bold}[1]{\\mathbf{#1}}W_{\\mathit{EI}} W_{\\mathit{IE}} g_{E} g_{I} - {\\left(W_{\\mathit{EE}} g_{E} - 1\\right)} {\\left(W_{\\mathit{II}} g_{I} + 1\\right)} > 0</script></html>"
      ],
      "text/plain": [
       "W_EI*W_IE*g_E*g_I - (W_EE*g_E - 1)*(W_II*g_I + 1) > 0"
      ]
     },
     "metadata": {},
     "output_type": "display_data"
    }
   ],
   "source": [
    "neural_stable_detcond_v2 = neural_stable_detcond - (W_EE*g_E-1)*(W_II*g_I+1)\n",
    "show(neural_stable_detcond)\n",
    "show(neural_stable_detcond_v2)"
   ]
  },
  {
   "cell_type": "code",
   "execution_count": 22,
   "metadata": {},
   "outputs": [
    {
     "data": {
      "text/html": [
       "<html><script type=\"math/tex; mode=display\">\\newcommand{\\Bold}[1]{\\mathbf{#1}}W_{\\mathit{EI}} W_{\\mathit{IE}} g_{E} g_{I} - W_{\\mathit{EE}} W_{\\mathit{II}} g_{E} g_{I} - W_{\\mathit{EE}} g_{E} + W_{\\mathit{II}} g_{I} + 1</script></html>"
      ],
      "text/plain": [
       "W_EI*W_IE*g_E*g_I - W_EE*W_II*g_E*g_I - W_EE*g_E + W_II*g_I + 1"
      ]
     },
     "metadata": {},
     "output_type": "display_data"
    },
    {
     "data": {
      "text/html": [
       "<html><script type=\"math/tex; mode=display\">\\newcommand{\\Bold}[1]{\\mathbf{#1}}W_{\\mathit{EI}} W_{\\mathit{IE}} g_{E} g_{I} - W_{\\mathit{EE}} W_{\\mathit{II}} g_{E} g_{I} - W_{\\mathit{EE}} g_{E} + W_{\\mathit{II}} g_{I} + 1</script></html>"
      ],
      "text/plain": [
       "W_EI*W_IE*g_E*g_I - W_EE*W_II*g_E*g_I - W_EE*g_E + W_II*g_I + 1"
      ]
     },
     "metadata": {},
     "output_type": "display_data"
    },
    {
     "data": {
      "text/html": [
       "<html><script type=\"math/tex; mode=display\">\\newcommand{\\Bold}[1]{\\mathbf{#1}}0</script></html>"
      ],
      "text/plain": [
       "0"
      ]
     },
     "metadata": {},
     "output_type": "display_data"
    }
   ],
   "source": [
    "show(neural_stable_detcond_v2.left().expand())\n",
    "show(coeffThetaI.denominator())\n",
    "show(neural_stable_detcond_v2.left().expand() - coeffThetaI.denominator())"
   ]
  },
  {
   "cell_type": "code",
   "execution_count": 23,
   "metadata": {},
   "outputs": [
    {
     "data": {
      "text/html": [
       "<html><script type=\"math/tex; mode=display\">\\newcommand{\\Bold}[1]{\\mathbf{#1}}W_{\\mathit{EE}} g_{E} - 1 > 0</script></html>"
      ],
      "text/plain": [
       "W_EE*g_E - 1 > 0"
      ]
     },
     "metadata": {},
     "output_type": "display_data"
    }
   ],
   "source": [
    "paradox_cond = coeffThetaI.numerator()/g_I > 0\n",
    "show(paradox_cond)"
   ]
  },
  {
   "cell_type": "markdown",
   "metadata": {},
   "source": [
    "### Region of stability"
   ]
  },
  {
   "cell_type": "markdown",
   "metadata": {},
   "source": [
    "Rewrite all conditions in terms of the free weights $W_{EE}$ and $W_{IE}$"
   ]
  },
  {
   "cell_type": "code",
   "execution_count": 24,
   "metadata": {},
   "outputs": [
    {
     "data": {
      "text/html": [
       "<html><script type=\"math/tex; mode=display\">\\newcommand{\\Bold}[1]{\\mathbf{#1}}\\Theta_{I} W_{\\mathit{EE}} g_{E} - \\Theta_{E} W_{\\mathit{IE}} g_{E} - \\Theta_{I} > 0</script></html>"
      ],
      "text/plain": [
       "Theta_I*W_EE*g_E - Theta_E*W_IE*g_E - Theta_I > 0"
      ]
     },
     "metadata": {},
     "output_type": "display_data"
    },
    {
     "data": {
      "text/html": [
       "<html><script type=\"math/tex; mode=display\">\\newcommand{\\Bold}[1]{\\mathbf{#1}}E_{\\mathit{set}} W_{\\mathit{IE}} g_{I} \\tau_{E} - I_{\\mathit{set}} W_{\\mathit{EE}} g_{E} \\tau_{I} - \\Theta_{I} g_{I} \\tau_{E} + I_{\\mathit{set}} \\tau_{I} > 0</script></html>"
      ],
      "text/plain": [
       "E_set*W_IE*g_I*tau_E - I_set*W_EE*g_E*tau_I - Theta_I*g_I*tau_E + I_set*tau_I > 0"
      ]
     },
     "metadata": {},
     "output_type": "display_data"
    }
   ],
   "source": [
    "neural_stable_detcond_v2 = solve(neural_stable_detcond.subs([W_EIup,W_IIup]),W_IE)[1][2] # choose solution with positive g_I and I_set\n",
    "neural_stable_trcond_v2 = solve(neural_stable_trcond.subs([W_EIup,W_IIup]),W_IE)[1][1] # choose solution with positive I_set\n",
    "show(neural_stable_detcond_v2)\n",
    "show(neural_stable_trcond_v2)"
   ]
  },
  {
   "cell_type": "code",
   "execution_count": 25,
   "metadata": {},
   "outputs": [
    {
     "data": {
      "text/html": [
       "<html><script type=\"math/tex; mode=display\">\\newcommand{\\Bold}[1]{\\mathbf{#1}}{\\left(\\Theta_{I} W_{\\mathit{EE}} - \\Theta_{E} W_{\\mathit{IE}}\\right)} g_{E} - \\Theta_{I} > 0</script></html>"
      ],
      "text/plain": [
       "(Theta_I*W_EE - Theta_E*W_IE)*g_E - Theta_I > 0"
      ]
     },
     "metadata": {},
     "output_type": "display_data"
    },
    {
     "data": {
      "text/html": [
       "<html><script type=\"math/tex; mode=display\">\\newcommand{\\Bold}[1]{\\mathbf{#1}}{\\left(\\Theta_{I} W_{\\mathit{EE}} - \\Theta_{E} W_{\\mathit{IE}}\\right)} g_{E} - \\Theta_{I} > 0</script></html>"
      ],
      "text/plain": [
       "(Theta_I*W_EE - Theta_E*W_IE)*g_E - Theta_I > 0"
      ]
     },
     "metadata": {},
     "output_type": "display_data"
    },
    {
     "data": {
      "text/html": [
       "<html><script type=\"math/tex; mode=display\">\\newcommand{\\Bold}[1]{\\mathbf{#1}}W_{\\mathit{IE}} < \\frac{\\Theta_{I} W_{\\mathit{EE}} g_{E} - \\Theta_{I}}{\\Theta_{E} g_{E}}</script></html>"
      ],
      "text/plain": [
       "W_IE < (Theta_I*W_EE*g_E - Theta_I)/(Theta_E*g_E)"
      ]
     },
     "metadata": {},
     "output_type": "display_data"
    },
    {
     "data": {
      "text/html": [
       "<html><script type=\"math/tex; mode=display\">\\newcommand{\\Bold}[1]{\\mathbf{#1}}W_{\\mathit{IE}} < \\frac{\\Theta_{I} W_{\\mathit{EE}} g_{E} - \\Theta_{I}}{\\Theta_{E} g_{E}}</script></html>"
      ],
      "text/plain": [
       "W_IE < (Theta_I*W_EE*g_E - Theta_I)/(Theta_E*g_E)"
      ]
     },
     "metadata": {},
     "output_type": "display_data"
    }
   ],
   "source": [
    "up_exist_cond_1_aux = (up_exist_cond_1*I_set*g_E/(E_set*g_I)).subs([W_EIup,W_IIup]).factor()\n",
    "up_exist_cond_2_aux = up_exist_cond_2.subs([W_EIup,W_IIup]).factor()\n",
    "up_exist_cond_1_v2 = W_IE < solve(up_exist_cond_1_aux.lhs()==up_exist_cond_1_aux.rhs(),W_IE)[0].rhs()\n",
    "up_exist_cond_2_v2 = W_IE < solve(up_exist_cond_2_aux.lhs()==up_exist_cond_2_aux.rhs(),W_IE)[0].rhs()\n",
    "show(up_exist_cond_1_aux)\n",
    "show(up_exist_cond_2_aux)\n",
    "show(up_exist_cond_1_v2)\n",
    "show(up_exist_cond_2_v2)"
   ]
  },
  {
   "cell_type": "markdown",
   "metadata": {},
   "source": [
    "Note that the conditions for the existence of the fixed point are equivalent to the positive determinant condition, so we'll not include them in the analysis."
   ]
  },
  {
   "cell_type": "markdown",
   "metadata": {},
   "source": [
    "#### Paradoxical conditions"
   ]
  },
  {
   "cell_type": "code",
   "execution_count": 26,
   "metadata": {},
   "outputs": [
    {
     "name": "stdout",
     "output_type": "stream",
     "text": [
      "PARADOXICAL CONDITIONS\n",
      "positive_WEI_cond:\n",
      "      E_set*W_EE*g_E - Theta_E*g_E - E_set > 0\n",
      "      border:  W_EE == 1.96000000000000\n",
      "      probe:  True\n",
      "positive_WII_cond:\n",
      "      E_set*W_IE*g_I - Theta_I*g_I - I_set > 0\n",
      "      border:  W_IE == (57/10)\n",
      "      probe:  True\n",
      "paradox_cond:\n",
      "      W_EE*g_E - 1 > 0\n",
      "      border:  W_EE == 1\n",
      "      probe:  True\n",
      "neural_stable_detcond_v2:\n",
      "      Theta_I*W_EE*g_E - Theta_E*W_IE*g_E - Theta_I > 0\n",
      "      border:  W_IE == 5.20833333333333*W_EE - 5.20833333333333\n",
      "      probe:  True\n",
      "neural_stable_trcond_v2:\n",
      "      E_set*W_IE*g_I*tau_E - I_set*W_EE*g_E*tau_I - Theta_I*g_I*tau_E + I_set*tau_I > 0\n",
      "      border:  W_IE == 7/50*W_EE + 243/50\n",
      "      probe:  True\n",
      "up_exist_cond_2_v2:\n",
      "      W_IE < (Theta_I*W_EE*g_E - Theta_I)/(Theta_E*g_E)\n",
      "      border:  W_IE == 5.20833333333333*W_EE - 5.20833333333333\n",
      "      probe:  True\n"
     ]
    }
   ],
   "source": [
    "probe = [W_EE==5,W_IE==10] # paradoxical W_EE value (g_E=1)\n",
    "positive_WEI_cond_border_pdx = solve(positive_WEI_cond.lhs()==positive_WEI_cond.rhs(),W_EE)[0].subs(values_paradoxical)\n",
    "positive_WII_cond_border_pdx = solve(positive_WII_cond.lhs()==positive_WII_cond.rhs(),W_IE)[0].subs(values_paradoxical)\n",
    "paradox_cond_border_pdx = solve(paradox_cond.left()==paradox_cond.right(),W_EE,W_IE)[0][0].subs(values_paradoxical)\n",
    "neural_stable_detcond_v2_border_pdx = solve(neural_stable_detcond_v2.lhs()==0,W_IE)[0].subs(values_paradoxical)\n",
    "neural_stable_trcond_v2_border_pdx = solve(neural_stable_trcond_v2.lhs()==0,W_IE)[0].subs(values_paradoxical)\n",
    "up_exist_cond_2_v2_border_pdx = solve(up_exist_cond_2_v2.lhs()-up_exist_cond_2_v2.rhs()==0,W_IE)[0].subs(values_paradoxical)\n",
    "print(\"PARADOXICAL CONDITIONS\")\n",
    "print(\"positive_WEI_cond:\")\n",
    "print(\"     \",positive_WEI_cond)\n",
    "print(\"      border: \",positive_WEI_cond_border_pdx)\n",
    "print(\"      probe: \",bool(positive_WEI_cond.subs(values_paradoxical).subs(probe)))\n",
    "print(\"positive_WII_cond:\")\n",
    "print(\"     \",positive_WII_cond)\n",
    "print(\"      border: \",positive_WII_cond_border_pdx)\n",
    "print(\"      probe: \",bool(positive_WII_cond.subs(values_paradoxical).subs(probe)))\n",
    "print(\"paradox_cond:\")\n",
    "print(\"     \",paradox_cond)\n",
    "print(\"      border: \",paradox_cond_border_pdx)\n",
    "print(\"      probe: \",bool(paradox_cond.subs(values_paradoxical).subs(probe)))\n",
    "print(\"neural_stable_detcond_v2:\")\n",
    "print(\"     \",neural_stable_detcond_v2)\n",
    "print(\"      border: \",neural_stable_detcond_v2_border_pdx)\n",
    "print(\"      probe: \",bool(neural_stable_detcond_v2.subs(values_paradoxical).subs(probe)))\n",
    "print(\"neural_stable_trcond_v2:\")\n",
    "print(\"     \",neural_stable_trcond_v2)\n",
    "print(\"      border: \",neural_stable_trcond_v2_border_pdx)\n",
    "print(\"      probe: \",bool(neural_stable_trcond_v2.subs(values_paradoxical).subs(probe)))\n",
    "print(\"up_exist_cond_2_v2:\")\n",
    "print(\"     \",up_exist_cond_2_v2)\n",
    "print(\"      border: \",up_exist_cond_2_v2_border_pdx)\n",
    "print(\"      probe: \",bool(up_exist_cond_2_v2.subs(values_paradoxical).subs(probe)))"
   ]
  },
  {
   "cell_type": "code",
   "execution_count": 29,
   "metadata": {},
   "outputs": [
    {
     "data": {
      "image/png": "[encoded data removed]",
      "text/plain": [
       "Graphics object consisting of 10 graphics primitives"
      ]
     },
     "metadata": {},
     "output_type": "display_data"
    }
   ],
   "source": [
    "W_EE_max = 10\n",
    "fig1 = line([[W_EE.subs(positive_WEI_cond_border_pdx),0],[W_EE.subs(positive_WEI_cond_border_pdx),50]],color='blue',linestyle='-',legend_label='positive WEI')\n",
    "fig2 = line([[0,W_IE.subs(positive_WII_cond_border_pdx)],[W_EE_max,W_IE.subs(positive_WII_cond_border_pdx)]],color='blue',linestyle='--',legend_label='positive WEI')\n",
    "fig3 = line([[W_EE.subs(paradox_cond_border_pdx),0],[W_EE.subs(paradox_cond_border_pdx),50]],color='magenta',legend_label='paradoxical')\n",
    "fig4 = plot(W_IE.subs(neural_stable_detcond_v2_border_pdx),(W_EE,0,W_EE_max),ymin=0,color='green',linestyle='-',legend_label='neural detcond')\n",
    "fig5 = plot(W_IE.subs(neural_stable_trcond_v2_border_pdx),(W_EE,0,W_EE_max),ymin=0,color='green',linestyle='--',legend_label='neural trcond')\n",
    "tt1 = text('(positive WEI)', (0.1+W_EE.subs(positive_WEI_cond_border_pdx),20),color='blue',horizontal_alignment='left')\n",
    "tt2 = text('(positive WII)', (2.5,0.5+W_IE.subs(positive_WII_cond_border_pdx)),color='blue',horizontal_alignment='left')\n",
    "tt3 = text('(paradoxical)', (0.1+W_EE.subs(paradox_cond_border_pdx),18),color='magenta',horizontal_alignment='left')\n",
    "tt4 = text('(detcond\\nstable)', (4,14),color='green',horizontal_alignment='left')\n",
    "tt5 = text('(trcond\\nstable)', (7,7.5),color='green',horizontal_alignment='left')\n",
    "fig = fig1 + fig2 + fig3 + fig4 + fig5 + tt1 + tt2 + tt3 + tt4 + tt5\n",
    "fig.xmin(0)\n",
    "fig.xmax(W_EE_max)\n",
    "fig.ymin(0)\n",
    "fig.ymax(20)\n",
    "fig.axes_labels(['$W_{EE}$', '$W_{IE}$'])\n",
    "fig.set_legend_options(loc='upper right',shadow=False)\n",
    "fig.save('neural_stability.pdf')\n",
    "show(fig)"
   ]
  },
  {
   "cell_type": "markdown",
   "metadata": {},
   "source": [
    "In the plot above the stability region of the neural subsystem (triangular area between green lines in the upper right quadrant) lies completely within the paradoxical regime (right of the magenta line). In addition, it is completely within the positive-W$_{EI}$ region (right of the solid blue line) and the positive-$W_{II}$ region (above the dashed blue line)."
   ]
  },
  {
   "cell_type": "markdown",
   "metadata": {},
   "source": [
    "### Paradoxical effect as a function of the weights"
   ]
  },
  {
   "cell_type": "markdown",
   "metadata": {},
   "source": [
    "An alternative way of seeing the paradoxical effect is to plot $E_{up}$ and $I_{up}$ as a function of the weights:"
   ]
  },
  {
   "cell_type": "code",
   "execution_count": 30,
   "metadata": {},
   "outputs": [
    {
     "data": {
      "image/png": "[encoded data removed]",
      "text/plain": [
       "Graphics object consisting of 9 graphics primitives"
      ]
     },
     "metadata": {},
     "output_type": "display_data"
    }
   ],
   "source": [
    "W_EE0 = 5 # paradoxical value (g_E=1)\n",
    "W_EI0 = 2\n",
    "W_IE0 = 10\n",
    "W_II0 = 2\n",
    "W_max = 10\n",
    "E_up_WEI = E_up.rhs().subs(values_paradoxical).subs([W_EE==W_EE0,W_IE==W_IE0,W_II==W_II0])\n",
    "E_up_WIE = E_up.rhs().subs(values_paradoxical).subs([W_EE==W_EE0,W_EI==W_EI0,W_II==W_II0])\n",
    "E_up_WII = E_up.rhs().subs(values_paradoxical).subs([W_EE==W_EE0,W_EI==W_EI0,W_IE==W_IE0])\n",
    "fig1 = plot(E_up_WEI,(W_EI,0,W_max),detect_poles='show',color='blue',legend_label='W_EI')\n",
    "fig2 = plot(E_up_WIE,(W_IE,0,W_max),detect_poles='show',color='magenta',legend_label='W_IE')\n",
    "fig3 = plot(E_up_WII,(W_II,0,W_max),detect_poles='show',color='green',legend_label='W_II')\n",
    "# set asymptote color\n",
    "for curve in fig1:\n",
    "    if len(curve)==2:\n",
    "        opt = curve.options()\n",
    "        opt[\"rgbcolor\"] = (0.75,0.75,1)\n",
    "        curve.set_options(opt)\n",
    "for curve in fig2:\n",
    "    if len(curve)==2:\n",
    "        opt = curve.options()\n",
    "        opt[\"rgbcolor\"] = (1,0.75,1)\n",
    "        curve.set_options(opt)\n",
    "for curve in fig3:\n",
    "    if len(curve)==2:\n",
    "        opt = curve.options()\n",
    "        opt[\"rgbcolor\"] = (0.75,1,0.75)\n",
    "        curve.set_options(opt)\n",
    "fig = fig1 + fig2 + fig3\n",
    "fig.axes_labels(['$W_{XY}$', '$E_{up}$'])\n",
    "fig.ymin(0)\n",
    "fig.ymax(20)\n",
    "fig.set_legend_options(shadow=False)\n",
    "fig.save('paradoxical_E.pdf')\n",
    "show(fig)"
   ]
  },
  {
   "cell_type": "markdown",
   "metadata": {},
   "source": [
    "In the plot above $E_{up}$ behaves as expected as a function of every weight."
   ]
  },
  {
   "cell_type": "code",
   "execution_count": 31,
   "metadata": {},
   "outputs": [
    {
     "data": {
      "image/png": "[encoded data removed]",
      "text/plain": [
       "Graphics object consisting of 9 graphics primitives"
      ]
     },
     "metadata": {},
     "output_type": "display_data"
    }
   ],
   "source": [
    "W_EE0 = 5 # paradoxical value (g_E=1)\n",
    "W_EI0 = 2\n",
    "W_IE0 = 10\n",
    "W_II0 = 2\n",
    "I_up_WEI = I_up.rhs().subs(values_paradoxical).subs([W_EE==W_EE0,W_IE==W_IE0,W_II==W_II0])\n",
    "I_up_WIE = I_up.rhs().subs(values_paradoxical).subs([W_EE==W_EE0,W_EI==W_EI0,W_II==W_II0])\n",
    "I_up_WII = I_up.rhs().subs(values_paradoxical).subs([W_EE==W_EE0,W_EI==W_EI0,W_IE==W_IE0])\n",
    "fig1 = plot(I_up_WEI,(W_EI,0,W_max),detect_poles='show',color='blue',legend_label='W_EI')\n",
    "fig2 = plot(I_up_WIE,(W_IE,0,W_max),detect_poles='show',color='magenta',legend_label='W_IE (paradoxical)')\n",
    "fig3 = plot(I_up_WII,(W_II,0,W_max),detect_poles='show',color='green',legend_label='W_II (paradoxical)')\n",
    "for curve in fig1:\n",
    "    if len(curve)==2:\n",
    "        opt = curve.options()\n",
    "        opt[\"rgbcolor\"] = (0.75,0.75,1)\n",
    "        curve.set_options(opt)\n",
    "for curve in fig2:\n",
    "    if len(curve)==2:\n",
    "        opt = curve.options()\n",
    "        opt[\"rgbcolor\"] = (1,0.75,1)\n",
    "        curve.set_options(opt)\n",
    "for curve in fig3:\n",
    "    if len(curve)==2:\n",
    "        opt = curve.options()\n",
    "        opt[\"rgbcolor\"] = (0.75,1,0.75)\n",
    "        curve.set_options(opt)\n",
    "fig = fig1 + fig2 + fig3\n",
    "fig.axes_labels(['$W_{XY}$', '$I_{up}$'])\n",
    "fig.set_legend_options(loc='upper right')\n",
    "fig.ymin(0)\n",
    "fig.ymax(20)\n",
    "fig.set_legend_options(shadow=False)\n",
    "fig.save('paradoxical_I.pdf')\n",
    "show(fig)"
   ]
  },
  {
   "cell_type": "markdown",
   "metadata": {},
   "source": [
    "In the plot above $I_{up}$ decreases as a function of $W_{IE}$ and increases as a function of $W_{II}$, both unexpected (i.e. paradoxical)."
   ]
  },
  {
   "cell_type": "code",
   "execution_count": 32,
   "metadata": {},
   "outputs": [
    {
     "data": {
      "image/png": "[encoded data removed]",
      "text/plain": [
       "Graphics object consisting of 3 graphics primitives"
      ]
     },
     "metadata": {},
     "output_type": "display_data"
    }
   ],
   "source": [
    "fig1 = plot(E_up_WEI/I_up_WEI,(W_EI,0,W_max),detect_poles='show',color='blue',legend_label='W_EI')\n",
    "fig2 = plot(E_up_WIE/I_up_WIE,(W_IE,0,W_max),detect_poles='show',color='magenta',legend_label='W_IE (paradoxical)')\n",
    "fig3 = plot(E_up_WII/I_up_WII,(W_II,0,W_max),detect_poles='show',color='green',legend_label='W_II (paradoxical)')\n",
    "for curve in fig1:\n",
    "    if len(curve)==2:\n",
    "        opt = curve.options()\n",
    "        opt[\"rgbcolor\"] = (0.75,0.75,1)\n",
    "        curve.set_options(opt)\n",
    "for curve in fig2:\n",
    "    if len(curve)==2:\n",
    "        opt = curve.options()\n",
    "        opt[\"rgbcolor\"] = (1,0.75,1)\n",
    "        curve.set_options(opt)\n",
    "for curve in fig3:\n",
    "    if len(curve)==2:\n",
    "        opt = curve.options()\n",
    "        opt[\"rgbcolor\"] = (0.75,1,0.75)\n",
    "        curve.set_options(opt)\n",
    "fig = fig1 + fig2 + fig3\n",
    "fig.axes_labels(['$W_{XY}$', '$E_{up}/I_{up}$'])\n",
    "fig.set_legend_options(loc='center right')\n",
    "fig.ymin(0)\n",
    "fig.ymax(4)\n",
    "fig.set_legend_options(shadow=False)\n",
    "fig.save('paradoxical_EI.pdf')\n",
    "show(fig)"
   ]
  },
  {
   "cell_type": "code",
   "execution_count": null,
   "metadata": {},
   "outputs": [],
   "source": []
  },
  {
   "cell_type": "markdown",
   "metadata": {},
   "source": [
    "#### Export code\n",
    "Export notebook as script for reuse in following notebooks.  \n",
    "SAVE FILE FIRST!"
   ]
  },
  {
   "cell_type": "code",
   "execution_count": 33,
   "metadata": {},
   "outputs": [
    {
     "name": "stdout",
     "output_type": "stream",
     "text": [
      "[NbConvertApp] Converting notebook up states - Neural subsystem stability.ipynb to script\n",
      "[NbConvertApp] Writing 16855 bytes to up states - Neural subsystem stability.sage.py\n"
     ]
    }
   ],
   "source": [
    "!jupyter nbconvert 'up states - Neural subsystem stability.ipynb' --to script --output 'up states - Neural subsystem stability.sage'"
   ]
  },
  {
   "cell_type": "code",
   "execution_count": null,
   "metadata": {},
   "outputs": [],
   "source": []
  }
 ],
 "metadata": {
  "kernelspec": {
   "display_name": "SageMath 9.1",
   "language": "sage",
   "name": "sagemath"
  },
  "language_info": {
   "codemirror_mode": {
    "name": "ipython",
    "version": 3
   },
   "file_extension": ".py",
   "mimetype": "text/x-python",
   "name": "python",
   "nbconvert_exporter": "python",
   "pygments_lexer": "ipython3",
   "version": "3.7.3"
  }
 },
 "nbformat": 4,
 "nbformat_minor": 2
}
