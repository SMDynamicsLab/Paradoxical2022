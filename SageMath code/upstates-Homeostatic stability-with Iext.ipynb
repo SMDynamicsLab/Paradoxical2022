{
 "cells": [
  {
   "cell_type": "markdown",
   "metadata": {},
   "source": [
    "# Up states: Stability of Homeostatic learning rule"
   ]
  },
  {
   "cell_type": "markdown",
   "metadata": {},
   "source": [
    "#### (With constant input current $I_{ext}$ in order to have a non-paradoxical fixed point.)"
   ]
  },
  {
   "cell_type": "markdown",
   "metadata": {},
   "source": [
    "Soldado-Magraner, Laje & Buonomano (2021)  \n",
    "Author: Rodrigo Laje"
   ]
  },
  {
   "cell_type": "markdown",
   "metadata": {},
   "source": [
    "## Neural subsystem"
   ]
  },
  {
   "cell_type": "markdown",
   "metadata": {},
   "source": [
    "Load script:  \n",
    "(RUN FIRST `upstates-Neural subsystem stability-with Iext.ipynb`)"
   ]
  },
  {
   "cell_type": "code",
   "execution_count": 1,
   "metadata": {},
   "outputs": [],
   "source": [
    "%%capture\n",
    "load('upstates-Neural subsystem stability-with Iext.sage.py')"
   ]
  },
  {
   "cell_type": "markdown",
   "metadata": {},
   "source": [
    "## Synaptic subsystem: Homeostatic"
   ]
  },
  {
   "cell_type": "markdown",
   "metadata": {},
   "source": [
    "#### Homeostatic equations"
   ]
  },
  {
   "cell_type": "code",
   "execution_count": 2,
   "metadata": {},
   "outputs": [
    {
     "data": {
      "text/html": [
       "<html><script type=\"math/tex; mode=display\">\\newcommand{\\Bold}[1]{\\mathbf{#1}}\\mathit{dWEEdt} = -{\\left(E - E_{\\mathit{set}}\\right)} E \\alpha_{\\mathit{EE}}</script></html>"
      ],
      "text/plain": [
       "dWEEdt == -(E - E_set)*E*alpha_EE"
      ]
     },
     "metadata": {},
     "output_type": "display_data"
    },
    {
     "data": {
      "text/html": [
       "<html><script type=\"math/tex; mode=display\">\\newcommand{\\Bold}[1]{\\mathbf{#1}}\\mathit{dWEIdt} = {\\left(E - E_{\\mathit{set}}\\right)} I \\alpha_{\\mathit{EI}}</script></html>"
      ],
      "text/plain": [
       "dWEIdt == (E - E_set)*I*alpha_EI"
      ]
     },
     "metadata": {},
     "output_type": "display_data"
    },
    {
     "data": {
      "text/html": [
       "<html><script type=\"math/tex; mode=display\">\\newcommand{\\Bold}[1]{\\mathbf{#1}}\\mathit{dWIEdt} = -E {\\left(I - I_{\\mathit{set}}\\right)} \\alpha_{\\mathit{IE}}</script></html>"
      ],
      "text/plain": [
       "dWIEdt == -E*(I - I_set)*alpha_IE"
      ]
     },
     "metadata": {},
     "output_type": "display_data"
    },
    {
     "data": {
      "text/html": [
       "<html><script type=\"math/tex; mode=display\">\\newcommand{\\Bold}[1]{\\mathbf{#1}}\\mathit{dWIIdt} = {\\left(I - I_{\\mathit{set}}\\right)} I \\alpha_{\\mathit{II}}</script></html>"
      ],
      "text/plain": [
       "dWIIdt == (I - I_set)*I*alpha_II"
      ]
     },
     "metadata": {},
     "output_type": "display_data"
    }
   ],
   "source": [
    "var('dWEEdt,dWEIdt,dWIEdt,dWIIdt')\n",
    "var('alpha_EE,alpha_EI,alpha_IE,alpha_II')\n",
    "f_WEE = dWEEdt == alpha_EE*E*(E_set-E)\n",
    "f_WEI = dWEIdt == -alpha_EI*I*(E_set-E)\n",
    "f_WIE = dWIEdt == alpha_IE*E*(I_set-I)\n",
    "f_WII = dWIIdt == -alpha_II*I*(I_set-I)\n",
    "show(f_WEE)\n",
    "show(f_WEI)\n",
    "show(f_WIE)\n",
    "show(f_WII)"
   ]
  },
  {
   "cell_type": "code",
   "execution_count": 3,
   "metadata": {},
   "outputs": [],
   "source": [
    "synapticFixedPoint = solve([f_WEE.subs(dWEEdt==0),f_WEI.subs(dWEIdt==0),f_WIE.subs(dWIEdt==0),f_WII.subs(dWIIdt==0)],E,I)\n",
    "synapticFixedPoint_up = synapticFixedPoint[1]"
   ]
  },
  {
   "cell_type": "markdown",
   "metadata": {},
   "source": [
    "Only one solution compatible with suprathreshold activity:"
   ]
  },
  {
   "cell_type": "markdown",
   "metadata": {},
   "source": [
    "#### Fixed point: Up state:  \n",
    "$E=E_{set}$, $I=I_{set}$ (the weights can take any value subject to $E_{ss}=E_{set}$ and $I_{ss}=I_{set}$)"
   ]
  },
  {
   "cell_type": "code",
   "execution_count": 4,
   "metadata": {},
   "outputs": [
    {
     "data": {
      "text/html": [
       "<html><script type=\"math/tex; mode=display\">\\newcommand{\\Bold}[1]{\\mathbf{#1}}\\left[E = E_{\\mathit{set}}, I = I_{\\mathit{set}}\\right]</script></html>"
      ],
      "text/plain": [
       "[E == E_set, I == I_set]"
      ]
     },
     "metadata": {},
     "output_type": "display_data"
    }
   ],
   "source": [
    "show(synapticFixedPoint_up)"
   ]
  },
  {
   "cell_type": "markdown",
   "metadata": {},
   "source": [
    "## Quasi-steady-state approximation\n",
    "1. Full system neural+synaptic\n",
    "2. Nondimensionalization\n",
    "3. Normalization\n",
    "4. Approximation (fast neural subsystem)"
   ]
  },
  {
   "cell_type": "markdown",
   "metadata": {},
   "source": [
    "### Full system"
   ]
  },
  {
   "cell_type": "code",
   "execution_count": 5,
   "metadata": {},
   "outputs": [
    {
     "data": {
      "text/html": [
       "<html><script type=\"math/tex; mode=display\">\\newcommand{\\Bold}[1]{\\mathbf{#1}}\\mathit{dEdt} = \\frac{{\\left(E W_{\\mathit{EE}} - I W_{\\mathit{EI}} + I_{\\mathit{ext}} - \\Theta_{E}\\right)} g_{E} - E}{\\tau_{E}}</script></html>"
      ],
      "text/plain": [
       "dEdt == ((E*W_EE - I*W_EI + I_ext - Theta_E)*g_E - E)/tau_E"
      ]
     },
     "metadata": {},
     "output_type": "display_data"
    },
    {
     "data": {
      "text/html": [
       "<html><script type=\"math/tex; mode=display\">\\newcommand{\\Bold}[1]{\\mathbf{#1}}\\mathit{dIdt} = \\frac{{\\left(E W_{\\mathit{IE}} - I W_{\\mathit{II}} - \\Theta_{I}\\right)} g_{I} - I}{\\tau_{I}}</script></html>"
      ],
      "text/plain": [
       "dIdt == ((E*W_IE - I*W_II - Theta_I)*g_I - I)/tau_I"
      ]
     },
     "metadata": {},
     "output_type": "display_data"
    },
    {
     "data": {
      "text/html": [
       "<html><script type=\"math/tex; mode=display\">\\newcommand{\\Bold}[1]{\\mathbf{#1}}\\mathit{dWEEdt} = -{\\left(E - E_{\\mathit{set}}\\right)} E \\alpha_{\\mathit{EE}}</script></html>"
      ],
      "text/plain": [
       "dWEEdt == -(E - E_set)*E*alpha_EE"
      ]
     },
     "metadata": {},
     "output_type": "display_data"
    },
    {
     "data": {
      "text/html": [
       "<html><script type=\"math/tex; mode=display\">\\newcommand{\\Bold}[1]{\\mathbf{#1}}\\mathit{dWEIdt} = {\\left(E - E_{\\mathit{set}}\\right)} I \\alpha_{\\mathit{EI}}</script></html>"
      ],
      "text/plain": [
       "dWEIdt == (E - E_set)*I*alpha_EI"
      ]
     },
     "metadata": {},
     "output_type": "display_data"
    },
    {
     "data": {
      "text/html": [
       "<html><script type=\"math/tex; mode=display\">\\newcommand{\\Bold}[1]{\\mathbf{#1}}\\mathit{dWIEdt} = -E {\\left(I - I_{\\mathit{set}}\\right)} \\alpha_{\\mathit{IE}}</script></html>"
      ],
      "text/plain": [
       "dWIEdt == -E*(I - I_set)*alpha_IE"
      ]
     },
     "metadata": {},
     "output_type": "display_data"
    },
    {
     "data": {
      "text/html": [
       "<html><script type=\"math/tex; mode=display\">\\newcommand{\\Bold}[1]{\\mathbf{#1}}\\mathit{dWIIdt} = {\\left(I - I_{\\mathit{set}}\\right)} I \\alpha_{\\mathit{II}}</script></html>"
      ],
      "text/plain": [
       "dWIIdt == (I - I_set)*I*alpha_II"
      ]
     },
     "metadata": {},
     "output_type": "display_data"
    }
   ],
   "source": [
    "show(f_E)\n",
    "show(f_I)\n",
    "show(f_WEE)\n",
    "show(f_WEI)\n",
    "show(f_WIE)\n",
    "show(f_WII)"
   ]
  },
  {
   "cell_type": "markdown",
   "metadata": {},
   "source": [
    "### Nondimensionalization"
   ]
  },
  {
   "cell_type": "markdown",
   "metadata": {},
   "source": [
    "#### Definition of nondimensional variables  \n",
    "Define new (nondimensional) variables $e$, $i$, etc. and scaling parameters $E_0$, $I_0$, etc:  \n",
    "$e = E/E_0$  \n",
    "$i = I/I_0$  \n",
    "$\\tau = t/\\tau_0$  \n",
    "$w_{EE} = W_{EE}/W_{EE0}$  \n",
    "... etc"
   ]
  },
  {
   "cell_type": "code",
   "execution_count": 6,
   "metadata": {},
   "outputs": [],
   "source": [
    "var('e,i')\n",
    "var('E_0,I_0,tau_0')\n",
    "var('w_EE,w_EI,w_IE,w_II')\n",
    "var('W_EE0,W_EI0,W_IE0,W_II0')\n",
    "var('dedtau,didtau')\n",
    "var('dwEEdtau,dwEIdtau,dwIEdtau,dwIIdtau');"
   ]
  },
  {
   "cell_type": "markdown",
   "metadata": {},
   "source": [
    "Replacement rules:"
   ]
  },
  {
   "cell_type": "code",
   "execution_count": 7,
   "metadata": {},
   "outputs": [
    {
     "data": {
      "text/html": [
       "<html><script type=\"math/tex; mode=display\">\\newcommand{\\Bold}[1]{\\mathbf{#1}}\\left[E = E_{0} e, \\mathit{dEdt} = \\frac{E_{0} \\mathit{dedtau}}{\\tau_{0}}, I = I_{0} i, \\mathit{dIdt} = \\frac{I_{0} \\mathit{didtau}}{\\tau_{0}}, W_{\\mathit{EE}} = W_{\\mathit{EE}_{0}} w_{\\mathit{EE}}, W_{\\mathit{EI}} = W_{\\mathit{EI}_{0}} w_{\\mathit{EI}}, W_{\\mathit{IE}} = W_{\\mathit{IE}_{0}} w_{\\mathit{IE}}, W_{\\mathit{II}} = W_{\\mathit{II}_{0}} w_{\\mathit{II}}, \\mathit{dWEEdt} = \\frac{W_{\\mathit{EE}_{0}} \\mathit{dwEEdtau}}{\\tau_{0}}, \\mathit{dWEIdt} = \\frac{W_{\\mathit{EI}_{0}} \\mathit{dwEIdtau}}{\\tau_{0}}, \\mathit{dWIEdt} = \\frac{W_{\\mathit{IE}_{0}} \\mathit{dwIEdtau}}{\\tau_{0}}, \\mathit{dWIIdt} = \\frac{W_{\\mathit{II}_{0}} \\mathit{dwIIdtau}}{\\tau_{0}}\\right]</script></html>"
      ],
      "text/plain": [
       "[E == E_0*e,\n",
       " dEdt == E_0*dedtau/tau_0,\n",
       " I == I_0*i,\n",
       " dIdt == I_0*didtau/tau_0,\n",
       " W_EE == W_EE0*w_EE,\n",
       " W_EI == W_EI0*w_EI,\n",
       " W_IE == W_IE0*w_IE,\n",
       " W_II == W_II0*w_II,\n",
       " dWEEdt == W_EE0*dwEEdtau/tau_0,\n",
       " dWEIdt == W_EI0*dwEIdtau/tau_0,\n",
       " dWIEdt == W_IE0*dwIEdtau/tau_0,\n",
       " dWIIdt == W_II0*dwIIdtau/tau_0]"
      ]
     },
     "metadata": {},
     "output_type": "display_data"
    }
   ],
   "source": [
    "nondim = [E==E_0*e,dEdt==(E_0/tau_0)*dedtau,I==I_0*i,dIdt==(I_0/tau_0)*didtau,W_EE==W_EE0*w_EE,W_EI==W_EI0*w_EI,W_IE==W_IE0*w_IE,W_II==W_II0*w_II,dWEEdt==(W_EE0/tau_0)*dwEEdtau,dWEIdt==(W_EI0/tau_0)*dwEIdtau,dWIEdt==(W_IE0/tau_0)*dwIEdtau,dWIIdt==(W_II0/tau_0)*dwIIdtau]\n",
    "show(nondim)"
   ]
  },
  {
   "cell_type": "markdown",
   "metadata": {},
   "source": [
    "Full system after replacement:"
   ]
  },
  {
   "cell_type": "code",
   "execution_count": 8,
   "metadata": {},
   "outputs": [
    {
     "data": {
      "text/html": [
       "<html><script type=\"math/tex; mode=display\">\\newcommand{\\Bold}[1]{\\mathbf{#1}}\\frac{\\mathit{dedtau} \\tau_{E}}{\\tau_{0}} = W_{\\mathit{EE}_{0}} e g_{E} w_{\\mathit{EE}} - \\frac{I_{0} W_{\\mathit{EI}_{0}} g_{E} i w_{\\mathit{EI}}}{E_{0}} - e + \\frac{I_{\\mathit{ext}} g_{E}}{E_{0}} - \\frac{\\Theta_{E} g_{E}}{E_{0}}</script></html>"
      ],
      "text/plain": [
       "dedtau*tau_E/tau_0 == W_EE0*e*g_E*w_EE - I_0*W_EI0*g_E*i*w_EI/E_0 - e + I_ext*g_E/E_0 - Theta_E*g_E/E_0"
      ]
     },
     "metadata": {},
     "output_type": "display_data"
    },
    {
     "data": {
      "text/html": [
       "<html><script type=\"math/tex; mode=display\">\\newcommand{\\Bold}[1]{\\mathbf{#1}}\\frac{\\mathit{didtau} \\tau_{I}}{\\tau_{0}} = \\frac{E_{0} W_{\\mathit{IE}_{0}} e g_{I} w_{\\mathit{IE}}}{I_{0}} - W_{\\mathit{II}_{0}} g_{I} i w_{\\mathit{II}} - \\frac{\\Theta_{I} g_{I}}{I_{0}} - i</script></html>"
      ],
      "text/plain": [
       "didtau*tau_I/tau_0 == E_0*W_IE0*e*g_I*w_IE/I_0 - W_II0*g_I*i*w_II - Theta_I*g_I/I_0 - i"
      ]
     },
     "metadata": {},
     "output_type": "display_data"
    },
    {
     "data": {
      "text/html": [
       "<html><script type=\"math/tex; mode=display\">\\newcommand{\\Bold}[1]{\\mathbf{#1}}\\mathit{dwEEdtau} = -\\frac{E_{0}^{2} \\alpha_{\\mathit{EE}} e^{2} \\tau_{0}}{W_{\\mathit{EE}_{0}}} + \\frac{E_{0} E_{\\mathit{set}} \\alpha_{\\mathit{EE}} e \\tau_{0}}{W_{\\mathit{EE}_{0}}}</script></html>"
      ],
      "text/plain": [
       "dwEEdtau == -E_0^2*alpha_EE*e^2*tau_0/W_EE0 + E_0*E_set*alpha_EE*e*tau_0/W_EE0"
      ]
     },
     "metadata": {},
     "output_type": "display_data"
    },
    {
     "data": {
      "text/html": [
       "<html><script type=\"math/tex; mode=display\">\\newcommand{\\Bold}[1]{\\mathbf{#1}}\\mathit{dwEIdtau} = \\frac{E_{0} I_{0} \\alpha_{\\mathit{EI}} e i \\tau_{0}}{W_{\\mathit{EI}_{0}}} - \\frac{E_{\\mathit{set}} I_{0} \\alpha_{\\mathit{EI}} i \\tau_{0}}{W_{\\mathit{EI}_{0}}}</script></html>"
      ],
      "text/plain": [
       "dwEIdtau == E_0*I_0*alpha_EI*e*i*tau_0/W_EI0 - E_set*I_0*alpha_EI*i*tau_0/W_EI0"
      ]
     },
     "metadata": {},
     "output_type": "display_data"
    },
    {
     "data": {
      "text/html": [
       "<html><script type=\"math/tex; mode=display\">\\newcommand{\\Bold}[1]{\\mathbf{#1}}\\mathit{dwIEdtau} = -\\frac{E_{0} I_{0} \\alpha_{\\mathit{IE}} e i \\tau_{0}}{W_{\\mathit{IE}_{0}}} + \\frac{E_{0} I_{\\mathit{set}} \\alpha_{\\mathit{IE}} e \\tau_{0}}{W_{\\mathit{IE}_{0}}}</script></html>"
      ],
      "text/plain": [
       "dwIEdtau == -E_0*I_0*alpha_IE*e*i*tau_0/W_IE0 + E_0*I_set*alpha_IE*e*tau_0/W_IE0"
      ]
     },
     "metadata": {},
     "output_type": "display_data"
    },
    {
     "data": {
      "text/html": [
       "<html><script type=\"math/tex; mode=display\">\\newcommand{\\Bold}[1]{\\mathbf{#1}}\\mathit{dwIIdtau} = \\frac{I_{0}^{2} \\alpha_{\\mathit{II}} i^{2} \\tau_{0}}{W_{\\mathit{II}_{0}}} - \\frac{I_{0} I_{\\mathit{set}} \\alpha_{\\mathit{II}} i \\tau_{0}}{W_{\\mathit{II}_{0}}}</script></html>"
      ],
      "text/plain": [
       "dwIIdtau == I_0^2*alpha_II*i^2*tau_0/W_II0 - I_0*I_set*alpha_II*i*tau_0/W_II0"
      ]
     },
     "metadata": {},
     "output_type": "display_data"
    }
   ],
   "source": [
    "f_e = f_E.subs(nondim)*tau_E/E_0\n",
    "f_i = f_I.subs(nondim)*tau_I/I_0\n",
    "f_wEE = f_WEE.subs(nondim)*tau_0/W_EE0\n",
    "f_wEI = f_WEI.subs(nondim)*tau_0/W_EI0\n",
    "f_wIE = f_WIE.subs(nondim)*tau_0/W_IE0\n",
    "f_wII = f_WII.subs(nondim)*tau_0/W_II0\n",
    "show(f_e.expand())\n",
    "show(f_i.expand())\n",
    "show(f_wEE.expand())\n",
    "show(f_wEI.expand())\n",
    "show(f_wIE.expand())\n",
    "show(f_wII.expand())"
   ]
  },
  {
   "cell_type": "markdown",
   "metadata": {},
   "source": [
    "### Normalization of equations  \n",
    "Choose scaling parameters such that nondimensional variables are of order 1:  \n",
    "$\\tau_0 = 1/(\\alpha_{EE} g_E E_{set} I_{set})$  \n",
    "$E_0 = E_{set}$  \n",
    "$I_0 = I_{set}$  \n",
    "$W_{EE0} = R/g_E$  \n",
    "$W_{EI0} = 1/g_E$  \n",
    "$W_{IE0} = 1/g_E$  \n",
    "$W_{II0} = 1/(R g_E)$  \n",
    "\n",
    "Define new parameters:  \n",
    "$\\epsilon_E = \\tau_E/\\tau_0$  \n",
    "$\\epsilon_I = \\tau_I/\\tau_0$  \n",
    "$\\alpha_2 = \\alpha_{EI}/\\alpha_{EE}$  \n",
    "$\\alpha_3 = \\alpha_{IE}/\\alpha_{EE}$  \n",
    "$\\alpha_4 = \\alpha_{II}/\\alpha_{EE}$  \n",
    "$R = E_{set}/I_{set}$  \n",
    "$g = g_E/g_I$  \n",
    "$\\theta_E = (g_E/E_{set}) \\Theta_E$  \n",
    "$\\theta_I = (g_I/I_{set}) \\Theta_I$  \n",
    "$i_{ext} = (g_E/E_{set})I_{ext}$"
   ]
  },
  {
   "cell_type": "code",
   "execution_count": 9,
   "metadata": {},
   "outputs": [
    {
     "data": {
      "text/html": [
       "<html><script type=\"math/tex; mode=display\">\\newcommand{\\Bold}[1]{\\mathbf{#1}}\\left[\\tau_{0} = \\frac{1}{E_{\\mathit{set}} I_{\\mathit{set}} \\alpha_{\\mathit{EE}} g_{E}}, \\tau_{E} = \\epsilon_{E} \\tau_{0}, \\tau_{I} = \\epsilon_{I} \\tau_{0}, E_{0} = E_{\\mathit{set}}, I_{0} = I_{\\mathit{set}}, W_{\\mathit{EE}_{0}} = \\frac{R}{g_{E}}, W_{\\mathit{EI}_{0}} = \\frac{1}{g_{E}}, W_{\\mathit{IE}_{0}} = \\frac{1}{g_{E}}, W_{\\mathit{II}_{0}} = \\frac{1}{R g_{E}}, I_{\\mathit{set}} = \\frac{E_{\\mathit{set}}}{R}, \\Theta_{E} = \\frac{E_{\\mathit{set}} \\theta_{E}}{g_{E}}, \\Theta_{I} = \\frac{I_{\\mathit{set}} \\theta_{I}}{g_{I}}, g_{E} = g g_{I}, \\alpha_{\\mathit{EI}} = \\alpha_{2} \\alpha_{\\mathit{EE}}, \\alpha_{\\mathit{IE}} = \\alpha_{3} \\alpha_{\\mathit{EE}}, \\alpha_{\\mathit{II}} = \\alpha_{4} \\alpha_{\\mathit{EE}}, I_{\\mathit{ext}} = \\frac{E_{\\mathit{set}} i_{\\mathit{ext}}}{g_{E}}\\right]</script></html>"
      ],
      "text/plain": [
       "[tau_0 == 1/(E_set*I_set*alpha_EE*g_E),\n",
       " tau_E == epsilon_E*tau_0,\n",
       " tau_I == epsilon_I*tau_0,\n",
       " E_0 == E_set,\n",
       " I_0 == I_set,\n",
       " W_EE0 == R/g_E,\n",
       " W_EI0 == (1/g_E),\n",
       " W_IE0 == (1/g_E),\n",
       " W_II0 == 1/(R*g_E),\n",
       " I_set == E_set/R,\n",
       " Theta_E == E_set*theta_E/g_E,\n",
       " Theta_I == I_set*theta_I/g_I,\n",
       " g_E == g*g_I,\n",
       " alpha_EI == alpha_2*alpha_EE,\n",
       " alpha_IE == alpha_3*alpha_EE,\n",
       " alpha_II == alpha_4*alpha_EE,\n",
       " I_ext == E_set*i_ext/g_E]"
      ]
     },
     "metadata": {},
     "output_type": "display_data"
    }
   ],
   "source": [
    "var('epsilon_E,epsilon_I')\n",
    "var('theta_E,theta_I,R,g,alpha_2,alpha_3,alpha_4,i_ext')\n",
    "normaliz = [tau_0==1/(alpha_EE*g_E*E_set*I_set),tau_E==epsilon_E*tau_0,tau_I==epsilon_I*tau_0,E_0==E_set,I_0==I_set,W_EE0==R/g_E,W_EI0==1/g_E,W_IE0==1/g_E,W_II0==1/(R*g_E),I_set==E_set/R,Theta_E==theta_E*E_set/g_E,Theta_I==theta_I*I_set/g_I,g_E==g*g_I,alpha_EI==alpha_2*alpha_EE,alpha_IE==alpha_3*alpha_EE,alpha_II==alpha_4*alpha_EE,I_ext==(E_set/g_E)*i_ext]\n",
    "show(normaliz)"
   ]
  },
  {
   "cell_type": "markdown",
   "metadata": {},
   "source": [
    "Replacement rules: numerical values, parameter definitions, nondimensionalized weights"
   ]
  },
  {
   "cell_type": "code",
   "execution_count": 10,
   "metadata": {},
   "outputs": [],
   "source": [
    "parameters = [epsilon_E==tau_E/tau_0,epsilon_I==tau_I/tau_0,g==g_E/g_I,R==E_set/I_set,theta_E==(g_E/E_set)*Theta_E,theta_I==(g_I/I_set)*Theta_I,W_EE0==R/g_E,W_EI0==1/g_E,W_IE0==1/g_E,W_II0==1/(R*g_E),alpha_2==alpha_EI/alpha_EE,alpha_3==alpha_IE/alpha_EE,alpha_4==alpha_II/alpha_EE,i_ext==(g_E/E_set)*I_ext]\n",
    "weights = [w_EE==W_EE/W_EE0,w_IE==W_IE/W_IE0,w_EI==W_EI/W_EI0,w_II==W_II/W_II0]"
   ]
  },
  {
   "cell_type": "markdown",
   "metadata": {},
   "source": [
    "#### Nondimensionalized, normalized equations"
   ]
  },
  {
   "cell_type": "code",
   "execution_count": 11,
   "metadata": {},
   "outputs": [
    {
     "data": {
      "text/html": [
       "<html><script type=\"math/tex; mode=display\">\\newcommand{\\Bold}[1]{\\mathbf{#1}}\\mathit{dedtau} \\epsilon_{E} = R e w_{\\mathit{EE}} - e + i_{\\mathit{ext}} - \\theta_{E} - \\frac{i w_{\\mathit{EI}}}{R}</script></html>"
      ],
      "text/plain": [
       "dedtau*epsilon_E == R*e*w_EE - e + i_ext - theta_E - i*w_EI/R"
      ]
     },
     "metadata": {},
     "output_type": "display_data"
    },
    {
     "data": {
      "text/html": [
       "<html><script type=\"math/tex; mode=display\">\\newcommand{\\Bold}[1]{\\mathbf{#1}}\\mathit{didtau} \\epsilon_{I} = \\frac{R e w_{\\mathit{IE}}}{g} - i - \\theta_{I} - \\frac{i w_{\\mathit{II}}}{R g}</script></html>"
      ],
      "text/plain": [
       "didtau*epsilon_I == R*e*w_IE/g - i - theta_I - i*w_II/(R*g)"
      ]
     },
     "metadata": {},
     "output_type": "display_data"
    },
    {
     "data": {
      "text/html": [
       "<html><script type=\"math/tex; mode=display\">\\newcommand{\\Bold}[1]{\\mathbf{#1}}\\mathit{dwEEdtau} = -{\\left(e - 1\\right)} e</script></html>"
      ],
      "text/plain": [
       "dwEEdtau == -(e - 1)*e"
      ]
     },
     "metadata": {},
     "output_type": "display_data"
    },
    {
     "data": {
      "text/html": [
       "<html><script type=\"math/tex; mode=display\">\\newcommand{\\Bold}[1]{\\mathbf{#1}}\\mathit{dwEIdtau} = \\alpha_{2} {\\left(e - 1\\right)} i</script></html>"
      ],
      "text/plain": [
       "dwEIdtau == alpha_2*(e - 1)*i"
      ]
     },
     "metadata": {},
     "output_type": "display_data"
    },
    {
     "data": {
      "text/html": [
       "<html><script type=\"math/tex; mode=display\">\\newcommand{\\Bold}[1]{\\mathbf{#1}}\\mathit{dwIEdtau} = -\\alpha_{3} e {\\left(i - 1\\right)}</script></html>"
      ],
      "text/plain": [
       "dwIEdtau == -alpha_3*e*(i - 1)"
      ]
     },
     "metadata": {},
     "output_type": "display_data"
    },
    {
     "data": {
      "text/html": [
       "<html><script type=\"math/tex; mode=display\">\\newcommand{\\Bold}[1]{\\mathbf{#1}}\\mathit{dwIIdtau} = \\alpha_{4} {\\left(i - 1\\right)} i</script></html>"
      ],
      "text/plain": [
       "dwIIdtau == alpha_4*(i - 1)*i"
      ]
     },
     "metadata": {},
     "output_type": "display_data"
    }
   ],
   "source": [
    "f_e_norm = f_e.subs(normaliz).subs(normaliz).subs(normaliz).expand()\n",
    "f_i_norm = f_i.subs(normaliz).subs(normaliz).subs(normaliz).expand()\n",
    "f_wEE_norm = f_wEE.subs(normaliz).subs(normaliz).subs(normaliz).expand().factor()\n",
    "f_wEI_norm = f_wEI.subs(normaliz).subs(normaliz).expand().factor()\n",
    "f_wIE_norm = f_wIE.subs(normaliz).subs(normaliz).expand().factor()\n",
    "f_wII_norm = f_wII.subs(normaliz).subs(normaliz).subs(normaliz).expand().factor()\n",
    "show(f_e_norm)\n",
    "show(f_i_norm)\n",
    "show(f_wEE_norm)\n",
    "show(f_wEI_norm)\n",
    "show(f_wIE_norm)\n",
    "show(f_wII_norm)"
   ]
  },
  {
   "cell_type": "markdown",
   "metadata": {},
   "source": [
    "### Approximation: Quasi-steady-state solutions for the neural subsystem"
   ]
  },
  {
   "cell_type": "markdown",
   "metadata": {},
   "source": [
    "Neural dynamics is much faster than synaptic dynamics, thus we assume E and I are in \"equilibrium\" (~instantaneous convergence to quasi-steady-state values, as if the weights were fixed) while the synaptic weights evolve according to their slow dynamics.  \n",
    "That is, we consider  \n",
    "$\\tau_E \\ll \\tau_0$ and $\\tau_I \\ll \\tau_0$  \n",
    "thus  \n",
    "$\\epsilon_E \\ll 1$ and $\\epsilon_E \\ll 1$  \n",
    "thus  \n",
    "$\\epsilon_E\\frac{de}{d\\tau} \\sim 0$ and $\\epsilon_I\\frac{di}{d\\tau} \\sim 0$:"
   ]
  },
  {
   "cell_type": "code",
   "execution_count": 12,
   "metadata": {},
   "outputs": [
    {
     "data": {
      "text/html": [
       "<html><script type=\"math/tex; mode=display\">\\newcommand{\\Bold}[1]{\\mathbf{#1}}e = \\frac{g \\theta_{I} w_{\\mathit{EI}} + {\\left(R g + w_{\\mathit{II}}\\right)} i_{\\mathit{ext}} - {\\left(R g + w_{\\mathit{II}}\\right)} \\theta_{E}}{R w_{\\mathit{EI}} w_{\\mathit{IE}} + R g - {\\left(R^{2} g + R w_{\\mathit{II}}\\right)} w_{\\mathit{EE}} + w_{\\mathit{II}}}</script></html>"
      ],
      "text/plain": [
       "e == (g*theta_I*w_EI + (R*g + w_II)*i_ext - (R*g + w_II)*theta_E)/(R*w_EI*w_IE + R*g - (R^2*g + R*w_II)*w_EE + w_II)"
      ]
     },
     "metadata": {},
     "output_type": "display_data"
    },
    {
     "data": {
      "text/html": [
       "<html><script type=\"math/tex; mode=display\">\\newcommand{\\Bold}[1]{\\mathbf{#1}}i = \\frac{R^{2} g \\theta_{I} w_{\\mathit{EE}} + R^{2} i_{\\mathit{ext}} w_{\\mathit{IE}} - R^{2} \\theta_{E} w_{\\mathit{IE}} - R g \\theta_{I}}{R w_{\\mathit{EI}} w_{\\mathit{IE}} + R g - {\\left(R^{2} g + R w_{\\mathit{II}}\\right)} w_{\\mathit{EE}} + w_{\\mathit{II}}}</script></html>"
      ],
      "text/plain": [
       "i == (R^2*g*theta_I*w_EE + R^2*i_ext*w_IE - R^2*theta_E*w_IE - R*g*theta_I)/(R*w_EI*w_IE + R*g - (R^2*g + R*w_II)*w_EE + w_II)"
      ]
     },
     "metadata": {},
     "output_type": "display_data"
    }
   ],
   "source": [
    "neuralFixedPoint_nondim = solve([f_e_norm.subs(dedtau==0),f_i_norm.subs(didtau==0)],e,i)\n",
    "e_ss = neuralFixedPoint_nondim[0][0]\n",
    "i_ss = neuralFixedPoint_nondim[0][1]\n",
    "show(e_ss)\n",
    "show(i_ss)"
   ]
  },
  {
   "cell_type": "markdown",
   "metadata": {},
   "source": [
    "## Stability of the Up state"
   ]
  },
  {
   "cell_type": "markdown",
   "metadata": {},
   "source": [
    "### Jacobian of the nondimensionalized synaptic dynamics in the QSS approximation"
   ]
  },
  {
   "cell_type": "markdown",
   "metadata": {},
   "source": [
    "If $\\frac{dw_{EE}}{d\\tau} = f_1(w_{EE},w_{EI}...)$, ...  \n",
    "then the Jacobian matrix is\n",
    "$J_{qss} = \\begin{pmatrix}\n",
    "\\frac{\\partial f_1}{\\partial w_{EE}} & \\frac{\\partial f_1}{\\partial w_{EI}} & ... \\\\\n",
    "... & ... & ...\n",
    "\\end{pmatrix}\n",
    "$  \n",
    "Stability analysis: we should evaluate $J_{qss}$ at the QSS fixed point and compute its eigenvalues. If at least one eigenvalue has positive real part, then the fixed point is unstable."
   ]
  },
  {
   "cell_type": "markdown",
   "metadata": {},
   "source": [
    "### Jacobian matrix"
   ]
  },
  {
   "cell_type": "markdown",
   "metadata": {},
   "source": [
    "The Jacobian matrix $J$ is the matrix of all the first-order partial derivatives of the learning rule with respect to the weights. In terms of the QSS synaptic system:  \n",
    "$\\displaystyle \\frac{dw_{EE}}{d \\tau} = f_1(w_{EE},w_{EI},\\ldots)$  \n",
    "$\\displaystyle \\frac{dw_{EI}}{d \\tau} = f_2(w_{EE},w_{EI},\\ldots)$  ... etc  \n",
    "\n",
    "then  \n",
    "\\begin{array}{lll}\n",
    "J_{11} = \\displaystyle \\frac{\\partial f_1}{\\partial w_{EE}} & J_{12} = \\displaystyle \\frac{\\partial f_1}{\\partial w_{EI}} & \\ldots \\\\\n",
    "J_{21} = \\displaystyle \\frac{\\partial f_2}{\\partial w_{EE}} & J_{22} = \\displaystyle \\frac{\\partial f_2}{\\partial w_{EI}} & \\ldots \\\\\n",
    "\\vdots & \\vdots &\n",
    "\\end{array}  \n",
    "\n",
    "Instead of substituting $e = e_{ss}(w_{EE},w_{EI},w_{IE},w_{II})$ and $i = i_{ss}(w_{EE},w_{EI},w_{IE},w_{II})$ directly into $f_1(e,i), \\ldots$ before differentiating, we will use the chain rule:"
   ]
  },
  {
   "cell_type": "markdown",
   "metadata": {},
   "source": [
    "#### Actual computation using the chain rule"
   ]
  },
  {
   "cell_type": "markdown",
   "metadata": {},
   "source": [
    "The learning rule is expressed as a composition of functions $e$ and $i$ of the weights:  \n",
    "$\\displaystyle \\frac{dw_{EE}}{d \\tau} = f_1(e,i)$  \n",
    "$\\displaystyle \\frac{dw_{EI}}{d \\tau} = f_2(e,i)$ ... etc  \n",
    "\n",
    "Using the chain rule, the Jacobian matrix elements can be computed as  \n",
    "$J_{11} = \\displaystyle \\frac{\\partial f_1}{\\partial w_{EE}} = \\frac{\\partial f_1}{\\partial e} \\frac{\\partial e}{\\partial w_{EE}} + \\frac{\\partial f_1}{\\partial i} \\frac{\\partial i}{\\partial w_{EE}}$  \n",
    "$J_{12} = \\displaystyle \\frac{\\partial f_1}{\\partial w_{EI}} = \\frac{\\partial f_1}{\\partial e} \\frac{\\partial e}{\\partial w_{EI}} + \\frac{\\partial f_1}{\\partial i} \\frac{\\partial i}{\\partial w_{EI}}$  \n",
    "$J_{21} = \\displaystyle \\frac{\\partial f_2}{\\partial w_{EE}} = \\frac{\\partial f_2}{\\partial e} \\frac{\\partial e}{\\partial w_{EE}} + \\frac{\\partial f_2}{\\partial i} \\frac{\\partial i}{\\partial w_{EE}}$  \n",
    "$J_{22} = \\displaystyle \\frac{\\partial f_2}{\\partial w_{EI}} = \\frac{\\partial f_2}{\\partial e} \\frac{\\partial e}{\\partial w_{EI}} + \\frac{\\partial f_2}{\\partial i} \\frac{\\partial i}{\\partial w_{EI}}$"
   ]
  },
  {
   "cell_type": "code",
   "execution_count": 13,
   "metadata": {},
   "outputs": [
    {
     "data": {
      "text/html": [
       "<html><script type=\"math/tex; mode=display\">\\newcommand{\\Bold}[1]{\\mathbf{#1}}\\left(\\begin{array}{rrrr}\n",
       "-\\mathit{dedwEE}_{\\mathit{ph}} {\\left(2 \\, e - 1\\right)} & -\\mathit{dedwEI}_{\\mathit{ph}} {\\left(2 \\, e - 1\\right)} & -\\mathit{dedwIE}_{\\mathit{ph}} {\\left(2 \\, e - 1\\right)} & -\\mathit{dedwII}_{\\mathit{ph}} {\\left(2 \\, e - 1\\right)} \\\\\n",
       "\\alpha_{2} \\mathit{didwEE}_{\\mathit{ph}} {\\left(e - 1\\right)} + \\alpha_{2} \\mathit{dedwEE}_{\\mathit{ph}} i & \\alpha_{2} \\mathit{didwEI}_{\\mathit{ph}} {\\left(e - 1\\right)} + \\alpha_{2} \\mathit{dedwEI}_{\\mathit{ph}} i & \\alpha_{2} \\mathit{didwIE}_{\\mathit{ph}} {\\left(e - 1\\right)} + \\alpha_{2} \\mathit{dedwIE}_{\\mathit{ph}} i & \\alpha_{2} \\mathit{didwII}_{\\mathit{ph}} {\\left(e - 1\\right)} + \\alpha_{2} \\mathit{dedwII}_{\\mathit{ph}} i \\\\\n",
       "-\\alpha_{3} \\mathit{didwEE}_{\\mathit{ph}} e - \\alpha_{3} \\mathit{dedwEE}_{\\mathit{ph}} {\\left(i - 1\\right)} & -\\alpha_{3} \\mathit{didwEI}_{\\mathit{ph}} e - \\alpha_{3} \\mathit{dedwEI}_{\\mathit{ph}} {\\left(i - 1\\right)} & -\\alpha_{3} \\mathit{didwIE}_{\\mathit{ph}} e - \\alpha_{3} \\mathit{dedwIE}_{\\mathit{ph}} {\\left(i - 1\\right)} & -\\alpha_{3} \\mathit{didwII}_{\\mathit{ph}} e - \\alpha_{3} \\mathit{dedwII}_{\\mathit{ph}} {\\left(i - 1\\right)} \\\\\n",
       "{\\left(\\alpha_{4} {\\left(i - 1\\right)} + \\alpha_{4} i\\right)} \\mathit{didwEE}_{\\mathit{ph}} & {\\left(\\alpha_{4} {\\left(i - 1\\right)} + \\alpha_{4} i\\right)} \\mathit{didwEI}_{\\mathit{ph}} & {\\left(\\alpha_{4} {\\left(i - 1\\right)} + \\alpha_{4} i\\right)} \\mathit{didwIE}_{\\mathit{ph}} & {\\left(\\alpha_{4} {\\left(i - 1\\right)} + \\alpha_{4} i\\right)} \\mathit{didwII}_{\\mathit{ph}}\n",
       "\\end{array}\\right)</script></html>"
      ],
      "text/plain": [
       "[                            -dedwEE_ph*(2*e - 1)                             -dedwEI_ph*(2*e - 1)                             -dedwIE_ph*(2*e - 1)                             -dedwII_ph*(2*e - 1)]\n",
       "[ alpha_2*didwEE_ph*(e - 1) + alpha_2*dedwEE_ph*i  alpha_2*didwEI_ph*(e - 1) + alpha_2*dedwEI_ph*i  alpha_2*didwIE_ph*(e - 1) + alpha_2*dedwIE_ph*i  alpha_2*didwII_ph*(e - 1) + alpha_2*dedwII_ph*i]\n",
       "[-alpha_3*didwEE_ph*e - alpha_3*dedwEE_ph*(i - 1) -alpha_3*didwEI_ph*e - alpha_3*dedwEI_ph*(i - 1) -alpha_3*didwIE_ph*e - alpha_3*dedwIE_ph*(i - 1) -alpha_3*didwII_ph*e - alpha_3*dedwII_ph*(i - 1)]\n",
       "[         (alpha_4*(i - 1) + alpha_4*i)*didwEE_ph          (alpha_4*(i - 1) + alpha_4*i)*didwEI_ph          (alpha_4*(i - 1) + alpha_4*i)*didwIE_ph          (alpha_4*(i - 1) + alpha_4*i)*didwII_ph]"
      ]
     },
     "metadata": {},
     "output_type": "display_data"
    }
   ],
   "source": [
    "var('dedwEE_ph,didwEE_ph') #placeholders\n",
    "var('dedwEI_ph,didwEI_ph')\n",
    "var('dedwIE_ph,didwIE_ph')\n",
    "var('dedwII_ph,didwII_ph')\n",
    "J_11 = diff(dwEEdtau.subs(f_wEE_norm),e)*dedwEE_ph + diff(dwEEdtau.subs(f_wEE_norm),i)*didwEE_ph\n",
    "J_12 = diff(dwEEdtau.subs(f_wEE_norm),e)*dedwEI_ph + diff(dwEEdtau.subs(f_wEE_norm),i)*didwEI_ph\n",
    "J_13 = diff(dwEEdtau.subs(f_wEE_norm),e)*dedwIE_ph + diff(dwEEdtau.subs(f_wEE_norm),i)*didwIE_ph\n",
    "J_14 = diff(dwEEdtau.subs(f_wEE_norm),e)*dedwII_ph + diff(dwEEdtau.subs(f_wEE_norm),i)*didwII_ph\n",
    "J_21 = diff(dwEIdtau.subs(f_wEI_norm),e)*dedwEE_ph + diff(dwEIdtau.subs(f_wEI_norm),i)*didwEE_ph\n",
    "J_22 = diff(dwEIdtau.subs(f_wEI_norm),e)*dedwEI_ph + diff(dwEIdtau.subs(f_wEI_norm),i)*didwEI_ph\n",
    "J_23 = diff(dwEIdtau.subs(f_wEI_norm),e)*dedwIE_ph + diff(dwEIdtau.subs(f_wEI_norm),i)*didwIE_ph\n",
    "J_24 = diff(dwEIdtau.subs(f_wEI_norm),e)*dedwII_ph + diff(dwEIdtau.subs(f_wEI_norm),i)*didwII_ph\n",
    "J_31 = diff(dwIEdtau.subs(f_wIE_norm),e)*dedwEE_ph + diff(dwIEdtau.subs(f_wIE_norm),i)*didwEE_ph\n",
    "J_32 = diff(dwIEdtau.subs(f_wIE_norm),e)*dedwEI_ph + diff(dwIEdtau.subs(f_wIE_norm),i)*didwEI_ph\n",
    "J_33 = diff(dwIEdtau.subs(f_wIE_norm),e)*dedwIE_ph + diff(dwIEdtau.subs(f_wIE_norm),i)*didwIE_ph\n",
    "J_34 = diff(dwIEdtau.subs(f_wIE_norm),e)*dedwII_ph + diff(dwIEdtau.subs(f_wIE_norm),i)*didwII_ph\n",
    "J_41 = diff(dwIIdtau.subs(f_wII_norm),e)*dedwEE_ph + diff(dwIIdtau.subs(f_wII_norm),i)*didwEE_ph\n",
    "J_42 = diff(dwIIdtau.subs(f_wII_norm),e)*dedwEI_ph + diff(dwIIdtau.subs(f_wII_norm),i)*didwEI_ph\n",
    "J_43 = diff(dwIIdtau.subs(f_wII_norm),e)*dedwIE_ph + diff(dwIIdtau.subs(f_wII_norm),i)*didwIE_ph\n",
    "J_44 = diff(dwIIdtau.subs(f_wII_norm),e)*dedwII_ph + diff(dwIIdtau.subs(f_wII_norm),i)*didwII_ph\n",
    "J = matrix([[J_11,J_12,J_13,J_14],[J_21,J_22,J_23,J_24],[J_31,J_32,J_33,J_34],[J_41,J_42,J_43,J_44]])\n",
    "show(J)"
   ]
  },
  {
   "cell_type": "markdown",
   "metadata": {},
   "source": [
    "In order to compute the eigenvalues of the Jacobian matrix we need:  \n",
    "- the (quasi)steady-state values $e=e_{ss}(w_{EE},w_{EI},\\ldots)$ and $i=i_{ss}(w_{EE},w_{EI},\\ldots)$  \n",
    "- the partial derivatives $\\displaystyle \\frac{de}{dw_{EE}} \\ldots$  \n",
    "- the fixed point values $w_{EEup}, w_{EIup},\\ldots$"
   ]
  },
  {
   "cell_type": "markdown",
   "metadata": {},
   "source": [
    "#### Quasi-steady-state values of $e$ and $i$"
   ]
  },
  {
   "cell_type": "code",
   "execution_count": 14,
   "metadata": {},
   "outputs": [
    {
     "data": {
      "text/html": [
       "<html><script type=\"math/tex; mode=display\">\\newcommand{\\Bold}[1]{\\mathbf{#1}}e = \\frac{g \\theta_{I} w_{\\mathit{EI}} + {\\left(R g + w_{\\mathit{II}}\\right)} i_{\\mathit{ext}} - {\\left(R g + w_{\\mathit{II}}\\right)} \\theta_{E}}{R w_{\\mathit{EI}} w_{\\mathit{IE}} + R g - {\\left(R^{2} g + R w_{\\mathit{II}}\\right)} w_{\\mathit{EE}} + w_{\\mathit{II}}}</script></html>"
      ],
      "text/plain": [
       "e == (g*theta_I*w_EI + (R*g + w_II)*i_ext - (R*g + w_II)*theta_E)/(R*w_EI*w_IE + R*g - (R^2*g + R*w_II)*w_EE + w_II)"
      ]
     },
     "metadata": {},
     "output_type": "display_data"
    },
    {
     "data": {
      "text/html": [
       "<html><script type=\"math/tex; mode=display\">\\newcommand{\\Bold}[1]{\\mathbf{#1}}i = \\frac{R^{2} g \\theta_{I} w_{\\mathit{EE}} + R^{2} i_{\\mathit{ext}} w_{\\mathit{IE}} - R^{2} \\theta_{E} w_{\\mathit{IE}} - R g \\theta_{I}}{R w_{\\mathit{EI}} w_{\\mathit{IE}} + R g - {\\left(R^{2} g + R w_{\\mathit{II}}\\right)} w_{\\mathit{EE}} + w_{\\mathit{II}}}</script></html>"
      ],
      "text/plain": [
       "i == (R^2*g*theta_I*w_EE + R^2*i_ext*w_IE - R^2*theta_E*w_IE - R*g*theta_I)/(R*w_EI*w_IE + R*g - (R^2*g + R*w_II)*w_EE + w_II)"
      ]
     },
     "metadata": {},
     "output_type": "display_data"
    }
   ],
   "source": [
    "show(e_ss)\n",
    "show(i_ss)"
   ]
  },
  {
   "cell_type": "markdown",
   "metadata": {},
   "source": [
    "#### Partial derivatives"
   ]
  },
  {
   "cell_type": "code",
   "execution_count": 15,
   "metadata": {},
   "outputs": [],
   "source": [
    "dedwEE = diff(e.subs(e_ss),w_EE).factor()\n",
    "dedwEI = diff(e.subs(e_ss),w_EI).factor()\n",
    "dedwIE = diff(e.subs(e_ss),w_IE).factor()\n",
    "dedwII = diff(e.subs(e_ss),w_II).factor()\n",
    "didwEE = diff(i.subs(i_ss),w_EE).factor()\n",
    "didwEI = diff(i.subs(i_ss),w_EI).factor()\n",
    "didwIE = diff(i.subs(i_ss),w_IE).factor()\n",
    "didwII = diff(i.subs(i_ss),w_II).factor()\n",
    "dxdw = [dedwEE_ph==dedwEE,dedwEI_ph==dedwEI,dedwIE_ph==dedwIE,dedwII_ph==dedwII,didwEE_ph==didwEE,didwEI_ph==didwEI,didwIE_ph==didwIE,didwII_ph==didwII]"
   ]
  },
  {
   "cell_type": "markdown",
   "metadata": {},
   "source": [
    "#### Fixed points"
   ]
  },
  {
   "cell_type": "markdown",
   "metadata": {},
   "source": [
    "Fixed points are defined by $\\frac{d w_{EE}}{d\\tau}=0$, etc.  \n",
    "1. Fixed points without substitution: (i.e. in terms of $e$ and $i$)"
   ]
  },
  {
   "cell_type": "code",
   "execution_count": 16,
   "metadata": {},
   "outputs": [
    {
     "data": {
      "text/html": [
       "<html><script type=\"math/tex; mode=display\">\\newcommand{\\Bold}[1]{\\mathbf{#1}}\\left[e = 1, i = 1\\right]</script></html>"
      ],
      "text/plain": [
       "[e == 1, i == 1]"
      ]
     },
     "metadata": {},
     "output_type": "display_data"
    }
   ],
   "source": [
    "synapticFixedPoint_qss_nosubs = solve([f_wEE_norm.subs(dwEEdtau==0),f_wEI_norm.subs(dwEIdtau==0),f_wIE_norm.subs(dwIEdtau==0),f_wII_norm.subs(dwIIdtau==0)],e,i)\n",
    "synapticFixedPoint_qss_nosubs_up = synapticFixedPoint_qss_nosubs[1]\n",
    "show(synapticFixedPoint_qss_nosubs_up)"
   ]
  },
  {
   "cell_type": "markdown",
   "metadata": {},
   "source": [
    "2. Fixed points with substitution (i.e. explicit values of the weights).  \n",
    "Solve for the weight values at the Up state:"
   ]
  },
  {
   "cell_type": "code",
   "execution_count": 17,
   "metadata": {},
   "outputs": [
    {
     "data": {
      "text/html": [
       "<html><script type=\"math/tex; mode=display\">\\newcommand{\\Bold}[1]{\\mathbf{#1}}\\left[w_{\\mathit{EI}} = R^{2} w_{\\mathit{EE}} + R i_{\\mathit{ext}} - R \\theta_{E} - R, w_{\\mathit{II}} = -R g \\theta_{I} + R^{2} w_{\\mathit{IE}} - R g\\right]</script></html>"
      ],
      "text/plain": [
       "[w_EI == R^2*w_EE + R*i_ext - R*theta_E - R,\n",
       " w_II == -R*g*theta_I + R^2*w_IE - R*g]"
      ]
     },
     "metadata": {},
     "output_type": "display_data"
    }
   ],
   "source": [
    "synapticFixedPoint_qss_subs = solve([e_ss.subs(e==1),i_ss.subs(i==1)],w_EI,w_II)\n",
    "synapticFixedPoint_qss_subs_up = synapticFixedPoint_qss_subs[0]\n",
    "show(synapticFixedPoint_qss_subs_up)"
   ]
  },
  {
   "cell_type": "markdown",
   "metadata": {},
   "source": [
    "Interpretation of the above expressions: the weights converge to a plane attractor (a 2D plane in 4D phase space space---two weights are free and the other two are linear functions of the first two), so potentially many different combinations of weight values are a solution.  \n",
    "\n",
    "Confirm obtained solution:"
   ]
  },
  {
   "cell_type": "code",
   "execution_count": 18,
   "metadata": {},
   "outputs": [
    {
     "data": {
      "text/html": [
       "<html><script type=\"math/tex; mode=display\">\\newcommand{\\Bold}[1]{\\mathbf{#1}}e = 1</script></html>"
      ],
      "text/plain": [
       "e == 1"
      ]
     },
     "metadata": {},
     "output_type": "display_data"
    },
    {
     "data": {
      "text/html": [
       "<html><script type=\"math/tex; mode=display\">\\newcommand{\\Bold}[1]{\\mathbf{#1}}i = 1</script></html>"
      ],
      "text/plain": [
       "i == 1"
      ]
     },
     "metadata": {},
     "output_type": "display_data"
    }
   ],
   "source": [
    "show(e_ss.subs(synapticFixedPoint_qss_subs_up).full_simplify())\n",
    "show(i_ss.subs(synapticFixedPoint_qss_subs_up).full_simplify())"
   ]
  },
  {
   "cell_type": "markdown",
   "metadata": {},
   "source": [
    "Fixed-point values of the original weights at the Up state:"
   ]
  },
  {
   "cell_type": "code",
   "execution_count": 19,
   "metadata": {},
   "outputs": [
    {
     "data": {
      "text/html": [
       "<html><script type=\"math/tex; mode=display\">\\newcommand{\\Bold}[1]{\\mathbf{#1}}\\left[W_{\\mathit{EI}} = \\frac{{\\left(E_{\\mathit{set}} W_{\\mathit{EE}} + I_{\\mathit{ext}} - \\Theta_{E}\\right)} g_{E} - E_{\\mathit{set}}}{I_{\\mathit{set}} g_{E}}, W_{\\mathit{II}} = \\frac{{\\left(E_{\\mathit{set}} W_{\\mathit{IE}} - \\Theta_{I}\\right)} g_{I} - I_{\\mathit{set}}}{I_{\\mathit{set}} g_{I}}\\right]</script></html>"
      ],
      "text/plain": [
       "[W_EI == ((E_set*W_EE + I_ext - Theta_E)*g_E - E_set)/(I_set*g_E),\n",
       " W_II == ((E_set*W_IE - Theta_I)*g_I - I_set)/(I_set*g_I)]"
      ]
     },
     "metadata": {},
     "output_type": "display_data"
    }
   ],
   "source": [
    "synapticFixedPoint_qss_subs_up_orig = [W_EIup,W_IIup]\n",
    "show(synapticFixedPoint_qss_subs_up_orig)"
   ]
  },
  {
   "cell_type": "markdown",
   "metadata": {},
   "source": [
    "### Evaluation of the Jacobian matrix at the Up state fixed point"
   ]
  },
  {
   "cell_type": "markdown",
   "metadata": {},
   "source": [
    "The Jacobian matrix evaluated at the Up state:"
   ]
  },
  {
   "cell_type": "code",
   "execution_count": 20,
   "metadata": {},
   "outputs": [
    {
     "data": {
      "text/html": [
       "<html><script type=\"math/tex; mode=display\">\\newcommand{\\Bold}[1]{\\mathbf{#1}}\\left(\\begin{array}{rrrr}\n",
       "\\frac{{\\left(R g i_{\\mathit{ext}} - R g \\theta_{E} + {\\left(R^{2} w_{\\mathit{EE}} + R i_{\\mathit{ext}} - R \\theta_{E} - R\\right)} g \\theta_{I} - {\\left(R g \\theta_{I} - R^{2} w_{\\mathit{IE}} + R g\\right)} i_{\\mathit{ext}} + {\\left(R g \\theta_{I} - R^{2} w_{\\mathit{IE}} + R g\\right)} \\theta_{E}\\right)} {\\left(R g \\theta_{I} - R^{2} w_{\\mathit{IE}}\\right)} R}{{\\left(R^{2} g w_{\\mathit{EE}} + R g \\theta_{I} - {\\left(R g \\theta_{I} - R^{2} w_{\\mathit{IE}} + R g\\right)} R w_{\\mathit{EE}} - {\\left(R^{2} w_{\\mathit{EE}} + R i_{\\mathit{ext}} - R \\theta_{E} - R\\right)} R w_{\\mathit{IE}} - R^{2} w_{\\mathit{IE}}\\right)}^{2}} & -\\frac{{\\left(R g \\theta_{I} w_{\\mathit{EE}} + R i_{\\mathit{ext}} w_{\\mathit{IE}} - R \\theta_{E} w_{\\mathit{IE}} - g \\theta_{I}\\right)} {\\left(R g \\theta_{I} - R^{2} w_{\\mathit{IE}}\\right)}}{{\\left(R^{2} g w_{\\mathit{EE}} + R g \\theta_{I} - {\\left(R g \\theta_{I} - R^{2} w_{\\mathit{IE}} + R g\\right)} R w_{\\mathit{EE}} - {\\left(R^{2} w_{\\mathit{EE}} + R i_{\\mathit{ext}} - R \\theta_{E} - R\\right)} R w_{\\mathit{IE}} - R^{2} w_{\\mathit{IE}}\\right)}^{2}} & \\frac{{\\left(R g i_{\\mathit{ext}} - R g \\theta_{E} + {\\left(R^{2} w_{\\mathit{EE}} + R i_{\\mathit{ext}} - R \\theta_{E} - R\\right)} g \\theta_{I} - {\\left(R g \\theta_{I} - R^{2} w_{\\mathit{IE}} + R g\\right)} i_{\\mathit{ext}} + {\\left(R g \\theta_{I} - R^{2} w_{\\mathit{IE}} + R g\\right)} \\theta_{E}\\right)} {\\left(R^{2} w_{\\mathit{EE}} + R i_{\\mathit{ext}} - R \\theta_{E} - R\\right)} R}{{\\left(R^{2} g w_{\\mathit{EE}} + R g \\theta_{I} - {\\left(R g \\theta_{I} - R^{2} w_{\\mathit{IE}} + R g\\right)} R w_{\\mathit{EE}} - {\\left(R^{2} w_{\\mathit{EE}} + R i_{\\mathit{ext}} - R \\theta_{E} - R\\right)} R w_{\\mathit{IE}} - R^{2} w_{\\mathit{IE}}\\right)}^{2}} & -\\frac{{\\left(R g \\theta_{I} w_{\\mathit{EE}} + R i_{\\mathit{ext}} w_{\\mathit{IE}} - R \\theta_{E} w_{\\mathit{IE}} - g \\theta_{I}\\right)} {\\left(R^{2} w_{\\mathit{EE}} + R i_{\\mathit{ext}} - R \\theta_{E} - R\\right)}}{{\\left(R^{2} g w_{\\mathit{EE}} + R g \\theta_{I} - {\\left(R g \\theta_{I} - R^{2} w_{\\mathit{IE}} + R g\\right)} R w_{\\mathit{EE}} - {\\left(R^{2} w_{\\mathit{EE}} + R i_{\\mathit{ext}} - R \\theta_{E} - R\\right)} R w_{\\mathit{IE}} - R^{2} w_{\\mathit{IE}}\\right)}^{2}} \\\\\n",
       "-\\frac{{\\left(R g i_{\\mathit{ext}} - R g \\theta_{E} + {\\left(R^{2} w_{\\mathit{EE}} + R i_{\\mathit{ext}} - R \\theta_{E} - R\\right)} g \\theta_{I} - {\\left(R g \\theta_{I} - R^{2} w_{\\mathit{IE}} + R g\\right)} i_{\\mathit{ext}} + {\\left(R g \\theta_{I} - R^{2} w_{\\mathit{IE}} + R g\\right)} \\theta_{E}\\right)} {\\left(R g \\theta_{I} - R^{2} w_{\\mathit{IE}}\\right)} R \\alpha_{2}}{{\\left(R^{2} g w_{\\mathit{EE}} + R g \\theta_{I} - {\\left(R g \\theta_{I} - R^{2} w_{\\mathit{IE}} + R g\\right)} R w_{\\mathit{EE}} - {\\left(R^{2} w_{\\mathit{EE}} + R i_{\\mathit{ext}} - R \\theta_{E} - R\\right)} R w_{\\mathit{IE}} - R^{2} w_{\\mathit{IE}}\\right)}^{2}} & \\frac{{\\left(R g \\theta_{I} w_{\\mathit{EE}} + R i_{\\mathit{ext}} w_{\\mathit{IE}} - R \\theta_{E} w_{\\mathit{IE}} - g \\theta_{I}\\right)} {\\left(R g \\theta_{I} - R^{2} w_{\\mathit{IE}}\\right)} \\alpha_{2}}{{\\left(R^{2} g w_{\\mathit{EE}} + R g \\theta_{I} - {\\left(R g \\theta_{I} - R^{2} w_{\\mathit{IE}} + R g\\right)} R w_{\\mathit{EE}} - {\\left(R^{2} w_{\\mathit{EE}} + R i_{\\mathit{ext}} - R \\theta_{E} - R\\right)} R w_{\\mathit{IE}} - R^{2} w_{\\mathit{IE}}\\right)}^{2}} & -\\frac{{\\left(R g i_{\\mathit{ext}} - R g \\theta_{E} + {\\left(R^{2} w_{\\mathit{EE}} + R i_{\\mathit{ext}} - R \\theta_{E} - R\\right)} g \\theta_{I} - {\\left(R g \\theta_{I} - R^{2} w_{\\mathit{IE}} + R g\\right)} i_{\\mathit{ext}} + {\\left(R g \\theta_{I} - R^{2} w_{\\mathit{IE}} + R g\\right)} \\theta_{E}\\right)} {\\left(R^{2} w_{\\mathit{EE}} + R i_{\\mathit{ext}} - R \\theta_{E} - R\\right)} R \\alpha_{2}}{{\\left(R^{2} g w_{\\mathit{EE}} + R g \\theta_{I} - {\\left(R g \\theta_{I} - R^{2} w_{\\mathit{IE}} + R g\\right)} R w_{\\mathit{EE}} - {\\left(R^{2} w_{\\mathit{EE}} + R i_{\\mathit{ext}} - R \\theta_{E} - R\\right)} R w_{\\mathit{IE}} - R^{2} w_{\\mathit{IE}}\\right)}^{2}} & \\frac{{\\left(R g \\theta_{I} w_{\\mathit{EE}} + R i_{\\mathit{ext}} w_{\\mathit{IE}} - R \\theta_{E} w_{\\mathit{IE}} - g \\theta_{I}\\right)} {\\left(R^{2} w_{\\mathit{EE}} + R i_{\\mathit{ext}} - R \\theta_{E} - R\\right)} \\alpha_{2}}{{\\left(R^{2} g w_{\\mathit{EE}} + R g \\theta_{I} - {\\left(R g \\theta_{I} - R^{2} w_{\\mathit{IE}} + R g\\right)} R w_{\\mathit{EE}} - {\\left(R^{2} w_{\\mathit{EE}} + R i_{\\mathit{ext}} - R \\theta_{E} - R\\right)} R w_{\\mathit{IE}} - R^{2} w_{\\mathit{IE}}\\right)}^{2}} \\\\\n",
       "-\\frac{{\\left(R g i_{\\mathit{ext}} - R g \\theta_{E} + {\\left(R^{2} w_{\\mathit{EE}} + R i_{\\mathit{ext}} - R \\theta_{E} - R\\right)} g \\theta_{I} - {\\left(R g \\theta_{I} - R^{2} w_{\\mathit{IE}} + R g\\right)} i_{\\mathit{ext}} + {\\left(R g \\theta_{I} - R^{2} w_{\\mathit{IE}} + R g\\right)} \\theta_{E}\\right)} R^{3} \\alpha_{3} w_{\\mathit{IE}}}{{\\left(R^{2} g w_{\\mathit{EE}} + R g \\theta_{I} - {\\left(R g \\theta_{I} - R^{2} w_{\\mathit{IE}} + R g\\right)} R w_{\\mathit{EE}} - {\\left(R^{2} w_{\\mathit{EE}} + R i_{\\mathit{ext}} - R \\theta_{E} - R\\right)} R w_{\\mathit{IE}} - R^{2} w_{\\mathit{IE}}\\right)}^{2}} & \\frac{{\\left(R g \\theta_{I} w_{\\mathit{EE}} + R i_{\\mathit{ext}} w_{\\mathit{IE}} - R \\theta_{E} w_{\\mathit{IE}} - g \\theta_{I}\\right)} R^{2} \\alpha_{3} w_{\\mathit{IE}}}{{\\left(R^{2} g w_{\\mathit{EE}} + R g \\theta_{I} - {\\left(R g \\theta_{I} - R^{2} w_{\\mathit{IE}} + R g\\right)} R w_{\\mathit{EE}} - {\\left(R^{2} w_{\\mathit{EE}} + R i_{\\mathit{ext}} - R \\theta_{E} - R\\right)} R w_{\\mathit{IE}} - R^{2} w_{\\mathit{IE}}\\right)}^{2}} & \\frac{{\\left(R g i_{\\mathit{ext}} - R g \\theta_{E} + {\\left(R^{2} w_{\\mathit{EE}} + R i_{\\mathit{ext}} - R \\theta_{E} - R\\right)} g \\theta_{I} - {\\left(R g \\theta_{I} - R^{2} w_{\\mathit{IE}} + R g\\right)} i_{\\mathit{ext}} + {\\left(R g \\theta_{I} - R^{2} w_{\\mathit{IE}} + R g\\right)} \\theta_{E}\\right)} {\\left(R w_{\\mathit{EE}} - 1\\right)} R^{2} \\alpha_{3}}{{\\left(R^{2} g w_{\\mathit{EE}} + R g \\theta_{I} - {\\left(R g \\theta_{I} - R^{2} w_{\\mathit{IE}} + R g\\right)} R w_{\\mathit{EE}} - {\\left(R^{2} w_{\\mathit{EE}} + R i_{\\mathit{ext}} - R \\theta_{E} - R\\right)} R w_{\\mathit{IE}} - R^{2} w_{\\mathit{IE}}\\right)}^{2}} & -\\frac{{\\left(R g \\theta_{I} w_{\\mathit{EE}} + R i_{\\mathit{ext}} w_{\\mathit{IE}} - R \\theta_{E} w_{\\mathit{IE}} - g \\theta_{I}\\right)} {\\left(R w_{\\mathit{EE}} - 1\\right)} R \\alpha_{3}}{{\\left(R^{2} g w_{\\mathit{EE}} + R g \\theta_{I} - {\\left(R g \\theta_{I} - R^{2} w_{\\mathit{IE}} + R g\\right)} R w_{\\mathit{EE}} - {\\left(R^{2} w_{\\mathit{EE}} + R i_{\\mathit{ext}} - R \\theta_{E} - R\\right)} R w_{\\mathit{IE}} - R^{2} w_{\\mathit{IE}}\\right)}^{2}} \\\\\n",
       "\\frac{{\\left(R g i_{\\mathit{ext}} - R g \\theta_{E} + {\\left(R^{2} w_{\\mathit{EE}} + R i_{\\mathit{ext}} - R \\theta_{E} - R\\right)} g \\theta_{I} - {\\left(R g \\theta_{I} - R^{2} w_{\\mathit{IE}} + R g\\right)} i_{\\mathit{ext}} + {\\left(R g \\theta_{I} - R^{2} w_{\\mathit{IE}} + R g\\right)} \\theta_{E}\\right)} R^{3} \\alpha_{4} w_{\\mathit{IE}}}{{\\left(R^{2} g w_{\\mathit{EE}} + R g \\theta_{I} - {\\left(R g \\theta_{I} - R^{2} w_{\\mathit{IE}} + R g\\right)} R w_{\\mathit{EE}} - {\\left(R^{2} w_{\\mathit{EE}} + R i_{\\mathit{ext}} - R \\theta_{E} - R\\right)} R w_{\\mathit{IE}} - R^{2} w_{\\mathit{IE}}\\right)}^{2}} & -\\frac{{\\left(R g \\theta_{I} w_{\\mathit{EE}} + R i_{\\mathit{ext}} w_{\\mathit{IE}} - R \\theta_{E} w_{\\mathit{IE}} - g \\theta_{I}\\right)} R^{2} \\alpha_{4} w_{\\mathit{IE}}}{{\\left(R^{2} g w_{\\mathit{EE}} + R g \\theta_{I} - {\\left(R g \\theta_{I} - R^{2} w_{\\mathit{IE}} + R g\\right)} R w_{\\mathit{EE}} - {\\left(R^{2} w_{\\mathit{EE}} + R i_{\\mathit{ext}} - R \\theta_{E} - R\\right)} R w_{\\mathit{IE}} - R^{2} w_{\\mathit{IE}}\\right)}^{2}} & -\\frac{{\\left(R g i_{\\mathit{ext}} - R g \\theta_{E} + {\\left(R^{2} w_{\\mathit{EE}} + R i_{\\mathit{ext}} - R \\theta_{E} - R\\right)} g \\theta_{I} - {\\left(R g \\theta_{I} - R^{2} w_{\\mathit{IE}} + R g\\right)} i_{\\mathit{ext}} + {\\left(R g \\theta_{I} - R^{2} w_{\\mathit{IE}} + R g\\right)} \\theta_{E}\\right)} {\\left(R w_{\\mathit{EE}} - 1\\right)} R^{2} \\alpha_{4}}{{\\left(R^{2} g w_{\\mathit{EE}} + R g \\theta_{I} - {\\left(R g \\theta_{I} - R^{2} w_{\\mathit{IE}} + R g\\right)} R w_{\\mathit{EE}} - {\\left(R^{2} w_{\\mathit{EE}} + R i_{\\mathit{ext}} - R \\theta_{E} - R\\right)} R w_{\\mathit{IE}} - R^{2} w_{\\mathit{IE}}\\right)}^{2}} & \\frac{{\\left(R g \\theta_{I} w_{\\mathit{EE}} + R i_{\\mathit{ext}} w_{\\mathit{IE}} - R \\theta_{E} w_{\\mathit{IE}} - g \\theta_{I}\\right)} {\\left(R w_{\\mathit{EE}} - 1\\right)} R \\alpha_{4}}{{\\left(R^{2} g w_{\\mathit{EE}} + R g \\theta_{I} - {\\left(R g \\theta_{I} - R^{2} w_{\\mathit{IE}} + R g\\right)} R w_{\\mathit{EE}} - {\\left(R^{2} w_{\\mathit{EE}} + R i_{\\mathit{ext}} - R \\theta_{E} - R\\right)} R w_{\\mathit{IE}} - R^{2} w_{\\mathit{IE}}\\right)}^{2}}\n",
       "\\end{array}\\right)</script></html>"
      ],
      "text/plain": [
       "[                     (R*g*i_ext - R*g*theta_E + (R^2*w_EE + R*i_ext - R*theta_E - R)*g*theta_I - (R*g*theta_I - R^2*w_IE + R*g)*i_ext + (R*g*theta_I - R^2*w_IE + R*g)*theta_E)*(R*g*theta_I - R^2*w_IE)*R/(R^2*g*w_EE + R*g*theta_I - (R*g*theta_I - R^2*w_IE + R*g)*R*w_EE - (R^2*w_EE + R*i_ext - R*theta_E - R)*R*w_IE - R^2*w_IE)^2                                                                                                                   -(R*g*theta_I*w_EE + R*i_ext*w_IE - R*theta_E*w_IE - g*theta_I)*(R*g*theta_I - R^2*w_IE)/(R^2*g*w_EE + R*g*theta_I - (R*g*theta_I - R^2*w_IE + R*g)*R*w_EE - (R^2*w_EE + R*i_ext - R*theta_E - R)*R*w_IE - R^2*w_IE)^2          (R*g*i_ext - R*g*theta_E + (R^2*w_EE + R*i_ext - R*theta_E - R)*g*theta_I - (R*g*theta_I - R^2*w_IE + R*g)*i_ext + (R*g*theta_I - R^2*w_IE + R*g)*theta_E)*(R^2*w_EE + R*i_ext - R*theta_E - R)*R/(R^2*g*w_EE + R*g*theta_I - (R*g*theta_I - R^2*w_IE + R*g)*R*w_EE - (R^2*w_EE + R*i_ext - R*theta_E - R)*R*w_IE - R^2*w_IE)^2                                                                                                       -(R*g*theta_I*w_EE + R*i_ext*w_IE - R*theta_E*w_IE - g*theta_I)*(R^2*w_EE + R*i_ext - R*theta_E - R)/(R^2*g*w_EE + R*g*theta_I - (R*g*theta_I - R^2*w_IE + R*g)*R*w_EE - (R^2*w_EE + R*i_ext - R*theta_E - R)*R*w_IE - R^2*w_IE)^2]\n",
       "[            -(R*g*i_ext - R*g*theta_E + (R^2*w_EE + R*i_ext - R*theta_E - R)*g*theta_I - (R*g*theta_I - R^2*w_IE + R*g)*i_ext + (R*g*theta_I - R^2*w_IE + R*g)*theta_E)*(R*g*theta_I - R^2*w_IE)*R*alpha_2/(R^2*g*w_EE + R*g*theta_I - (R*g*theta_I - R^2*w_IE + R*g)*R*w_EE - (R^2*w_EE + R*i_ext - R*theta_E - R)*R*w_IE - R^2*w_IE)^2                                                                                                            (R*g*theta_I*w_EE + R*i_ext*w_IE - R*theta_E*w_IE - g*theta_I)*(R*g*theta_I - R^2*w_IE)*alpha_2/(R^2*g*w_EE + R*g*theta_I - (R*g*theta_I - R^2*w_IE + R*g)*R*w_EE - (R^2*w_EE + R*i_ext - R*theta_E - R)*R*w_IE - R^2*w_IE)^2 -(R*g*i_ext - R*g*theta_E + (R^2*w_EE + R*i_ext - R*theta_E - R)*g*theta_I - (R*g*theta_I - R^2*w_IE + R*g)*i_ext + (R*g*theta_I - R^2*w_IE + R*g)*theta_E)*(R^2*w_EE + R*i_ext - R*theta_E - R)*R*alpha_2/(R^2*g*w_EE + R*g*theta_I - (R*g*theta_I - R^2*w_IE + R*g)*R*w_EE - (R^2*w_EE + R*i_ext - R*theta_E - R)*R*w_IE - R^2*w_IE)^2                                                                                                (R*g*theta_I*w_EE + R*i_ext*w_IE - R*theta_E*w_IE - g*theta_I)*(R^2*w_EE + R*i_ext - R*theta_E - R)*alpha_2/(R^2*g*w_EE + R*g*theta_I - (R*g*theta_I - R^2*w_IE + R*g)*R*w_EE - (R^2*w_EE + R*i_ext - R*theta_E - R)*R*w_IE - R^2*w_IE)^2]\n",
       "[                              -(R*g*i_ext - R*g*theta_E + (R^2*w_EE + R*i_ext - R*theta_E - R)*g*theta_I - (R*g*theta_I - R^2*w_IE + R*g)*i_ext + (R*g*theta_I - R^2*w_IE + R*g)*theta_E)*R^3*alpha_3*w_IE/(R^2*g*w_EE + R*g*theta_I - (R*g*theta_I - R^2*w_IE + R*g)*R*w_EE - (R^2*w_EE + R*i_ext - R*theta_E - R)*R*w_IE - R^2*w_IE)^2                                                                                                                            (R*g*theta_I*w_EE + R*i_ext*w_IE - R*theta_E*w_IE - g*theta_I)*R^2*alpha_3*w_IE/(R^2*g*w_EE + R*g*theta_I - (R*g*theta_I - R^2*w_IE + R*g)*R*w_EE - (R^2*w_EE + R*i_ext - R*theta_E - R)*R*w_IE - R^2*w_IE)^2                        (R*g*i_ext - R*g*theta_E + (R^2*w_EE + R*i_ext - R*theta_E - R)*g*theta_I - (R*g*theta_I - R^2*w_IE + R*g)*i_ext + (R*g*theta_I - R^2*w_IE + R*g)*theta_E)*(R*w_EE - 1)*R^2*alpha_3/(R^2*g*w_EE + R*g*theta_I - (R*g*theta_I - R^2*w_IE + R*g)*R*w_EE - (R^2*w_EE + R*i_ext - R*theta_E - R)*R*w_IE - R^2*w_IE)^2                                                                                                                     -(R*g*theta_I*w_EE + R*i_ext*w_IE - R*theta_E*w_IE - g*theta_I)*(R*w_EE - 1)*R*alpha_3/(R^2*g*w_EE + R*g*theta_I - (R*g*theta_I - R^2*w_IE + R*g)*R*w_EE - (R^2*w_EE + R*i_ext - R*theta_E - R)*R*w_IE - R^2*w_IE)^2]\n",
       "[                               (R*g*i_ext - R*g*theta_E + (R^2*w_EE + R*i_ext - R*theta_E - R)*g*theta_I - (R*g*theta_I - R^2*w_IE + R*g)*i_ext + (R*g*theta_I - R^2*w_IE + R*g)*theta_E)*R^3*alpha_4*w_IE/(R^2*g*w_EE + R*g*theta_I - (R*g*theta_I - R^2*w_IE + R*g)*R*w_EE - (R^2*w_EE + R*i_ext - R*theta_E - R)*R*w_IE - R^2*w_IE)^2                                                                                                                           -(R*g*theta_I*w_EE + R*i_ext*w_IE - R*theta_E*w_IE - g*theta_I)*R^2*alpha_4*w_IE/(R^2*g*w_EE + R*g*theta_I - (R*g*theta_I - R^2*w_IE + R*g)*R*w_EE - (R^2*w_EE + R*i_ext - R*theta_E - R)*R*w_IE - R^2*w_IE)^2                       -(R*g*i_ext - R*g*theta_E + (R^2*w_EE + R*i_ext - R*theta_E - R)*g*theta_I - (R*g*theta_I - R^2*w_IE + R*g)*i_ext + (R*g*theta_I - R^2*w_IE + R*g)*theta_E)*(R*w_EE - 1)*R^2*alpha_4/(R^2*g*w_EE + R*g*theta_I - (R*g*theta_I - R^2*w_IE + R*g)*R*w_EE - (R^2*w_EE + R*i_ext - R*theta_E - R)*R*w_IE - R^2*w_IE)^2                                                                                                                      (R*g*theta_I*w_EE + R*i_ext*w_IE - R*theta_E*w_IE - g*theta_I)*(R*w_EE - 1)*R*alpha_4/(R^2*g*w_EE + R*g*theta_I - (R*g*theta_I - R^2*w_IE + R*g)*R*w_EE - (R^2*w_EE + R*i_ext - R*theta_E - R)*R*w_IE - R^2*w_IE)^2]"
      ]
     },
     "metadata": {},
     "output_type": "display_data"
    }
   ],
   "source": [
    "J_up = J.subs(synapticFixedPoint_qss_nosubs_up).subs(dxdw).subs(synapticFixedPoint_qss_subs_up).simplify()\n",
    "show(J_up)"
   ]
  },
  {
   "cell_type": "markdown",
   "metadata": {},
   "source": [
    "The Jacobian matrix at the first solution has two dependent rows, then two of the eigenvalues will be zero:"
   ]
  },
  {
   "cell_type": "code",
   "execution_count": 21,
   "metadata": {},
   "outputs": [
    {
     "data": {
      "text/plain": [
       "[-1/2*(R^2*alpha_3 - (R^2 + alpha_2)*g*theta_I - (R^3*alpha_3 + R*alpha_4)*w_EE + (R^3 + R*alpha_2)*w_IE + alpha_4 + sqrt(R^4*alpha_3^2 + (R^4 + 2*R^2*alpha_2 + alpha_2^2)*g^2*theta_I^2 + 2*R^2*alpha_3*alpha_4 + 2*((R^4 + R^2*alpha_2)*alpha_3 + (R^2 + alpha_2)*alpha_4)*g*theta_I + (R^6*alpha_3^2 + 2*R^4*alpha_3*alpha_4 + R^2*alpha_4^2)*w_EE^2 + (R^6 + 2*R^4*alpha_2 + R^2*alpha_2^2)*w_IE^2 + alpha_4^2 - 2*(R^5*alpha_3^2 + 2*R^3*alpha_3*alpha_4 + R*alpha_4^2 + ((R^5 + R^3*alpha_2)*alpha_3 + (R^3 + R*alpha_2)*alpha_4)*g*theta_I)*w_EE - 2*((R^5 + 2*R^3*alpha_2 + R*alpha_2^2)*g*theta_I - (R^5 + R^3*alpha_2)*alpha_3 - (R^3 + R*alpha_2)*alpha_4 + 2*((R^5 + R^3*alpha_2)*alpha_3 + (R^3 + R*alpha_2)*alpha_4)*i_ext - 2*((R^5 + R^3*alpha_2)*alpha_3 + (R^3 + R*alpha_2)*alpha_4)*theta_E + ((R^6 + R^4*alpha_2)*alpha_3 + (R^4 + R^2*alpha_2)*alpha_4)*w_EE)*w_IE))/(R^2*g*theta_I*w_EE - R*g*theta_I + (R^2*i_ext - R^2*theta_E)*w_IE),\n",
       " -1/2*(R^2*alpha_3 - (R^2 + alpha_2)*g*theta_I - (R^3*alpha_3 + R*alpha_4)*w_EE + (R^3 + R*alpha_2)*w_IE + alpha_4 - sqrt(R^4*alpha_3^2 + (R^4 + 2*R^2*alpha_2 + alpha_2^2)*g^2*theta_I^2 + 2*R^2*alpha_3*alpha_4 + 2*((R^4 + R^2*alpha_2)*alpha_3 + (R^2 + alpha_2)*alpha_4)*g*theta_I + (R^6*alpha_3^2 + 2*R^4*alpha_3*alpha_4 + R^2*alpha_4^2)*w_EE^2 + (R^6 + 2*R^4*alpha_2 + R^2*alpha_2^2)*w_IE^2 + alpha_4^2 - 2*(R^5*alpha_3^2 + 2*R^3*alpha_3*alpha_4 + R*alpha_4^2 + ((R^5 + R^3*alpha_2)*alpha_3 + (R^3 + R*alpha_2)*alpha_4)*g*theta_I)*w_EE - 2*((R^5 + 2*R^3*alpha_2 + R*alpha_2^2)*g*theta_I - (R^5 + R^3*alpha_2)*alpha_3 - (R^3 + R*alpha_2)*alpha_4 + 2*((R^5 + R^3*alpha_2)*alpha_3 + (R^3 + R*alpha_2)*alpha_4)*i_ext - 2*((R^5 + R^3*alpha_2)*alpha_3 + (R^3 + R*alpha_2)*alpha_4)*theta_E + ((R^6 + R^4*alpha_2)*alpha_3 + (R^4 + R^2*alpha_2)*alpha_4)*w_EE)*w_IE))/(R^2*g*theta_I*w_EE - R*g*theta_I + (R^2*i_ext - R^2*theta_E)*w_IE),\n",
       " 0,\n",
       " 0]"
      ]
     },
     "execution_count": 21,
     "metadata": {},
     "output_type": "execute_result"
    }
   ],
   "source": [
    "J_up.eigenvalues()"
   ]
  },
  {
   "cell_type": "markdown",
   "metadata": {},
   "source": [
    "Recall that the steady-state solutions of the learning rule form a 2D plane in 4D phase space, and thus two out of the four eigenvalues are expected to be zero (meaning there is no dynamics along the plane).  \n",
    "If both nonzero eigenvalues have negative real part then the learning rule is stable; if any of them has positive real part, then the rule is unstable."
   ]
  },
  {
   "cell_type": "markdown",
   "metadata": {},
   "source": [
    "## Linear stability of the directions with nonzero eigenvalues"
   ]
  },
  {
   "cell_type": "markdown",
   "metadata": {},
   "source": [
    "Take the nonzero eigenvalues and check whether any of them has positive real part:"
   ]
  },
  {
   "cell_type": "code",
   "execution_count": 22,
   "metadata": {},
   "outputs": [
    {
     "data": {
      "text/html": [
       "<html><script type=\"math/tex; mode=display\">\\newcommand{\\Bold}[1]{\\mathbf{#1}}\\frac{R^{3} \\alpha_{3} w_{\\mathit{EE}} + R^{2} g \\theta_{I} - R^{3} w_{\\mathit{IE}} - R^{2} \\alpha_{3} + \\alpha_{2} g \\theta_{I} + R \\alpha_{4} w_{\\mathit{EE}} - R \\alpha_{2} w_{\\mathit{IE}} - \\alpha_{4} - \\sqrt{R^{4} \\alpha_{3}^{2} + {\\left(R^{4} + 2 \\, R^{2} \\alpha_{2} + \\alpha_{2}^{2}\\right)} g^{2} \\theta_{I}^{2} + 2 \\, R^{2} \\alpha_{3} \\alpha_{4} + 2 \\, {\\left({\\left(R^{4} + R^{2} \\alpha_{2}\\right)} \\alpha_{3} + {\\left(R^{2} + \\alpha_{2}\\right)} \\alpha_{4}\\right)} g \\theta_{I} + {\\left(R^{6} \\alpha_{3}^{2} + 2 \\, R^{4} \\alpha_{3} \\alpha_{4} + R^{2} \\alpha_{4}^{2}\\right)} w_{\\mathit{EE}}^{2} + {\\left(R^{6} + 2 \\, R^{4} \\alpha_{2} + R^{2} \\alpha_{2}^{2}\\right)} w_{\\mathit{IE}}^{2} + \\alpha_{4}^{2} - 2 \\, {\\left(R^{5} \\alpha_{3}^{2} + 2 \\, R^{3} \\alpha_{3} \\alpha_{4} + R \\alpha_{4}^{2} + {\\left({\\left(R^{5} + R^{3} \\alpha_{2}\\right)} \\alpha_{3} + {\\left(R^{3} + R \\alpha_{2}\\right)} \\alpha_{4}\\right)} g \\theta_{I}\\right)} w_{\\mathit{EE}} - 2 \\, {\\left({\\left(R^{5} + 2 \\, R^{3} \\alpha_{2} + R \\alpha_{2}^{2}\\right)} g \\theta_{I} - {\\left(R^{5} + R^{3} \\alpha_{2}\\right)} \\alpha_{3} - {\\left(R^{3} + R \\alpha_{2}\\right)} \\alpha_{4} + 2 \\, {\\left({\\left(R^{5} + R^{3} \\alpha_{2}\\right)} \\alpha_{3} + {\\left(R^{3} + R \\alpha_{2}\\right)} \\alpha_{4}\\right)} i_{\\mathit{ext}} - 2 \\, {\\left({\\left(R^{5} + R^{3} \\alpha_{2}\\right)} \\alpha_{3} + {\\left(R^{3} + R \\alpha_{2}\\right)} \\alpha_{4}\\right)} \\theta_{E} + {\\left({\\left(R^{6} + R^{4} \\alpha_{2}\\right)} \\alpha_{3} + {\\left(R^{4} + R^{2} \\alpha_{2}\\right)} \\alpha_{4}\\right)} w_{\\mathit{EE}}\\right)} w_{\\mathit{IE}}}}{2 \\, {\\left(R g \\theta_{I} w_{\\mathit{EE}} + R i_{\\mathit{ext}} w_{\\mathit{IE}} - R \\theta_{E} w_{\\mathit{IE}} - g \\theta_{I}\\right)} R}</script></html>"
      ],
      "text/plain": [
       "1/2*(R^3*alpha_3*w_EE + R^2*g*theta_I - R^3*w_IE - R^2*alpha_3 + alpha_2*g*theta_I + R*alpha_4*w_EE - R*alpha_2*w_IE - alpha_4 - sqrt(R^4*alpha_3^2 + (R^4 + 2*R^2*alpha_2 + alpha_2^2)*g^2*theta_I^2 + 2*R^2*alpha_3*alpha_4 + 2*((R^4 + R^2*alpha_2)*alpha_3 + (R^2 + alpha_2)*alpha_4)*g*theta_I + (R^6*alpha_3^2 + 2*R^4*alpha_3*alpha_4 + R^2*alpha_4^2)*w_EE^2 + (R^6 + 2*R^4*alpha_2 + R^2*alpha_2^2)*w_IE^2 + alpha_4^2 - 2*(R^5*alpha_3^2 + 2*R^3*alpha_3*alpha_4 + R*alpha_4^2 + ((R^5 + R^3*alpha_2)*alpha_3 + (R^3 + R*alpha_2)*alpha_4)*g*theta_I)*w_EE - 2*((R^5 + 2*R^3*alpha_2 + R*alpha_2^2)*g*theta_I - (R^5 + R^3*alpha_2)*alpha_3 - (R^3 + R*alpha_2)*alpha_4 + 2*((R^5 + R^3*alpha_2)*alpha_3 + (R^3 + R*alpha_2)*alpha_4)*i_ext - 2*((R^5 + R^3*alpha_2)*alpha_3 + (R^3 + R*alpha_2)*alpha_4)*theta_E + ((R^6 + R^4*alpha_2)*alpha_3 + (R^4 + R^2*alpha_2)*alpha_4)*w_EE)*w_IE))/((R*g*theta_I*w_EE + R*i_ext*w_IE - R*theta_E*w_IE - g*theta_I)*R)"
      ]
     },
     "metadata": {},
     "output_type": "display_data"
    },
    {
     "data": {
      "text/html": [
       "<html><script type=\"math/tex; mode=display\">\\newcommand{\\Bold}[1]{\\mathbf{#1}}\\frac{R^{3} \\alpha_{3} w_{\\mathit{EE}} + R^{2} g \\theta_{I} - R^{3} w_{\\mathit{IE}} - R^{2} \\alpha_{3} + \\alpha_{2} g \\theta_{I} + R \\alpha_{4} w_{\\mathit{EE}} - R \\alpha_{2} w_{\\mathit{IE}} - \\alpha_{4} + \\sqrt{R^{4} \\alpha_{3}^{2} + {\\left(R^{4} + 2 \\, R^{2} \\alpha_{2} + \\alpha_{2}^{2}\\right)} g^{2} \\theta_{I}^{2} + 2 \\, R^{2} \\alpha_{3} \\alpha_{4} + 2 \\, {\\left({\\left(R^{4} + R^{2} \\alpha_{2}\\right)} \\alpha_{3} + {\\left(R^{2} + \\alpha_{2}\\right)} \\alpha_{4}\\right)} g \\theta_{I} + {\\left(R^{6} \\alpha_{3}^{2} + 2 \\, R^{4} \\alpha_{3} \\alpha_{4} + R^{2} \\alpha_{4}^{2}\\right)} w_{\\mathit{EE}}^{2} + {\\left(R^{6} + 2 \\, R^{4} \\alpha_{2} + R^{2} \\alpha_{2}^{2}\\right)} w_{\\mathit{IE}}^{2} + \\alpha_{4}^{2} - 2 \\, {\\left(R^{5} \\alpha_{3}^{2} + 2 \\, R^{3} \\alpha_{3} \\alpha_{4} + R \\alpha_{4}^{2} + {\\left({\\left(R^{5} + R^{3} \\alpha_{2}\\right)} \\alpha_{3} + {\\left(R^{3} + R \\alpha_{2}\\right)} \\alpha_{4}\\right)} g \\theta_{I}\\right)} w_{\\mathit{EE}} - 2 \\, {\\left({\\left(R^{5} + 2 \\, R^{3} \\alpha_{2} + R \\alpha_{2}^{2}\\right)} g \\theta_{I} - {\\left(R^{5} + R^{3} \\alpha_{2}\\right)} \\alpha_{3} - {\\left(R^{3} + R \\alpha_{2}\\right)} \\alpha_{4} + 2 \\, {\\left({\\left(R^{5} + R^{3} \\alpha_{2}\\right)} \\alpha_{3} + {\\left(R^{3} + R \\alpha_{2}\\right)} \\alpha_{4}\\right)} i_{\\mathit{ext}} - 2 \\, {\\left({\\left(R^{5} + R^{3} \\alpha_{2}\\right)} \\alpha_{3} + {\\left(R^{3} + R \\alpha_{2}\\right)} \\alpha_{4}\\right)} \\theta_{E} + {\\left({\\left(R^{6} + R^{4} \\alpha_{2}\\right)} \\alpha_{3} + {\\left(R^{4} + R^{2} \\alpha_{2}\\right)} \\alpha_{4}\\right)} w_{\\mathit{EE}}\\right)} w_{\\mathit{IE}}}}{2 \\, {\\left(R g \\theta_{I} w_{\\mathit{EE}} + R i_{\\mathit{ext}} w_{\\mathit{IE}} - R \\theta_{E} w_{\\mathit{IE}} - g \\theta_{I}\\right)} R}</script></html>"
      ],
      "text/plain": [
       "1/2*(R^3*alpha_3*w_EE + R^2*g*theta_I - R^3*w_IE - R^2*alpha_3 + alpha_2*g*theta_I + R*alpha_4*w_EE - R*alpha_2*w_IE - alpha_4 + sqrt(R^4*alpha_3^2 + (R^4 + 2*R^2*alpha_2 + alpha_2^2)*g^2*theta_I^2 + 2*R^2*alpha_3*alpha_4 + 2*((R^4 + R^2*alpha_2)*alpha_3 + (R^2 + alpha_2)*alpha_4)*g*theta_I + (R^6*alpha_3^2 + 2*R^4*alpha_3*alpha_4 + R^2*alpha_4^2)*w_EE^2 + (R^6 + 2*R^4*alpha_2 + R^2*alpha_2^2)*w_IE^2 + alpha_4^2 - 2*(R^5*alpha_3^2 + 2*R^3*alpha_3*alpha_4 + R*alpha_4^2 + ((R^5 + R^3*alpha_2)*alpha_3 + (R^3 + R*alpha_2)*alpha_4)*g*theta_I)*w_EE - 2*((R^5 + 2*R^3*alpha_2 + R*alpha_2^2)*g*theta_I - (R^5 + R^3*alpha_2)*alpha_3 - (R^3 + R*alpha_2)*alpha_4 + 2*((R^5 + R^3*alpha_2)*alpha_3 + (R^3 + R*alpha_2)*alpha_4)*i_ext - 2*((R^5 + R^3*alpha_2)*alpha_3 + (R^3 + R*alpha_2)*alpha_4)*theta_E + ((R^6 + R^4*alpha_2)*alpha_3 + (R^4 + R^2*alpha_2)*alpha_4)*w_EE)*w_IE))/((R*g*theta_I*w_EE + R*i_ext*w_IE - R*theta_E*w_IE - g*theta_I)*R)"
      ]
     },
     "metadata": {},
     "output_type": "display_data"
    }
   ],
   "source": [
    "J_up_eigvalues = J_up.eigenvalues()\n",
    "J_up_eigvalues1_aux = J_up_eigvalues[0].factor()\n",
    "J_up_eigvalues2_aux = J_up_eigvalues[1].factor()\n",
    "show(J_up_eigvalues1_aux)\n",
    "show(J_up_eigvalues2_aux)"
   ]
  },
  {
   "cell_type": "markdown",
   "metadata": {},
   "source": [
    "#### Rewrite eigenvalues"
   ]
  },
  {
   "cell_type": "markdown",
   "metadata": {},
   "source": [
    "Define $A,B,C$ and write the eigenvalues in terms of them:  \n",
    "(this section might depend on the particular implementation of Sage, as specific terms and factors are extracted from the eigenvalue expression)"
   ]
  },
  {
   "cell_type": "code",
   "execution_count": 23,
   "metadata": {},
   "outputs": [
    {
     "data": {
      "text/html": [
       "<html><script type=\"math/tex; mode=display\">\\newcommand{\\Bold}[1]{\\mathbf{#1}}R^{3} \\alpha_{3} w_{\\mathit{EE}} + R^{2} g \\theta_{I} - R^{3} w_{\\mathit{IE}} - R^{2} \\alpha_{3} + \\alpha_{2} g \\theta_{I} + R \\alpha_{4} w_{\\mathit{EE}} - R \\alpha_{2} w_{\\mathit{IE}} - \\alpha_{4}</script></html>"
      ],
      "text/plain": [
       "R^3*alpha_3*w_EE + R^2*g*theta_I - R^3*w_IE - R^2*alpha_3 + alpha_2*g*theta_I + R*alpha_4*w_EE - R*alpha_2*w_IE - alpha_4"
      ]
     },
     "metadata": {},
     "output_type": "display_data"
    },
    {
     "data": {
      "text/html": [
       "<html><script type=\"math/tex; mode=display\">\\newcommand{\\Bold}[1]{\\mathbf{#1}}R^{6} \\alpha_{3}^{2} w_{\\mathit{EE}}^{2} - 2 \\, R^{5} \\alpha_{3} g \\theta_{I} w_{\\mathit{EE}} - 2 \\, R^{6} \\alpha_{3} w_{\\mathit{EE}} w_{\\mathit{IE}} + R^{4} g^{2} \\theta_{I}^{2} - 2 \\, R^{5} \\alpha_{3}^{2} w_{\\mathit{EE}} - 2 \\, R^{3} \\alpha_{2} \\alpha_{3} g \\theta_{I} w_{\\mathit{EE}} + 2 \\, R^{4} \\alpha_{3} \\alpha_{4} w_{\\mathit{EE}}^{2} - 4 \\, R^{5} \\alpha_{3} i_{\\mathit{ext}} w_{\\mathit{IE}} + 4 \\, R^{5} \\alpha_{3} \\theta_{E} w_{\\mathit{IE}} - 2 \\, R^{5} g \\theta_{I} w_{\\mathit{IE}} - 2 \\, R^{4} \\alpha_{2} \\alpha_{3} w_{\\mathit{EE}} w_{\\mathit{IE}} + R^{6} w_{\\mathit{IE}}^{2} + 2 \\, R^{4} \\alpha_{3} g \\theta_{I} + 2 \\, R^{2} \\alpha_{2} g^{2} \\theta_{I}^{2} - 2 \\, R^{3} \\alpha_{4} g \\theta_{I} w_{\\mathit{EE}} + 2 \\, R^{5} \\alpha_{3} w_{\\mathit{IE}} - 4 \\, R^{3} \\alpha_{2} \\alpha_{3} i_{\\mathit{ext}} w_{\\mathit{IE}} + 4 \\, R^{3} \\alpha_{2} \\alpha_{3} \\theta_{E} w_{\\mathit{IE}} - 4 \\, R^{3} \\alpha_{2} g \\theta_{I} w_{\\mathit{IE}} - 2 \\, R^{4} \\alpha_{4} w_{\\mathit{EE}} w_{\\mathit{IE}} + 2 \\, R^{4} \\alpha_{2} w_{\\mathit{IE}}^{2} + R^{4} \\alpha_{3}^{2} + 2 \\, R^{2} \\alpha_{2} \\alpha_{3} g \\theta_{I} + \\alpha_{2}^{2} g^{2} \\theta_{I}^{2} - 4 \\, R^{3} \\alpha_{3} \\alpha_{4} w_{\\mathit{EE}} - 2 \\, R \\alpha_{2} \\alpha_{4} g \\theta_{I} w_{\\mathit{EE}} + R^{2} \\alpha_{4}^{2} w_{\\mathit{EE}}^{2} + 2 \\, R^{3} \\alpha_{2} \\alpha_{3} w_{\\mathit{IE}} - 4 \\, R^{3} \\alpha_{4} i_{\\mathit{ext}} w_{\\mathit{IE}} + 4 \\, R^{3} \\alpha_{4} \\theta_{E} w_{\\mathit{IE}} - 2 \\, R \\alpha_{2}^{2} g \\theta_{I} w_{\\mathit{IE}} - 2 \\, R^{2} \\alpha_{2} \\alpha_{4} w_{\\mathit{EE}} w_{\\mathit{IE}} + R^{2} \\alpha_{2}^{2} w_{\\mathit{IE}}^{2} + 2 \\, R^{2} \\alpha_{4} g \\theta_{I} + 2 \\, R^{3} \\alpha_{4} w_{\\mathit{IE}} - 4 \\, R \\alpha_{2} \\alpha_{4} i_{\\mathit{ext}} w_{\\mathit{IE}} + 4 \\, R \\alpha_{2} \\alpha_{4} \\theta_{E} w_{\\mathit{IE}} + 2 \\, R^{2} \\alpha_{3} \\alpha_{4} + 2 \\, \\alpha_{2} \\alpha_{4} g \\theta_{I} - 2 \\, R \\alpha_{4}^{2} w_{\\mathit{EE}} + 2 \\, R \\alpha_{2} \\alpha_{4} w_{\\mathit{IE}} + \\alpha_{4}^{2}</script></html>"
      ],
      "text/plain": [
       "R^6*alpha_3^2*w_EE^2 - 2*R^5*alpha_3*g*theta_I*w_EE - 2*R^6*alpha_3*w_EE*w_IE + R^4*g^2*theta_I^2 - 2*R^5*alpha_3^2*w_EE - 2*R^3*alpha_2*alpha_3*g*theta_I*w_EE + 2*R^4*alpha_3*alpha_4*w_EE^2 - 4*R^5*alpha_3*i_ext*w_IE + 4*R^5*alpha_3*theta_E*w_IE - 2*R^5*g*theta_I*w_IE - 2*R^4*alpha_2*alpha_3*w_EE*w_IE + R^6*w_IE^2 + 2*R^4*alpha_3*g*theta_I + 2*R^2*alpha_2*g^2*theta_I^2 - 2*R^3*alpha_4*g*theta_I*w_EE + 2*R^5*alpha_3*w_IE - 4*R^3*alpha_2*alpha_3*i_ext*w_IE + 4*R^3*alpha_2*alpha_3*theta_E*w_IE - 4*R^3*alpha_2*g*theta_I*w_IE - 2*R^4*alpha_4*w_EE*w_IE + 2*R^4*alpha_2*w_IE^2 + R^4*alpha_3^2 + 2*R^2*alpha_2*alpha_3*g*theta_I + alpha_2^2*g^2*theta_I^2 - 4*R^3*alpha_3*alpha_4*w_EE - 2*R*alpha_2*alpha_4*g*theta_I*w_EE + R^2*alpha_4^2*w_EE^2 + 2*R^3*alpha_2*alpha_3*w_IE - 4*R^3*alpha_4*i_ext*w_IE + 4*R^3*alpha_4*theta_E*w_IE - 2*R*alpha_2^2*g*theta_I*w_IE - 2*R^2*alpha_2*alpha_4*w_EE*w_IE + R^2*alpha_2^2*w_IE^2 + 2*R^2*alpha_4*g*theta_I + 2*R^3*alpha_4*w_IE - 4*R*alpha_2*alpha_4*i_ext*w_IE + 4*R*alpha_2*alpha_4*theta_E*w_IE + 2*R^2*alpha_3*alpha_4 + 2*alpha_2*alpha_4*g*theta_I - 2*R*alpha_4^2*w_EE + 2*R*alpha_2*alpha_4*w_IE + alpha_4^2"
      ]
     },
     "metadata": {},
     "output_type": "display_data"
    },
    {
     "data": {
      "text/html": [
       "<html><script type=\"math/tex; mode=display\">\\newcommand{\\Bold}[1]{\\mathbf{#1}}2 \\, {\\left(R g \\theta_{I} w_{\\mathit{EE}} + R i_{\\mathit{ext}} w_{\\mathit{IE}} - R \\theta_{E} w_{\\mathit{IE}} - g \\theta_{I}\\right)} R</script></html>"
      ],
      "text/plain": [
       "2*(R*g*theta_I*w_EE + R*i_ext*w_IE - R*theta_E*w_IE - g*theta_I)*R"
      ]
     },
     "metadata": {},
     "output_type": "display_data"
    }
   ],
   "source": [
    "A = sum([J_up_eigvalues2_aux.numerator().operands()[k] for k in [0..7]]) # all terms in the numerator but the square root\n",
    "B = J_up_eigvalues2_aux.numerator().operands()[8].operands()[0] # argument of the square root\n",
    "C = J_up_eigvalues2_aux.denominator() # denominator\n",
    "show(A)\n",
    "show(B)\n",
    "show(C)"
   ]
  },
  {
   "cell_type": "code",
   "execution_count": 24,
   "metadata": {},
   "outputs": [
    {
     "data": {
      "text/html": [
       "<html><script type=\"math/tex; mode=display\">\\newcommand{\\Bold}[1]{\\mathbf{#1}}-4 \\, {\\left(R g \\theta_{I} w_{\\mathit{EE}} + R i_{\\mathit{ext}} w_{\\mathit{IE}} - R \\theta_{E} w_{\\mathit{IE}} - g \\theta_{I}\\right)} {\\left(R^{2} \\alpha_{3} + \\alpha_{4}\\right)} {\\left(R^{2} + \\alpha_{2}\\right)}</script></html>"
      ],
      "text/plain": [
       "-4*(R*g*theta_I*w_EE + R*i_ext*w_IE - R*theta_E*w_IE - g*theta_I)*(R^2*alpha_3 + alpha_4)*(R^2 + alpha_2)"
      ]
     },
     "metadata": {},
     "output_type": "display_data"
    }
   ],
   "source": [
    "BA2diff = (B - A^2).expand().factor()\n",
    "show(BA2diff)"
   ]
  },
  {
   "cell_type": "markdown",
   "metadata": {},
   "source": [
    "BA2diff is equal to C up to a negative factor. Define D as the opposite:"
   ]
  },
  {
   "cell_type": "code",
   "execution_count": 25,
   "metadata": {},
   "outputs": [
    {
     "data": {
      "text/html": [
       "<html><script type=\"math/tex; mode=display\">\\newcommand{\\Bold}[1]{\\mathbf{#1}}\\frac{2 \\, {\\left(R^{2} \\alpha_{3} + \\alpha_{4}\\right)} {\\left(R^{2} + \\alpha_{2}\\right)}}{R}</script></html>"
      ],
      "text/plain": [
       "2*(R^2*alpha_3 + alpha_4)*(R^2 + alpha_2)/R"
      ]
     },
     "metadata": {},
     "output_type": "display_data"
    }
   ],
   "source": [
    "D = -(BA2diff/C).expand().factor()\n",
    "show(D)"
   ]
  },
  {
   "cell_type": "markdown",
   "metadata": {},
   "source": [
    "Then the eigenvalues now can be expressed as:  \n",
    "$$\\lambda_{\\pm} = \\frac{\\left( A \\pm \\sqrt{A^2 - DC} \\right)}{C} \\hspace{1cm} \\mbox{(J_up_eigvalue_build)}$$  \n",
    "Confirm that the difference between J_up_eigvalue and J_up_eigvalue_build is zero:"
   ]
  },
  {
   "cell_type": "code",
   "execution_count": 26,
   "metadata": {},
   "outputs": [
    {
     "data": {
      "text/plain": [
       "0"
      ]
     },
     "execution_count": 26,
     "metadata": {},
     "output_type": "execute_result"
    }
   ],
   "source": [
    "J_up_eigvalues2_build = (A + sqrt(A^2 - D*C))/C\n",
    "(J_up_eigvalues2_build - J_up_eigvalues2_aux).expand()"
   ]
  },
  {
   "cell_type": "markdown",
   "metadata": {},
   "source": [
    "Note that $D$ is positive. Note also that $C$ must be positive because it is related to one of the stability conditions for the neural subsystem. First express $C$ in terms of the original parameters:"
   ]
  },
  {
   "cell_type": "code",
   "execution_count": 27,
   "metadata": {},
   "outputs": [
    {
     "data": {
      "text/html": [
       "<html><script type=\"math/tex; mode=display\">\\newcommand{\\Bold}[1]{\\mathbf{#1}}\\frac{2 \\, E_{\\mathit{set}} \\Theta_{I} W_{\\mathit{EE}} g_{E}^{2}}{I_{\\mathit{set}}^{2}} + \\frac{2 \\, E_{\\mathit{set}} I_{\\mathit{ext}} W_{\\mathit{IE}} g_{E}^{2}}{I_{\\mathit{set}}^{2}} - \\frac{2 \\, E_{\\mathit{set}} \\Theta_{E} W_{\\mathit{IE}} g_{E}^{2}}{I_{\\mathit{set}}^{2}} - \\frac{2 \\, E_{\\mathit{set}} \\Theta_{I} g_{E}}{I_{\\mathit{set}}^{2}}</script></html>"
      ],
      "text/plain": [
       "2*E_set*Theta_I*W_EE*g_E^2/I_set^2 + 2*E_set*I_ext*W_IE*g_E^2/I_set^2 - 2*E_set*Theta_E*W_IE*g_E^2/I_set^2 - 2*E_set*Theta_I*g_E/I_set^2"
      ]
     },
     "metadata": {},
     "output_type": "display_data"
    }
   ],
   "source": [
    "C_orig = (C.subs(weights).subs(parameters).subs(parameters)).expand()\n",
    "show(C_orig)"
   ]
  },
  {
   "cell_type": "markdown",
   "metadata": {},
   "source": [
    "Now evaluate the first stability condition for the neural subsystem at the Up state:"
   ]
  },
  {
   "cell_type": "code",
   "execution_count": 28,
   "metadata": {},
   "outputs": [
    {
     "data": {
      "text/html": [
       "<html><script type=\"math/tex; mode=display\">\\newcommand{\\Bold}[1]{\\mathbf{#1}}\\Theta_{I} W_{\\mathit{EE}} g_{E} + I_{\\mathit{ext}} W_{\\mathit{IE}} g_{E} - \\Theta_{E} W_{\\mathit{IE}} g_{E} - \\Theta_{I} > 0</script></html>"
      ],
      "text/plain": [
       "Theta_I*W_EE*g_E + I_ext*W_IE*g_E - Theta_E*W_IE*g_E - Theta_I > 0"
      ]
     },
     "metadata": {},
     "output_type": "display_data"
    },
    {
     "data": {
      "text/html": [
       "<html><script type=\"math/tex; mode=display\">\\newcommand{\\Bold}[1]{\\mathbf{#1}}\\frac{2 \\, E_{\\mathit{set}} \\Theta_{I} W_{\\mathit{EE}} g_{E}^{2}}{I_{\\mathit{set}}^{2}} + \\frac{2 \\, E_{\\mathit{set}} I_{\\mathit{ext}} W_{\\mathit{IE}} g_{E}^{2}}{I_{\\mathit{set}}^{2}} - \\frac{2 \\, E_{\\mathit{set}} \\Theta_{E} W_{\\mathit{IE}} g_{E}^{2}}{I_{\\mathit{set}}^{2}} - \\frac{2 \\, E_{\\mathit{set}} \\Theta_{I} g_{E}}{I_{\\mathit{set}}^{2}} > 0</script></html>"
      ],
      "text/plain": [
       "2*E_set*Theta_I*W_EE*g_E^2/I_set^2 + 2*E_set*I_ext*W_IE*g_E^2/I_set^2 - 2*E_set*Theta_E*W_IE*g_E^2/I_set^2 - 2*E_set*Theta_I*g_E/I_set^2 > 0"
      ]
     },
     "metadata": {},
     "output_type": "display_data"
    }
   ],
   "source": [
    "show(neural_stable_detcond_v2)\n",
    "neural_stable_detcond_aux = (neural_stable_detcond_v2*(2*E_set*g_E)/I_set^2).expand() # multiply by positive factors only to preserve the inequality\n",
    "show(neural_stable_detcond_aux)"
   ]
  },
  {
   "cell_type": "markdown",
   "metadata": {},
   "source": [
    "Note that the left-hand side of the last expression is equal to $C$:"
   ]
  },
  {
   "cell_type": "code",
   "execution_count": 29,
   "metadata": {},
   "outputs": [
    {
     "data": {
      "text/html": [
       "<html><script type=\"math/tex; mode=display\">\\newcommand{\\Bold}[1]{\\mathbf{#1}}0</script></html>"
      ],
      "text/plain": [
       "0"
      ]
     },
     "metadata": {},
     "output_type": "display_data"
    }
   ],
   "source": [
    "show(neural_stable_detcond_aux.lhs() - C_orig)"
   ]
  },
  {
   "cell_type": "markdown",
   "metadata": {},
   "source": [
    "#### Analytic expression for the stability condition of the rule"
   ]
  },
  {
   "cell_type": "markdown",
   "metadata": {},
   "source": [
    "We need $C>0$ because it is equivalent to the stability condition for the neural subsystem (and we need it to be stable)."
   ]
  },
  {
   "cell_type": "markdown",
   "metadata": {},
   "source": [
    "Given that $C$ must be positive and $D$ is positive, the stability of the learning rule now depends on the sign of $A$: if $A<0$ then the rule is stable because $\\sqrt{A^2 - DC} < |A|$ and then both eigenvalues are negative: $A - \\sqrt{A^2 - DC} < A + \\sqrt{A^2 - DC} < 0$.\n",
    "\n",
    "Express $A$ in terms of $W_{EE}$ and $W_{IE}$ in order to compare it with the neural subsystem conditions:"
   ]
  },
  {
   "cell_type": "code",
   "execution_count": 30,
   "metadata": {},
   "outputs": [
    {
     "data": {
      "text/html": [
       "<html><script type=\"math/tex; mode=display\">\\newcommand{\\Bold}[1]{\\mathbf{#1}}-\\frac{E_{\\mathit{set}}^{3} W_{\\mathit{IE}} g_{E}}{I_{\\mathit{set}}^{3}} - \\frac{E_{\\mathit{set}} W_{\\mathit{IE}} \\alpha_{\\mathit{EI}} g_{E}}{I_{\\mathit{set}} \\alpha_{\\mathit{EE}}} + \\frac{E_{\\mathit{set}}^{2} W_{\\mathit{EE}} \\alpha_{\\mathit{IE}} g_{E}}{I_{\\mathit{set}}^{2} \\alpha_{\\mathit{EE}}} + \\frac{W_{\\mathit{EE}} \\alpha_{\\mathit{II}} g_{E}}{\\alpha_{\\mathit{EE}}} + \\frac{E_{\\mathit{set}}^{2} \\Theta_{I} g_{E}}{I_{\\mathit{set}}^{3}} + \\frac{\\Theta_{I} \\alpha_{\\mathit{EI}} g_{E}}{I_{\\mathit{set}} \\alpha_{\\mathit{EE}}} - \\frac{E_{\\mathit{set}}^{2} \\alpha_{\\mathit{IE}}}{I_{\\mathit{set}}^{2} \\alpha_{\\mathit{EE}}} - \\frac{\\alpha_{\\mathit{II}}}{\\alpha_{\\mathit{EE}}}</script></html>"
      ],
      "text/plain": [
       "-E_set^3*W_IE*g_E/I_set^3 - E_set*W_IE*alpha_EI*g_E/(I_set*alpha_EE) + E_set^2*W_EE*alpha_IE*g_E/(I_set^2*alpha_EE) + W_EE*alpha_II*g_E/alpha_EE + E_set^2*Theta_I*g_E/I_set^3 + Theta_I*alpha_EI*g_E/(I_set*alpha_EE) - E_set^2*alpha_IE/(I_set^2*alpha_EE) - alpha_II/alpha_EE"
      ]
     },
     "metadata": {},
     "output_type": "display_data"
    }
   ],
   "source": [
    "A_orig = (A.subs(weights).subs(parameters).subs(parameters)).expand()\n",
    "show(A_orig)"
   ]
  },
  {
   "cell_type": "markdown",
   "metadata": {},
   "source": [
    "Stability condition: the two nonzero eigenvalues have negative real parts if $A<0$ (learning rule stable)."
   ]
  },
  {
   "cell_type": "code",
   "execution_count": 31,
   "metadata": {},
   "outputs": [
    {
     "data": {
      "text/html": [
       "<html><script type=\"math/tex; mode=display\">\\newcommand{\\Bold}[1]{\\mathbf{#1}}-E_{\\mathit{set}}^{3} W_{\\mathit{IE}} \\alpha_{\\mathit{EE}} g_{E} - E_{\\mathit{set}} I_{\\mathit{set}}^{2} W_{\\mathit{IE}} \\alpha_{\\mathit{EI}} g_{E} + E_{\\mathit{set}}^{2} I_{\\mathit{set}} W_{\\mathit{EE}} \\alpha_{\\mathit{IE}} g_{E} + I_{\\mathit{set}}^{3} W_{\\mathit{EE}} \\alpha_{\\mathit{II}} g_{E} + E_{\\mathit{set}}^{2} \\Theta_{I} \\alpha_{\\mathit{EE}} g_{E} + I_{\\mathit{set}}^{2} \\Theta_{I} \\alpha_{\\mathit{EI}} g_{E} - E_{\\mathit{set}}^{2} I_{\\mathit{set}} \\alpha_{\\mathit{IE}} - I_{\\mathit{set}}^{3} \\alpha_{\\mathit{II}} < 0</script></html>"
      ],
      "text/plain": [
       "-E_set^3*W_IE*alpha_EE*g_E - E_set*I_set^2*W_IE*alpha_EI*g_E + E_set^2*I_set*W_EE*alpha_IE*g_E + I_set^3*W_EE*alpha_II*g_E + E_set^2*Theta_I*alpha_EE*g_E + I_set^2*Theta_I*alpha_EI*g_E - E_set^2*I_set*alpha_IE - I_set^3*alpha_II < 0"
      ]
     },
     "metadata": {},
     "output_type": "display_data"
    }
   ],
   "source": [
    "synaptic_stable_cond = ((A_orig < 0)*I_set^3*alpha_EE).expand() # multiply by positive factors only\n",
    "show(synaptic_stable_cond)"
   ]
  },
  {
   "cell_type": "code",
   "execution_count": 32,
   "metadata": {},
   "outputs": [
    {
     "data": {
      "text/html": [
       "<html><script type=\"math/tex; mode=display\">\\newcommand{\\Bold}[1]{\\mathbf{#1}}-E_{\\mathit{set}}^{3} W_{\\mathit{IE}} \\alpha_{\\mathit{EE}} g_{E} - E_{\\mathit{set}} I_{\\mathit{set}}^{2} W_{\\mathit{IE}} \\alpha_{\\mathit{EI}} g_{E} + E_{\\mathit{set}}^{2} I_{\\mathit{set}} W_{\\mathit{EE}} \\alpha_{\\mathit{IE}} g_{E} + I_{\\mathit{set}}^{3} W_{\\mathit{EE}} \\alpha_{\\mathit{II}} g_{E} + E_{\\mathit{set}}^{2} \\Theta_{I} \\alpha_{\\mathit{EE}} g_{E} + I_{\\mathit{set}}^{2} \\Theta_{I} \\alpha_{\\mathit{EI}} g_{E} - E_{\\mathit{set}}^{2} I_{\\mathit{set}} \\alpha_{\\mathit{IE}} - I_{\\mathit{set}}^{3} \\alpha_{\\mathit{II}} < 0</script></html>"
      ],
      "text/plain": [
       "-E_set^3*W_IE*alpha_EE*g_E - E_set*I_set^2*W_IE*alpha_EI*g_E + E_set^2*I_set*W_EE*alpha_IE*g_E + I_set^3*W_EE*alpha_II*g_E + E_set^2*Theta_I*alpha_EE*g_E + I_set^2*Theta_I*alpha_EI*g_E - E_set^2*I_set*alpha_IE - I_set^3*alpha_II < 0"
      ]
     },
     "metadata": {},
     "output_type": "display_data"
    },
    {
     "data": {
      "text/html": [
       "<html><script type=\"math/tex; mode=display\">\\newcommand{\\Bold}[1]{\\mathbf{#1}}{\\left(E_{\\mathit{set}}^{2} \\alpha_{\\mathit{IE}} + I_{\\mathit{set}}^{2} \\alpha_{\\mathit{II}}\\right)} {\\left(W_{\\mathit{EE}} g_{E} - 1\\right)} I_{\\mathit{set}} < {\\left(E_{\\mathit{set}}^{2} \\alpha_{\\mathit{EE}} + I_{\\mathit{set}}^{2} \\alpha_{\\mathit{EI}}\\right)} {\\left(E_{\\mathit{set}} W_{\\mathit{IE}} g_{E} - \\Theta_{I} g_{E}\\right)}</script></html>"
      ],
      "text/plain": [
       "(E_set^2*alpha_IE + I_set^2*alpha_II)*(W_EE*g_E - 1)*I_set < (E_set^2*alpha_EE + I_set^2*alpha_EI)*(E_set*W_IE*g_E - Theta_I*g_E)"
      ]
     },
     "metadata": {},
     "output_type": "display_data"
    },
    {
     "data": {
      "text/html": [
       "<html><script type=\"math/tex; mode=display\">\\newcommand{\\Bold}[1]{\\mathbf{#1}}0</script></html>"
      ],
      "text/plain": [
       "0"
      ]
     },
     "metadata": {},
     "output_type": "display_data"
    }
   ],
   "source": [
    "synaptic_stable_cond = ((A_orig < 0)*I_set^3*alpha_EE).expand() # multiply by positive factors only\n",
    "#synaptic_stable_cond_aux = (E_set^2*alpha_IE + I_set^2*alpha_II)*I_set*(W_EE*g_E - 1) + (E_set^2*alpha_EE + I_set^2*alpha_EI)*Theta_I*g_E < (E_set^2*alpha_EE + I_set^2*alpha_EI)*E_set*g_E*W_IE\n",
    "synaptic_stable_cond_aux = (E_set^2*alpha_IE + I_set^2*alpha_II)*I_set*(W_EE*g_E - 1) < (E_set^2*alpha_EE + I_set^2*alpha_EI)*(E_set*g_E*W_IE - Theta_I*g_E)\n",
    "show(synaptic_stable_cond)\n",
    "show(synaptic_stable_cond_aux) # expression in SuppMat\n",
    "# confirm\n",
    "show((synaptic_stable_cond.lhs() - (synaptic_stable_cond_aux.lhs()-synaptic_stable_cond_aux.rhs())).expand())"
   ]
  },
  {
   "cell_type": "code",
   "execution_count": 33,
   "metadata": {},
   "outputs": [
    {
     "data": {
      "text/html": [
       "<html><script type=\"math/tex; mode=display\">\\newcommand{\\Bold}[1]{\\mathbf{#1}}W_{\\mathit{EE}} = \\frac{{\\left(I_{\\mathit{set}} W_{\\mathit{EI}} - I_{\\mathit{ext}} + \\Theta_{E}\\right)} g_{E} + E_{\\mathit{set}}}{E_{\\mathit{set}} g_{E}}</script></html>"
      ],
      "text/plain": [
       "W_EE == ((I_set*W_EI - I_ext + Theta_E)*g_E + E_set)/(E_set*g_E)"
      ]
     },
     "metadata": {},
     "output_type": "display_data"
    },
    {
     "data": {
      "text/html": [
       "<html><script type=\"math/tex; mode=display\">\\newcommand{\\Bold}[1]{\\mathbf{#1}}-E_{\\mathit{set}}^{4} W_{\\mathit{IE}} \\alpha_{\\mathit{EE}} g_{E} g_{I} - E_{\\mathit{set}}^{2} I_{\\mathit{set}}^{2} W_{\\mathit{IE}} \\alpha_{\\mathit{EI}} g_{E} g_{I} + E_{\\mathit{set}}^{2} I_{\\mathit{set}}^{2} W_{\\mathit{EI}} \\alpha_{\\mathit{IE}} g_{E} g_{I} + I_{\\mathit{set}}^{4} W_{\\mathit{EI}} \\alpha_{\\mathit{II}} g_{E} g_{I} + E_{\\mathit{set}}^{3} \\Theta_{I} \\alpha_{\\mathit{EE}} g_{E} g_{I} + E_{\\mathit{set}} I_{\\mathit{set}}^{2} \\Theta_{I} \\alpha_{\\mathit{EI}} g_{E} g_{I} - E_{\\mathit{set}}^{2} I_{\\mathit{ext}} I_{\\mathit{set}} \\alpha_{\\mathit{IE}} g_{E} g_{I} + E_{\\mathit{set}}^{2} I_{\\mathit{set}} \\Theta_{E} \\alpha_{\\mathit{IE}} g_{E} g_{I} - I_{\\mathit{ext}} I_{\\mathit{set}}^{3} \\alpha_{\\mathit{II}} g_{E} g_{I} + I_{\\mathit{set}}^{3} \\Theta_{E} \\alpha_{\\mathit{II}} g_{E} g_{I} < 0</script></html>"
      ],
      "text/plain": [
       "-E_set^4*W_IE*alpha_EE*g_E*g_I - E_set^2*I_set^2*W_IE*alpha_EI*g_E*g_I + E_set^2*I_set^2*W_EI*alpha_IE*g_E*g_I + I_set^4*W_EI*alpha_II*g_E*g_I + E_set^3*Theta_I*alpha_EE*g_E*g_I + E_set*I_set^2*Theta_I*alpha_EI*g_E*g_I - E_set^2*I_ext*I_set*alpha_IE*g_E*g_I + E_set^2*I_set*Theta_E*alpha_IE*g_E*g_I - I_ext*I_set^3*alpha_II*g_E*g_I + I_set^3*Theta_E*alpha_II*g_E*g_I < 0"
      ]
     },
     "metadata": {},
     "output_type": "display_data"
    }
   ],
   "source": [
    "aux = solve(W_EIup,W_EE)[0]\n",
    "synaptic_stable_cond_v4 = (synaptic_stable_cond.subs(aux)*g_I*E_set).expand() # multiply by positive numbers only\n",
    "show(aux)\n",
    "show(synaptic_stable_cond_v4)"
   ]
  },
  {
   "cell_type": "markdown",
   "metadata": {},
   "source": [
    "### Analysis of the stability condition"
   ]
  },
  {
   "cell_type": "markdown",
   "metadata": {},
   "source": [
    "Express the synaptic stability condition in terms of $W_{EE}$ and $W_{II}$:"
   ]
  },
  {
   "cell_type": "code",
   "execution_count": 34,
   "metadata": {},
   "outputs": [
    {
     "data": {
      "text/html": [
       "<html><script type=\"math/tex; mode=display\">\\newcommand{\\Bold}[1]{\\mathbf{#1}}-E_{\\mathit{set}}^{2} W_{\\mathit{II}} \\alpha_{\\mathit{EE}} g_{E} g_{I} - I_{\\mathit{set}}^{2} W_{\\mathit{II}} \\alpha_{\\mathit{EI}} g_{E} g_{I} + E_{\\mathit{set}}^{2} W_{\\mathit{EE}} \\alpha_{\\mathit{IE}} g_{E} g_{I} + I_{\\mathit{set}}^{2} W_{\\mathit{EE}} \\alpha_{\\mathit{II}} g_{E} g_{I} - E_{\\mathit{set}}^{2} \\alpha_{\\mathit{EE}} g_{E} - I_{\\mathit{set}}^{2} \\alpha_{\\mathit{EI}} g_{E} - E_{\\mathit{set}}^{2} \\alpha_{\\mathit{IE}} g_{I} - I_{\\mathit{set}}^{2} \\alpha_{\\mathit{II}} g_{I} < 0</script></html>"
      ],
      "text/plain": [
       "-E_set^2*W_II*alpha_EE*g_E*g_I - I_set^2*W_II*alpha_EI*g_E*g_I + E_set^2*W_EE*alpha_IE*g_E*g_I + I_set^2*W_EE*alpha_II*g_E*g_I - E_set^2*alpha_EE*g_E - I_set^2*alpha_EI*g_E - E_set^2*alpha_IE*g_I - I_set^2*alpha_II*g_I < 0"
      ]
     },
     "metadata": {},
     "output_type": "display_data"
    },
    {
     "data": {
      "text/html": [
       "<html><script type=\"math/tex; mode=display\">\\newcommand{\\Bold}[1]{\\mathbf{#1}}{\\left(E_{\\mathit{set}}^{2} \\alpha_{\\mathit{IE}} + I_{\\mathit{set}}^{2} \\alpha_{\\mathit{II}}\\right)} {\\left(W_{\\mathit{EE}} g_{E} - 1\\right)} g_{I} < {\\left(E_{\\mathit{set}}^{2} \\alpha_{\\mathit{EE}} + I_{\\mathit{set}}^{2} \\alpha_{\\mathit{EI}}\\right)} {\\left(W_{\\mathit{II}} g_{I} + 1\\right)} g_{E}</script></html>"
      ],
      "text/plain": [
       "(E_set^2*alpha_IE + I_set^2*alpha_II)*(W_EE*g_E - 1)*g_I < (E_set^2*alpha_EE + I_set^2*alpha_EI)*(W_II*g_I + 1)*g_E"
      ]
     },
     "metadata": {},
     "output_type": "display_data"
    },
    {
     "data": {
      "text/html": [
       "<html><script type=\"math/tex; mode=display\">\\newcommand{\\Bold}[1]{\\mathbf{#1}}0</script></html>"
      ],
      "text/plain": [
       "0"
      ]
     },
     "metadata": {},
     "output_type": "display_data"
    }
   ],
   "source": [
    "aux = solve(W_IIup,W_IE)[0]\n",
    "synaptic_stable_cond_v2 = (synaptic_stable_cond.subs(aux)*g_I/I_set).expand() # multiply by positive numbers only\n",
    "synaptic_stable_cond_v3 = (E_set^2*alpha_IE + I_set^2*alpha_II)*g_I*(W_EE*g_E - 1) < (E_set^2*alpha_EE + I_set^2*alpha_EI)*g_E*(W_II*g_I + 1)\n",
    "show(synaptic_stable_cond_v2)\n",
    "show(synaptic_stable_cond_v3)\n",
    "show(((synaptic_stable_cond_v3.lhs()-synaptic_stable_cond_v3.rhs())-synaptic_stable_cond_v2.lhs()).expand())"
   ]
  },
  {
   "cell_type": "code",
   "execution_count": 35,
   "metadata": {},
   "outputs": [
    {
     "data": {
      "text/html": [
       "<html><script type=\"math/tex; mode=display\">\\newcommand{\\Bold}[1]{\\mathbf{#1}}-E_{\\mathit{set}}^{4} W_{\\mathit{IE}} \\alpha_{\\mathit{EE}} g_{E} - E_{\\mathit{set}}^{2} I_{\\mathit{set}}^{2} W_{\\mathit{IE}} \\alpha_{\\mathit{EI}} g_{E} + E_{\\mathit{set}}^{2} I_{\\mathit{set}}^{2} W_{\\mathit{EI}} \\alpha_{\\mathit{IE}} g_{E} + I_{\\mathit{set}}^{4} W_{\\mathit{EI}} \\alpha_{\\mathit{II}} g_{E} + E_{\\mathit{set}}^{3} \\Theta_{I} \\alpha_{\\mathit{EE}} g_{E} + E_{\\mathit{set}} I_{\\mathit{set}}^{2} \\Theta_{I} \\alpha_{\\mathit{EI}} g_{E} - E_{\\mathit{set}}^{2} I_{\\mathit{ext}} I_{\\mathit{set}} \\alpha_{\\mathit{IE}} g_{E} + E_{\\mathit{set}}^{2} I_{\\mathit{set}} \\Theta_{E} \\alpha_{\\mathit{IE}} g_{E} - I_{\\mathit{ext}} I_{\\mathit{set}}^{3} \\alpha_{\\mathit{II}} g_{E} + I_{\\mathit{set}}^{3} \\Theta_{E} \\alpha_{\\mathit{II}} g_{E} < 0</script></html>"
      ],
      "text/plain": [
       "-E_set^4*W_IE*alpha_EE*g_E - E_set^2*I_set^2*W_IE*alpha_EI*g_E + E_set^2*I_set^2*W_EI*alpha_IE*g_E + I_set^4*W_EI*alpha_II*g_E + E_set^3*Theta_I*alpha_EE*g_E + E_set*I_set^2*Theta_I*alpha_EI*g_E - E_set^2*I_ext*I_set*alpha_IE*g_E + E_set^2*I_set*Theta_E*alpha_IE*g_E - I_ext*I_set^3*alpha_II*g_E + I_set^3*Theta_E*alpha_II*g_E < 0"
      ]
     },
     "metadata": {},
     "output_type": "display_data"
    },
    {
     "data": {
      "text/html": [
       "<html><script type=\"math/tex; mode=display\">\\newcommand{\\Bold}[1]{\\mathbf{#1}}{\\left(E_{\\mathit{set}}^{2} \\alpha_{\\mathit{IE}} + I_{\\mathit{set}}^{2} \\alpha_{\\mathit{II}}\\right)} {\\left(W_{\\mathit{EE}} g_{E} - 1\\right)} g_{I} < {\\left(E_{\\mathit{set}}^{2} \\alpha_{\\mathit{EE}} + I_{\\mathit{set}}^{2} \\alpha_{\\mathit{EI}}\\right)} {\\left(W_{\\mathit{II}} g_{I} + 1\\right)} g_{E}</script></html>"
      ],
      "text/plain": [
       "(E_set^2*alpha_IE + I_set^2*alpha_II)*(W_EE*g_E - 1)*g_I < (E_set^2*alpha_EE + I_set^2*alpha_EI)*(W_II*g_I + 1)*g_E"
      ]
     },
     "metadata": {},
     "output_type": "display_data"
    },
    {
     "data": {
      "text/html": [
       "<html><script type=\"math/tex; mode=display\">\\newcommand{\\Bold}[1]{\\mathbf{#1}}E_{\\mathit{set}}^{4} W_{\\mathit{IE}} \\alpha_{\\mathit{EE}} g_{E} + E_{\\mathit{set}}^{2} I_{\\mathit{set}}^{2} W_{\\mathit{IE}} \\alpha_{\\mathit{EI}} g_{E} - E_{\\mathit{set}}^{2} I_{\\mathit{set}}^{2} W_{\\mathit{EI}} \\alpha_{\\mathit{IE}} g_{E} - I_{\\mathit{set}}^{4} W_{\\mathit{EI}} \\alpha_{\\mathit{II}} g_{E} - E_{\\mathit{set}}^{3} \\Theta_{I} \\alpha_{\\mathit{EE}} g_{E} - E_{\\mathit{set}} I_{\\mathit{set}}^{2} \\Theta_{I} \\alpha_{\\mathit{EI}} g_{E} + E_{\\mathit{set}}^{2} I_{\\mathit{ext}} I_{\\mathit{set}} \\alpha_{\\mathit{IE}} g_{E} - E_{\\mathit{set}}^{2} I_{\\mathit{set}} \\Theta_{E} \\alpha_{\\mathit{IE}} g_{E} + I_{\\mathit{ext}} I_{\\mathit{set}}^{3} \\alpha_{\\mathit{II}} g_{E} - I_{\\mathit{set}}^{3} \\Theta_{E} \\alpha_{\\mathit{II}} g_{E} - E_{\\mathit{set}}^{2} W_{\\mathit{II}} \\alpha_{\\mathit{EE}} g_{E} g_{I} - I_{\\mathit{set}}^{2} W_{\\mathit{II}} \\alpha_{\\mathit{EI}} g_{E} g_{I} + E_{\\mathit{set}}^{2} W_{\\mathit{EE}} \\alpha_{\\mathit{IE}} g_{E} g_{I} + I_{\\mathit{set}}^{2} W_{\\mathit{EE}} \\alpha_{\\mathit{II}} g_{E} g_{I} - E_{\\mathit{set}}^{2} \\alpha_{\\mathit{EE}} g_{E} - I_{\\mathit{set}}^{2} \\alpha_{\\mathit{EI}} g_{E} - E_{\\mathit{set}}^{2} \\alpha_{\\mathit{IE}} g_{I} - I_{\\mathit{set}}^{2} \\alpha_{\\mathit{II}} g_{I}</script></html>"
      ],
      "text/plain": [
       "E_set^4*W_IE*alpha_EE*g_E + E_set^2*I_set^2*W_IE*alpha_EI*g_E - E_set^2*I_set^2*W_EI*alpha_IE*g_E - I_set^4*W_EI*alpha_II*g_E - E_set^3*Theta_I*alpha_EE*g_E - E_set*I_set^2*Theta_I*alpha_EI*g_E + E_set^2*I_ext*I_set*alpha_IE*g_E - E_set^2*I_set*Theta_E*alpha_IE*g_E + I_ext*I_set^3*alpha_II*g_E - I_set^3*Theta_E*alpha_II*g_E - E_set^2*W_II*alpha_EE*g_E*g_I - I_set^2*W_II*alpha_EI*g_E*g_I + E_set^2*W_EE*alpha_IE*g_E*g_I + I_set^2*W_EE*alpha_II*g_E*g_I - E_set^2*alpha_EE*g_E - I_set^2*alpha_EI*g_E - E_set^2*alpha_IE*g_I - I_set^2*alpha_II*g_I"
      ]
     },
     "metadata": {},
     "output_type": "display_data"
    }
   ],
   "source": [
    "aux = solve(W_EIup,W_EE)[0]\n",
    "synaptic_stable_cond_v4 = (synaptic_stable_cond.subs(aux)*E_set).expand() # multiply by positive numbers only\n",
    "synaptic_stable_cond_v5 = (E_set^2*alpha_IE + I_set^2*alpha_II)*g_I*(W_EE*g_E - 1) < (E_set^2*alpha_EE + I_set^2*alpha_EI)*g_E*(W_II*g_I + 1)\n",
    "show(synaptic_stable_cond_v4)\n",
    "show(synaptic_stable_cond_v5)\n",
    "show(((synaptic_stable_cond_v5.lhs()-synaptic_stable_cond_v5.rhs())-synaptic_stable_cond_v4.lhs()).expand())"
   ]
  },
  {
   "cell_type": "markdown",
   "metadata": {},
   "source": [
    "The stability condition doesn't depend on $I_{ext}$."
   ]
  },
  {
   "cell_type": "code",
   "execution_count": 36,
   "metadata": {},
   "outputs": [
    {
     "data": {
      "text/html": [
       "<html><script type=\"math/tex; mode=display\">\\newcommand{\\Bold}[1]{\\mathbf{#1}}{\\left(E_{\\mathit{set}}^{2} \\alpha_{\\mathit{IE}} + I_{\\mathit{set}}^{2} \\alpha_{\\mathit{II}}\\right)} {\\left(W_{\\mathit{EE}} g_{E} - 1\\right)} g_{I} < {\\left(E_{\\mathit{set}}^{2} \\alpha_{\\mathit{EE}} + I_{\\mathit{set}}^{2} \\alpha_{\\mathit{EI}}\\right)} {\\left(W_{\\mathit{II}} g_{I} + 1\\right)} g_{E}</script></html>"
      ],
      "text/plain": [
       "(E_set^2*alpha_IE + I_set^2*alpha_II)*(W_EE*g_E - 1)*g_I < (E_set^2*alpha_EE + I_set^2*alpha_EI)*(W_II*g_I + 1)*g_E"
      ]
     },
     "metadata": {},
     "output_type": "display_data"
    }
   ],
   "source": [
    "show(synaptic_stable_cond_v3)"
   ]
  },
  {
   "cell_type": "markdown",
   "metadata": {},
   "source": [
    "This relationship can be written as  \n",
    "$a(W_{EE}g_E-1) < a^\\prime(W_{II}g_I+1)$  \n",
    "\n",
    "where  \n",
    "$a = (E_{set}^2 \\alpha_{IE} + I_{set}^2 \\alpha_{II})g_I$  \n",
    "$a^\\prime = (E_{set}^2 \\alpha_{EE} + I_{set}^2 \\alpha_{EI})g_E$  \n",
    "\n",
    "Note that for a regular set of parameter values the following relation holds:  \n",
    "$g_I > g_E$  \n",
    "\n",
    "Thus if the $\\alpha$s are the same order, then it is likely that  \n",
    "$a > a^\\prime$  \n",
    "preventing the condition to hold.\n",
    "But on the other hand the trace condition for the stability the neural subsystem states that  \n",
    "$(W_{II} g_I + 1)\\tau_E > (W_{EE}g_E - 1)\\tau_I$  \n",
    "which would help satisfying the condition.\n",
    "Thus it is hard to say whether the condition is satisfied or not."
   ]
  },
  {
   "cell_type": "markdown",
   "metadata": {},
   "source": [
    "Semi-nondimensional version:"
   ]
  },
  {
   "cell_type": "code",
   "execution_count": 37,
   "metadata": {},
   "outputs": [
    {
     "data": {
      "text/html": [
       "<html><script type=\"math/tex; mode=display\">\\newcommand{\\Bold}[1]{\\mathbf{#1}}R^{2} \\alpha_{3} + \\alpha_{4}</script></html>"
      ],
      "text/plain": [
       "R^2*alpha_3 + alpha_4"
      ]
     },
     "metadata": {},
     "output_type": "display_data"
    },
    {
     "data": {
      "text/html": [
       "<html><script type=\"math/tex; mode=display\">\\newcommand{\\Bold}[1]{\\mathbf{#1}}R^{2} + \\alpha_{2}</script></html>"
      ],
      "text/plain": [
       "R^2 + alpha_2"
      ]
     },
     "metadata": {},
     "output_type": "display_data"
    },
    {
     "data": {
      "text/html": [
       "<html><script type=\"math/tex; mode=display\">\\newcommand{\\Bold}[1]{\\mathbf{#1}}{\\left(R^{2} \\alpha_{3} + \\alpha_{4}\\right)} {\\left(W_{\\mathit{EE}} g_{E} - 1\\right)} < {\\left(R^{2} + \\alpha_{2}\\right)} {\\left(W_{\\mathit{II}} g_{I} + 1\\right)} g</script></html>"
      ],
      "text/plain": [
       "(R^2*alpha_3 + alpha_4)*(W_EE*g_E - 1) < (R^2 + alpha_2)*(W_II*g_I + 1)*g"
      ]
     },
     "metadata": {},
     "output_type": "display_data"
    }
   ],
   "source": [
    "aux_lhs = (synaptic_stable_cond_v3.lhs().operands()[0]/(I_set^2*alpha_EE)).subs(normaliz).expand()\n",
    "aux_rhs = (synaptic_stable_cond_v3.rhs().operands()[0]/(I_set^2*alpha_EE)).subs(normaliz).expand()\n",
    "synaptic_stable_cond_v4 = aux_lhs*(W_EE*g_E - 1) < (aux_rhs*(g_E/g_I)*(W_II*g_I + 1)).subs(normaliz)\n",
    "show(aux_lhs)\n",
    "show(aux_rhs)\n",
    "show(synaptic_stable_cond_v4)"
   ]
  },
  {
   "cell_type": "code",
   "execution_count": 38,
   "metadata": {},
   "outputs": [
    {
     "data": {
      "text/html": [
       "<html><script type=\"math/tex; mode=display\">\\newcommand{\\Bold}[1]{\\mathbf{#1}}0 < 0</script></html>"
      ],
      "text/plain": [
       "0 < 0"
      ]
     },
     "metadata": {},
     "output_type": "display_data"
    }
   ],
   "source": [
    "# confirm\n",
    "show((synaptic_stable_cond_v4.subs(parameters)*I_set^2*alpha_EE*g_I).expand() - synaptic_stable_cond_v3.expand())"
   ]
  },
  {
   "cell_type": "markdown",
   "metadata": {},
   "source": [
    "### Relationship between the stability condition and the paradoxical condition"
   ]
  },
  {
   "cell_type": "markdown",
   "metadata": {},
   "source": [
    "The stability condition for this learning rule is a linear function in the $(W_{EE},W_{IE})$ space with a slope that gets steeper as the excitatory learning rates ($\\alpha_{EE,EI} \\equiv \\alpha_E$) get smaller. The region of stability is to the left of the line. Here we show that, when the excitatory learning rates $\\alpha_{EE}$ and $\\alpha_{EI}$ are zero, the slope is infinite and the border of the stability region coincides exactly with the border of the paradoxical condition ($W_{EE}>1/g_E$), which can be construed as an inconsistency/contradiction between the stability of the rule and the existence of the paradoxical effect."
   ]
  },
  {
   "cell_type": "code",
   "execution_count": 39,
   "metadata": {},
   "outputs": [
    {
     "data": {
      "text/html": [
       "<html><script type=\"math/tex; mode=display\">\\newcommand{\\Bold}[1]{\\mathbf{#1}}\\frac{E_{\\mathit{set}}^{2} I_{\\mathit{set}} \\alpha_{\\mathit{IE}} + I_{\\mathit{set}}^{3} \\alpha_{\\mathit{II}}}{E_{\\mathit{set}}^{3} \\alpha_{\\mathit{EE}} + E_{\\mathit{set}} I_{\\mathit{set}}^{2} \\alpha_{\\mathit{EI}}}</script></html>"
      ],
      "text/plain": [
       "(E_set^2*I_set*alpha_IE + I_set^3*alpha_II)/(E_set^3*alpha_EE + E_set*I_set^2*alpha_EI)"
      ]
     },
     "metadata": {},
     "output_type": "display_data"
    },
    {
     "data": {
      "text/html": [
       "<html><script type=\"math/tex; mode=display\">\\newcommand{\\Bold}[1]{\\mathbf{#1}}W_{\\mathit{EE}} = \\frac{E_{\\mathit{set}}^{2} I_{\\mathit{set}} \\alpha_{\\mathit{IE}} + I_{\\mathit{set}}^{3} \\alpha_{\\mathit{II}} + {\\left({\\left(E_{\\mathit{set}}^{3} W_{\\mathit{IE}} - E_{\\mathit{set}}^{2} \\Theta_{I}\\right)} \\alpha_{\\mathit{EE}} + {\\left(E_{\\mathit{set}} I_{\\mathit{set}}^{2} W_{\\mathit{IE}} - I_{\\mathit{set}}^{2} \\Theta_{I}\\right)} \\alpha_{\\mathit{EI}}\\right)} g_{E}}{{\\left(E_{\\mathit{set}}^{2} I_{\\mathit{set}} \\alpha_{\\mathit{IE}} + I_{\\mathit{set}}^{3} \\alpha_{\\mathit{II}}\\right)} g_{E}}</script></html>"
      ],
      "text/plain": [
       "W_EE == (E_set^2*I_set*alpha_IE + I_set^3*alpha_II + ((E_set^3*W_IE - E_set^2*Theta_I)*alpha_EE + (E_set*I_set^2*W_IE - I_set^2*Theta_I)*alpha_EI)*g_E)/((E_set^2*I_set*alpha_IE + I_set^3*alpha_II)*g_E)"
      ]
     },
     "metadata": {},
     "output_type": "display_data"
    },
    {
     "data": {
      "text/html": [
       "<html><script type=\"math/tex; mode=display\">\\newcommand{\\Bold}[1]{\\mathbf{#1}}W_{\\mathit{EE}} = \\frac{1}{g_{E}}</script></html>"
      ],
      "text/plain": [
       "W_EE == (1/g_E)"
      ]
     },
     "metadata": {},
     "output_type": "display_data"
    }
   ],
   "source": [
    "synaptic_stable_cond_line = solve(synaptic_stable_cond.lhs()==0,W_IE)[0]\n",
    "synaptic_stable_cond_slope = diff(synaptic_stable_cond_line.rhs(),W_EE)\n",
    "synaptic_stable_cond_root = solve(synaptic_stable_cond.lhs()==0,W_EE)[0]\n",
    "synaptic_stable_cond_root_exc0 = synaptic_stable_cond_root.subs(alpha_EE==0,alpha_EI==0)\n",
    "show(synaptic_stable_cond_slope)\n",
    "show(synaptic_stable_cond_root)\n",
    "show(synaptic_stable_cond_root_exc0)"
   ]
  },
  {
   "cell_type": "markdown",
   "metadata": {},
   "source": [
    "### Numerical analysis"
   ]
  },
  {
   "cell_type": "markdown",
   "metadata": {},
   "source": [
    "Stability conditions in terms of the free weights $W_{EE}$ and $W_{IE}$"
   ]
  },
  {
   "cell_type": "code",
   "execution_count": 40,
   "metadata": {},
   "outputs": [
    {
     "data": {
      "text/html": [
       "<html><script type=\"math/tex; mode=display\">\\newcommand{\\Bold}[1]{\\mathbf{#1}}\\Theta_{I} W_{\\mathit{EE}} g_{E} + I_{\\mathit{ext}} W_{\\mathit{IE}} g_{E} - \\Theta_{E} W_{\\mathit{IE}} g_{E} - \\Theta_{I} > 0</script></html>"
      ],
      "text/plain": [
       "Theta_I*W_EE*g_E + I_ext*W_IE*g_E - Theta_E*W_IE*g_E - Theta_I > 0"
      ]
     },
     "metadata": {},
     "output_type": "display_data"
    },
    {
     "data": {
      "text/html": [
       "<html><script type=\"math/tex; mode=display\">\\newcommand{\\Bold}[1]{\\mathbf{#1}}E_{\\mathit{set}} W_{\\mathit{IE}} g_{I} \\tau_{E} - I_{\\mathit{set}} W_{\\mathit{EE}} g_{E} \\tau_{I} - \\Theta_{I} g_{I} \\tau_{E} + I_{\\mathit{set}} \\tau_{I} > 0</script></html>"
      ],
      "text/plain": [
       "E_set*W_IE*g_I*tau_E - I_set*W_EE*g_E*tau_I - Theta_I*g_I*tau_E + I_set*tau_I > 0"
      ]
     },
     "metadata": {},
     "output_type": "display_data"
    },
    {
     "data": {
      "text/html": [
       "<html><script type=\"math/tex; mode=display\">\\newcommand{\\Bold}[1]{\\mathbf{#1}}W_{\\mathit{EE}} g_{E} - 1 > 0</script></html>"
      ],
      "text/plain": [
       "W_EE*g_E - 1 > 0"
      ]
     },
     "metadata": {},
     "output_type": "display_data"
    },
    {
     "data": {
      "text/html": [
       "<html><script type=\"math/tex; mode=display\">\\newcommand{\\Bold}[1]{\\mathbf{#1}}{\\left(\\Theta_{I} W_{\\mathit{EE}} + {\\left(I_{\\mathit{ext}} - \\Theta_{E}\\right)} W_{\\mathit{IE}}\\right)} g_{E} - \\Theta_{I} > 0</script></html>"
      ],
      "text/plain": [
       "(Theta_I*W_EE + (I_ext - Theta_E)*W_IE)*g_E - Theta_I > 0"
      ]
     },
     "metadata": {},
     "output_type": "display_data"
    },
    {
     "data": {
      "text/html": [
       "<html><script type=\"math/tex; mode=display\">\\newcommand{\\Bold}[1]{\\mathbf{#1}}E_{\\mathit{set}} W_{\\mathit{EE}} g_{E} + I_{\\mathit{ext}} g_{E} - \\Theta_{E} g_{E} - E_{\\mathit{set}} > 0</script></html>"
      ],
      "text/plain": [
       "E_set*W_EE*g_E + I_ext*g_E - Theta_E*g_E - E_set > 0"
      ]
     },
     "metadata": {},
     "output_type": "display_data"
    },
    {
     "data": {
      "text/html": [
       "<html><script type=\"math/tex; mode=display\">\\newcommand{\\Bold}[1]{\\mathbf{#1}}E_{\\mathit{set}} W_{\\mathit{IE}} g_{I} - \\Theta_{I} g_{I} - I_{\\mathit{set}} > 0</script></html>"
      ],
      "text/plain": [
       "E_set*W_IE*g_I - Theta_I*g_I - I_set > 0"
      ]
     },
     "metadata": {},
     "output_type": "display_data"
    },
    {
     "data": {
      "text/html": [
       "<html><script type=\"math/tex; mode=display\">\\newcommand{\\Bold}[1]{\\mathbf{#1}}-E_{\\mathit{set}}^{3} W_{\\mathit{IE}} \\alpha_{\\mathit{EE}} g_{E} - E_{\\mathit{set}} I_{\\mathit{set}}^{2} W_{\\mathit{IE}} \\alpha_{\\mathit{EI}} g_{E} + E_{\\mathit{set}}^{2} I_{\\mathit{set}} W_{\\mathit{EE}} \\alpha_{\\mathit{IE}} g_{E} + I_{\\mathit{set}}^{3} W_{\\mathit{EE}} \\alpha_{\\mathit{II}} g_{E} + E_{\\mathit{set}}^{2} \\Theta_{I} \\alpha_{\\mathit{EE}} g_{E} + I_{\\mathit{set}}^{2} \\Theta_{I} \\alpha_{\\mathit{EI}} g_{E} - E_{\\mathit{set}}^{2} I_{\\mathit{set}} \\alpha_{\\mathit{IE}} - I_{\\mathit{set}}^{3} \\alpha_{\\mathit{II}} < 0</script></html>"
      ],
      "text/plain": [
       "-E_set^3*W_IE*alpha_EE*g_E - E_set*I_set^2*W_IE*alpha_EI*g_E + E_set^2*I_set*W_EE*alpha_IE*g_E + I_set^3*W_EE*alpha_II*g_E + E_set^2*Theta_I*alpha_EE*g_E + I_set^2*Theta_I*alpha_EI*g_E - E_set^2*I_set*alpha_IE - I_set^3*alpha_II < 0"
      ]
     },
     "metadata": {},
     "output_type": "display_data"
    }
   ],
   "source": [
    "show(neural_stable_detcond_v2)\n",
    "show(neural_stable_trcond_v2)\n",
    "show(paradox_cond)\n",
    "show(up_exist_cond_2_v2)\n",
    "show(positive_WEI_cond)\n",
    "show(positive_WII_cond)\n",
    "show(synaptic_stable_cond)"
   ]
  },
  {
   "cell_type": "markdown",
   "metadata": {},
   "source": [
    "#### Paradoxical conditions"
   ]
  },
  {
   "cell_type": "code",
   "execution_count": 41,
   "metadata": {},
   "outputs": [
    {
     "data": {
      "text/html": [
       "<html><script type=\"math/tex; mode=display\">\\newcommand{\\Bold}[1]{\\mathbf{#1}}\\left[W_{\\mathit{EE}} = 5, W_{\\mathit{EI}} = 1.0857142857142859, W_{\\mathit{IE}} = 10, W_{\\mathit{II}} = \\left(\\frac{43}{28}\\right)\\right]</script></html>"
      ],
      "text/plain": [
       "[W_EE == 5, W_EI == 1.0857142857142859, W_IE == 10, W_II == (43/28)]"
      ]
     },
     "metadata": {},
     "output_type": "display_data"
    },
    {
     "data": {
      "text/html": [
       "<html><script type=\"math/tex; mode=display\">\\newcommand{\\Bold}[1]{\\mathbf{#1}}\\left[w_{\\mathit{EE}} = 14, w_{\\mathit{EI}} = 1.0857142857142859, w_{\\mathit{IE}} = 10, w_{\\mathit{II}} = \\left(\\frac{215}{392}\\right)\\right]</script></html>"
      ],
      "text/plain": [
       "[w_EE == 14, w_EI == 1.0857142857142859, w_IE == 10, w_II == (215/392)]"
      ]
     },
     "metadata": {},
     "output_type": "display_data"
    }
   ],
   "source": [
    "W_EEup = W_EE==5\n",
    "W_IEup = W_IE==10\n",
    "alphas = [alpha_EE==0.02,alpha_EI==0.02,alpha_IE==0.02,alpha_II==0.02]\n",
    "upstate_orig = [W_EEup,\n",
    "                 W_EI==W_EI.subs(synapticFixedPoint_qss_subs_up_orig).subs(values_paradoxical).subs(W_EEup),\n",
    "                 W_IEup,\n",
    "                 W_II==W_II.subs(synapticFixedPoint_qss_subs_up_orig).subs(values_paradoxical).subs(W_IEup)]\n",
    "upstate_norm = [w_EE==w_EE.subs(weights).subs(parameters).subs(parameters).subs(values_paradoxical).subs(upstate_orig),\n",
    "                 w_EI==w_EI.subs(weights).subs(parameters).subs(parameters).subs(values_paradoxical).subs(upstate_orig),\n",
    "                 w_IE==w_IE.subs(weights).subs(parameters).subs(parameters).subs(values_paradoxical).subs(upstate_orig),\n",
    "                 w_II==w_II.subs(weights).subs(parameters).subs(parameters).subs(values_paradoxical).subs(upstate_orig)]\n",
    "show(upstate_orig)\n",
    "show(upstate_norm)"
   ]
  },
  {
   "cell_type": "code",
   "execution_count": 42,
   "metadata": {},
   "outputs": [
    {
     "name": "stdout",
     "output_type": "stream",
     "text": [
      "PARADOXICAL CONDITIONS\n",
      "positive_WEI_cond:\n",
      "      E_set*W_EE*g_E + I_ext*g_E - Theta_E*g_E - E_set > 0\n",
      "      border:  W_EE == 1.9600000000000002\n",
      "      probe:  True\n",
      "positive_WII_cond:\n",
      "      E_set*W_IE*g_I - Theta_I*g_I - I_set > 0\n",
      "      border:  W_IE == (57/10)\n",
      "      probe:  True\n",
      "paradox_cond:\n",
      "      W_EE*g_E - 1 > 0\n",
      "      border:  W_EE == 1\n",
      "      probe:  True\n",
      "neural_stable_detcond_v2:\n",
      "      Theta_I*W_EE*g_E + I_ext*W_IE*g_E - Theta_E*W_IE*g_E - Theta_I > 0\n",
      "      border:  W_IE == 5.208333333333334*W_EE - 5.208333333333334\n",
      "      probe:  True\n",
      "neural_stable_trcond_v2:\n",
      "      E_set*W_IE*g_I*tau_E - I_set*W_EE*g_E*tau_I - Theta_I*g_I*tau_E + I_set*tau_I > 0\n",
      "      border:  W_IE == 7/50*W_EE + 243/50\n",
      "      probe:  True\n",
      "synaptic_stable_cond:\n",
      "      -E_set^3*W_IE*alpha_EE*g_E - E_set*I_set^2*W_IE*alpha_EI*g_E + E_set^2*I_set*W_EE*alpha_IE*g_E + I_set^3*W_EE*alpha_II*g_E + E_set^2*Theta_I*alpha_EE*g_E + I_set^2*Theta_I*alpha_EI*g_E - E_set^2*I_set*alpha_IE - I_set^3*alpha_II < 0\n",
      "      border:  W_IE == 2.80000000000000*W_EE + 2.20000000000000\n",
      "      probe:  False\n",
      "up_exist_cond_2_v2:\n",
      "      (Theta_I*W_EE + (I_ext - Theta_E)*W_IE)*g_E - Theta_I > 0\n",
      "      border:  W_IE == 5.208333333333334*W_EE - 5.208333333333334\n",
      "      probe:  True\n"
     ]
    }
   ],
   "source": [
    "probe = [W_EE==5,W_IE==10]\n",
    "positive_WEI_cond_border_pdx = solve(positive_WEI_cond.lhs()==positive_WEI_cond.rhs(),W_EE)[0].subs(values_paradoxical)\n",
    "positive_WII_cond_border_pdx = solve(positive_WII_cond.lhs()==positive_WII_cond.rhs(),W_IE)[0].subs(values_paradoxical)\n",
    "paradox_cond_border_pdx = solve(paradox_cond.left()==paradox_cond.right(),W_EE,W_IE)[0][0].subs(values_paradoxical)\n",
    "neural_stable_detcond_v2_border_pdx = solve(neural_stable_detcond_v2.lhs()==0,W_IE)[0].subs(values_paradoxical)\n",
    "neural_stable_trcond_v2_border_pdx = solve(neural_stable_trcond_v2.lhs()==0,W_IE)[0].subs(values_paradoxical)\n",
    "synaptic_stable_cond_border_pdx = solve(synaptic_stable_cond.lhs()-synaptic_stable_cond.rhs()==0,W_IE)[0].subs(values_paradoxical).subs(alphas)\n",
    "up_exist_cond_2_v2_border_pdx = solve(up_exist_cond_2_v2.lhs()-up_exist_cond_2_v2.rhs()==0,W_IE)[0].subs(values_paradoxical)\n",
    "print(\"PARADOXICAL CONDITIONS\")\n",
    "print(\"positive_WEI_cond:\")\n",
    "print(\"     \",positive_WEI_cond)\n",
    "print(\"      border: \",positive_WEI_cond_border_pdx)\n",
    "print(\"      probe: \",bool(positive_WEI_cond.subs(values_paradoxical).subs(probe)))\n",
    "print(\"positive_WII_cond:\")\n",
    "print(\"     \",positive_WII_cond)\n",
    "print(\"      border: \",positive_WII_cond_border_pdx)\n",
    "print(\"      probe: \",bool(positive_WII_cond.subs(values_paradoxical).subs(probe)))\n",
    "print(\"paradox_cond:\")\n",
    "print(\"     \",paradox_cond)\n",
    "print(\"      border: \",paradox_cond_border_pdx)\n",
    "print(\"      probe: \",bool(paradox_cond.subs(values_paradoxical).subs(probe)))\n",
    "print(\"neural_stable_detcond_v2:\")\n",
    "print(\"     \",neural_stable_detcond_v2)\n",
    "print(\"      border: \",neural_stable_detcond_v2_border_pdx)\n",
    "print(\"      probe: \",bool(neural_stable_detcond_v2.subs(values_paradoxical).subs(probe)))\n",
    "print(\"neural_stable_trcond_v2:\")\n",
    "print(\"     \",neural_stable_trcond_v2)\n",
    "print(\"      border: \",neural_stable_trcond_v2_border_pdx)\n",
    "print(\"      probe: \",bool(neural_stable_trcond_v2.subs(values_paradoxical).subs(probe)))\n",
    "print(\"synaptic_stable_cond:\")\n",
    "print(\"     \",synaptic_stable_cond)\n",
    "print(\"      border: \",synaptic_stable_cond_border_pdx)\n",
    "print(\"      probe: \",bool(synaptic_stable_cond.subs(values_paradoxical).subs(alphas).subs(probe)))\n",
    "print(\"up_exist_cond_2_v2:\")\n",
    "print(\"     \",up_exist_cond_2_v2)\n",
    "print(\"      border: \",up_exist_cond_2_v2_border_pdx)\n",
    "print(\"      probe: \",bool(up_exist_cond_2_v2.subs(values_paradoxical).subs(probe)))"
   ]
  },
  {
   "cell_type": "code",
   "execution_count": 43,
   "metadata": {},
   "outputs": [
    {
     "data": {
      "image/png": "[encoded data removed]",
      "text/plain": [
       "Graphics object consisting of 12 graphics primitives"
      ]
     },
     "metadata": {},
     "output_type": "display_data"
    }
   ],
   "source": [
    "W_EE_max = 10\n",
    "fig1 = line([[W_EE.subs(positive_WEI_cond_border_pdx),0],[W_EE.subs(positive_WEI_cond_border_pdx),50]],color='blue',linestyle='-',legend_label='positive WEI')\n",
    "fig2 = line([[0,W_IE.subs(positive_WII_cond_border_pdx)],[W_EE_max,W_IE.subs(positive_WII_cond_border_pdx)]],color='blue',linestyle='--',legend_label='positive WEI')\n",
    "fig3 = line([[W_EE.subs(paradox_cond_border_pdx),0],[W_EE.subs(paradox_cond_border_pdx),50]],color='magenta',legend_label='paradoxical')\n",
    "fig4 = plot(W_IE.subs(neural_stable_detcond_v2_border_pdx),(W_EE,0,W_EE_max),ymin=0,color='green',linestyle='-',legend_label='neural detcond')\n",
    "fig5 = plot(W_IE.subs(neural_stable_trcond_v2_border_pdx),(W_EE,0,W_EE_max),ymin=0,color='green',linestyle='--',legend_label='neural trcond')\n",
    "fig7 = plot(W_IE.subs(synaptic_stable_cond_border_pdx),(W_EE,0,W_EE_max),ymin=0,color='black',linestyle='-',legend_label='synaptic stable')\n",
    "tt1 = text('(positive\\nWEI)', (0.1+W_EE.subs(positive_WEI_cond_border_pdx),18),color='blue',horizontal_alignment='left')\n",
    "tt2 = text('(positive WII)', (2.5,0.5+W_IE.subs(positive_WII_cond_border_pdx)),color='blue',horizontal_alignment='left')\n",
    "tt3 = text('(paradoxical)', (0.1+W_EE.subs(paradox_cond_border_pdx),20),color='magenta',horizontal_alignment='left')\n",
    "tt4 = text('(detcond\\nstable)', (4,14),color='green',horizontal_alignment='left')\n",
    "tt5 = text('(trcond\\nstable)', (7,7.5),color='green',horizontal_alignment='left')\n",
    "tt7 = text('(synaptic\\nstable)', (1.7,13.5),color='black',horizontal_alignment='right')\n",
    "fig = fig1 + fig2 + fig3 + fig4 + fig5 + fig7 + tt1 + tt2 + tt3 + tt4 + tt5 + tt7\n",
    "fig.xmin(0)\n",
    "fig.xmax(W_EE_max)\n",
    "fig.ymin(0)\n",
    "fig.ymax(20)\n",
    "fig.axes_labels(['$W_{EE}$', '$W_{IE}$'])\n",
    "fig.set_legend_options(loc='upper right')\n",
    "fig.legend(False)\n",
    "#fig.save('SH_stability_paradoxical_multiple_alphas.pdf')\n",
    "#fig.save('SH_stability_paradoxical_alphaE=alphaI.eps')\n",
    "#fig.save('SH_stability_paradoxical_alphaE>>alphaI.eps')\n",
    "#fig.save('SH_stability_paradoxical_alphaE<<alphaI.eps')\n",
    "show(fig)"
   ]
  },
  {
   "cell_type": "markdown",
   "metadata": {},
   "source": [
    "The region of stability of the neural subsystem is the triangle defined by the two green lines on the right, well within the instability region of the learning rule. Since we need a stable neural subsystem, we conclude the learning rule is unstable for any choice of weights.\n",
    "\n",
    "Additionally, the neural subsystem needs to be paradoxical for the learning rule to be unstable."
   ]
  },
  {
   "cell_type": "markdown",
   "metadata": {},
   "source": [
    "#### Non-paradoxical conditions"
   ]
  },
  {
   "cell_type": "code",
   "execution_count": 44,
   "metadata": {},
   "outputs": [
    {
     "data": {
      "text/html": [
       "<html><script type=\"math/tex; mode=display\">\\newcommand{\\Bold}[1]{\\mathbf{#1}}\\left[W_{\\mathit{EE}} = 5, W_{\\mathit{EI}} = 1.2999999999999998, W_{\\mathit{IE}} = 10, W_{\\mathit{II}} = \\left(\\frac{43}{28}\\right)\\right]</script></html>"
      ],
      "text/plain": [
       "[W_EE == 5, W_EI == 1.2999999999999998, W_IE == 10, W_II == (43/28)]"
      ]
     },
     "metadata": {},
     "output_type": "display_data"
    },
    {
     "data": {
      "text/html": [
       "<html><script type=\"math/tex; mode=display\">\\newcommand{\\Bold}[1]{\\mathbf{#1}}\\left[w_{\\mathit{EE}} = 7.000000000000001, w_{\\mathit{EI}} = 0.6499999999999999, w_{\\mathit{IE}} = 5.0, w_{\\mathit{II}} = 0.274234693877551\\right]</script></html>"
      ],
      "text/plain": [
       "[w_EE == 7.000000000000001,\n",
       " w_EI == 0.6499999999999999,\n",
       " w_IE == 5.0,\n",
       " w_II == 0.274234693877551]"
      ]
     },
     "metadata": {},
     "output_type": "display_data"
    }
   ],
   "source": [
    "W_EEup = W_EE==5\n",
    "W_IEup = W_IE==10\n",
    "alphas = [alpha_EE==0.02,alpha_EI==0.02,alpha_IE==0.02,alpha_II==0.02]\n",
    "upstate_orig = [W_EEup,\n",
    "                 W_EI==W_EI.subs(synapticFixedPoint_qss_subs_up_orig).subs(values_nonparadoxical).subs(W_EEup),\n",
    "                 W_IEup,\n",
    "                 W_II==W_II.subs(synapticFixedPoint_qss_subs_up_orig).subs(values_nonparadoxical).subs(W_IEup)]\n",
    "upstate_norm = [w_EE==w_EE.subs(weights).subs(parameters).subs(parameters).subs(values_nonparadoxical).subs(upstate_orig),\n",
    "                 w_EI==w_EI.subs(weights).subs(parameters).subs(parameters).subs(values_nonparadoxical).subs(upstate_orig),\n",
    "                 w_IE==w_IE.subs(weights).subs(parameters).subs(parameters).subs(values_nonparadoxical).subs(upstate_orig),\n",
    "                 w_II==w_II.subs(weights).subs(parameters).subs(parameters).subs(values_nonparadoxical).subs(upstate_orig)]\n",
    "show(upstate_orig)\n",
    "show(upstate_norm)"
   ]
  },
  {
   "cell_type": "code",
   "execution_count": 45,
   "metadata": {},
   "outputs": [
    {
     "name": "stdout",
     "output_type": "stream",
     "text": [
      "NONPARADOXICAL CONDITIONS\n",
      "positive_WEI_cond:\n",
      "      E_set*W_EE*g_E + I_ext*g_E - Theta_E*g_E - E_set > 0\n",
      "      border:  W_EE == 1.36\n",
      "      probe:  True\n",
      "positive_WII_cond:\n",
      "      E_set*W_IE*g_I - Theta_I*g_I - I_set > 0\n",
      "      border:  W_IE == (57/10)\n",
      "      probe:  True\n",
      "paradox_cond:\n",
      "      W_EE*g_E - 1 > 0\n",
      "      border:  W_EE == 2.0\n",
      "      probe:  True\n",
      "neural_stable_detcond_v2:\n",
      "      Theta_I*W_EE*g_E + I_ext*W_IE*g_E - Theta_E*W_IE*g_E - Theta_I > 0\n",
      "      border:  W_IE == -7.8125*W_EE + 15.625\n",
      "      probe:  True\n",
      "neural_stable_trcond_v2:\n",
      "      E_set*W_IE*g_I*tau_E - I_set*W_EE*g_E*tau_I - Theta_I*g_I*tau_E + I_set*tau_I > 0\n",
      "      border:  W_IE == 0.07*W_EE + 243/50\n",
      "      probe:  True\n",
      "synaptic_stable_cond:\n",
      "      -E_set^3*W_IE*alpha_EE*g_E - E_set*I_set^2*W_IE*alpha_EI*g_E + E_set^2*I_set*W_EE*alpha_IE*g_E + I_set^3*W_EE*alpha_II*g_E + E_set^2*Theta_I*alpha_EE*g_E + I_set^2*Theta_I*alpha_EI*g_E - E_set^2*I_set*alpha_IE - I_set^3*alpha_II < 0\n",
      "      border:  W_IE == 2.80000000000000*W_EE - 0.600000000000000\n",
      "      probe:  False\n",
      "up_exist_cond_2_v2_pos:\n",
      "      W_IE > -(W_EE*g_E - 1)*Theta_I/((I_ext - Theta_E)*g_E)\n",
      "      border:  W_IE == 5.208333333333334*W_EE - 5.208333333333334\n",
      "      probe:  True\n"
     ]
    }
   ],
   "source": [
    "probe = [W_EE==5,W_IE==10]\n",
    "positive_WEI_cond_border_nonpdx = solve(positive_WEI_cond.lhs()==positive_WEI_cond.rhs(),W_EE)[0].subs(values_nonparadoxical)\n",
    "positive_WII_cond_border_nonpdx = solve(positive_WII_cond.lhs()==positive_WII_cond.rhs(),W_IE)[0].subs(values_nonparadoxical)\n",
    "paradox_cond_border_nonpdx = solve(paradox_cond.left()==paradox_cond.right(),W_EE,W_IE)[0][0].subs(values_nonparadoxical)\n",
    "neural_stable_detcond_v2_border_nonpdx = solve(neural_stable_detcond_v2.lhs()==0,W_IE)[0].subs(values_nonparadoxical)\n",
    "neural_stable_trcond_v2_border_nonpdx = solve(neural_stable_trcond_v2.lhs()==0,W_IE)[0].subs(values_nonparadoxical)\n",
    "synaptic_stable_cond_border_nonpdx = solve(synaptic_stable_cond.lhs()-synaptic_stable_cond.rhs()==0,W_IE)[0].subs(values_nonparadoxical).subs(alphas)\n",
    "if (I_ext-Theta_E).subs(values_nonparadoxical) > 0:\n",
    "    up_exist_cond_2_v2_border_nonpdx = solve(up_exist_cond_2_v2_pos.lhs()-up_exist_cond_2_v2_pos.rhs()==0,W_IE)[0].subs(values_nonparadoxical)\n",
    "else:\n",
    "    up_exist_cond_2_v2_border_nonpdx = solve(up_exist_cond_2_v2_neg.lhs()-up_exist_cond_2_v2_neg.rhs()==0,W_IE)[0].subs(values_nonparadoxical)\n",
    "print(\"NONPARADOXICAL CONDITIONS\")\n",
    "print(\"positive_WEI_cond:\")\n",
    "print(\"     \",positive_WEI_cond)\n",
    "print(\"      border: \",positive_WEI_cond_border_nonpdx)\n",
    "print(\"      probe: \",bool(positive_WEI_cond.subs(values_nonparadoxical).subs(probe)))\n",
    "print(\"positive_WII_cond:\")\n",
    "print(\"     \",positive_WII_cond)\n",
    "print(\"      border: \",positive_WII_cond_border_nonpdx)\n",
    "print(\"      probe: \",bool(positive_WII_cond.subs(values_nonparadoxical).subs(probe)))\n",
    "print(\"paradox_cond:\")\n",
    "print(\"     \",paradox_cond)\n",
    "print(\"      border: \",paradox_cond_border_nonpdx)\n",
    "print(\"      probe: \",bool(paradox_cond.subs(values_nonparadoxical).subs(probe)))\n",
    "print(\"neural_stable_detcond_v2:\")\n",
    "print(\"     \",neural_stable_detcond_v2)\n",
    "print(\"      border: \",neural_stable_detcond_v2_border_nonpdx)\n",
    "print(\"      probe: \",bool(neural_stable_detcond_v2.subs(values_nonparadoxical).subs(probe)))\n",
    "print(\"neural_stable_trcond_v2:\")\n",
    "print(\"     \",neural_stable_trcond_v2)\n",
    "print(\"      border: \",neural_stable_trcond_v2_border_nonpdx)\n",
    "print(\"      probe: \",bool(neural_stable_trcond_v2.subs(values_nonparadoxical).subs(probe)))\n",
    "print(\"synaptic_stable_cond:\")\n",
    "print(\"     \",synaptic_stable_cond)\n",
    "print(\"      border: \",synaptic_stable_cond_border_nonpdx)\n",
    "print(\"      probe: \",bool(synaptic_stable_cond.subs(values_nonparadoxical).subs(probe)))\n",
    "if (I_ext-Theta_E).subs(values_nonparadoxical) > 0:\n",
    "    print(\"up_exist_cond_2_v2_pos:\")\n",
    "    print(\"     \",up_exist_cond_2_v2_pos)\n",
    "    print(\"      border: \",up_exist_cond_2_v2_border_pdx)\n",
    "    print(\"      probe: \",bool(up_exist_cond_2_v2_pos.subs(values_nonparadoxical).subs(probe)))\n",
    "else:\n",
    "    print(\"up_exist_cond_2_v2_neg:\")\n",
    "    print(\"     \",up_exist_cond_2_v2_neg)\n",
    "    print(\"      border: \",up_exist_cond_2_v2_border_pdx)\n",
    "    print(\"      probe: \",bool(up_exist_cond_2_v2_neg.subs(values_nonparadoxical).subs(probe)))"
   ]
  },
  {
   "cell_type": "code",
   "execution_count": 46,
   "metadata": {},
   "outputs": [
    {
     "data": {
      "image/png": "[encoded data removed]",
      "text/plain": [
       "Graphics object consisting of 12 graphics primitives"
      ]
     },
     "metadata": {},
     "output_type": "display_data"
    }
   ],
   "source": [
    "W_EE_max = 10\n",
    "fig1 = line([[W_EE.subs(positive_WEI_cond_border_nonpdx),0],[W_EE.subs(positive_WEI_cond_border_nonpdx),50]],color='blue',linestyle='-',legend_label='positive WEI')\n",
    "fig2 = line([[0,W_IE.subs(positive_WII_cond_border_nonpdx)],[W_EE_max,W_IE.subs(positive_WII_cond_border_nonpdx)]],color='blue',linestyle='--',legend_label='positive WEI')\n",
    "fig3 = line([[W_EE.subs(paradox_cond_border_nonpdx),0],[W_EE.subs(paradox_cond_border_nonpdx),50]],color='magenta',legend_label='paradoxical')\n",
    "fig4 = plot(W_IE.subs(neural_stable_detcond_v2_border_nonpdx),(W_EE,0,W_EE_max),ymin=0,color='green',linestyle='-',legend_label='neural detcond')\n",
    "fig5 = plot(W_IE.subs(neural_stable_trcond_v2_border_nonpdx),(W_EE,0,W_EE_max),ymin=0,color='green',linestyle='--',legend_label='neural trcond')\n",
    "fig7 = plot(W_IE.subs(synaptic_stable_cond_border_nonpdx),(W_EE,0,W_EE_max),ymin=0,color='black',linestyle='-',legend_label='synaptic stable')\n",
    "tt1 = text('(positive WEI)', (0.1+W_EE.subs(positive_WEI_cond_border_nonpdx),20),color='blue',horizontal_alignment='left')\n",
    "tt2 = text('(positive WII)', (2.5,0.5+W_IE.subs(positive_WII_cond_border_nonpdx)),color='blue',horizontal_alignment='left')\n",
    "tt3 = text('(paradoxical)', (0.1+W_EE.subs(paradox_cond_border_nonpdx),18.5),color='magenta',horizontal_alignment='left')\n",
    "tt4 = text('(detcond\\nstable)', (0.5,13),color='green',horizontal_alignment='left')\n",
    "tt5 = text('(trcond\\nstable)', (7,7.5),color='green',horizontal_alignment='left')\n",
    "tt7 = text('(synaptic\\nstable)', (1.9,16.5),color='black',horizontal_alignment='right')\n",
    "fig = fig1 + fig2 + fig3 + fig4 + fig5 + fig7 + tt1 + tt2 + tt3 + tt4 + tt5 + tt7\n",
    "fig.xmin(0)\n",
    "fig.xmax(W_EE_max)\n",
    "fig.ymin(0)\n",
    "fig.ymax(20)\n",
    "fig.axes_labels(['$W_{EE}$', '$W_{IE}$'])\n",
    "fig.set_legend_options(loc='upper right')\n",
    "fig.legend(False)\n",
    "#fig.save('SH_stability_nonparadoxical.pdf')\n",
    "#fig.save('SH_stability_nonparadoxical.png')\n",
    "#fig.save('SH_stability_nonparadoxical_alphaE<<alphaI.eps')\n",
    "show(fig)"
   ]
  },
  {
   "cell_type": "markdown",
   "metadata": {},
   "source": [
    "## Homeo-antiHomeo variations"
   ]
  },
  {
   "cell_type": "markdown",
   "metadata": {},
   "source": [
    "The stability condition `synaptic_stable_cond` (or its nondimensionalized version `synaptic_stable_cond_v4`) was obtained by assuming all learning rates are positive. Interestingly, if some of them are negative then the Up state may still be stable. A negative learning rate can be interpreted as the corresponding equation being _anti_-homeostatic, i.e. if the neural activity ($E$ or $I$) departs from its setpoint then the rule will drive it even farther away. While this kind of behavior would be usually deemed undesired, it is worth considering due to its relationship with the paradoxical regime.  \n",
    "\n",
    "In this section we let the learning rates $\\alpha_{XY}$ be either positive or negative (the particular case where all learning rates are positive corresponds to the original Homeostatic learning rule).  \n",
    "\n",
    "The only place where we assumed anything about the sign of the alphas was at the definition of factor $D$. Once we release that assumption, the conditions for stability are two: $A<0$ and $D>0$. They read:"
   ]
  },
  {
   "cell_type": "code",
   "execution_count": 47,
   "metadata": {},
   "outputs": [
    {
     "data": {
      "text/html": [
       "<html><script type=\"math/tex; mode=display\">\\newcommand{\\Bold}[1]{\\mathbf{#1}}{\\left(R^{2} \\alpha_{3} + \\alpha_{4}\\right)} {\\left(W_{\\mathit{EE}} g_{E} - 1\\right)} < {\\left(R^{2} + \\alpha_{2}\\right)} {\\left(W_{\\mathit{II}} g_{I} + 1\\right)} g</script></html>"
      ],
      "text/plain": [
       "(R^2*alpha_3 + alpha_4)*(W_EE*g_E - 1) < (R^2 + alpha_2)*(W_II*g_I + 1)*g"
      ]
     },
     "metadata": {},
     "output_type": "display_data"
    },
    {
     "data": {
      "text/html": [
       "<html><script type=\"math/tex; mode=display\">\\newcommand{\\Bold}[1]{\\mathbf{#1}}{\\left(R^{2} \\alpha_{3} + \\alpha_{4}\\right)} {\\left(R^{2} + \\alpha_{2}\\right)} > 0</script></html>"
      ],
      "text/plain": [
       "(R^2*alpha_3 + alpha_4)*(R^2 + alpha_2) > 0"
      ]
     },
     "metadata": {},
     "output_type": "display_data"
    }
   ],
   "source": [
    "synaptic_stable_cond_v5 = (D > 0)*R/2 # multiply by positive factors only\n",
    "show(synaptic_stable_cond_v4)\n",
    "show(synaptic_stable_cond_v5)"
   ]
  },
  {
   "cell_type": "code",
   "execution_count": null,
   "metadata": {},
   "outputs": [],
   "source": []
  }
 ],
 "metadata": {
  "kernelspec": {
   "display_name": "SageMath 9.0",
   "language": "sage",
   "name": "sagemath"
  },
  "language_info": {
   "codemirror_mode": {
    "name": "ipython",
    "version": 3
   },
   "file_extension": ".py",
   "mimetype": "text/x-python",
   "name": "python",
   "nbconvert_exporter": "python",
   "pygments_lexer": "ipython3",
   "version": "3.8.10"
  }
 },
 "nbformat": 4,
 "nbformat_minor": 2
}
