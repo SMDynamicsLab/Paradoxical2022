{
 "cells": [
  {
   "cell_type": "markdown",
   "metadata": {},
   "source": [
    "# Up states: Stability of Forced-Balance learning rule"
   ]
  },
  {
   "cell_type": "markdown",
   "metadata": {},
   "source": [
    "Soldado-Magraner, Laje & Buonomano (2020)  \n",
    "Author: Rodrigo Laje"
   ]
  },
  {
   "cell_type": "markdown",
   "metadata": {},
   "source": [
    "(With constant input current $I_{ext}$ in order to have a non-paradoxical fixed point.)"
   ]
  },
  {
   "cell_type": "markdown",
   "metadata": {},
   "source": [
    "#### Neural subsystem"
   ]
  },
  {
   "cell_type": "markdown",
   "metadata": {},
   "source": [
    "Load script:  \n",
    "(RUN FIRST `upstates-Neural subsystem stability-with Iext.ipynb`)"
   ]
  },
  {
   "cell_type": "code",
   "execution_count": 48,
   "metadata": {},
   "outputs": [],
   "source": [
    "%%capture\n",
    "load('upstates-Neural subsystem stability-with Iext.sage.py')"
   ]
  },
  {
   "cell_type": "markdown",
   "metadata": {},
   "source": [
    "## Synaptic subsystem: Forced-Balance rule"
   ]
  },
  {
   "cell_type": "markdown",
   "metadata": {},
   "source": [
    "#### Forced-Balance rule equations"
   ]
  },
  {
   "cell_type": "markdown",
   "metadata": {},
   "source": [
    "Weights $W_{EE}$ and $W_{IE}$ converge to the Up state (if stable), while $W_{EI}$ and $W_{II}$ are non-instantaneous followers (i.e. they decay to the corresponding line attractor)"
   ]
  },
  {
   "cell_type": "code",
   "execution_count": 49,
   "metadata": {
    "scrolled": true
   },
   "outputs": [
    {
     "data": {
      "text/html": [
       "<html><script type=\"math/tex; mode=display\">\\newcommand{\\Bold}[1]{\\mathbf{#1}}\\mathit{dWEEdt} = -{\\left(E - E_{\\mathit{set}}\\right)} E \\alpha_{1} g_{E}</script></html>"
      ],
      "text/plain": [
       "dWEEdt == -(E - E_set)*E*alpha_1*g_E"
      ]
     },
     "metadata": {},
     "output_type": "display_data"
    },
    {
     "data": {
      "text/html": [
       "<html><script type=\"math/tex; mode=display\">\\newcommand{\\Bold}[1]{\\mathbf{#1}}\\mathit{dWIEdt} = E {\\left(I - I_{\\mathit{set}}\\right)} \\alpha_{3} g_{I}</script></html>"
      ],
      "text/plain": [
       "dWIEdt == E*(I - I_set)*alpha_3*g_I"
      ]
     },
     "metadata": {},
     "output_type": "display_data"
    }
   ],
   "source": [
    "var('dWEEdt,dWIEdt')\n",
    "var('alpha_1,alpha_3')\n",
    "f_WEE = dWEEdt == alpha_1*g_E*E*(E_set-E)\n",
    "f_WIE = dWIEdt == -alpha_3*g_I*E*(I_set-I)\n",
    "show(f_WEE)\n",
    "show(f_WIE)"
   ]
  },
  {
   "cell_type": "markdown",
   "metadata": {},
   "source": [
    "The other two weights are (non-instantaneous) followers of $W_{EE}$ and $W_{IE}$:"
   ]
  },
  {
   "cell_type": "code",
   "execution_count": 50,
   "metadata": {},
   "outputs": [
    {
     "data": {
      "text/html": [
       "<html><script type=\"math/tex; mode=display\">\\newcommand{\\Bold}[1]{\\mathbf{#1}}W_{\\mathit{EI}} = \\frac{{\\left(E_{\\mathit{set}} W_{\\mathit{EE}} + I_{\\mathit{ext}} - \\Theta_{E}\\right)} g_{E} - E_{\\mathit{set}}}{I_{\\mathit{set}} g_{E}}</script></html>"
      ],
      "text/plain": [
       "W_EI == ((E_set*W_EE + I_ext - Theta_E)*g_E - E_set)/(I_set*g_E)"
      ]
     },
     "metadata": {},
     "output_type": "display_data"
    },
    {
     "data": {
      "text/html": [
       "<html><script type=\"math/tex; mode=display\">\\newcommand{\\Bold}[1]{\\mathbf{#1}}W_{\\mathit{II}} = \\frac{{\\left(E_{\\mathit{set}} W_{\\mathit{IE}} - \\Theta_{I}\\right)} g_{I} - I_{\\mathit{set}}}{I_{\\mathit{set}} g_{I}}</script></html>"
      ],
      "text/plain": [
       "W_II == ((E_set*W_IE - Theta_I)*g_I - I_set)/(I_set*g_I)"
      ]
     },
     "metadata": {},
     "output_type": "display_data"
    }
   ],
   "source": [
    "WEI_ff,WII_ff = solve([E.subs(E_up)==E_set,I.subs(I_up)==I_set],W_EI,W_II)[0]\n",
    "show(WEI_ff)\n",
    "show(WII_ff)"
   ]
  },
  {
   "cell_type": "code",
   "execution_count": 51,
   "metadata": {},
   "outputs": [],
   "source": [
    "var('dWEIdt,dWIIdt,tau_ff')\n",
    "f_WEI = dWEIdt == (W_EI.subs(WEI_ff) - W_EI)/tau_ff\n",
    "f_WII = dWIIdt == (W_II.subs(WII_ff) - W_II)/tau_ff"
   ]
  },
  {
   "cell_type": "markdown",
   "metadata": {},
   "source": [
    "Full synaptic subsystem:"
   ]
  },
  {
   "cell_type": "code",
   "execution_count": 52,
   "metadata": {},
   "outputs": [
    {
     "data": {
      "text/html": [
       "<html><script type=\"math/tex; mode=display\">\\newcommand{\\Bold}[1]{\\mathbf{#1}}\\mathit{dWEEdt} = -{\\left(E - E_{\\mathit{set}}\\right)} E \\alpha_{1} g_{E}</script></html>"
      ],
      "text/plain": [
       "dWEEdt == -(E - E_set)*E*alpha_1*g_E"
      ]
     },
     "metadata": {},
     "output_type": "display_data"
    },
    {
     "data": {
      "text/html": [
       "<html><script type=\"math/tex; mode=display\">\\newcommand{\\Bold}[1]{\\mathbf{#1}}\\mathit{dWEIdt} = -\\frac{W_{\\mathit{EI}} - \\frac{{\\left(E_{\\mathit{set}} W_{\\mathit{EE}} + I_{\\mathit{ext}} - \\Theta_{E}\\right)} g_{E} - E_{\\mathit{set}}}{I_{\\mathit{set}} g_{E}}}{\\tau_{\\mathit{ff}}}</script></html>"
      ],
      "text/plain": [
       "dWEIdt == -(W_EI - ((E_set*W_EE + I_ext - Theta_E)*g_E - E_set)/(I_set*g_E))/tau_ff"
      ]
     },
     "metadata": {},
     "output_type": "display_data"
    },
    {
     "data": {
      "text/html": [
       "<html><script type=\"math/tex; mode=display\">\\newcommand{\\Bold}[1]{\\mathbf{#1}}\\mathit{dWIEdt} = E {\\left(I - I_{\\mathit{set}}\\right)} \\alpha_{3} g_{I}</script></html>"
      ],
      "text/plain": [
       "dWIEdt == E*(I - I_set)*alpha_3*g_I"
      ]
     },
     "metadata": {},
     "output_type": "display_data"
    },
    {
     "data": {
      "text/html": [
       "<html><script type=\"math/tex; mode=display\">\\newcommand{\\Bold}[1]{\\mathbf{#1}}\\mathit{dWIIdt} = -\\frac{W_{\\mathit{II}} - \\frac{{\\left(E_{\\mathit{set}} W_{\\mathit{IE}} - \\Theta_{I}\\right)} g_{I} - I_{\\mathit{set}}}{I_{\\mathit{set}} g_{I}}}{\\tau_{\\mathit{ff}}}</script></html>"
      ],
      "text/plain": [
       "dWIIdt == -(W_II - ((E_set*W_IE - Theta_I)*g_I - I_set)/(I_set*g_I))/tau_ff"
      ]
     },
     "metadata": {},
     "output_type": "display_data"
    }
   ],
   "source": [
    "show(f_WEE)\n",
    "show(f_WEI)\n",
    "show(f_WIE)\n",
    "show(f_WII)"
   ]
  },
  {
   "cell_type": "code",
   "execution_count": 53,
   "metadata": {},
   "outputs": [],
   "source": [
    "synapticFixedPoint = solve([f_WEE.subs(dWEEdt==0),f_WEI.subs(dWEIdt==0),f_WIE.subs(dWIEdt==0),f_WII.subs(dWIIdt==0)],E,I,W_EI,W_II)\n",
    "synapticFixedPoint_up = synapticFixedPoint[1]"
   ]
  },
  {
   "cell_type": "markdown",
   "metadata": {},
   "source": [
    "Two solutions but only one of them is compatible with suprathreshold activity:"
   ]
  },
  {
   "cell_type": "markdown",
   "metadata": {},
   "source": [
    "#### Fixed point: Up state  \n",
    "$E=E_{set}$, $I=I_{set}$ ($W_{EE}$ and $W_{IE}$ can take any value)"
   ]
  },
  {
   "cell_type": "code",
   "execution_count": 54,
   "metadata": {},
   "outputs": [
    {
     "data": {
      "text/html": [
       "<html><script type=\"math/tex; mode=display\">\\newcommand{\\Bold}[1]{\\mathbf{#1}}\\left[E = E_{\\mathit{set}}, I = I_{\\mathit{set}}, W_{\\mathit{EI}} = \\frac{{\\left(E_{\\mathit{set}} W_{\\mathit{EE}} + I_{\\mathit{ext}} - \\Theta_{E}\\right)} g_{E} - E_{\\mathit{set}}}{I_{\\mathit{set}} g_{E}}, W_{\\mathit{II}} = \\frac{{\\left(E_{\\mathit{set}} W_{\\mathit{IE}} - \\Theta_{I}\\right)} g_{I} - I_{\\mathit{set}}}{I_{\\mathit{set}} g_{I}}\\right]</script></html>"
      ],
      "text/plain": [
       "[E == E_set,\n",
       " I == I_set,\n",
       " W_EI == ((E_set*W_EE + I_ext - Theta_E)*g_E - E_set)/(I_set*g_E),\n",
       " W_II == ((E_set*W_IE - Theta_I)*g_I - I_set)/(I_set*g_I)]"
      ]
     },
     "metadata": {},
     "output_type": "display_data"
    }
   ],
   "source": [
    "show(synapticFixedPoint_up)"
   ]
  },
  {
   "cell_type": "markdown",
   "metadata": {},
   "source": [
    "## Quasi-steady-state approximation\n",
    "1. Full system neural+synaptic\n",
    "2. Nondimensionalization\n",
    "3. Normalization\n",
    "4. Approximation (fast neural subsystem)"
   ]
  },
  {
   "cell_type": "markdown",
   "metadata": {},
   "source": [
    "### Full system"
   ]
  },
  {
   "cell_type": "code",
   "execution_count": 55,
   "metadata": {},
   "outputs": [
    {
     "data": {
      "text/html": [
       "<html><script type=\"math/tex; mode=display\">\\newcommand{\\Bold}[1]{\\mathbf{#1}}\\mathit{dEdt} = \\frac{{\\left(E W_{\\mathit{EE}} - I W_{\\mathit{EI}} + I_{\\mathit{ext}} - \\Theta_{E}\\right)} g_{E} - E}{\\tau_{E}}</script></html>"
      ],
      "text/plain": [
       "dEdt == ((E*W_EE - I*W_EI + I_ext - Theta_E)*g_E - E)/tau_E"
      ]
     },
     "metadata": {},
     "output_type": "display_data"
    },
    {
     "data": {
      "text/html": [
       "<html><script type=\"math/tex; mode=display\">\\newcommand{\\Bold}[1]{\\mathbf{#1}}\\mathit{dIdt} = \\frac{{\\left(E W_{\\mathit{IE}} - I W_{\\mathit{II}} - \\Theta_{I}\\right)} g_{I} - I}{\\tau_{I}}</script></html>"
      ],
      "text/plain": [
       "dIdt == ((E*W_IE - I*W_II - Theta_I)*g_I - I)/tau_I"
      ]
     },
     "metadata": {},
     "output_type": "display_data"
    },
    {
     "data": {
      "text/html": [
       "<html><script type=\"math/tex; mode=display\">\\newcommand{\\Bold}[1]{\\mathbf{#1}}\\mathit{dWEEdt} = -{\\left(E - E_{\\mathit{set}}\\right)} E \\alpha_{1} g_{E}</script></html>"
      ],
      "text/plain": [
       "dWEEdt == -(E - E_set)*E*alpha_1*g_E"
      ]
     },
     "metadata": {},
     "output_type": "display_data"
    },
    {
     "data": {
      "text/html": [
       "<html><script type=\"math/tex; mode=display\">\\newcommand{\\Bold}[1]{\\mathbf{#1}}\\mathit{dWEIdt} = -\\frac{W_{\\mathit{EI}} - \\frac{{\\left(E_{\\mathit{set}} W_{\\mathit{EE}} + I_{\\mathit{ext}} - \\Theta_{E}\\right)} g_{E} - E_{\\mathit{set}}}{I_{\\mathit{set}} g_{E}}}{\\tau_{\\mathit{ff}}}</script></html>"
      ],
      "text/plain": [
       "dWEIdt == -(W_EI - ((E_set*W_EE + I_ext - Theta_E)*g_E - E_set)/(I_set*g_E))/tau_ff"
      ]
     },
     "metadata": {},
     "output_type": "display_data"
    },
    {
     "data": {
      "text/html": [
       "<html><script type=\"math/tex; mode=display\">\\newcommand{\\Bold}[1]{\\mathbf{#1}}\\mathit{dWIEdt} = E {\\left(I - I_{\\mathit{set}}\\right)} \\alpha_{3} g_{I}</script></html>"
      ],
      "text/plain": [
       "dWIEdt == E*(I - I_set)*alpha_3*g_I"
      ]
     },
     "metadata": {},
     "output_type": "display_data"
    },
    {
     "data": {
      "text/html": [
       "<html><script type=\"math/tex; mode=display\">\\newcommand{\\Bold}[1]{\\mathbf{#1}}\\mathit{dWIIdt} = -\\frac{W_{\\mathit{II}} - \\frac{{\\left(E_{\\mathit{set}} W_{\\mathit{IE}} - \\Theta_{I}\\right)} g_{I} - I_{\\mathit{set}}}{I_{\\mathit{set}} g_{I}}}{\\tau_{\\mathit{ff}}}</script></html>"
      ],
      "text/plain": [
       "dWIIdt == -(W_II - ((E_set*W_IE - Theta_I)*g_I - I_set)/(I_set*g_I))/tau_ff"
      ]
     },
     "metadata": {},
     "output_type": "display_data"
    }
   ],
   "source": [
    "show(f_E)\n",
    "show(f_I)\n",
    "show(f_WEE)\n",
    "show(f_WEI)\n",
    "show(f_WIE)\n",
    "show(f_WII)"
   ]
  },
  {
   "cell_type": "markdown",
   "metadata": {},
   "source": [
    "### Nondimensionalization"
   ]
  },
  {
   "cell_type": "markdown",
   "metadata": {},
   "source": [
    "#### Definition of nondimensional variables  \n",
    "Define new (nondimensional) variables $e$, $i$, etc. and scaling parameters $E_0$, $I_0$, etc:  \n",
    "$e = E/E_0$  \n",
    "$i = I/I_0$  \n",
    "$\\tau = t/\\tau_0$  \n",
    "$w_{EE} = W_{EE}/W_{EE0}$  \n",
    "... etc"
   ]
  },
  {
   "cell_type": "code",
   "execution_count": 56,
   "metadata": {},
   "outputs": [],
   "source": [
    "var('e,i')\n",
    "var('E_0,I_0,tau_0')\n",
    "var('w_EE,w_EI,w_IE,w_II')\n",
    "var('W_EE0,W_EI0,W_IE0,W_II0')\n",
    "var('dedtau,didtau')\n",
    "var('dwEEdtau,dwEIdtau,dwIEdtau,dwIIdtau');"
   ]
  },
  {
   "cell_type": "markdown",
   "metadata": {},
   "source": [
    "Replacement rules:"
   ]
  },
  {
   "cell_type": "code",
   "execution_count": 57,
   "metadata": {},
   "outputs": [
    {
     "data": {
      "text/html": [
       "<html><script type=\"math/tex; mode=display\">\\newcommand{\\Bold}[1]{\\mathbf{#1}}\\left[E = E_{0} e, \\mathit{dEdt} = \\frac{E_{0} \\mathit{dedtau}}{\\tau_{0}}, I = I_{0} i, \\mathit{dIdt} = \\frac{I_{0} \\mathit{didtau}}{\\tau_{0}}, W_{\\mathit{EE}} = W_{\\mathit{EE}_{0}} w_{\\mathit{EE}}, W_{\\mathit{EI}} = W_{\\mathit{EI}_{0}} w_{\\mathit{EI}}, W_{\\mathit{IE}} = W_{\\mathit{IE}_{0}} w_{\\mathit{IE}}, W_{\\mathit{II}} = W_{\\mathit{II}_{0}} w_{\\mathit{II}}, \\mathit{dWEEdt} = \\frac{W_{\\mathit{EE}_{0}} \\mathit{dwEEdtau}}{\\tau_{0}}, \\mathit{dWEIdt} = \\frac{W_{\\mathit{EI}_{0}} \\mathit{dwEIdtau}}{\\tau_{0}}, \\mathit{dWIEdt} = \\frac{W_{\\mathit{IE}_{0}} \\mathit{dwIEdtau}}{\\tau_{0}}, \\mathit{dWIIdt} = \\frac{W_{\\mathit{II}_{0}} \\mathit{dwIIdtau}}{\\tau_{0}}\\right]</script></html>"
      ],
      "text/plain": [
       "[E == E_0*e,\n",
       " dEdt == E_0*dedtau/tau_0,\n",
       " I == I_0*i,\n",
       " dIdt == I_0*didtau/tau_0,\n",
       " W_EE == W_EE0*w_EE,\n",
       " W_EI == W_EI0*w_EI,\n",
       " W_IE == W_IE0*w_IE,\n",
       " W_II == W_II0*w_II,\n",
       " dWEEdt == W_EE0*dwEEdtau/tau_0,\n",
       " dWEIdt == W_EI0*dwEIdtau/tau_0,\n",
       " dWIEdt == W_IE0*dwIEdtau/tau_0,\n",
       " dWIIdt == W_II0*dwIIdtau/tau_0]"
      ]
     },
     "metadata": {},
     "output_type": "display_data"
    }
   ],
   "source": [
    "nondim = [E==E_0*e,dEdt==(E_0/tau_0)*dedtau,I==I_0*i,dIdt==(I_0/tau_0)*didtau,W_EE==W_EE0*w_EE,W_EI==W_EI0*w_EI,W_IE==W_IE0*w_IE,W_II==W_II0*w_II,dWEEdt==(W_EE0/tau_0)*dwEEdtau,dWEIdt==(W_EI0/tau_0)*dwEIdtau,dWIEdt==(W_IE0/tau_0)*dwIEdtau,dWIIdt==(W_II0/tau_0)*dwIIdtau]\n",
    "show(nondim)"
   ]
  },
  {
   "cell_type": "markdown",
   "metadata": {},
   "source": [
    "Full system after replacement:"
   ]
  },
  {
   "cell_type": "code",
   "execution_count": 58,
   "metadata": {},
   "outputs": [
    {
     "data": {
      "text/html": [
       "<html><script type=\"math/tex; mode=display\">\\newcommand{\\Bold}[1]{\\mathbf{#1}}\\frac{\\mathit{dedtau} \\tau_{E}}{\\tau_{0}} = W_{\\mathit{EE}_{0}} e g_{E} w_{\\mathit{EE}} - \\frac{I_{0} W_{\\mathit{EI}_{0}} g_{E} i w_{\\mathit{EI}}}{E_{0}} - e + \\frac{I_{\\mathit{ext}} g_{E}}{E_{0}} - \\frac{\\Theta_{E} g_{E}}{E_{0}}</script></html>"
      ],
      "text/plain": [
       "dedtau*tau_E/tau_0 == W_EE0*e*g_E*w_EE - I_0*W_EI0*g_E*i*w_EI/E_0 - e + I_ext*g_E/E_0 - Theta_E*g_E/E_0"
      ]
     },
     "metadata": {},
     "output_type": "display_data"
    },
    {
     "data": {
      "text/html": [
       "<html><script type=\"math/tex; mode=display\">\\newcommand{\\Bold}[1]{\\mathbf{#1}}\\frac{\\mathit{didtau} \\tau_{I}}{\\tau_{0}} = \\frac{E_{0} W_{\\mathit{IE}_{0}} e g_{I} w_{\\mathit{IE}}}{I_{0}} - W_{\\mathit{II}_{0}} g_{I} i w_{\\mathit{II}} - \\frac{\\Theta_{I} g_{I}}{I_{0}} - i</script></html>"
      ],
      "text/plain": [
       "didtau*tau_I/tau_0 == E_0*W_IE0*e*g_I*w_IE/I_0 - W_II0*g_I*i*w_II - Theta_I*g_I/I_0 - i"
      ]
     },
     "metadata": {},
     "output_type": "display_data"
    },
    {
     "data": {
      "text/html": [
       "<html><script type=\"math/tex; mode=display\">\\newcommand{\\Bold}[1]{\\mathbf{#1}}\\mathit{dwEEdtau} = -\\frac{E_{0}^{2} \\alpha_{1} e^{2} g_{E} \\tau_{0}}{W_{\\mathit{EE}_{0}}} + \\frac{E_{0} E_{\\mathit{set}} \\alpha_{1} e g_{E} \\tau_{0}}{W_{\\mathit{EE}_{0}}}</script></html>"
      ],
      "text/plain": [
       "dwEEdtau == -E_0^2*alpha_1*e^2*g_E*tau_0/W_EE0 + E_0*E_set*alpha_1*e*g_E*tau_0/W_EE0"
      ]
     },
     "metadata": {},
     "output_type": "display_data"
    },
    {
     "data": {
      "text/html": [
       "<html><script type=\"math/tex; mode=display\">\\newcommand{\\Bold}[1]{\\mathbf{#1}}\\mathit{dwEIdtau} = \\frac{E_{\\mathit{set}} W_{\\mathit{EE}_{0}} \\tau_{0} w_{\\mathit{EE}}}{I_{\\mathit{set}} W_{\\mathit{EI}_{0}} \\tau_{\\mathit{ff}}} - \\frac{\\tau_{0} w_{\\mathit{EI}}}{\\tau_{\\mathit{ff}}} + \\frac{I_{\\mathit{ext}} \\tau_{0}}{I_{\\mathit{set}} W_{\\mathit{EI}_{0}} \\tau_{\\mathit{ff}}} - \\frac{\\Theta_{E} \\tau_{0}}{I_{\\mathit{set}} W_{\\mathit{EI}_{0}} \\tau_{\\mathit{ff}}} - \\frac{E_{\\mathit{set}} \\tau_{0}}{I_{\\mathit{set}} W_{\\mathit{EI}_{0}} g_{E} \\tau_{\\mathit{ff}}}</script></html>"
      ],
      "text/plain": [
       "dwEIdtau == E_set*W_EE0*tau_0*w_EE/(I_set*W_EI0*tau_ff) - tau_0*w_EI/tau_ff + I_ext*tau_0/(I_set*W_EI0*tau_ff) - Theta_E*tau_0/(I_set*W_EI0*tau_ff) - E_set*tau_0/(I_set*W_EI0*g_E*tau_ff)"
      ]
     },
     "metadata": {},
     "output_type": "display_data"
    },
    {
     "data": {
      "text/html": [
       "<html><script type=\"math/tex; mode=display\">\\newcommand{\\Bold}[1]{\\mathbf{#1}}\\mathit{dwIEdtau} = \\frac{E_{0} I_{0} \\alpha_{3} e g_{I} i \\tau_{0}}{W_{\\mathit{IE}_{0}}} - \\frac{E_{0} I_{\\mathit{set}} \\alpha_{3} e g_{I} \\tau_{0}}{W_{\\mathit{IE}_{0}}}</script></html>"
      ],
      "text/plain": [
       "dwIEdtau == E_0*I_0*alpha_3*e*g_I*i*tau_0/W_IE0 - E_0*I_set*alpha_3*e*g_I*tau_0/W_IE0"
      ]
     },
     "metadata": {},
     "output_type": "display_data"
    },
    {
     "data": {
      "text/html": [
       "<html><script type=\"math/tex; mode=display\">\\newcommand{\\Bold}[1]{\\mathbf{#1}}\\mathit{dwIIdtau} = \\frac{E_{\\mathit{set}} W_{\\mathit{IE}_{0}} \\tau_{0} w_{\\mathit{IE}}}{I_{\\mathit{set}} W_{\\mathit{II}_{0}} \\tau_{\\mathit{ff}}} - \\frac{\\tau_{0} w_{\\mathit{II}}}{\\tau_{\\mathit{ff}}} - \\frac{\\Theta_{I} \\tau_{0}}{I_{\\mathit{set}} W_{\\mathit{II}_{0}} \\tau_{\\mathit{ff}}} - \\frac{\\tau_{0}}{W_{\\mathit{II}_{0}} g_{I} \\tau_{\\mathit{ff}}}</script></html>"
      ],
      "text/plain": [
       "dwIIdtau == E_set*W_IE0*tau_0*w_IE/(I_set*W_II0*tau_ff) - tau_0*w_II/tau_ff - Theta_I*tau_0/(I_set*W_II0*tau_ff) - tau_0/(W_II0*g_I*tau_ff)"
      ]
     },
     "metadata": {},
     "output_type": "display_data"
    }
   ],
   "source": [
    "f_e = f_E.subs(nondim)*tau_E/E_0\n",
    "f_i = f_I.subs(nondim)*tau_I/I_0\n",
    "f_wEE = f_WEE.subs(nondim)*tau_0/W_EE0\n",
    "f_wEI = f_WEI.subs(nondim)*tau_0/W_EI0\n",
    "f_wIE = f_WIE.subs(nondim)*tau_0/W_IE0\n",
    "f_wII = f_WII.subs(nondim)*tau_0/W_II0\n",
    "show(f_e.expand())\n",
    "show(f_i.expand())\n",
    "show(f_wEE.expand())\n",
    "show(f_wEI.expand())\n",
    "show(f_wIE.expand())\n",
    "show(f_wII.expand())"
   ]
  },
  {
   "cell_type": "markdown",
   "metadata": {},
   "source": [
    "### Normalization of equations  \n",
    "Choose scaling parameters such that nondimensional variables are of order 1:  \n",
    "$\\tau_0 = 1/(\\alpha_1 g_E g_I E_{set} I_{set})$  \n",
    "$\\tau_{ff} = \\tau_0$  \n",
    "$E_0 = E_{set}$  \n",
    "$I_0 = I_{set}$  \n",
    "$W_{EE0} = R/g_I$  \n",
    "$W_{EI0} = R/g_E$  \n",
    "$W_{IE0} = 1/(\\alpha g_E)$  \n",
    "$W_{II0} = 1/g_I$  \n",
    "\n",
    "Define new parameters:  \n",
    "$\\epsilon_E = \\tau_E/\\tau_0$  \n",
    "$\\epsilon_I = \\tau_I/\\tau_0$  \n",
    "$R = E_{set}/I_{set}$  \n",
    "$\\alpha = \\alpha_1/\\alpha_3$  \n",
    "$g = g_I/g_E$  \n",
    "$\\theta_E = (g_E/E_{set}) \\Theta_E$  \n",
    "$\\theta_I = (g_I/I_{set}) \\Theta_I$  \n",
    "$c_{ext} = (g_E/E_{set})C_{ext}$"
   ]
  },
  {
   "cell_type": "code",
   "execution_count": 59,
   "metadata": {},
   "outputs": [
    {
     "data": {
      "text/html": [
       "<html><script type=\"math/tex; mode=display\">\\newcommand{\\Bold}[1]{\\mathbf{#1}}\\left[\\tau_{0} = \\frac{1}{E_{\\mathit{set}} I_{\\mathit{set}} \\alpha_{1} g_{E} g_{I}}, \\tau_{\\mathit{ff}} = \\tau_{0}, \\tau_{E} = \\epsilon_{E} \\tau_{0}, \\tau_{I} = \\epsilon_{I} \\tau_{0}, E_{0} = E_{\\mathit{set}}, I_{0} = I_{\\mathit{set}}, W_{\\mathit{EE}_{0}} = \\frac{R}{g_{I}}, W_{\\mathit{EI}_{0}} = \\frac{R}{g_{E}}, W_{\\mathit{IE}_{0}} = \\frac{1}{\\alpha g_{E}}, W_{\\mathit{II}_{0}} = \\frac{1}{g_{I}}, I_{\\mathit{set}} = \\frac{E_{\\mathit{set}}}{R}, \\Theta_{E} = \\frac{E_{\\mathit{set}} \\theta_{E}}{g_{E}}, \\Theta_{I} = \\frac{I_{\\mathit{set}} \\theta_{I}}{g_{I}}, g_{E} = g g_{I}, \\alpha_{1} = \\alpha \\alpha_{3}, I_{\\mathit{ext}} = \\frac{E_{\\mathit{set}} i_{\\mathit{ext}}}{g_{E}}\\right]</script></html>"
      ],
      "text/plain": [
       "[tau_0 == 1/(E_set*I_set*alpha_1*g_E*g_I),\n",
       " tau_ff == tau_0,\n",
       " tau_E == epsilon_E*tau_0,\n",
       " tau_I == epsilon_I*tau_0,\n",
       " E_0 == E_set,\n",
       " I_0 == I_set,\n",
       " W_EE0 == R/g_I,\n",
       " W_EI0 == R/g_E,\n",
       " W_IE0 == 1/(alpha*g_E),\n",
       " W_II0 == (1/g_I),\n",
       " I_set == E_set/R,\n",
       " Theta_E == E_set*theta_E/g_E,\n",
       " Theta_I == I_set*theta_I/g_I,\n",
       " g_E == g*g_I,\n",
       " alpha_1 == alpha*alpha_3,\n",
       " I_ext == E_set*i_ext/g_E]"
      ]
     },
     "metadata": {},
     "output_type": "display_data"
    }
   ],
   "source": [
    "var('epsilon_E,epsilon_I')\n",
    "var('theta_E,theta_I,R,g,alpha,i_ext')\n",
    "normaliz = [tau_0==1/(alpha_1*g_E*g_I*E_set*I_set),tau_ff==tau_0,tau_E==epsilon_E*tau_0,tau_I==epsilon_I*tau_0,E_0==E_set,I_0==I_set,W_EE0==R/g_I,W_EI0==R/g_E,W_IE0==1/(alpha*g_E),W_II0==1/g_I,I_set==E_set/R,Theta_E==theta_E*E_set/g_E,Theta_I==theta_I*I_set/g_I,g_E==g*g_I,alpha_1==alpha*alpha_3,I_ext==(E_set/g_E)*i_ext]\n",
    "show(normaliz)"
   ]
  },
  {
   "cell_type": "markdown",
   "metadata": {},
   "source": [
    "Replacement rules: numerical values, parameter definitions, nondimensionalized weights"
   ]
  },
  {
   "cell_type": "code",
   "execution_count": 60,
   "metadata": {},
   "outputs": [],
   "source": [
    "parameters = [alpha==alpha_1/alpha_3,tau_ff==tau_0,epsilon_E==tau_E/tau_0,epsilon_I==tau_I/tau_0,g==g_E/g_I,R==E_set/I_set,theta_E==(g_E/E_set)*Theta_E,theta_I==(g_I/I_set)*Theta_I,i_ext==(g_E/E_set)*I_ext,W_EE0==R/g_I,W_EI0==R/g_E,W_IE0==1/(alpha*g_E),W_II0==1/g_I]\n",
    "weights = [w_EE==W_EE/W_EE0,w_IE==W_IE/W_IE0,w_EI==W_EI/W_EI0,w_II==W_II/W_II0]"
   ]
  },
  {
   "cell_type": "markdown",
   "metadata": {},
   "source": [
    "#### Nondimensionalized, normalized equations"
   ]
  },
  {
   "cell_type": "code",
   "execution_count": 61,
   "metadata": {},
   "outputs": [
    {
     "data": {
      "text/html": [
       "<html><script type=\"math/tex; mode=display\">\\newcommand{\\Bold}[1]{\\mathbf{#1}}\\mathit{dedtau} \\epsilon_{E} = R e g w_{\\mathit{EE}} - i w_{\\mathit{EI}} - e + i_{\\mathit{ext}} - \\theta_{E}</script></html>"
      ],
      "text/plain": [
       "dedtau*epsilon_E == R*e*g*w_EE - i*w_EI - e + i_ext - theta_E"
      ]
     },
     "metadata": {},
     "output_type": "display_data"
    },
    {
     "data": {
      "text/html": [
       "<html><script type=\"math/tex; mode=display\">\\newcommand{\\Bold}[1]{\\mathbf{#1}}\\mathit{didtau} \\epsilon_{I} = -i w_{\\mathit{II}} - i - \\theta_{I} + \\frac{R e w_{\\mathit{IE}}}{\\alpha g}</script></html>"
      ],
      "text/plain": [
       "didtau*epsilon_I == -i*w_II - i - theta_I + R*e*w_IE/(alpha*g)"
      ]
     },
     "metadata": {},
     "output_type": "display_data"
    },
    {
     "data": {
      "text/html": [
       "<html><script type=\"math/tex; mode=display\">\\newcommand{\\Bold}[1]{\\mathbf{#1}}\\mathit{dwEEdtau} = -{\\left(e - 1\\right)} e</script></html>"
      ],
      "text/plain": [
       "dwEEdtau == -(e - 1)*e"
      ]
     },
     "metadata": {},
     "output_type": "display_data"
    },
    {
     "data": {
      "text/html": [
       "<html><script type=\"math/tex; mode=display\">\\newcommand{\\Bold}[1]{\\mathbf{#1}}\\mathit{dwEIdtau} = R g w_{\\mathit{EE}} + i_{\\mathit{ext}} - \\theta_{E} - w_{\\mathit{EI}} - 1</script></html>"
      ],
      "text/plain": [
       "dwEIdtau == R*g*w_EE + i_ext - theta_E - w_EI - 1"
      ]
     },
     "metadata": {},
     "output_type": "display_data"
    },
    {
     "data": {
      "text/html": [
       "<html><script type=\"math/tex; mode=display\">\\newcommand{\\Bold}[1]{\\mathbf{#1}}\\mathit{dwIEdtau} = e {\\left(i - 1\\right)}</script></html>"
      ],
      "text/plain": [
       "dwIEdtau == e*(i - 1)"
      ]
     },
     "metadata": {},
     "output_type": "display_data"
    },
    {
     "data": {
      "text/html": [
       "<html><script type=\"math/tex; mode=display\">\\newcommand{\\Bold}[1]{\\mathbf{#1}}\\mathit{dwIIdtau} = -\\theta_{I} - w_{\\mathit{II}} + \\frac{R w_{\\mathit{IE}}}{\\alpha g} - 1</script></html>"
      ],
      "text/plain": [
       "dwIIdtau == -theta_I - w_II + R*w_IE/(alpha*g) - 1"
      ]
     },
     "metadata": {},
     "output_type": "display_data"
    }
   ],
   "source": [
    "f_e_norm = f_e.subs(normaliz).subs(normaliz).subs(normaliz).expand()\n",
    "f_i_norm = f_i.subs(normaliz).subs(normaliz).subs(normaliz).expand()\n",
    "f_wEE_norm = f_wEE.subs(normaliz).subs(normaliz).subs(normaliz).expand().factor()\n",
    "f_wEI_norm = f_wEI.subs(normaliz).subs(normaliz).subs(normaliz).expand()\n",
    "f_wIE_norm = f_wIE.subs(normaliz).subs(normaliz).expand().factor()\n",
    "f_wII_norm = f_wII.subs(normaliz).subs(normaliz).subs(normaliz).expand()\n",
    "show(f_e_norm)\n",
    "show(f_i_norm)\n",
    "show(f_wEE_norm)\n",
    "show(f_wEI_norm)\n",
    "show(f_wIE_norm)\n",
    "show(f_wII_norm)"
   ]
  },
  {
   "cell_type": "markdown",
   "metadata": {},
   "source": [
    "### Approximation: Quasi-steady-state solutions for the neural subsystem"
   ]
  },
  {
   "cell_type": "markdown",
   "metadata": {},
   "source": [
    "Neural dynamics is much faster than synaptic dynamics, thus we assume E and I are in \"equilibrium\" (~instantaneous convergence to quasi-steady-state values, as if the weights were fixed) while the synaptic weights evolve according to their slow dynamics.  \n",
    "That is, we consider  \n",
    "$\\tau_E \\ll \\tau_0$ and $\\tau_I \\ll \\tau_0$  \n",
    "thus  \n",
    "$\\epsilon_E \\ll 1$ and $\\epsilon_E \\ll 1$  \n",
    "thus  \n",
    "$\\epsilon_E\\frac{de}{d\\tau} \\sim 0$ and $\\epsilon_I\\frac{di}{d\\tau} \\sim 0$:"
   ]
  },
  {
   "cell_type": "code",
   "execution_count": 62,
   "metadata": {},
   "outputs": [
    {
     "data": {
      "text/html": [
       "<html><script type=\"math/tex; mode=display\">\\newcommand{\\Bold}[1]{\\mathbf{#1}}e = -\\frac{\\alpha g \\theta_{I} w_{\\mathit{EI}} + {\\left(\\alpha w_{\\mathit{II}} + \\alpha\\right)} g i_{\\mathit{ext}} - {\\left(\\alpha w_{\\mathit{II}} + \\alpha\\right)} g \\theta_{E}}{{\\left(\\alpha w_{\\mathit{II}} + \\alpha\\right)} R g^{2} w_{\\mathit{EE}} - R w_{\\mathit{EI}} w_{\\mathit{IE}} - {\\left(\\alpha w_{\\mathit{II}} + \\alpha\\right)} g}</script></html>"
      ],
      "text/plain": [
       "e == -(alpha*g*theta_I*w_EI + (alpha*w_II + alpha)*g*i_ext - (alpha*w_II + alpha)*g*theta_E)/((alpha*w_II + alpha)*R*g^2*w_EE - R*w_EI*w_IE - (alpha*w_II + alpha)*g)"
      ]
     },
     "metadata": {},
     "output_type": "display_data"
    },
    {
     "data": {
      "text/html": [
       "<html><script type=\"math/tex; mode=display\">\\newcommand{\\Bold}[1]{\\mathbf{#1}}i = -\\frac{R \\alpha g^{2} \\theta_{I} w_{\\mathit{EE}} - \\alpha g \\theta_{I} + R i_{\\mathit{ext}} w_{\\mathit{IE}} - R \\theta_{E} w_{\\mathit{IE}}}{{\\left(\\alpha w_{\\mathit{II}} + \\alpha\\right)} R g^{2} w_{\\mathit{EE}} - R w_{\\mathit{EI}} w_{\\mathit{IE}} - {\\left(\\alpha w_{\\mathit{II}} + \\alpha\\right)} g}</script></html>"
      ],
      "text/plain": [
       "i == -(R*alpha*g^2*theta_I*w_EE - alpha*g*theta_I + R*i_ext*w_IE - R*theta_E*w_IE)/((alpha*w_II + alpha)*R*g^2*w_EE - R*w_EI*w_IE - (alpha*w_II + alpha)*g)"
      ]
     },
     "metadata": {},
     "output_type": "display_data"
    }
   ],
   "source": [
    "neuralFixedPoint_nondim = solve([f_e_norm.subs(dedtau==0),f_i_norm.subs(didtau==0)],e,i)\n",
    "e_ss = neuralFixedPoint_nondim[0][0]\n",
    "i_ss = neuralFixedPoint_nondim[0][1]\n",
    "show(e_ss)\n",
    "show(i_ss)"
   ]
  },
  {
   "cell_type": "markdown",
   "metadata": {},
   "source": [
    "## Stability of the Up state"
   ]
  },
  {
   "cell_type": "markdown",
   "metadata": {},
   "source": [
    "### Jacobian of the nondimensionalized synaptic dynamics in the QSS approximation"
   ]
  },
  {
   "cell_type": "markdown",
   "metadata": {},
   "source": [
    "Let  \n",
    "$\\frac{dw_{EE}}{d\\tau} = f_1(w_{EE},w_{IE})$  \n",
    "$\\frac{dw_{IE}}{d\\tau} = f_2(w_{EE},w_{IE})$  \n",
    "\n",
    "then the Jacobian matrix is\n",
    "$J_{qss} = \\begin{pmatrix}\n",
    "\\frac{\\partial f_1}{\\partial w_{EE}} & \\frac{\\partial f_1}{\\partial w_{IE}} \\\\\n",
    "\\frac{\\partial f_2}{\\partial w_{EE}} & \\frac{\\partial f_2}{\\partial w_{IE}}\n",
    "\\end{pmatrix}\n",
    "$  \n",
    "Stability analysis: we should evaluate $J_{qss}$ at the QSS fixed point and compute its eigenvalues. If at least one eigenvalue has positive real part, then the fixed point is unstable."
   ]
  },
  {
   "cell_type": "markdown",
   "metadata": {},
   "source": [
    "### Jacobian matrix"
   ]
  },
  {
   "cell_type": "markdown",
   "metadata": {},
   "source": [
    "The Jacobian matrix $J$ is the matrix of all the first-order partial derivatives of the learning rule with respect to the weights. In terms of the QSS synaptic system:  \n",
    "$\\displaystyle \\frac{dw_{EE}}{d \\tau} = f_1(w_{EE},w_{IE})$  \n",
    "$\\displaystyle \\frac{dw_{IE}}{d \\tau} = f_2(w_{EE},w_{IE})$  \n",
    "\n",
    "then  \n",
    "\\begin{array}{lll}\n",
    "J_{11} = \\displaystyle \\frac{\\partial f_1}{\\partial w_{EE}} & J_{12} = \\displaystyle \\frac{\\partial f_1}{\\partial w_{IE}} \\\\\n",
    "J_{21} = \\displaystyle \\frac{\\partial f_2}{\\partial w_{EE}} & J_{22} = \\displaystyle \\frac{\\partial f_2}{\\partial w_{IE}}\n",
    "\\end{array}  \n",
    "\n",
    "Instead of substituting $e = e_{ss}(w_{EE},w_{EI},w_{IE},w_{II})$ and $i = i_{ss}(w_{EE},w_{EI},w_{IE},w_{II})$ directly into $f_1(e,i), \\ldots$ before differentiating, we will use the chain rule:"
   ]
  },
  {
   "cell_type": "markdown",
   "metadata": {},
   "source": [
    "#### Actual computation using the chain rule"
   ]
  },
  {
   "cell_type": "markdown",
   "metadata": {},
   "source": [
    "The learning rule is expressed as a composition of functions $e$ and $i$ of the weights:  \n",
    "$\\displaystyle \\frac{dw_{EE}}{d \\tau} = f_1(e,i)$  \n",
    "$\\displaystyle \\frac{dw_{EI}}{d \\tau} = f_2(e,i)$  \n",
    "\n",
    "Using the chain rule, the Jacobian matrix elements can be computed as  \n",
    "$J_{11} = \\displaystyle \\frac{\\partial f_1}{\\partial w_{EE}} = \\frac{\\partial f_1}{\\partial e} \\frac{\\partial e}{\\partial w_{EE}} + \\frac{\\partial f_1}{\\partial i} \\frac{\\partial i}{\\partial w_{EE}}$  \n",
    "$J_{12} = \\displaystyle \\frac{\\partial f_1}{\\partial w_{IE}} = \\frac{\\partial f_1}{\\partial e} \\frac{\\partial e}{\\partial w_{IE}} + \\frac{\\partial f_1}{\\partial i} \\frac{\\partial i}{\\partial w_{IE}}$  \n",
    "$J_{21} = \\displaystyle \\frac{\\partial f_2}{\\partial w_{EE}} = \\frac{\\partial f_2}{\\partial e} \\frac{\\partial e}{\\partial w_{EE}} + \\frac{\\partial f_2}{\\partial i} \\frac{\\partial i}{\\partial w_{EE}}$  \n",
    "$J_{22} = \\displaystyle \\frac{\\partial f_2}{\\partial w_{IE}} = \\frac{\\partial f_2}{\\partial e} \\frac{\\partial e}{\\partial w_{IE}} + \\frac{\\partial f_2}{\\partial i} \\frac{\\partial i}{\\partial w_{IE}}$  \n",
    "\n",
    "Here we consider $w_{EI}$ and $w_{II}$ as functions of $w_{EE}$ and $w_{IE}$:  \n",
    "$e = e_{ss}(w_{EE},w_{EI}(w_{EE},w_{IE}),w_{IE},w_{II}(w_{EE},w_{IE}))$  \n",
    "$i = i_{ss}(w_{EE},w_{EI}(w_{EE},w_{IE}),w_{IE},w_{II}(w_{EE},w_{IE}))$ "
   ]
  },
  {
   "cell_type": "markdown",
   "metadata": {},
   "source": [
    "If the learning rule includes explicit dependence on the weights (as in this case) we need a more general expression:  \n",
    "$\\frac{dw_{EE}}{d \\tau} = f_1(e,i,w_{EE},w_{EI},\\ldots)$  \n",
    "$\\frac{dw_{EI}}{d \\tau} = f_2(e,i,w_{EE},w_{EI},\\ldots)$ ... etc  \n",
    "\n",
    "first substitute  \n",
    "$w_{EE} \\rightarrow p_{EE}$  \n",
    "$w_{EI} \\rightarrow p_{EI}, \\ldots$  \n",
    "\n",
    "to get  \n",
    "$\\displaystyle \\frac{dw_{EE}}{d \\tau} = f_1(e,i,p_{EE},p_{EI},\\ldots)$  \n",
    "$\\displaystyle \\frac{dw_{EI}}{d \\tau} = f_2(e,i,p_{EE},p_{EI},\\ldots)$  \n",
    "\n",
    "and then take the partial derivatives:  \n",
    "$J_{11} = \\displaystyle \\frac{\\partial f_1}{\\partial w_{EE}} = \\frac{\\partial f_1}{\\partial e} \\frac{\\partial e}{\\partial w_{EE}} + \\frac{\\partial f_1}{\\partial i} \\frac{\\partial i}{\\partial w_{EE}} + \\frac{\\partial f_1}{\\partial p_{EE}}$ (because $\\frac{\\partial p_{EE}}{\\partial w_{EE}}=1$ and $\\frac{\\partial p_{EI}}{\\partial w_{EE}}=0 \\ldots$)  \n",
    "$J_{12} = \\displaystyle \\frac{\\partial f_1}{\\partial w_{EI}} = \\frac{\\partial f_1}{\\partial e} \\frac{\\partial e}{\\partial w_{EI}} + \\frac{\\partial f_1}{\\partial i} \\frac{\\partial i}{\\partial w_{EI}} + \\frac{\\partial f_1}{\\partial p_{EI}}$ (because $\\frac{\\partial p_{EE}}{\\partial w_{EI}}=0$ and $\\frac{\\partial p_{EI}}{\\partial w_{EI}}=1 \\ldots$)  \n",
    "...etc"
   ]
  },
  {
   "cell_type": "code",
   "execution_count": 63,
   "metadata": {},
   "outputs": [
    {
     "data": {
      "text/html": [
       "<html><script type=\"math/tex; mode=display\">\\newcommand{\\Bold}[1]{\\mathbf{#1}}\\left(\\begin{array}{rrrr}\n",
       "-\\mathit{dedwEE}_{\\mathit{ph}} {\\left(2 \\, e - 1\\right)} & -\\mathit{dedwEI}_{\\mathit{ph}} {\\left(2 \\, e - 1\\right)} & -\\mathit{dedwIE}_{\\mathit{ph}} {\\left(2 \\, e - 1\\right)} & -\\mathit{dedwII}_{\\mathit{ph}} {\\left(2 \\, e - 1\\right)} \\\\\n",
       "R g & -1 & 0 & 0 \\\\\n",
       "\\mathit{didwEE}_{\\mathit{ph}} e + \\mathit{dedwEE}_{\\mathit{ph}} {\\left(i - 1\\right)} & \\mathit{didwEI}_{\\mathit{ph}} e + \\mathit{dedwEI}_{\\mathit{ph}} {\\left(i - 1\\right)} & \\mathit{didwIE}_{\\mathit{ph}} e + \\mathit{dedwIE}_{\\mathit{ph}} {\\left(i - 1\\right)} & \\mathit{didwII}_{\\mathit{ph}} e + \\mathit{dedwII}_{\\mathit{ph}} {\\left(i - 1\\right)} \\\\\n",
       "0 & 0 & \\frac{R}{\\alpha g} & -1\n",
       "\\end{array}\\right)</script></html>"
      ],
      "text/plain": [
       "[           -dedwEE_ph*(2*e - 1)            -dedwEI_ph*(2*e - 1)            -dedwIE_ph*(2*e - 1)            -dedwII_ph*(2*e - 1)]\n",
       "[                            R*g                              -1                               0                               0]\n",
       "[didwEE_ph*e + dedwEE_ph*(i - 1) didwEI_ph*e + dedwEI_ph*(i - 1) didwIE_ph*e + dedwIE_ph*(i - 1) didwII_ph*e + dedwII_ph*(i - 1)]\n",
       "[                              0                               0                     R/(alpha*g)                              -1]"
      ]
     },
     "metadata": {},
     "output_type": "display_data"
    }
   ],
   "source": [
    "var('dedwEE_ph,didwEE_ph') #placeholders\n",
    "var('dedwEI_ph,didwEI_ph')\n",
    "var('dedwIE_ph,didwIE_ph')\n",
    "var('dedwII_ph,didwII_ph')\n",
    "J_11 = diff(dwEEdtau.subs(f_wEE_norm),e)*dedwEE_ph + diff(dwEEdtau.subs(f_wEE_norm),i)*didwEE_ph + diff(dwEEdtau.subs(f_wEE_norm),w_EE)\n",
    "J_12 = diff(dwEEdtau.subs(f_wEE_norm),e)*dedwEI_ph + diff(dwEEdtau.subs(f_wEE_norm),i)*didwEI_ph + diff(dwEEdtau.subs(f_wEE_norm),w_EI)\n",
    "J_13 = diff(dwEEdtau.subs(f_wEE_norm),e)*dedwIE_ph + diff(dwEEdtau.subs(f_wEE_norm),i)*didwIE_ph + diff(dwEEdtau.subs(f_wEE_norm),w_IE)\n",
    "J_14 = diff(dwEEdtau.subs(f_wEE_norm),e)*dedwII_ph + diff(dwEEdtau.subs(f_wEE_norm),i)*didwII_ph + diff(dwEEdtau.subs(f_wEE_norm),w_II)\n",
    "J_21 = diff(dwEIdtau.subs(f_wEI_norm),e)*dedwEE_ph + diff(dwEIdtau.subs(f_wEI_norm),i)*didwEE_ph + diff(dwEIdtau.subs(f_wEI_norm),w_EE)\n",
    "J_22 = diff(dwEIdtau.subs(f_wEI_norm),e)*dedwEI_ph + diff(dwEIdtau.subs(f_wEI_norm),i)*didwEI_ph + diff(dwEIdtau.subs(f_wEI_norm),w_EI)\n",
    "J_23 = diff(dwEIdtau.subs(f_wEI_norm),e)*dedwIE_ph + diff(dwEIdtau.subs(f_wEI_norm),i)*didwIE_ph + diff(dwEIdtau.subs(f_wEI_norm),w_IE)\n",
    "J_24 = diff(dwEIdtau.subs(f_wEI_norm),e)*dedwII_ph + diff(dwEIdtau.subs(f_wEI_norm),i)*didwII_ph + diff(dwEIdtau.subs(f_wEI_norm),w_II)\n",
    "J_31 = diff(dwIEdtau.subs(f_wIE_norm),e)*dedwEE_ph + diff(dwIEdtau.subs(f_wIE_norm),i)*didwEE_ph + diff(dwIEdtau.subs(f_wIE_norm),w_EE)\n",
    "J_32 = diff(dwIEdtau.subs(f_wIE_norm),e)*dedwEI_ph + diff(dwIEdtau.subs(f_wIE_norm),i)*didwEI_ph + diff(dwIEdtau.subs(f_wIE_norm),w_EI)\n",
    "J_33 = diff(dwIEdtau.subs(f_wIE_norm),e)*dedwIE_ph + diff(dwIEdtau.subs(f_wIE_norm),i)*didwIE_ph + diff(dwIEdtau.subs(f_wIE_norm),w_IE)\n",
    "J_34 = diff(dwIEdtau.subs(f_wIE_norm),e)*dedwII_ph + diff(dwIEdtau.subs(f_wIE_norm),i)*didwII_ph + diff(dwIEdtau.subs(f_wIE_norm),w_II)\n",
    "J_41 = diff(dwIIdtau.subs(f_wII_norm),e)*dedwEE_ph + diff(dwIIdtau.subs(f_wII_norm),i)*didwEE_ph + diff(dwIIdtau.subs(f_wII_norm),w_EE)\n",
    "J_42 = diff(dwIIdtau.subs(f_wII_norm),e)*dedwEI_ph + diff(dwIIdtau.subs(f_wII_norm),i)*didwEI_ph + diff(dwIIdtau.subs(f_wII_norm),w_EI)\n",
    "J_43 = diff(dwIIdtau.subs(f_wII_norm),e)*dedwIE_ph + diff(dwIIdtau.subs(f_wII_norm),i)*didwIE_ph + diff(dwIIdtau.subs(f_wII_norm),w_IE)\n",
    "J_44 = diff(dwIIdtau.subs(f_wII_norm),e)*dedwII_ph + diff(dwIIdtau.subs(f_wII_norm),i)*didwII_ph + diff(dwIIdtau.subs(f_wII_norm),w_II)\n",
    "J = matrix([[J_11,J_12,J_13,J_14],[J_21,J_22,J_23,J_24],[J_31,J_32,J_33,J_34],[J_41,J_42,J_43,J_44]])\n",
    "show(J)"
   ]
  },
  {
   "cell_type": "markdown",
   "metadata": {},
   "source": [
    "In order to compute the eigenvalues of the Jacobian matrix we need:  \n",
    "- the (quasi)steady-state values $e=e_{ss}(w_{EE},w_{EI},w_{IE},w_{II})$ and $i=i_{ss}(w_{EE},w_{EI},w_{IE},w_{II})$  \n",
    "- the follower functions $w_{EI} = w_{EIff}(w_{EE},w_{IE})$ and $w_{II} = w_{IIff}(w_{EE},w_{IE})$  \n",
    "- the partial derivatives $\\displaystyle \\frac{de}{dw_{EE}} \\ldots$  \n",
    "- the fixed point values $w_{EEup}, w_{EIup},\\ldots$"
   ]
  },
  {
   "cell_type": "markdown",
   "metadata": {},
   "source": [
    "#### Quasi-steady-state values of $e$ and $i$"
   ]
  },
  {
   "cell_type": "code",
   "execution_count": 64,
   "metadata": {},
   "outputs": [
    {
     "data": {
      "text/html": [
       "<html><script type=\"math/tex; mode=display\">\\newcommand{\\Bold}[1]{\\mathbf{#1}}e = -\\frac{\\alpha g \\theta_{I} w_{\\mathit{EI}} + {\\left(\\alpha w_{\\mathit{II}} + \\alpha\\right)} g i_{\\mathit{ext}} - {\\left(\\alpha w_{\\mathit{II}} + \\alpha\\right)} g \\theta_{E}}{{\\left(\\alpha w_{\\mathit{II}} + \\alpha\\right)} R g^{2} w_{\\mathit{EE}} - R w_{\\mathit{EI}} w_{\\mathit{IE}} - {\\left(\\alpha w_{\\mathit{II}} + \\alpha\\right)} g}</script></html>"
      ],
      "text/plain": [
       "e == -(alpha*g*theta_I*w_EI + (alpha*w_II + alpha)*g*i_ext - (alpha*w_II + alpha)*g*theta_E)/((alpha*w_II + alpha)*R*g^2*w_EE - R*w_EI*w_IE - (alpha*w_II + alpha)*g)"
      ]
     },
     "metadata": {},
     "output_type": "display_data"
    },
    {
     "data": {
      "text/html": [
       "<html><script type=\"math/tex; mode=display\">\\newcommand{\\Bold}[1]{\\mathbf{#1}}i = -\\frac{R \\alpha g^{2} \\theta_{I} w_{\\mathit{EE}} - \\alpha g \\theta_{I} + R i_{\\mathit{ext}} w_{\\mathit{IE}} - R \\theta_{E} w_{\\mathit{IE}}}{{\\left(\\alpha w_{\\mathit{II}} + \\alpha\\right)} R g^{2} w_{\\mathit{EE}} - R w_{\\mathit{EI}} w_{\\mathit{IE}} - {\\left(\\alpha w_{\\mathit{II}} + \\alpha\\right)} g}</script></html>"
      ],
      "text/plain": [
       "i == -(R*alpha*g^2*theta_I*w_EE - alpha*g*theta_I + R*i_ext*w_IE - R*theta_E*w_IE)/((alpha*w_II + alpha)*R*g^2*w_EE - R*w_EI*w_IE - (alpha*w_II + alpha)*g)"
      ]
     },
     "metadata": {},
     "output_type": "display_data"
    }
   ],
   "source": [
    "show(e_ss)\n",
    "show(i_ss)"
   ]
  },
  {
   "cell_type": "markdown",
   "metadata": {},
   "source": [
    "#### Partial derivatives"
   ]
  },
  {
   "cell_type": "code",
   "execution_count": 65,
   "metadata": {},
   "outputs": [],
   "source": [
    "dedwEE = diff(e.subs(e_ss),w_EE).factor()\n",
    "dedwEI = diff(e.subs(e_ss),w_EI).factor()\n",
    "dedwIE = diff(e.subs(e_ss),w_IE).factor()\n",
    "dedwII = diff(e.subs(e_ss),w_II).factor()\n",
    "didwEE = diff(i.subs(i_ss),w_EE).factor()\n",
    "didwEI = diff(i.subs(i_ss),w_EI).factor()\n",
    "didwIE = diff(i.subs(i_ss),w_IE).factor()\n",
    "didwII = diff(i.subs(i_ss),w_II).factor()\n",
    "dxdw = [dedwEE_ph==dedwEE,dedwEI_ph==dedwEI,dedwIE_ph==dedwIE,dedwII_ph==dedwII,didwEE_ph==didwEE,didwEI_ph==didwEI,didwIE_ph==didwIE,didwII_ph==didwII]"
   ]
  },
  {
   "cell_type": "markdown",
   "metadata": {},
   "source": [
    "#### Fixed points"
   ]
  },
  {
   "cell_type": "markdown",
   "metadata": {},
   "source": [
    "Fixed points are defined by $\\frac{d w_{EE}}{d\\tau}=0$, etc.  \n",
    "1. Fixed points without substitution: (i.e. in terms of $e$ and $i$)"
   ]
  },
  {
   "cell_type": "code",
   "execution_count": 66,
   "metadata": {},
   "outputs": [
    {
     "data": {
      "text/html": [
       "<html><script type=\"math/tex; mode=display\">\\newcommand{\\Bold}[1]{\\mathbf{#1}}\\left[e = 1, i = 1, w_{\\mathit{EI}} = R g w_{\\mathit{EE}} + i_{\\mathit{ext}} - \\theta_{E} - 1, w_{\\mathit{II}} = -\\frac{\\alpha g \\theta_{I} + \\alpha g - R w_{\\mathit{IE}}}{\\alpha g}\\right]</script></html>"
      ],
      "text/plain": [
       "[e == 1,\n",
       " i == 1,\n",
       " w_EI == R*g*w_EE + i_ext - theta_E - 1,\n",
       " w_II == -(alpha*g*theta_I + alpha*g - R*w_IE)/(alpha*g)]"
      ]
     },
     "metadata": {},
     "output_type": "display_data"
    }
   ],
   "source": [
    "synapticFixedPoint_qss_nosubs = solve([f_wEE_norm.subs(dwEEdtau==0),f_wEI_norm.subs(dwEIdtau==0),f_wIE_norm.subs(dwIEdtau==0),f_wII_norm.subs(dwIIdtau==0)],e,i,w_EI,w_II)\n",
    "synapticFixedPoint_qss_nosubs_up = synapticFixedPoint_qss_nosubs[1]\n",
    "show(synapticFixedPoint_qss_nosubs_up)"
   ]
  },
  {
   "cell_type": "markdown",
   "metadata": {},
   "source": [
    "2. Fixed points with substitution (i.e. explicit values of the weights).  \n",
    "Solve for the weight values at the Up state:"
   ]
  },
  {
   "cell_type": "code",
   "execution_count": 67,
   "metadata": {},
   "outputs": [
    {
     "data": {
      "text/html": [
       "<html><script type=\"math/tex; mode=display\">\\newcommand{\\Bold}[1]{\\mathbf{#1}}\\left[w_{\\mathit{EI}} = R g w_{\\mathit{EE}} + i_{\\mathit{ext}} - \\theta_{E} - 1, w_{\\mathit{II}} = -\\frac{\\alpha g \\theta_{I} + \\alpha g - R w_{\\mathit{IE}}}{\\alpha g}\\right]</script></html>"
      ],
      "text/plain": [
       "[w_EI == R*g*w_EE + i_ext - theta_E - 1,\n",
       " w_II == -(alpha*g*theta_I + alpha*g - R*w_IE)/(alpha*g)]"
      ]
     },
     "metadata": {},
     "output_type": "display_data"
    }
   ],
   "source": [
    "synapticFixedPoint_qss_subs = solve([e_ss.subs(e==1),i_ss.subs(i==1)],w_EI,w_II)\n",
    "synapticFixedPoint_qss_subs_up = synapticFixedPoint_qss_subs[0]\n",
    "show(synapticFixedPoint_qss_subs_up)"
   ]
  },
  {
   "cell_type": "markdown",
   "metadata": {},
   "source": [
    "Interpretation of the above expressions: any combination of values of $w_{EE}$ and $w_{IE}$ is a steady state of the learning rule (stability to be proved yet).  \n",
    "\n",
    "Confirm obtained solution:"
   ]
  },
  {
   "cell_type": "code",
   "execution_count": 68,
   "metadata": {},
   "outputs": [
    {
     "data": {
      "text/html": [
       "<html><script type=\"math/tex; mode=display\">\\newcommand{\\Bold}[1]{\\mathbf{#1}}e = 1</script></html>"
      ],
      "text/plain": [
       "e == 1"
      ]
     },
     "metadata": {},
     "output_type": "display_data"
    },
    {
     "data": {
      "text/html": [
       "<html><script type=\"math/tex; mode=display\">\\newcommand{\\Bold}[1]{\\mathbf{#1}}i = 1</script></html>"
      ],
      "text/plain": [
       "i == 1"
      ]
     },
     "metadata": {},
     "output_type": "display_data"
    }
   ],
   "source": [
    "show(e_ss.subs(synapticFixedPoint_qss_subs_up).full_simplify())\n",
    "show(i_ss.subs(synapticFixedPoint_qss_subs_up).full_simplify())"
   ]
  },
  {
   "cell_type": "markdown",
   "metadata": {},
   "source": [
    "Fixed-point values of the original weights at the Up state:"
   ]
  },
  {
   "cell_type": "code",
   "execution_count": 69,
   "metadata": {},
   "outputs": [
    {
     "data": {
      "text/html": [
       "<html><script type=\"math/tex; mode=display\">\\newcommand{\\Bold}[1]{\\mathbf{#1}}\\left[W_{\\mathit{EI}} = \\frac{{\\left(E_{\\mathit{set}} W_{\\mathit{EE}} + I_{\\mathit{ext}} - \\Theta_{E}\\right)} g_{E} - E_{\\mathit{set}}}{I_{\\mathit{set}} g_{E}}, W_{\\mathit{II}} = \\frac{{\\left(E_{\\mathit{set}} W_{\\mathit{IE}} - \\Theta_{I}\\right)} g_{I} - I_{\\mathit{set}}}{I_{\\mathit{set}} g_{I}}\\right]</script></html>"
      ],
      "text/plain": [
       "[W_EI == ((E_set*W_EE + I_ext - Theta_E)*g_E - E_set)/(I_set*g_E),\n",
       " W_II == ((E_set*W_IE - Theta_I)*g_I - I_set)/(I_set*g_I)]"
      ]
     },
     "metadata": {},
     "output_type": "display_data"
    }
   ],
   "source": [
    "synapticFixedPoint_qss_subs_up_orig = [W_EIup,W_IIup]\n",
    "show(synapticFixedPoint_qss_subs_up_orig)"
   ]
  },
  {
   "cell_type": "markdown",
   "metadata": {},
   "source": [
    "### Evaluation of the Jacobian matrix at the Up state fixed point"
   ]
  },
  {
   "cell_type": "markdown",
   "metadata": {},
   "source": [
    "The Jacobian matrix evaluated at the Up state:"
   ]
  },
  {
   "cell_type": "code",
   "execution_count": 70,
   "metadata": {},
   "outputs": [
    {
     "data": {
      "text/html": [
       "<html><script type=\"math/tex; mode=display\">\\newcommand{\\Bold}[1]{\\mathbf{#1}}\\left(\\begin{array}{rrrr}\n",
       "\\frac{{\\left({\\left(R g w_{\\mathit{EE}} + i_{\\mathit{ext}} - \\theta_{E} - 1\\right)} \\theta_{I} + i_{\\mathit{ext}} - \\theta_{E} - \\frac{{\\left(\\alpha g \\theta_{I} + \\alpha g - R w_{\\mathit{IE}}\\right)} i_{\\mathit{ext}}}{\\alpha g} + \\frac{{\\left(\\alpha g \\theta_{I} + \\alpha g - R w_{\\mathit{IE}}\\right)} \\theta_{E}}{\\alpha g}\\right)} R \\alpha^{2} g^{3} {\\left(\\frac{\\alpha g \\theta_{I} + \\alpha g - R w_{\\mathit{IE}}}{\\alpha g} - 1\\right)}}{{\\left(R \\alpha g^{2} w_{\\mathit{EE}} - {\\left(\\alpha g \\theta_{I} + \\alpha g - R w_{\\mathit{IE}}\\right)} R g w_{\\mathit{EE}} + \\alpha g \\theta_{I} - {\\left(R g w_{\\mathit{EE}} + i_{\\mathit{ext}} - \\theta_{E} - 1\\right)} R w_{\\mathit{IE}} - R w_{\\mathit{IE}}\\right)}^{2}} & -\\frac{{\\left(R \\alpha g^{2} \\theta_{I} w_{\\mathit{EE}} - \\alpha g \\theta_{I} + R i_{\\mathit{ext}} w_{\\mathit{IE}} - R \\theta_{E} w_{\\mathit{IE}}\\right)} \\alpha g {\\left(\\frac{\\alpha g \\theta_{I} + \\alpha g - R w_{\\mathit{IE}}}{\\alpha g} - 1\\right)}}{{\\left(R \\alpha g^{2} w_{\\mathit{EE}} - {\\left(\\alpha g \\theta_{I} + \\alpha g - R w_{\\mathit{IE}}\\right)} R g w_{\\mathit{EE}} + \\alpha g \\theta_{I} - {\\left(R g w_{\\mathit{EE}} + i_{\\mathit{ext}} - \\theta_{E} - 1\\right)} R w_{\\mathit{IE}} - R w_{\\mathit{IE}}\\right)}^{2}} & \\frac{{\\left(R g w_{\\mathit{EE}} + i_{\\mathit{ext}} - \\theta_{E} - 1\\right)} {\\left({\\left(R g w_{\\mathit{EE}} + i_{\\mathit{ext}} - \\theta_{E} - 1\\right)} \\theta_{I} + i_{\\mathit{ext}} - \\theta_{E} - \\frac{{\\left(\\alpha g \\theta_{I} + \\alpha g - R w_{\\mathit{IE}}\\right)} i_{\\mathit{ext}}}{\\alpha g} + \\frac{{\\left(\\alpha g \\theta_{I} + \\alpha g - R w_{\\mathit{IE}}\\right)} \\theta_{E}}{\\alpha g}\\right)} R \\alpha g}{{\\left(R \\alpha g^{2} w_{\\mathit{EE}} - {\\left(\\alpha g \\theta_{I} + \\alpha g - R w_{\\mathit{IE}}\\right)} R g w_{\\mathit{EE}} + \\alpha g \\theta_{I} - {\\left(R g w_{\\mathit{EE}} + i_{\\mathit{ext}} - \\theta_{E} - 1\\right)} R w_{\\mathit{IE}} - R w_{\\mathit{IE}}\\right)}^{2}} & -\\frac{{\\left(R \\alpha g^{2} \\theta_{I} w_{\\mathit{EE}} - \\alpha g \\theta_{I} + R i_{\\mathit{ext}} w_{\\mathit{IE}} - R \\theta_{E} w_{\\mathit{IE}}\\right)} {\\left(R g w_{\\mathit{EE}} + i_{\\mathit{ext}} - \\theta_{E} - 1\\right)} \\alpha g}{{\\left(R \\alpha g^{2} w_{\\mathit{EE}} - {\\left(\\alpha g \\theta_{I} + \\alpha g - R w_{\\mathit{IE}}\\right)} R g w_{\\mathit{EE}} + \\alpha g \\theta_{I} - {\\left(R g w_{\\mathit{EE}} + i_{\\mathit{ext}} - \\theta_{E} - 1\\right)} R w_{\\mathit{IE}} - R w_{\\mathit{IE}}\\right)}^{2}} \\\\\n",
       "R g & -1 & 0 & 0 \\\\\n",
       "\\frac{{\\left({\\left(R g w_{\\mathit{EE}} + i_{\\mathit{ext}} - \\theta_{E} - 1\\right)} \\theta_{I} + i_{\\mathit{ext}} - \\theta_{E} - \\frac{{\\left(\\alpha g \\theta_{I} + \\alpha g - R w_{\\mathit{IE}}\\right)} i_{\\mathit{ext}}}{\\alpha g} + \\frac{{\\left(\\alpha g \\theta_{I} + \\alpha g - R w_{\\mathit{IE}}\\right)} \\theta_{E}}{\\alpha g}\\right)} R^{2} \\alpha g^{2} w_{\\mathit{IE}}}{{\\left(R \\alpha g^{2} w_{\\mathit{EE}} - {\\left(\\alpha g \\theta_{I} + \\alpha g - R w_{\\mathit{IE}}\\right)} R g w_{\\mathit{EE}} + \\alpha g \\theta_{I} - {\\left(R g w_{\\mathit{EE}} + i_{\\mathit{ext}} - \\theta_{E} - 1\\right)} R w_{\\mathit{IE}} - R w_{\\mathit{IE}}\\right)}^{2}} & -\\frac{{\\left(R \\alpha g^{2} \\theta_{I} w_{\\mathit{EE}} - \\alpha g \\theta_{I} + R i_{\\mathit{ext}} w_{\\mathit{IE}} - R \\theta_{E} w_{\\mathit{IE}}\\right)} R w_{\\mathit{IE}}}{{\\left(R \\alpha g^{2} w_{\\mathit{EE}} - {\\left(\\alpha g \\theta_{I} + \\alpha g - R w_{\\mathit{IE}}\\right)} R g w_{\\mathit{EE}} + \\alpha g \\theta_{I} - {\\left(R g w_{\\mathit{EE}} + i_{\\mathit{ext}} - \\theta_{E} - 1\\right)} R w_{\\mathit{IE}} - R w_{\\mathit{IE}}\\right)}^{2}} & -\\frac{{\\left(R g w_{\\mathit{EE}} - 1\\right)} {\\left({\\left(R g w_{\\mathit{EE}} + i_{\\mathit{ext}} - \\theta_{E} - 1\\right)} \\theta_{I} + i_{\\mathit{ext}} - \\theta_{E} - \\frac{{\\left(\\alpha g \\theta_{I} + \\alpha g - R w_{\\mathit{IE}}\\right)} i_{\\mathit{ext}}}{\\alpha g} + \\frac{{\\left(\\alpha g \\theta_{I} + \\alpha g - R w_{\\mathit{IE}}\\right)} \\theta_{E}}{\\alpha g}\\right)} R \\alpha g}{{\\left(R \\alpha g^{2} w_{\\mathit{EE}} - {\\left(\\alpha g \\theta_{I} + \\alpha g - R w_{\\mathit{IE}}\\right)} R g w_{\\mathit{EE}} + \\alpha g \\theta_{I} - {\\left(R g w_{\\mathit{EE}} + i_{\\mathit{ext}} - \\theta_{E} - 1\\right)} R w_{\\mathit{IE}} - R w_{\\mathit{IE}}\\right)}^{2}} & \\frac{{\\left(R \\alpha g^{2} \\theta_{I} w_{\\mathit{EE}} - \\alpha g \\theta_{I} + R i_{\\mathit{ext}} w_{\\mathit{IE}} - R \\theta_{E} w_{\\mathit{IE}}\\right)} {\\left(R g w_{\\mathit{EE}} - 1\\right)} \\alpha g}{{\\left(R \\alpha g^{2} w_{\\mathit{EE}} - {\\left(\\alpha g \\theta_{I} + \\alpha g - R w_{\\mathit{IE}}\\right)} R g w_{\\mathit{EE}} + \\alpha g \\theta_{I} - {\\left(R g w_{\\mathit{EE}} + i_{\\mathit{ext}} - \\theta_{E} - 1\\right)} R w_{\\mathit{IE}} - R w_{\\mathit{IE}}\\right)}^{2}} \\\\\n",
       "0 & 0 & \\frac{R}{\\alpha g} & -1\n",
       "\\end{array}\\right)</script></html>"
      ],
      "text/plain": [
       "[((R*g*w_EE + i_ext - theta_E - 1)*theta_I + i_ext - theta_E - (alpha*g*theta_I + alpha*g - R*w_IE)*i_ext/(alpha*g) + (alpha*g*theta_I + alpha*g - R*w_IE)*theta_E/(alpha*g))*R*alpha^2*g^3*((alpha*g*theta_I + alpha*g - R*w_IE)/(alpha*g) - 1)/(R*alpha*g^2*w_EE - (alpha*g*theta_I + alpha*g - R*w_IE)*R*g*w_EE + alpha*g*theta_I - (R*g*w_EE + i_ext - theta_E - 1)*R*w_IE - R*w_IE)^2                                                                                                      -(R*alpha*g^2*theta_I*w_EE - alpha*g*theta_I + R*i_ext*w_IE - R*theta_E*w_IE)*alpha*g*((alpha*g*theta_I + alpha*g - R*w_IE)/(alpha*g) - 1)/(R*alpha*g^2*w_EE - (alpha*g*theta_I + alpha*g - R*w_IE)*R*g*w_EE + alpha*g*theta_I - (R*g*w_EE + i_ext - theta_E - 1)*R*w_IE - R*w_IE)^2                         (R*g*w_EE + i_ext - theta_E - 1)*((R*g*w_EE + i_ext - theta_E - 1)*theta_I + i_ext - theta_E - (alpha*g*theta_I + alpha*g - R*w_IE)*i_ext/(alpha*g) + (alpha*g*theta_I + alpha*g - R*w_IE)*theta_E/(alpha*g))*R*alpha*g/(R*alpha*g^2*w_EE - (alpha*g*theta_I + alpha*g - R*w_IE)*R*g*w_EE + alpha*g*theta_I - (R*g*w_EE + i_ext - theta_E - 1)*R*w_IE - R*w_IE)^2                                                                                                                          -(R*alpha*g^2*theta_I*w_EE - alpha*g*theta_I + R*i_ext*w_IE - R*theta_E*w_IE)*(R*g*w_EE + i_ext - theta_E - 1)*alpha*g/(R*alpha*g^2*w_EE - (alpha*g*theta_I + alpha*g - R*w_IE)*R*g*w_EE + alpha*g*theta_I - (R*g*w_EE + i_ext - theta_E - 1)*R*w_IE - R*w_IE)^2]\n",
       "[                                                                                                                                                                                                                                                                                                                                                                                      R*g                                                                                                                                                                                                                                                                                                                                                                                        -1                                                                                                                                                                                                                                                                                                                                                                                         0                                                                                                                                                                                                                                                                                                                                                                                         0]\n",
       "[                                                ((R*g*w_EE + i_ext - theta_E - 1)*theta_I + i_ext - theta_E - (alpha*g*theta_I + alpha*g - R*w_IE)*i_ext/(alpha*g) + (alpha*g*theta_I + alpha*g - R*w_IE)*theta_E/(alpha*g))*R^2*alpha*g^2*w_IE/(R*alpha*g^2*w_EE - (alpha*g*theta_I + alpha*g - R*w_IE)*R*g*w_EE + alpha*g*theta_I - (R*g*w_EE + i_ext - theta_E - 1)*R*w_IE - R*w_IE)^2                                                                                                                                                            -(R*alpha*g^2*theta_I*w_EE - alpha*g*theta_I + R*i_ext*w_IE - R*theta_E*w_IE)*R*w_IE/(R*alpha*g^2*w_EE - (alpha*g*theta_I + alpha*g - R*w_IE)*R*g*w_EE + alpha*g*theta_I - (R*g*w_EE + i_ext - theta_E - 1)*R*w_IE - R*w_IE)^2                                          -(R*g*w_EE - 1)*((R*g*w_EE + i_ext - theta_E - 1)*theta_I + i_ext - theta_E - (alpha*g*theta_I + alpha*g - R*w_IE)*i_ext/(alpha*g) + (alpha*g*theta_I + alpha*g - R*w_IE)*theta_E/(alpha*g))*R*alpha*g/(R*alpha*g^2*w_EE - (alpha*g*theta_I + alpha*g - R*w_IE)*R*g*w_EE + alpha*g*theta_I - (R*g*w_EE + i_ext - theta_E - 1)*R*w_IE - R*w_IE)^2                                                                                                                                             (R*alpha*g^2*theta_I*w_EE - alpha*g*theta_I + R*i_ext*w_IE - R*theta_E*w_IE)*(R*g*w_EE - 1)*alpha*g/(R*alpha*g^2*w_EE - (alpha*g*theta_I + alpha*g - R*w_IE)*R*g*w_EE + alpha*g*theta_I - (R*g*w_EE + i_ext - theta_E - 1)*R*w_IE - R*w_IE)^2]\n",
       "[                                                                                                                                                                                                                                                                                                                                                                                        0                                                                                                                                                                                                                                                                                                                                                                                         0                                                                                                                                                                                                                                                                                                                                                                               R/(alpha*g)                                                                                                                                                                                                                                                                                                                                                                                        -1]"
      ]
     },
     "metadata": {},
     "output_type": "display_data"
    }
   ],
   "source": [
    "J_up = J.subs(synapticFixedPoint_qss_nosubs_up).subs(dxdw).subs(synapticFixedPoint_qss_subs_up).simplify()\n",
    "show(J_up)"
   ]
  },
  {
   "cell_type": "code",
   "execution_count": 71,
   "metadata": {},
   "outputs": [
    {
     "data": {
      "text/plain": [
       "[1/2*((R*alpha*g^2 + 2*alpha*g)*theta_I - (2*R*alpha*g^2*theta_I + R^2*g)*w_EE - (R^2*g + 2*R*i_ext - 2*R*theta_E)*w_IE - sqrt(alpha^2*g^4*theta_I^2 + R^2*g^2*w_EE^2 + R^2*g^2*w_IE^2 - 2*alpha*g^2*theta_I + 2*(R*alpha*g^3*theta_I - R*g)*w_EE - 2*(R*alpha*g^3*theta_I - R^2*g^2*w_EE - 2*R*g*i_ext + 2*R*g*theta_E + R*g)*w_IE + 1)*R + R)/(R*alpha*g^2*theta_I*w_EE - alpha*g*theta_I + (R*i_ext - R*theta_E)*w_IE),\n",
       " 1/2*((R*alpha*g^2 + 2*alpha*g)*theta_I - (2*R*alpha*g^2*theta_I + R^2*g)*w_EE - (R^2*g + 2*R*i_ext - 2*R*theta_E)*w_IE + sqrt(alpha^2*g^4*theta_I^2 + R^2*g^2*w_EE^2 + R^2*g^2*w_IE^2 - 2*alpha*g^2*theta_I + 2*(R*alpha*g^3*theta_I - R*g)*w_EE - 2*(R*alpha*g^3*theta_I - R^2*g^2*w_EE - 2*R*g*i_ext + 2*R*g*theta_E + R*g)*w_IE + 1)*R + R)/(R*alpha*g^2*theta_I*w_EE - alpha*g*theta_I + (R*i_ext - R*theta_E)*w_IE),\n",
       " 0,\n",
       " 0]"
      ]
     },
     "execution_count": 71,
     "metadata": {},
     "output_type": "execute_result"
    }
   ],
   "source": [
    "J_up.eigenvalues()"
   ]
  },
  {
   "cell_type": "markdown",
   "metadata": {},
   "source": [
    "Recall that the steady-state solutions of the learning rule form a 2D plane in 4D phase space, and thus two out of the four eigenvalues are expected to be zero (meaning there is no dynamics along the plane).  \n",
    "If both nonzero eigenvalues have negative real part then the learning rule is stable; if any of them has positive real part, then the rule is unstable."
   ]
  },
  {
   "cell_type": "markdown",
   "metadata": {},
   "source": [
    "## Linear stability of the directions with nonzero eigenvalues"
   ]
  },
  {
   "cell_type": "markdown",
   "metadata": {},
   "source": [
    "Take the nonzero eigenvalues and check whether any of them has positive real part:"
   ]
  },
  {
   "cell_type": "code",
   "execution_count": 72,
   "metadata": {},
   "outputs": [
    {
     "data": {
      "text/html": [
       "<html><script type=\"math/tex; mode=display\">\\newcommand{\\Bold}[1]{\\mathbf{#1}}-\\frac{2 \\, R \\alpha g^{2} \\theta_{I} w_{\\mathit{EE}} - R \\alpha g^{2} \\theta_{I} + R^{2} g w_{\\mathit{EE}} + R^{2} g w_{\\mathit{IE}} - 2 \\, \\alpha g \\theta_{I} + 2 \\, R i_{\\mathit{ext}} w_{\\mathit{IE}} - 2 \\, R \\theta_{E} w_{\\mathit{IE}} + \\sqrt{\\alpha^{2} g^{4} \\theta_{I}^{2} + R^{2} g^{2} w_{\\mathit{EE}}^{2} + R^{2} g^{2} w_{\\mathit{IE}}^{2} - 2 \\, \\alpha g^{2} \\theta_{I} + 2 \\, {\\left(R \\alpha g^{3} \\theta_{I} - R g\\right)} w_{\\mathit{EE}} - 2 \\, {\\left(R \\alpha g^{3} \\theta_{I} - R^{2} g^{2} w_{\\mathit{EE}} - 2 \\, R g i_{\\mathit{ext}} + 2 \\, R g \\theta_{E} + R g\\right)} w_{\\mathit{IE}} + 1} R - R}{2 \\, {\\left(R \\alpha g^{2} \\theta_{I} w_{\\mathit{EE}} - \\alpha g \\theta_{I} + R i_{\\mathit{ext}} w_{\\mathit{IE}} - R \\theta_{E} w_{\\mathit{IE}}\\right)}}</script></html>"
      ],
      "text/plain": [
       "-1/2*(2*R*alpha*g^2*theta_I*w_EE - R*alpha*g^2*theta_I + R^2*g*w_EE + R^2*g*w_IE - 2*alpha*g*theta_I + 2*R*i_ext*w_IE - 2*R*theta_E*w_IE + sqrt(alpha^2*g^4*theta_I^2 + R^2*g^2*w_EE^2 + R^2*g^2*w_IE^2 - 2*alpha*g^2*theta_I + 2*(R*alpha*g^3*theta_I - R*g)*w_EE - 2*(R*alpha*g^3*theta_I - R^2*g^2*w_EE - 2*R*g*i_ext + 2*R*g*theta_E + R*g)*w_IE + 1)*R - R)/(R*alpha*g^2*theta_I*w_EE - alpha*g*theta_I + R*i_ext*w_IE - R*theta_E*w_IE)"
      ]
     },
     "metadata": {},
     "output_type": "display_data"
    },
    {
     "data": {
      "text/html": [
       "<html><script type=\"math/tex; mode=display\">\\newcommand{\\Bold}[1]{\\mathbf{#1}}-\\frac{2 \\, R \\alpha g^{2} \\theta_{I} w_{\\mathit{EE}} - R \\alpha g^{2} \\theta_{I} + R^{2} g w_{\\mathit{EE}} + R^{2} g w_{\\mathit{IE}} - 2 \\, \\alpha g \\theta_{I} + 2 \\, R i_{\\mathit{ext}} w_{\\mathit{IE}} - 2 \\, R \\theta_{E} w_{\\mathit{IE}} - \\sqrt{\\alpha^{2} g^{4} \\theta_{I}^{2} + R^{2} g^{2} w_{\\mathit{EE}}^{2} + R^{2} g^{2} w_{\\mathit{IE}}^{2} - 2 \\, \\alpha g^{2} \\theta_{I} + 2 \\, {\\left(R \\alpha g^{3} \\theta_{I} - R g\\right)} w_{\\mathit{EE}} - 2 \\, {\\left(R \\alpha g^{3} \\theta_{I} - R^{2} g^{2} w_{\\mathit{EE}} - 2 \\, R g i_{\\mathit{ext}} + 2 \\, R g \\theta_{E} + R g\\right)} w_{\\mathit{IE}} + 1} R - R}{2 \\, {\\left(R \\alpha g^{2} \\theta_{I} w_{\\mathit{EE}} - \\alpha g \\theta_{I} + R i_{\\mathit{ext}} w_{\\mathit{IE}} - R \\theta_{E} w_{\\mathit{IE}}\\right)}}</script></html>"
      ],
      "text/plain": [
       "-1/2*(2*R*alpha*g^2*theta_I*w_EE - R*alpha*g^2*theta_I + R^2*g*w_EE + R^2*g*w_IE - 2*alpha*g*theta_I + 2*R*i_ext*w_IE - 2*R*theta_E*w_IE - sqrt(alpha^2*g^4*theta_I^2 + R^2*g^2*w_EE^2 + R^2*g^2*w_IE^2 - 2*alpha*g^2*theta_I + 2*(R*alpha*g^3*theta_I - R*g)*w_EE - 2*(R*alpha*g^3*theta_I - R^2*g^2*w_EE - 2*R*g*i_ext + 2*R*g*theta_E + R*g)*w_IE + 1)*R - R)/(R*alpha*g^2*theta_I*w_EE - alpha*g*theta_I + R*i_ext*w_IE - R*theta_E*w_IE)"
      ]
     },
     "metadata": {},
     "output_type": "display_data"
    }
   ],
   "source": [
    "J_up_eigvalues = J_up.eigenvalues()\n",
    "J_up_eigvalues1_aux = J_up_eigvalues[0].factor()\n",
    "J_up_eigvalues2_aux = J_up_eigvalues[1].factor()\n",
    "show(J_up_eigvalues1_aux)\n",
    "show(J_up_eigvalues2_aux)"
   ]
  },
  {
   "cell_type": "markdown",
   "metadata": {},
   "source": [
    "#### Rewrite eigenvalues"
   ]
  },
  {
   "cell_type": "markdown",
   "metadata": {},
   "source": [
    "Define $A,B,C$ and write the eigenvalues in terms of them:  \n",
    "(this section might depend on the particular implementation of Sage, as specific terms and factors are extracted from the eigenvalue expression)"
   ]
  },
  {
   "cell_type": "code",
   "execution_count": 73,
   "metadata": {},
   "outputs": [
    {
     "data": {
      "text/html": [
       "<html><script type=\"math/tex; mode=display\">\\newcommand{\\Bold}[1]{\\mathbf{#1}}-2 \\, \\alpha g^{2} \\theta_{I} w_{\\mathit{EE}} + \\alpha g^{2} \\theta_{I} - R g w_{\\mathit{EE}} - R g w_{\\mathit{IE}} + \\frac{2 \\, \\alpha g \\theta_{I}}{R} - 2 \\, i_{\\mathit{ext}} w_{\\mathit{IE}} + 2 \\, \\theta_{E} w_{\\mathit{IE}} + 1</script></html>"
      ],
      "text/plain": [
       "-2*alpha*g^2*theta_I*w_EE + alpha*g^2*theta_I - R*g*w_EE - R*g*w_IE + 2*alpha*g*theta_I/R - 2*i_ext*w_IE + 2*theta_E*w_IE + 1"
      ]
     },
     "metadata": {},
     "output_type": "display_data"
    },
    {
     "data": {
      "text/html": [
       "<html><script type=\"math/tex; mode=display\">\\newcommand{\\Bold}[1]{\\mathbf{#1}}\\alpha^{2} g^{4} \\theta_{I}^{2} + 2 \\, R \\alpha g^{3} \\theta_{I} w_{\\mathit{EE}} - 2 \\, R \\alpha g^{3} \\theta_{I} w_{\\mathit{IE}} + R^{2} g^{2} w_{\\mathit{EE}}^{2} + 2 \\, R^{2} g^{2} w_{\\mathit{EE}} w_{\\mathit{IE}} + R^{2} g^{2} w_{\\mathit{IE}}^{2} - 2 \\, \\alpha g^{2} \\theta_{I} + 4 \\, R g i_{\\mathit{ext}} w_{\\mathit{IE}} - 4 \\, R g \\theta_{E} w_{\\mathit{IE}} - 2 \\, R g w_{\\mathit{EE}} - 2 \\, R g w_{\\mathit{IE}} + 1</script></html>"
      ],
      "text/plain": [
       "alpha^2*g^4*theta_I^2 + 2*R*alpha*g^3*theta_I*w_EE - 2*R*alpha*g^3*theta_I*w_IE + R^2*g^2*w_EE^2 + 2*R^2*g^2*w_EE*w_IE + R^2*g^2*w_IE^2 - 2*alpha*g^2*theta_I + 4*R*g*i_ext*w_IE - 4*R*g*theta_E*w_IE - 2*R*g*w_EE - 2*R*g*w_IE + 1"
      ]
     },
     "metadata": {},
     "output_type": "display_data"
    },
    {
     "data": {
      "text/html": [
       "<html><script type=\"math/tex; mode=display\">\\newcommand{\\Bold}[1]{\\mathbf{#1}}2 \\, \\alpha g^{2} \\theta_{I} w_{\\mathit{EE}} - \\frac{2 \\, \\alpha g \\theta_{I}}{R} + 2 \\, i_{\\mathit{ext}} w_{\\mathit{IE}} - 2 \\, \\theta_{E} w_{\\mathit{IE}}</script></html>"
      ],
      "text/plain": [
       "2*alpha*g^2*theta_I*w_EE - 2*alpha*g*theta_I/R + 2*i_ext*w_IE - 2*theta_E*w_IE"
      ]
     },
     "metadata": {},
     "output_type": "display_data"
    }
   ],
   "source": [
    "A = ((sum([J_up_eigvalues1_aux.numerator().operands()[k] for k in [0..6,8]]))/R).expand() # all terms in the numerator but the square root\n",
    "B = J_up_eigvalues1_aux.numerator().operands()[7].operands()[0].operands()[0] # argument of the square root with factor R\n",
    "C = (J_up_eigvalues1_aux.denominator()/R).expand() # denominator\n",
    "show(A)\n",
    "show(B)\n",
    "show(C)"
   ]
  },
  {
   "cell_type": "markdown",
   "metadata": {},
   "source": [
    "(I've defined $A$ and $C$ as divided by $R$ to help Sage simplify the following expressions more easily; see below)"
   ]
  },
  {
   "cell_type": "code",
   "execution_count": 74,
   "metadata": {},
   "outputs": [
    {
     "data": {
      "text/html": [
       "<html><script type=\"math/tex; mode=display\">\\newcommand{\\Bold}[1]{\\mathbf{#1}}-\\frac{4 \\, {\\left(R \\alpha g^{2} \\theta_{I} w_{\\mathit{EE}} - R \\alpha g^{2} \\theta_{I} + R^{2} g w_{\\mathit{EE}} + R^{2} g w_{\\mathit{IE}} - R^{2} g - \\alpha g \\theta_{I} + R i_{\\mathit{ext}} w_{\\mathit{IE}} - R \\theta_{E} w_{\\mathit{IE}} - R\\right)} {\\left(R \\alpha g^{2} \\theta_{I} w_{\\mathit{EE}} - \\alpha g \\theta_{I} + R i_{\\mathit{ext}} w_{\\mathit{IE}} - R \\theta_{E} w_{\\mathit{IE}}\\right)}}{R^{2}}</script></html>"
      ],
      "text/plain": [
       "-4*(R*alpha*g^2*theta_I*w_EE - R*alpha*g^2*theta_I + R^2*g*w_EE + R^2*g*w_IE - R^2*g - alpha*g*theta_I + R*i_ext*w_IE - R*theta_E*w_IE - R)*(R*alpha*g^2*theta_I*w_EE - alpha*g*theta_I + R*i_ext*w_IE - R*theta_E*w_IE)/R^2"
      ]
     },
     "metadata": {},
     "output_type": "display_data"
    }
   ],
   "source": [
    "BA2diff = (B - A^2).expand().factor()\n",
    "show(BA2diff)"
   ]
  },
  {
   "cell_type": "markdown",
   "metadata": {},
   "source": [
    "Note that $D$ is positive:"
   ]
  },
  {
   "cell_type": "code",
   "execution_count": 75,
   "metadata": {},
   "outputs": [
    {
     "data": {
      "text/html": [
       "<html><script type=\"math/tex; mode=display\">\\newcommand{\\Bold}[1]{\\mathbf{#1}}2 \\, R g</script></html>"
      ],
      "text/plain": [
       "2*R*g"
      ]
     },
     "metadata": {},
     "output_type": "display_data"
    }
   ],
   "source": [
    "D = (BA2diff/C - (2*A + C)).full_simplify()\n",
    "show(D)"
   ]
  },
  {
   "cell_type": "markdown",
   "metadata": {},
   "source": [
    "Define $F = 2A + C + D$:"
   ]
  },
  {
   "cell_type": "code",
   "execution_count": 76,
   "metadata": {},
   "outputs": [
    {
     "data": {
      "text/html": [
       "<html><script type=\"math/tex; mode=display\">\\newcommand{\\Bold}[1]{\\mathbf{#1}}-2 \\, \\alpha g^{2} \\theta_{I} w_{\\mathit{EE}} + 2 \\, \\alpha g^{2} \\theta_{I} - 2 \\, R g w_{\\mathit{EE}} - 2 \\, R g w_{\\mathit{IE}} + 2 \\, R g + \\frac{2 \\, \\alpha g \\theta_{I}}{R} - 2 \\, i_{\\mathit{ext}} w_{\\mathit{IE}} + 2 \\, \\theta_{E} w_{\\mathit{IE}} + 2</script></html>"
      ],
      "text/plain": [
       "-2*alpha*g^2*theta_I*w_EE + 2*alpha*g^2*theta_I - 2*R*g*w_EE - 2*R*g*w_IE + 2*R*g + 2*alpha*g*theta_I/R - 2*i_ext*w_IE + 2*theta_E*w_IE + 2"
      ]
     },
     "metadata": {},
     "output_type": "display_data"
    }
   ],
   "source": [
    "F = (2*A + C + D).expand()\n",
    "show(F)"
   ]
  },
  {
   "cell_type": "markdown",
   "metadata": {},
   "source": [
    "Then the eigenvalues now can be expressed as:  \n",
    "$$\\lambda_{\\pm} = \\frac{A \\pm \\sqrt{A^2 + FC}}{C} \\hspace{1cm} \\mbox{(J_up_eigvalue_build)}$$  \n",
    "Confirm that the difference between J_up_eigvalue and J_up_eigvalue_build is zero:"
   ]
  },
  {
   "cell_type": "code",
   "execution_count": 77,
   "metadata": {},
   "outputs": [
    {
     "data": {
      "text/plain": [
       "0"
      ]
     },
     "execution_count": 77,
     "metadata": {},
     "output_type": "execute_result"
    }
   ],
   "source": [
    "J_up_eigvalues1_build = (A - sqrt((A^2 + F*C)))/C\n",
    "(J_up_eigvalues1_build - J_up_eigvalues1_aux).full_simplify()"
   ]
  },
  {
   "cell_type": "markdown",
   "metadata": {},
   "source": [
    "Note also that $C$ must be positive because it is related to one of the stability conditions for the neural subsystem. First express $C$ in terms of the original parameters:"
   ]
  },
  {
   "cell_type": "code",
   "execution_count": 78,
   "metadata": {},
   "outputs": [
    {
     "data": {
      "text/html": [
       "<html><script type=\"math/tex; mode=display\">\\newcommand{\\Bold}[1]{\\mathbf{#1}}\\frac{2 \\, \\Theta_{I} W_{\\mathit{EE}} \\alpha_{1} g_{E}^{2}}{E_{\\mathit{set}} \\alpha_{3}} + \\frac{2 \\, I_{\\mathit{ext}} W_{\\mathit{IE}} \\alpha_{1} g_{E}^{2}}{E_{\\mathit{set}} \\alpha_{3}} - \\frac{2 \\, \\Theta_{E} W_{\\mathit{IE}} \\alpha_{1} g_{E}^{2}}{E_{\\mathit{set}} \\alpha_{3}} - \\frac{2 \\, \\Theta_{I} \\alpha_{1} g_{E}}{E_{\\mathit{set}} \\alpha_{3}}</script></html>"
      ],
      "text/plain": [
       "2*Theta_I*W_EE*alpha_1*g_E^2/(E_set*alpha_3) + 2*I_ext*W_IE*alpha_1*g_E^2/(E_set*alpha_3) - 2*Theta_E*W_IE*alpha_1*g_E^2/(E_set*alpha_3) - 2*Theta_I*alpha_1*g_E/(E_set*alpha_3)"
      ]
     },
     "metadata": {},
     "output_type": "display_data"
    }
   ],
   "source": [
    "C_orig = (C.subs(weights).subs(parameters).subs(parameters)).expand()\n",
    "show(C_orig)"
   ]
  },
  {
   "cell_type": "markdown",
   "metadata": {},
   "source": [
    "Now evaluate the first stability condition for the neural subsystem at the Up state:"
   ]
  },
  {
   "cell_type": "code",
   "execution_count": 79,
   "metadata": {},
   "outputs": [
    {
     "data": {
      "text/html": [
       "<html><script type=\"math/tex; mode=display\">\\newcommand{\\Bold}[1]{\\mathbf{#1}}\\Theta_{I} W_{\\mathit{EE}} g_{E} + I_{\\mathit{ext}} W_{\\mathit{IE}} g_{E} - \\Theta_{E} W_{\\mathit{IE}} g_{E} - \\Theta_{I} > 0</script></html>"
      ],
      "text/plain": [
       "Theta_I*W_EE*g_E + I_ext*W_IE*g_E - Theta_E*W_IE*g_E - Theta_I > 0"
      ]
     },
     "metadata": {},
     "output_type": "display_data"
    },
    {
     "data": {
      "text/html": [
       "<html><script type=\"math/tex; mode=display\">\\newcommand{\\Bold}[1]{\\mathbf{#1}}\\frac{2 \\, \\Theta_{I} W_{\\mathit{EE}} \\alpha_{1} g_{E}^{2}}{E_{\\mathit{set}} \\alpha_{3}} + \\frac{2 \\, I_{\\mathit{ext}} W_{\\mathit{IE}} \\alpha_{1} g_{E}^{2}}{E_{\\mathit{set}} \\alpha_{3}} - \\frac{2 \\, \\Theta_{E} W_{\\mathit{IE}} \\alpha_{1} g_{E}^{2}}{E_{\\mathit{set}} \\alpha_{3}} - \\frac{2 \\, \\Theta_{I} \\alpha_{1} g_{E}}{E_{\\mathit{set}} \\alpha_{3}} > 0</script></html>"
      ],
      "text/plain": [
       "2*Theta_I*W_EE*alpha_1*g_E^2/(E_set*alpha_3) + 2*I_ext*W_IE*alpha_1*g_E^2/(E_set*alpha_3) - 2*Theta_E*W_IE*alpha_1*g_E^2/(E_set*alpha_3) - 2*Theta_I*alpha_1*g_E/(E_set*alpha_3) > 0"
      ]
     },
     "metadata": {},
     "output_type": "display_data"
    }
   ],
   "source": [
    "show(neural_stable_detcond_v2)\n",
    "neural_stable_detcond_aux = (neural_stable_detcond_v2*(2*g_E*alpha_1/(E_set*alpha_3))).expand() # multiply by positive factors only to preserve the inequality\n",
    "show(neural_stable_detcond_aux)"
   ]
  },
  {
   "cell_type": "markdown",
   "metadata": {},
   "source": [
    "Note that the left-hand side of the last expression is equal to $C$:"
   ]
  },
  {
   "cell_type": "code",
   "execution_count": 80,
   "metadata": {},
   "outputs": [
    {
     "data": {
      "text/html": [
       "<html><script type=\"math/tex; mode=display\">\\newcommand{\\Bold}[1]{\\mathbf{#1}}0</script></html>"
      ],
      "text/plain": [
       "0"
      ]
     },
     "metadata": {},
     "output_type": "display_data"
    }
   ],
   "source": [
    "show(neural_stable_detcond_aux.lhs() - C_orig)"
   ]
  },
  {
   "cell_type": "markdown",
   "metadata": {},
   "source": [
    "#### Analytic expression for the stability condition of the rule"
   ]
  },
  {
   "cell_type": "markdown",
   "metadata": {},
   "source": [
    "Both eigenvalues have negative real part if $F<0$ and $A<0$:  \n",
    "if $F < 0$ then $A^2 + FC < A^2$ and then $\\sqrt{A^2 + FC} < |A|$, and if in addition $A<0$ then $A \\pm \\sqrt{A^2 + DC} < 0$."
   ]
  },
  {
   "cell_type": "markdown",
   "metadata": {},
   "source": [
    "1. $F<0$"
   ]
  },
  {
   "cell_type": "code",
   "execution_count": 81,
   "metadata": {},
   "outputs": [
    {
     "data": {
      "text/html": [
       "<html><script type=\"math/tex; mode=display\">\\newcommand{\\Bold}[1]{\\mathbf{#1}}-2 \\, I_{\\mathit{set}} \\Theta_{I} W_{\\mathit{EE}} \\alpha_{1} g_{E}^{2} g_{I} - 2 \\, I_{\\mathit{ext}} I_{\\mathit{set}} W_{\\mathit{IE}} \\alpha_{1} g_{E}^{2} g_{I} + 2 \\, I_{\\mathit{set}} \\Theta_{E} W_{\\mathit{IE}} \\alpha_{1} g_{E}^{2} g_{I} - 2 \\, E_{\\mathit{set}}^{2} W_{\\mathit{IE}} \\alpha_{1} g_{E}^{2} - 2 \\, E_{\\mathit{set}} I_{\\mathit{set}} W_{\\mathit{EE}} \\alpha_{3} g_{E} g_{I} + 2 \\, E_{\\mathit{set}} \\Theta_{I} \\alpha_{1} g_{E}^{2} + 2 \\, I_{\\mathit{set}} \\Theta_{I} \\alpha_{1} g_{E} g_{I} + 2 \\, E_{\\mathit{set}}^{2} \\alpha_{3} g_{E} + 2 \\, E_{\\mathit{set}} I_{\\mathit{set}} \\alpha_{3} g_{I} < 0</script></html>"
      ],
      "text/plain": [
       "-2*I_set*Theta_I*W_EE*alpha_1*g_E^2*g_I - 2*I_ext*I_set*W_IE*alpha_1*g_E^2*g_I + 2*I_set*Theta_E*W_IE*alpha_1*g_E^2*g_I - 2*E_set^2*W_IE*alpha_1*g_E^2 - 2*E_set*I_set*W_EE*alpha_3*g_E*g_I + 2*E_set*Theta_I*alpha_1*g_E^2 + 2*I_set*Theta_I*alpha_1*g_E*g_I + 2*E_set^2*alpha_3*g_E + 2*E_set*I_set*alpha_3*g_I < 0"
      ]
     },
     "metadata": {},
     "output_type": "display_data"
    },
    {
     "data": {
      "text/html": [
       "<html><script type=\"math/tex; mode=display\">\\newcommand{\\Bold}[1]{\\mathbf{#1}}-E_{\\mathit{set}} I_{\\mathit{set}} \\Theta_{I} W_{\\mathit{EE}} \\alpha_{1} g_{E}^{2} g_{I}^{2} - I_{\\mathit{ext}} I_{\\mathit{set}}^{2} W_{\\mathit{II}} \\alpha_{1} g_{E}^{2} g_{I}^{2} + I_{\\mathit{set}}^{2} \\Theta_{E} W_{\\mathit{II}} \\alpha_{1} g_{E}^{2} g_{I}^{2} - E_{\\mathit{set}}^{2} I_{\\mathit{set}} W_{\\mathit{II}} \\alpha_{1} g_{E}^{2} g_{I} - E_{\\mathit{set}}^{2} I_{\\mathit{set}} W_{\\mathit{EE}} \\alpha_{3} g_{E} g_{I}^{2} - I_{\\mathit{ext}} I_{\\mathit{set}} \\Theta_{I} \\alpha_{1} g_{E}^{2} g_{I}^{2} + I_{\\mathit{set}} \\Theta_{E} \\Theta_{I} \\alpha_{1} g_{E}^{2} g_{I}^{2} - I_{\\mathit{ext}} I_{\\mathit{set}}^{2} \\alpha_{1} g_{E}^{2} g_{I} + I_{\\mathit{set}}^{2} \\Theta_{E} \\alpha_{1} g_{E}^{2} g_{I} + E_{\\mathit{set}} I_{\\mathit{set}} \\Theta_{I} \\alpha_{1} g_{E} g_{I}^{2} - E_{\\mathit{set}}^{2} I_{\\mathit{set}} \\alpha_{1} g_{E}^{2} + E_{\\mathit{set}}^{3} \\alpha_{3} g_{E} g_{I} + E_{\\mathit{set}}^{2} I_{\\mathit{set}} \\alpha_{3} g_{I}^{2} < 0</script></html>"
      ],
      "text/plain": [
       "-E_set*I_set*Theta_I*W_EE*alpha_1*g_E^2*g_I^2 - I_ext*I_set^2*W_II*alpha_1*g_E^2*g_I^2 + I_set^2*Theta_E*W_II*alpha_1*g_E^2*g_I^2 - E_set^2*I_set*W_II*alpha_1*g_E^2*g_I - E_set^2*I_set*W_EE*alpha_3*g_E*g_I^2 - I_ext*I_set*Theta_I*alpha_1*g_E^2*g_I^2 + I_set*Theta_E*Theta_I*alpha_1*g_E^2*g_I^2 - I_ext*I_set^2*alpha_1*g_E^2*g_I + I_set^2*Theta_E*alpha_1*g_E^2*g_I + E_set*I_set*Theta_I*alpha_1*g_E*g_I^2 - E_set^2*I_set*alpha_1*g_E^2 + E_set^3*alpha_3*g_E*g_I + E_set^2*I_set*alpha_3*g_I^2 < 0"
      ]
     },
     "metadata": {},
     "output_type": "display_data"
    },
    {
     "data": {
      "text/html": [
       "<html><script type=\"math/tex; mode=display\">\\newcommand{\\Bold}[1]{\\mathbf{#1}}-{\\left({\\left(I_{\\mathit{ext}} - \\Theta_{E}\\right)} I_{\\mathit{set}} \\Theta_{I} \\alpha_{1} g_{E} g_{I} - E_{\\mathit{set}}^{3} \\alpha_{3}\\right)} g_{E} g_{I} - {\\left({\\left(I_{\\mathit{ext}} - \\Theta_{E}\\right)} I_{\\mathit{set}}^{2} \\alpha_{1} g_{E}^{2} g_{I} + E_{\\mathit{set}}^{2} I_{\\mathit{set}} \\alpha_{1} g_{E}^{2}\\right)} {\\left(W_{\\mathit{II}} g_{I} + 1\\right)} < {\\left(E_{\\mathit{set}} I_{\\mathit{set}} \\Theta_{I} \\alpha_{1} g_{E} g_{I}^{2} + E_{\\mathit{set}}^{2} I_{\\mathit{set}} \\alpha_{3} g_{I}^{2}\\right)} {\\left(W_{\\mathit{EE}} g_{E} - 1\\right)}</script></html>"
      ],
      "text/plain": [
       "-((I_ext - Theta_E)*I_set*Theta_I*alpha_1*g_E*g_I - E_set^3*alpha_3)*g_E*g_I - ((I_ext - Theta_E)*I_set^2*alpha_1*g_E^2*g_I + E_set^2*I_set*alpha_1*g_E^2)*(W_II*g_I + 1) < (E_set*I_set*Theta_I*alpha_1*g_E*g_I^2 + E_set^2*I_set*alpha_3*g_I^2)*(W_EE*g_E - 1)"
      ]
     },
     "metadata": {},
     "output_type": "display_data"
    },
    {
     "data": {
      "text/html": [
       "<html><script type=\"math/tex; mode=display\">\\newcommand{\\Bold}[1]{\\mathbf{#1}}0</script></html>"
      ],
      "text/plain": [
       "0"
      ]
     },
     "metadata": {},
     "output_type": "display_data"
    }
   ],
   "source": [
    "aux = solve(synapticFixedPoint_qss_subs_up[1],w_IE)\n",
    "F_v2 = F.subs(aux).subs(weights).subs(parameters).subs(parameters).expand()\n",
    "synaptic_stable_cond1 = ((F*E_set*I_set*alpha_3*g_I).expand().subs(weights).subs(parameters).subs(parameters) < 0) # multiply by positive factors only\n",
    "synaptic_stable_cond1_v2 = ((F_v2 < 0)*E_set^2*I_set*g_I^2*alpha_3/2).expand() # multiply by positive factors only\n",
    "synaptic_stable_cond1_v4 = ((Theta_E - I_ext)*I_set*Theta_I*alpha_1*g_E*g_I + E_set^3*alpha_3)*g_E*g_I + (W_II*g_I + 1)*((Theta_E - I_ext)*I_set^2*alpha_1*g_E^2*g_I - E_set^2*I_set*alpha_1*g_E^2) < (W_EE*g_E - 1)*(E_set*I_set*Theta_I*alpha_1*g_E*g_I^2 + E_set^2*I_set*alpha_3*g_I^2)\n",
    "show(synaptic_stable_cond1)\n",
    "show(synaptic_stable_cond1_v2)\n",
    "show(synaptic_stable_cond1_v4)\n",
    "# confirm\n",
    "show((synaptic_stable_cond1_v4.lhs()-synaptic_stable_cond1_v4.rhs()-synaptic_stable_cond1_v2.lhs()).expand())"
   ]
  },
  {
   "cell_type": "markdown",
   "metadata": {},
   "source": [
    "The condition can be expressed as:  \n",
    "$a_1 + b_1(W_{II}g_I+1) < b_1^\\prime(W_{EE}g_E-1)$  \n",
    "where  \n",
    "$a_1 = (I_{set} (\\Theta_E - I_{ext}) \\Theta_I \\alpha_1 g_E g_I + E_{set}^3 \\alpha_3)g_E g_I$  \n",
    "$b_1 = I_{set}^2 (\\Theta_E - I_{ext}) \\alpha_1 g_E^2 g_I - E_{set}^2 I_{set} \\alpha_1 g_E^2$  \n",
    "$b_1^\\prime = E_{set} I_{set} \\Theta_I \\alpha_1 g_E g_I^2 + E_{set}^2 I_{set} \\alpha_3 g_I^2$  \n",
    "\n",
    "It is hard to determine whether it is satisfied or not in the general case: the trace condition for the stability the neural subsystem states that  \n",
    "$(W_{II} g_I + 1)\\tau_E > (W_{EE}g_E - 1)\\tau_I$  \n",
    "but on the other hand it seems likely that  \n",
    "$b_1<b_1^\\prime$  \n",
    "and in addition the left-hand side has an aditional positive term $a$.  \n",
    "\n",
    "If $I_{ext}$ is large enough then the condition seems easier to satisfy (i.e. learning rule stable) because the left-hand side is smaller."
   ]
  },
  {
   "cell_type": "markdown",
   "metadata": {},
   "source": [
    "2. $A<0$"
   ]
  },
  {
   "cell_type": "code",
   "execution_count": 82,
   "metadata": {},
   "outputs": [
    {
     "data": {
      "text/html": [
       "<html><script type=\"math/tex; mode=display\">\\newcommand{\\Bold}[1]{\\mathbf{#1}}-2 \\, \\alpha g^{2} \\theta_{I} w_{\\mathit{EE}} + \\alpha g^{2} \\theta_{I} - R g w_{\\mathit{EE}} - R g w_{\\mathit{IE}} + \\frac{2 \\, \\alpha g \\theta_{I}}{R} - 2 \\, i_{\\mathit{ext}} w_{\\mathit{IE}} + 2 \\, \\theta_{E} w_{\\mathit{IE}} + 1</script></html>"
      ],
      "text/plain": [
       "-2*alpha*g^2*theta_I*w_EE + alpha*g^2*theta_I - R*g*w_EE - R*g*w_IE + 2*alpha*g*theta_I/R - 2*i_ext*w_IE + 2*theta_E*w_IE + 1"
      ]
     },
     "metadata": {},
     "output_type": "display_data"
    },
    {
     "data": {
      "text/html": [
       "<html><script type=\"math/tex; mode=display\">\\newcommand{\\Bold}[1]{\\mathbf{#1}}-\\frac{2 \\, \\Theta_{I} W_{\\mathit{EE}} \\alpha_{1} g_{E}^{2}}{E_{\\mathit{set}} \\alpha_{3}} - \\frac{2 \\, I_{\\mathit{ext}} I_{\\mathit{set}} W_{\\mathit{II}} \\alpha_{1} g_{E}^{2}}{E_{\\mathit{set}}^{2} \\alpha_{3}} + \\frac{2 \\, I_{\\mathit{set}} \\Theta_{E} W_{\\mathit{II}} \\alpha_{1} g_{E}^{2}}{E_{\\mathit{set}}^{2} \\alpha_{3}} - W_{\\mathit{EE}} g_{E} - \\frac{2 \\, I_{\\mathit{ext}} \\Theta_{I} \\alpha_{1} g_{E}^{2}}{E_{\\mathit{set}}^{2} \\alpha_{3}} + \\frac{2 \\, \\Theta_{E} \\Theta_{I} \\alpha_{1} g_{E}^{2}}{E_{\\mathit{set}}^{2} \\alpha_{3}} - \\frac{W_{\\mathit{II}} \\alpha_{1} g_{E}^{2}}{\\alpha_{3} g_{I}} + \\frac{2 \\, \\Theta_{I} \\alpha_{1} g_{E}}{E_{\\mathit{set}} \\alpha_{3}} - \\frac{2 \\, I_{\\mathit{ext}} I_{\\mathit{set}} \\alpha_{1} g_{E}^{2}}{E_{\\mathit{set}}^{2} \\alpha_{3} g_{I}} + \\frac{2 \\, I_{\\mathit{set}} \\Theta_{E} \\alpha_{1} g_{E}^{2}}{E_{\\mathit{set}}^{2} \\alpha_{3} g_{I}} - \\frac{\\alpha_{1} g_{E}^{2}}{\\alpha_{3} g_{I}^{2}} + 1</script></html>"
      ],
      "text/plain": [
       "-2*Theta_I*W_EE*alpha_1*g_E^2/(E_set*alpha_3) - 2*I_ext*I_set*W_II*alpha_1*g_E^2/(E_set^2*alpha_3) + 2*I_set*Theta_E*W_II*alpha_1*g_E^2/(E_set^2*alpha_3) - W_EE*g_E - 2*I_ext*Theta_I*alpha_1*g_E^2/(E_set^2*alpha_3) + 2*Theta_E*Theta_I*alpha_1*g_E^2/(E_set^2*alpha_3) - W_II*alpha_1*g_E^2/(alpha_3*g_I) + 2*Theta_I*alpha_1*g_E/(E_set*alpha_3) - 2*I_ext*I_set*alpha_1*g_E^2/(E_set^2*alpha_3*g_I) + 2*I_set*Theta_E*alpha_1*g_E^2/(E_set^2*alpha_3*g_I) - alpha_1*g_E^2/(alpha_3*g_I^2) + 1"
      ]
     },
     "metadata": {},
     "output_type": "display_data"
    },
    {
     "data": {
      "text/html": [
       "<html><script type=\"math/tex; mode=display\">\\newcommand{\\Bold}[1]{\\mathbf{#1}}-2 \\, I_{\\mathit{set}} \\Theta_{I} W_{\\mathit{EE}} \\alpha_{1} g_{E}^{2} g_{I} - 2 \\, I_{\\mathit{ext}} I_{\\mathit{set}} W_{\\mathit{IE}} \\alpha_{1} g_{E}^{2} g_{I} + 2 \\, I_{\\mathit{set}} \\Theta_{E} W_{\\mathit{IE}} \\alpha_{1} g_{E}^{2} g_{I} - E_{\\mathit{set}}^{2} W_{\\mathit{IE}} \\alpha_{1} g_{E}^{2} - E_{\\mathit{set}} I_{\\mathit{set}} W_{\\mathit{EE}} \\alpha_{3} g_{E} g_{I} + E_{\\mathit{set}} \\Theta_{I} \\alpha_{1} g_{E}^{2} + 2 \\, I_{\\mathit{set}} \\Theta_{I} \\alpha_{1} g_{E} g_{I} + E_{\\mathit{set}} I_{\\mathit{set}} \\alpha_{3} g_{I} < 0</script></html>"
      ],
      "text/plain": [
       "-2*I_set*Theta_I*W_EE*alpha_1*g_E^2*g_I - 2*I_ext*I_set*W_IE*alpha_1*g_E^2*g_I + 2*I_set*Theta_E*W_IE*alpha_1*g_E^2*g_I - E_set^2*W_IE*alpha_1*g_E^2 - E_set*I_set*W_EE*alpha_3*g_E*g_I + E_set*Theta_I*alpha_1*g_E^2 + 2*I_set*Theta_I*alpha_1*g_E*g_I + E_set*I_set*alpha_3*g_I < 0"
      ]
     },
     "metadata": {},
     "output_type": "display_data"
    },
    {
     "data": {
      "text/html": [
       "<html><script type=\"math/tex; mode=display\">\\newcommand{\\Bold}[1]{\\mathbf{#1}}-2 \\, E_{\\mathit{set}} \\Theta_{I} W_{\\mathit{EE}} \\alpha_{1} g_{E}^{2} g_{I}^{2} - 2 \\, I_{\\mathit{ext}} I_{\\mathit{set}} W_{\\mathit{II}} \\alpha_{1} g_{E}^{2} g_{I}^{2} + 2 \\, I_{\\mathit{set}} \\Theta_{E} W_{\\mathit{II}} \\alpha_{1} g_{E}^{2} g_{I}^{2} - E_{\\mathit{set}}^{2} W_{\\mathit{II}} \\alpha_{1} g_{E}^{2} g_{I} - E_{\\mathit{set}}^{2} W_{\\mathit{EE}} \\alpha_{3} g_{E} g_{I}^{2} - 2 \\, I_{\\mathit{ext}} \\Theta_{I} \\alpha_{1} g_{E}^{2} g_{I}^{2} + 2 \\, \\Theta_{E} \\Theta_{I} \\alpha_{1} g_{E}^{2} g_{I}^{2} - 2 \\, I_{\\mathit{ext}} I_{\\mathit{set}} \\alpha_{1} g_{E}^{2} g_{I} + 2 \\, I_{\\mathit{set}} \\Theta_{E} \\alpha_{1} g_{E}^{2} g_{I} + 2 \\, E_{\\mathit{set}} \\Theta_{I} \\alpha_{1} g_{E} g_{I}^{2} - E_{\\mathit{set}}^{2} \\alpha_{1} g_{E}^{2} + E_{\\mathit{set}}^{2} \\alpha_{3} g_{I}^{2} < 0</script></html>"
      ],
      "text/plain": [
       "-2*E_set*Theta_I*W_EE*alpha_1*g_E^2*g_I^2 - 2*I_ext*I_set*W_II*alpha_1*g_E^2*g_I^2 + 2*I_set*Theta_E*W_II*alpha_1*g_E^2*g_I^2 - E_set^2*W_II*alpha_1*g_E^2*g_I - E_set^2*W_EE*alpha_3*g_E*g_I^2 - 2*I_ext*Theta_I*alpha_1*g_E^2*g_I^2 + 2*Theta_E*Theta_I*alpha_1*g_E^2*g_I^2 - 2*I_ext*I_set*alpha_1*g_E^2*g_I + 2*I_set*Theta_E*alpha_1*g_E^2*g_I + 2*E_set*Theta_I*alpha_1*g_E*g_I^2 - E_set^2*alpha_1*g_E^2 + E_set^2*alpha_3*g_I^2 < 0"
      ]
     },
     "metadata": {},
     "output_type": "display_data"
    },
    {
     "data": {
      "text/html": [
       "<html><script type=\"math/tex; mode=display\">\\newcommand{\\Bold}[1]{\\mathbf{#1}}-2 \\, {\\left(I_{\\mathit{ext}} - \\Theta_{E}\\right)} \\Theta_{I} \\alpha_{1} g_{E}^{2} g_{I}^{2} - {\\left(2 \\, {\\left(I_{\\mathit{ext}} - \\Theta_{E}\\right)} I_{\\mathit{set}} \\alpha_{1} g_{E}^{2} g_{I} + E_{\\mathit{set}}^{2} \\alpha_{1} g_{E}^{2}\\right)} {\\left(W_{\\mathit{II}} g_{I} + 1\\right)} < {\\left(2 \\, E_{\\mathit{set}} \\Theta_{I} \\alpha_{1} g_{E} g_{I}^{2} + E_{\\mathit{set}}^{2} \\alpha_{3} g_{I}^{2}\\right)} {\\left(W_{\\mathit{EE}} g_{E} - 1\\right)}</script></html>"
      ],
      "text/plain": [
       "-2*(I_ext - Theta_E)*Theta_I*alpha_1*g_E^2*g_I^2 - (2*(I_ext - Theta_E)*I_set*alpha_1*g_E^2*g_I + E_set^2*alpha_1*g_E^2)*(W_II*g_I + 1) < (2*E_set*Theta_I*alpha_1*g_E*g_I^2 + E_set^2*alpha_3*g_I^2)*(W_EE*g_E - 1)"
      ]
     },
     "metadata": {},
     "output_type": "display_data"
    },
    {
     "data": {
      "text/html": [
       "<html><script type=\"math/tex; mode=display\">\\newcommand{\\Bold}[1]{\\mathbf{#1}}0</script></html>"
      ],
      "text/plain": [
       "0"
      ]
     },
     "metadata": {},
     "output_type": "display_data"
    }
   ],
   "source": [
    "A_orig = A.subs(aux).subs(weights).subs(parameters).subs(parameters).expand()\n",
    "synaptic_stable_cond2 = ((A*E_set*I_set*alpha_3*g_I).expand().subs(weights).subs(parameters).subs(parameters) < 0) # multiply by positive factors only\n",
    "synaptic_stable_cond2_v2 = ((A_orig < 0)*E_set^2*g_I^2*alpha_3).expand() # multiply by positive factors only\n",
    "synaptic_stable_cond2_v3 = 2*(Theta_E - I_ext)*Theta_I*alpha_1*g_E^2*g_I^2 + (W_II*g_I + 1)*(2*I_set*(Theta_E - I_ext)*alpha_1*g_E^2*g_I - E_set^2*alpha_1*g_E^2) < (W_EE*g_E - 1)*(2*E_set*Theta_I*alpha_1*g_E*g_I^2 + E_set^2*alpha_3*g_I^2)\n",
    "show(A)\n",
    "show(A_orig)\n",
    "show(synaptic_stable_cond2)\n",
    "show(synaptic_stable_cond2_v2)\n",
    "show(synaptic_stable_cond2_v3)\n",
    "# confirm\n",
    "show((synaptic_stable_cond2_v3.lhs()-synaptic_stable_cond2_v3.rhs()-synaptic_stable_cond2_v2.lhs()).expand())"
   ]
  },
  {
   "cell_type": "markdown",
   "metadata": {},
   "source": [
    "The condition can be expressed as:  \n",
    "$a_2 + b_2(W_{II}g_I+1) < b_2^\\prime(W_{EE}g_E-1)$  \n",
    "where  \n",
    "$a_2 = 2 (\\Theta_E - I_{ext}) \\Theta_I \\alpha_1 g_E^2 g_I^2$  \n",
    "$b_2 = 2 I_{set} (\\Theta_E - I_{ext}) \\alpha_1 g_E^2 g_I - E_{set}^2 \\alpha_1 g_E^2$  \n",
    "$b_2^\\prime = 2 E_{set} \\Theta_I \\alpha_1 g_E g_I^2 + E_{set}^2 \\alpha_3 g_I^2$  \n",
    "\n",
    "Similar analysis as before, the condition is likely satisfied for biologically backed parameter values but it is hard to decide it in the general case."
   ]
  },
  {
   "cell_type": "markdown",
   "metadata": {},
   "source": [
    "### Numerical analysis"
   ]
  },
  {
   "cell_type": "markdown",
   "metadata": {},
   "source": [
    "Stability and instability conditions in terms of the free weights $W_{EE}$ and $W_{IE}$"
   ]
  },
  {
   "cell_type": "code",
   "execution_count": 83,
   "metadata": {},
   "outputs": [
    {
     "data": {
      "text/html": [
       "<html><script type=\"math/tex; mode=display\">\\newcommand{\\Bold}[1]{\\mathbf{#1}}\\Theta_{I} W_{\\mathit{EE}} g_{E} + I_{\\mathit{ext}} W_{\\mathit{IE}} g_{E} - \\Theta_{E} W_{\\mathit{IE}} g_{E} - \\Theta_{I} > 0</script></html>"
      ],
      "text/plain": [
       "Theta_I*W_EE*g_E + I_ext*W_IE*g_E - Theta_E*W_IE*g_E - Theta_I > 0"
      ]
     },
     "metadata": {},
     "output_type": "display_data"
    },
    {
     "data": {
      "text/html": [
       "<html><script type=\"math/tex; mode=display\">\\newcommand{\\Bold}[1]{\\mathbf{#1}}E_{\\mathit{set}} W_{\\mathit{IE}} g_{I} \\tau_{E} - I_{\\mathit{set}} W_{\\mathit{EE}} g_{E} \\tau_{I} - \\Theta_{I} g_{I} \\tau_{E} + I_{\\mathit{set}} \\tau_{I} > 0</script></html>"
      ],
      "text/plain": [
       "E_set*W_IE*g_I*tau_E - I_set*W_EE*g_E*tau_I - Theta_I*g_I*tau_E + I_set*tau_I > 0"
      ]
     },
     "metadata": {},
     "output_type": "display_data"
    },
    {
     "data": {
      "text/html": [
       "<html><script type=\"math/tex; mode=display\">\\newcommand{\\Bold}[1]{\\mathbf{#1}}W_{\\mathit{EE}} g_{E} - 1 > 0</script></html>"
      ],
      "text/plain": [
       "W_EE*g_E - 1 > 0"
      ]
     },
     "metadata": {},
     "output_type": "display_data"
    },
    {
     "data": {
      "text/html": [
       "<html><script type=\"math/tex; mode=display\">\\newcommand{\\Bold}[1]{\\mathbf{#1}}{\\left(\\Theta_{I} W_{\\mathit{EE}} + {\\left(I_{\\mathit{ext}} - \\Theta_{E}\\right)} W_{\\mathit{IE}}\\right)} g_{E} - \\Theta_{I} > 0</script></html>"
      ],
      "text/plain": [
       "(Theta_I*W_EE + (I_ext - Theta_E)*W_IE)*g_E - Theta_I > 0"
      ]
     },
     "metadata": {},
     "output_type": "display_data"
    },
    {
     "data": {
      "text/html": [
       "<html><script type=\"math/tex; mode=display\">\\newcommand{\\Bold}[1]{\\mathbf{#1}}E_{\\mathit{set}} W_{\\mathit{EE}} g_{E} + I_{\\mathit{ext}} g_{E} - \\Theta_{E} g_{E} - E_{\\mathit{set}} > 0</script></html>"
      ],
      "text/plain": [
       "E_set*W_EE*g_E + I_ext*g_E - Theta_E*g_E - E_set > 0"
      ]
     },
     "metadata": {},
     "output_type": "display_data"
    },
    {
     "data": {
      "text/html": [
       "<html><script type=\"math/tex; mode=display\">\\newcommand{\\Bold}[1]{\\mathbf{#1}}E_{\\mathit{set}} W_{\\mathit{IE}} g_{I} - \\Theta_{I} g_{I} - I_{\\mathit{set}} > 0</script></html>"
      ],
      "text/plain": [
       "E_set*W_IE*g_I - Theta_I*g_I - I_set > 0"
      ]
     },
     "metadata": {},
     "output_type": "display_data"
    },
    {
     "data": {
      "text/html": [
       "<html><script type=\"math/tex; mode=display\">\\newcommand{\\Bold}[1]{\\mathbf{#1}}-2 \\, I_{\\mathit{set}} \\Theta_{I} W_{\\mathit{EE}} \\alpha_{1} g_{E}^{2} g_{I} - 2 \\, I_{\\mathit{ext}} I_{\\mathit{set}} W_{\\mathit{IE}} \\alpha_{1} g_{E}^{2} g_{I} + 2 \\, I_{\\mathit{set}} \\Theta_{E} W_{\\mathit{IE}} \\alpha_{1} g_{E}^{2} g_{I} - 2 \\, E_{\\mathit{set}}^{2} W_{\\mathit{IE}} \\alpha_{1} g_{E}^{2} - 2 \\, E_{\\mathit{set}} I_{\\mathit{set}} W_{\\mathit{EE}} \\alpha_{3} g_{E} g_{I} + 2 \\, E_{\\mathit{set}} \\Theta_{I} \\alpha_{1} g_{E}^{2} + 2 \\, I_{\\mathit{set}} \\Theta_{I} \\alpha_{1} g_{E} g_{I} + 2 \\, E_{\\mathit{set}}^{2} \\alpha_{3} g_{E} + 2 \\, E_{\\mathit{set}} I_{\\mathit{set}} \\alpha_{3} g_{I} < 0</script></html>"
      ],
      "text/plain": [
       "-2*I_set*Theta_I*W_EE*alpha_1*g_E^2*g_I - 2*I_ext*I_set*W_IE*alpha_1*g_E^2*g_I + 2*I_set*Theta_E*W_IE*alpha_1*g_E^2*g_I - 2*E_set^2*W_IE*alpha_1*g_E^2 - 2*E_set*I_set*W_EE*alpha_3*g_E*g_I + 2*E_set*Theta_I*alpha_1*g_E^2 + 2*I_set*Theta_I*alpha_1*g_E*g_I + 2*E_set^2*alpha_3*g_E + 2*E_set*I_set*alpha_3*g_I < 0"
      ]
     },
     "metadata": {},
     "output_type": "display_data"
    },
    {
     "data": {
      "text/html": [
       "<html><script type=\"math/tex; mode=display\">\\newcommand{\\Bold}[1]{\\mathbf{#1}}-2 \\, I_{\\mathit{set}} \\Theta_{I} W_{\\mathit{EE}} \\alpha_{1} g_{E}^{2} g_{I} - 2 \\, I_{\\mathit{ext}} I_{\\mathit{set}} W_{\\mathit{IE}} \\alpha_{1} g_{E}^{2} g_{I} + 2 \\, I_{\\mathit{set}} \\Theta_{E} W_{\\mathit{IE}} \\alpha_{1} g_{E}^{2} g_{I} - E_{\\mathit{set}}^{2} W_{\\mathit{IE}} \\alpha_{1} g_{E}^{2} - E_{\\mathit{set}} I_{\\mathit{set}} W_{\\mathit{EE}} \\alpha_{3} g_{E} g_{I} + E_{\\mathit{set}} \\Theta_{I} \\alpha_{1} g_{E}^{2} + 2 \\, I_{\\mathit{set}} \\Theta_{I} \\alpha_{1} g_{E} g_{I} + E_{\\mathit{set}} I_{\\mathit{set}} \\alpha_{3} g_{I} < 0</script></html>"
      ],
      "text/plain": [
       "-2*I_set*Theta_I*W_EE*alpha_1*g_E^2*g_I - 2*I_ext*I_set*W_IE*alpha_1*g_E^2*g_I + 2*I_set*Theta_E*W_IE*alpha_1*g_E^2*g_I - E_set^2*W_IE*alpha_1*g_E^2 - E_set*I_set*W_EE*alpha_3*g_E*g_I + E_set*Theta_I*alpha_1*g_E^2 + 2*I_set*Theta_I*alpha_1*g_E*g_I + E_set*I_set*alpha_3*g_I < 0"
      ]
     },
     "metadata": {},
     "output_type": "display_data"
    }
   ],
   "source": [
    "show(neural_stable_detcond_v2)\n",
    "show(neural_stable_trcond_v2)\n",
    "show(paradox_cond)\n",
    "show(up_exist_cond_2_v2)\n",
    "show(positive_WEI_cond)\n",
    "show(positive_WII_cond)\n",
    "show(synaptic_stable_cond1)\n",
    "show(synaptic_stable_cond2)"
   ]
  },
  {
   "cell_type": "markdown",
   "metadata": {},
   "source": [
    "#### Paradoxical conditions"
   ]
  },
  {
   "cell_type": "code",
   "execution_count": 84,
   "metadata": {},
   "outputs": [
    {
     "data": {
      "text/html": [
       "<html><script type=\"math/tex; mode=display\">\\newcommand{\\Bold}[1]{\\mathbf{#1}}\\left[W_{\\mathit{EE}} = 5, W_{\\mathit{EI}} = 1.0857142857142859, W_{\\mathit{IE}} = 10, W_{\\mathit{II}} = \\left(\\frac{43}{28}\\right)\\right]</script></html>"
      ],
      "text/plain": [
       "[W_EE == 5, W_EI == 1.0857142857142859, W_IE == 10, W_II == (43/28)]"
      ]
     },
     "metadata": {},
     "output_type": "display_data"
    },
    {
     "data": {
      "text/html": [
       "<html><script type=\"math/tex; mode=display\">\\newcommand{\\Bold}[1]{\\mathbf{#1}}\\left[w_{\\mathit{EE}} = 56, w_{\\mathit{EI}} = 3.04, w_{\\mathit{IE}} = \\frac{10 \\, \\alpha_{1}}{\\alpha_{3}}, w_{\\mathit{II}} = \\left(\\frac{43}{7}\\right)\\right]</script></html>"
      ],
      "text/plain": [
       "[w_EE == 56, w_EI == 3.04, w_IE == 10*alpha_1/alpha_3, w_II == (43/7)]"
      ]
     },
     "metadata": {},
     "output_type": "display_data"
    }
   ],
   "source": [
    "W_EEup = W_EE==5\n",
    "W_IEup = W_IE==10\n",
    "alphas = [alpha_1==0.002,alpha_3==0.002]\n",
    "upstate_orig = [W_EEup,\n",
    "                 W_EI==W_EI.subs(synapticFixedPoint_qss_subs_up_orig).subs(values_paradoxical).subs(W_EEup),\n",
    "                 W_IEup,\n",
    "                 W_II==W_II.subs(synapticFixedPoint_qss_subs_up_orig).subs(values_paradoxical).subs(W_IEup)]\n",
    "upstate_norm = [w_EE==w_EE.subs(weights).subs(parameters).subs(parameters).subs(values_paradoxical).subs(upstate_orig),\n",
    "                 w_EI==w_EI.subs(weights).subs(parameters).subs(parameters).subs(values_paradoxical).subs(upstate_orig),\n",
    "                 w_IE==w_IE.subs(weights).subs(parameters).subs(parameters).subs(values_paradoxical).subs(upstate_orig),\n",
    "                 w_II==w_II.subs(weights).subs(parameters).subs(parameters).subs(values_paradoxical).subs(upstate_orig)]\n",
    "show(upstate_orig)\n",
    "show(upstate_norm)"
   ]
  },
  {
   "cell_type": "code",
   "execution_count": 85,
   "metadata": {},
   "outputs": [
    {
     "name": "stdout",
     "output_type": "stream",
     "text": [
      "PARADOXICAL CONDITIONS\n",
      "positive_WEI_cond:\n",
      "      E_set*W_EE*g_E + I_ext*g_E - Theta_E*g_E - E_set > 0\n",
      "      border:  W_EE == 1.9600000000000002\n",
      "      probe:  True\n",
      "positive_WII_cond:\n",
      "      E_set*W_IE*g_I - Theta_I*g_I - I_set > 0\n",
      "      border:  W_IE == (57/10)\n",
      "      probe:  True\n",
      "paradox_cond:\n",
      "      W_EE*g_E - 1 > 0\n",
      "      border:  W_EE == 1\n",
      "      probe:  True\n",
      "neural_stable_detcond_v2:\n",
      "      Theta_I*W_EE*g_E + I_ext*W_IE*g_E - Theta_E*W_IE*g_E - Theta_I > 0\n",
      "      border:  W_IE == 5.208333333333334*W_EE - 5.208333333333334\n",
      "      probe:  True\n",
      "neural_stable_trcond_v2:\n",
      "      E_set*W_IE*g_I*tau_E - I_set*W_EE*g_E*tau_I - Theta_I*g_I*tau_E + I_set*tau_I > 0\n",
      "      border:  W_IE == 7/50*W_EE + 243/50\n",
      "      probe:  True\n",
      "synaptic_stable_cond1:\n",
      "      -2*I_set*Theta_I*W_EE*alpha_1*g_E^2*g_I - 2*I_ext*I_set*W_IE*alpha_1*g_E^2*g_I + 2*I_set*Theta_E*W_IE*alpha_1*g_E^2*g_I - 2*E_set^2*W_IE*alpha_1*g_E^2 - 2*E_set*I_set*W_EE*alpha_3*g_E*g_I + 2*E_set*Theta_I*alpha_1*g_E^2 + 2*I_set*Theta_I*alpha_1*g_E*g_I + 2*E_set^2*alpha_3*g_E + 2*E_set*I_set*alpha_3*g_I < 0\n",
      "      border:  W_IE == 6.89089417555373*W_EE - 7.50615258408532\n",
      "      probe:  True\n",
      "synaptic_stable_cond2:\n",
      "      -2*I_set*Theta_I*W_EE*alpha_1*g_E^2*g_I - 2*I_ext*I_set*W_IE*alpha_1*g_E^2*g_I + 2*I_set*Theta_E*W_IE*alpha_1*g_E^2*g_I - E_set^2*W_IE*alpha_1*g_E^2 - E_set*I_set*W_EE*alpha_3*g_E*g_I + E_set*Theta_I*alpha_1*g_E^2 + 2*I_set*Theta_I*alpha_1*g_E*g_I + E_set*I_set*alpha_3*g_I < 0\n",
      "      border:  W_IE == 6.00858369098712*W_EE - 6.25243854857589\n",
      "      probe:  True\n",
      "up_exist_cond_2_v2_neg:\n",
      "      -W_IE > (W_EE*g_E - 1)*Theta_I/((I_ext - Theta_E)*g_E)\n",
      "      border:  W_IE == 5.208333333333334*W_EE - 5.208333333333334\n",
      "      probe:  True\n"
     ]
    }
   ],
   "source": [
    "probe = [W_EE==5,W_IE==10]\n",
    "positive_WEI_cond_border_pdx = solve(positive_WEI_cond.lhs()==positive_WEI_cond.rhs(),W_EE)[0].subs(values_paradoxical)\n",
    "positive_WII_cond_border_pdx = solve(positive_WII_cond.lhs()==positive_WII_cond.rhs(),W_IE)[0].subs(values_paradoxical)\n",
    "paradox_cond_border_pdx = solve(paradox_cond.left()==paradox_cond.right(),W_EE,W_IE)[0][0].subs(values_paradoxical)\n",
    "neural_stable_detcond_v2_border_pdx = solve(neural_stable_detcond_v2.lhs()==neural_stable_detcond_v2.rhs(),W_IE)[0].subs(values_paradoxical)\n",
    "neural_stable_trcond_v2_border_pdx = solve(neural_stable_trcond_v2.lhs()==neural_stable_trcond_v2.rhs(),W_IE)[0].subs(values_paradoxical)\n",
    "synaptic_stable_cond1_border_pdx = solve(synaptic_stable_cond1.lhs()==synaptic_stable_cond1.rhs(),W_IE)[0].subs(values_paradoxical).subs(alphas)\n",
    "synaptic_stable_cond2_border_pdx = solve(synaptic_stable_cond2.lhs()==synaptic_stable_cond2.rhs(),W_IE)[0].subs(values_paradoxical).subs(alphas)\n",
    "if (I_ext-Theta_E).subs(values_paradoxical) > 0:\n",
    "    up_exist_cond_2_v2_border_pdx = solve(up_exist_cond_2_v2_pos.lhs()==up_exist_cond_2_v2_pos.rhs(),W_IE)[0].subs(values_paradoxical)\n",
    "else:\n",
    "    up_exist_cond_2_v2_border_pdx = solve(up_exist_cond_2_v2_neg.lhs()==up_exist_cond_2_v2_neg.rhs(),W_IE)[0].subs(values_paradoxical)\n",
    "print(\"PARADOXICAL CONDITIONS\")\n",
    "print(\"positive_WEI_cond:\")\n",
    "print(\"     \",positive_WEI_cond)\n",
    "print(\"      border: \",positive_WEI_cond_border_pdx)\n",
    "print(\"      probe: \",bool(positive_WEI_cond.subs(values_paradoxical).subs(probe)))\n",
    "print(\"positive_WII_cond:\")\n",
    "print(\"     \",positive_WII_cond)\n",
    "print(\"      border: \",positive_WII_cond_border_pdx)\n",
    "print(\"      probe: \",bool(positive_WII_cond.subs(values_paradoxical).subs(probe)))\n",
    "print(\"paradox_cond:\")\n",
    "print(\"     \",paradox_cond)\n",
    "print(\"      border: \",paradox_cond_border_pdx)\n",
    "print(\"      probe: \",bool(paradox_cond.subs(values_paradoxical).subs(probe)))\n",
    "print(\"neural_stable_detcond_v2:\")\n",
    "print(\"     \",neural_stable_detcond_v2)\n",
    "print(\"      border: \",neural_stable_detcond_v2_border_pdx)\n",
    "print(\"      probe: \",bool(neural_stable_detcond_v2.subs(values_paradoxical).subs(probe)))\n",
    "print(\"neural_stable_trcond_v2:\")\n",
    "print(\"     \",neural_stable_trcond_v2)\n",
    "print(\"      border: \",neural_stable_trcond_v2_border_pdx)\n",
    "print(\"      probe: \",bool(neural_stable_trcond_v2.subs(values_paradoxical).subs(probe)))\n",
    "print(\"synaptic_stable_cond1:\")\n",
    "print(\"     \",synaptic_stable_cond1)\n",
    "print(\"      border: \",synaptic_stable_cond1_border_pdx)\n",
    "print(\"      probe: \",bool(synaptic_stable_cond1.subs(values_paradoxical).subs(alphas).subs(probe)))\n",
    "print(\"synaptic_stable_cond2:\")\n",
    "print(\"     \",synaptic_stable_cond2)\n",
    "print(\"      border: \",synaptic_stable_cond2_border_pdx)\n",
    "print(\"      probe: \",bool(synaptic_stable_cond2.subs(values_paradoxical).subs(alphas).subs(probe)))\n",
    "if (I_ext-Theta_E).subs(values_paradoxical) > 0:\n",
    "    print(\"up_exist_cond_2_v2_pos:\")\n",
    "    print(\"     \",up_exist_cond_2_v2_pos)\n",
    "    print(\"      border: \",up_exist_cond_2_v2_border_pdx)\n",
    "    print(\"      probe: \",bool(up_exist_cond_2_v2_pos.subs(values_paradoxical).subs(probe)))\n",
    "else:\n",
    "    print(\"up_exist_cond_2_v2_neg:\")\n",
    "    print(\"     \",up_exist_cond_2_v2_neg)\n",
    "    print(\"      border: \",up_exist_cond_2_v2_border_pdx)\n",
    "    print(\"      probe: \",bool(up_exist_cond_2_v2_neg.subs(values_paradoxical).subs(probe)))"
   ]
  },
  {
   "cell_type": "code",
   "execution_count": 86,
   "metadata": {},
   "outputs": [
    {
     "data": {
      "image/png": "[encoded data removed]",
      "text/plain": [
       "Graphics object consisting of 14 graphics primitives"
      ]
     },
     "metadata": {},
     "output_type": "display_data"
    }
   ],
   "source": [
    "W_EE_max = 10\n",
    "fig1 = line([[W_EE.subs(positive_WEI_cond_border_pdx),0],[W_EE.subs(positive_WEI_cond_border_pdx),50]],color='blue',linestyle='-',legend_label='positive WEI')\n",
    "fig2 = line([[0,W_IE.subs(positive_WII_cond_border_pdx)],[W_EE_max,W_IE.subs(positive_WII_cond_border_pdx)]],color='blue',linestyle='--',legend_label='positive WEI')\n",
    "fig3 = line([[W_EE.subs(paradox_cond_border_pdx),0],[W_EE.subs(paradox_cond_border_pdx),50]],color='magenta',legend_label='paradoxical')\n",
    "fig4 = plot(W_IE.subs(neural_stable_detcond_v2_border_pdx),(W_EE,0,W_EE_max),ymin=0,color='green',linestyle='-',legend_label='neural detcond')\n",
    "fig5 = plot(W_IE.subs(neural_stable_trcond_v2_border_pdx),(W_EE,0,W_EE_max),ymin=0,color='green',linestyle='--',legend_label='neural trcond')\n",
    "#fig6 = plot(W_IE.subs(up_exist_cond_2_v2_border_pdx),(W_EE,0,W_EE_max),ymin=0,color='black',linestyle='--',legend_label='up exists')\n",
    "fig7 = plot(W_IE.subs(synaptic_stable_cond1_border_pdx),(W_EE,0,W_EE_max),ymin=0,color='black',linestyle='-',legend_label='synaptic stable 1')\n",
    "fig8 = plot(W_IE.subs(synaptic_stable_cond2_border_pdx),(W_EE,0,W_EE_max),ymin=0,color='black',linestyle='--',legend_label='synaptic stable 2')\n",
    "tt1 = text('(positive\\nWEI)', (0.1+W_EE.subs(positive_WEI_cond_border_pdx),18),color='blue',horizontal_alignment='left')\n",
    "tt2 = text('(positive WII)', (2.5,0.5+W_IE.subs(positive_WII_cond_border_pdx)),color='blue',horizontal_alignment='left')\n",
    "tt3 = text('(paradoxical)', (0.1+W_EE.subs(paradox_cond_border_pdx),20),color='magenta',horizontal_alignment='left')\n",
    "tt4 = text('(detcond\\nstable)', (4,14),color='green',horizontal_alignment='left')\n",
    "tt5 = text('(trcond\\nstable)', (7,7.5),color='green',horizontal_alignment='left')\n",
    "#tt6 = text('(up exists)', (3.1,10),color='black',horizontal_alignment='left')\n",
    "tt7 = text('(synaptic\\nstable 1)', (4.6,20),color='black',horizontal_alignment='left')\n",
    "tt8 = text('(synaptic\\nstable 2)', (4.3,17.5),color='black',horizontal_alignment='left')\n",
    "#fig = fig1 + fig2 + fig3 + fig4 + fig5 + fig6 + fig7 + fig8 + tt1 + tt2 + tt3 + tt4 + tt5 + tt6 + tt7 + tt8\n",
    "fig = fig1 + fig2 + fig3 + fig4 + fig5 + fig7 + fig8 + tt1 + tt2 + tt3 + tt4 + tt5 + tt7 + tt8\n",
    "fig.xmin(0)\n",
    "fig.xmax(W_EE_max)\n",
    "fig.ymin(0)\n",
    "fig.ymax(20)\n",
    "fig.axes_labels(['$W_{EE}$', '$W_{IE}$'])\n",
    "fig.set_legend_options(loc='upper right')\n",
    "fig.legend(False)\n",
    "#fig.save('FB_stability_paradoxical.pdf')\n",
    "show(fig)"
   ]
  },
  {
   "cell_type": "markdown",
   "metadata": {},
   "source": [
    "#### Non-paradoxical conditions"
   ]
  },
  {
   "cell_type": "code",
   "execution_count": 87,
   "metadata": {},
   "outputs": [
    {
     "data": {
      "text/html": [
       "<html><script type=\"math/tex; mode=display\">\\newcommand{\\Bold}[1]{\\mathbf{#1}}\\left[W_{\\mathit{EE}} = 5, W_{\\mathit{EI}} = 1.2999999999999998, W_{\\mathit{IE}} = 10, W_{\\mathit{II}} = \\left(\\frac{43}{28}\\right)\\right]</script></html>"
      ],
      "text/plain": [
       "[W_EE == 5, W_EI == 1.2999999999999998, W_IE == 10, W_II == (43/28)]"
      ]
     },
     "metadata": {},
     "output_type": "display_data"
    },
    {
     "data": {
      "text/html": [
       "<html><script type=\"math/tex; mode=display\">\\newcommand{\\Bold}[1]{\\mathbf{#1}}\\left[w_{\\mathit{EE}} = 56, w_{\\mathit{EI}} = 1.8199999999999998, w_{\\mathit{IE}} = \\frac{5.0 \\, \\alpha_{1}}{\\alpha_{3}}, w_{\\mathit{II}} = \\left(\\frac{43}{7}\\right)\\right]</script></html>"
      ],
      "text/plain": [
       "[w_EE == 56,\n",
       " w_EI == 1.8199999999999998,\n",
       " w_IE == 5.0*alpha_1/alpha_3,\n",
       " w_II == (43/7)]"
      ]
     },
     "metadata": {},
     "output_type": "display_data"
    }
   ],
   "source": [
    "W_EEup = W_EE==5\n",
    "W_IEup = W_IE==10\n",
    "upstate_orig = [W_EEup,\n",
    "                 W_EI==W_EI.subs(synapticFixedPoint_qss_subs_up_orig).subs(values_nonparadoxical).subs(W_EEup),\n",
    "                 W_IEup,\n",
    "                 W_II==W_II.subs(synapticFixedPoint_qss_subs_up_orig).subs(values_nonparadoxical).subs(W_IEup)]\n",
    "upstate_norm = [w_EE==w_EE.subs(weights).subs(parameters).subs(parameters).subs(values_nonparadoxical).subs(upstate_orig),\n",
    "                 w_EI==w_EI.subs(weights).subs(parameters).subs(parameters).subs(values_nonparadoxical).subs(upstate_orig),\n",
    "                 w_IE==w_IE.subs(weights).subs(parameters).subs(parameters).subs(values_nonparadoxical).subs(upstate_orig),\n",
    "                 w_II==w_II.subs(weights).subs(parameters).subs(parameters).subs(values_nonparadoxical).subs(upstate_orig)]\n",
    "show(upstate_orig)\n",
    "show(upstate_norm)"
   ]
  },
  {
   "cell_type": "code",
   "execution_count": 88,
   "metadata": {},
   "outputs": [
    {
     "name": "stdout",
     "output_type": "stream",
     "text": [
      "NONPARADOXICAL CONDITIONS\n",
      "positive_WEI_cond:\n",
      "      E_set*W_EE*g_E + I_ext*g_E - Theta_E*g_E - E_set > 0\n",
      "      border:  W_EE == 1.36\n",
      "      probe:  True\n",
      "positive_WII_cond:\n",
      "      E_set*W_IE*g_I - Theta_I*g_I - I_set > 0\n",
      "      border:  W_IE == (57/10)\n",
      "      probe:  True\n",
      "paradox_cond:\n",
      "      W_EE*g_E - 1 > 0\n",
      "      border:  W_EE == 2.0\n",
      "      probe:  True\n",
      "neural_stable_detcond_v2:\n",
      "      Theta_I*W_EE*g_E + I_ext*W_IE*g_E - Theta_E*W_IE*g_E - Theta_I > 0\n",
      "      border:  W_IE == -7.8125*W_EE + 15.625\n",
      "      probe:  True\n",
      "neural_stable_trcond_v2:\n",
      "      E_set*W_IE*g_I*tau_E - I_set*W_EE*g_E*tau_I - Theta_I*g_I*tau_E + I_set*tau_I > 0\n",
      "      border:  W_IE == 0.07*W_EE + 243/50\n",
      "      probe:  True\n",
      "synaptic_stable_cond1:\n",
      "      -2*I_set*Theta_I*W_EE*alpha_1*g_E^2*g_I - 2*I_ext*I_set*W_IE*alpha_1*g_E^2*g_I + 2*I_set*Theta_E*W_IE*alpha_1*g_E^2*g_I - 2*E_set^2*W_IE*alpha_1*g_E^2 - 2*E_set*I_set*W_EE*alpha_3*g_E*g_I + 2*E_set*Theta_I*alpha_1*g_E^2 + 2*I_set*Theta_I*alpha_1*g_E*g_I + 2*E_set^2*alpha_3*g_E + 2*E_set*I_set*alpha_3*g_I < 0\n",
      "      border:  W_IE == 6.89089417555373*W_EE - 7.50615258408532\n",
      "      probe:  True\n",
      "synaptic_stable_cond2:\n",
      "      -2*I_set*Theta_I*W_EE*alpha_1*g_E^2*g_I - 2*I_ext*I_set*W_IE*alpha_1*g_E^2*g_I + 2*I_set*Theta_E*W_IE*alpha_1*g_E^2*g_I - E_set^2*W_IE*alpha_1*g_E^2 - E_set*I_set*W_EE*alpha_3*g_E*g_I + E_set*Theta_I*alpha_1*g_E^2 + 2*I_set*Theta_I*alpha_1*g_E*g_I + E_set*I_set*alpha_3*g_I < 0\n",
      "      border:  W_IE == 6.00858369098712*W_EE - 6.25243854857589\n",
      "      probe:  True\n",
      "up_exist_cond_2_v2_pos:\n",
      "      W_IE > -(W_EE*g_E - 1)*Theta_I/((I_ext - Theta_E)*g_E)\n",
      "      border:  W_IE == 5.208333333333334*W_EE - 5.208333333333334\n",
      "      probe:  True\n"
     ]
    }
   ],
   "source": [
    "probe = [W_EE==5,W_IE==10]\n",
    "positive_WEI_cond_border_nonpdx = solve(positive_WEI_cond.lhs()==positive_WEI_cond.rhs(),W_EE)[0].subs(values_nonparadoxical)\n",
    "positive_WII_cond_border_nonpdx = solve(positive_WII_cond.lhs()==positive_WII_cond.rhs(),W_IE)[0].subs(values_nonparadoxical)\n",
    "paradox_cond_border_nonpdx = solve(paradox_cond.left()==paradox_cond.right(),W_EE,W_IE)[0][0].subs(values_nonparadoxical)\n",
    "neural_stable_detcond_v2_border_nonpdx = solve(neural_stable_detcond_v2.lhs()==0,W_IE)[0].subs(values_nonparadoxical)\n",
    "neural_stable_trcond_v2_border_nonpdx = solve(neural_stable_trcond_v2.lhs()==0,W_IE)[0].subs(values_nonparadoxical)\n",
    "synaptic_stable_cond1_border_nonpdx = solve(synaptic_stable_cond1.lhs()==synaptic_stable_cond1.rhs(),W_IE)[0].subs(values_nonparadoxical).subs(alphas)\n",
    "synaptic_stable_cond2_border_nonpdx = solve(synaptic_stable_cond2.lhs()==synaptic_stable_cond2.rhs(),W_IE)[0].subs(values_nonparadoxical).subs(alphas)\n",
    "if (I_ext-Theta_E).subs(values_nonparadoxical) > 0:\n",
    "    up_exist_cond_2_v2_border_nonpdx = solve(up_exist_cond_2_v2_pos.lhs()==up_exist_cond_2_v2_pos.rhs(),W_IE)[0].subs(values_nonparadoxical)\n",
    "else:\n",
    "    up_exist_cond_2_v2_border_nonpdx = solve(up_exist_cond_2_v2_neg.lhs()==up_exist_cond_2_v2_neg.rhs(),W_IE)[0].subs(values_nonparadoxical)\n",
    "print(\"NONPARADOXICAL CONDITIONS\")\n",
    "print(\"positive_WEI_cond:\")\n",
    "print(\"     \",positive_WEI_cond)\n",
    "print(\"      border: \",positive_WEI_cond_border_nonpdx)\n",
    "print(\"      probe: \",bool(positive_WEI_cond.subs(values_nonparadoxical).subs(probe)))\n",
    "print(\"positive_WII_cond:\")\n",
    "print(\"     \",positive_WII_cond)\n",
    "print(\"      border: \",positive_WII_cond_border_nonpdx)\n",
    "print(\"      probe: \",bool(positive_WII_cond.subs(values_nonparadoxical).subs(probe)))\n",
    "print(\"paradox_cond:\")\n",
    "print(\"     \",paradox_cond)\n",
    "print(\"      border: \",paradox_cond_border_nonpdx)\n",
    "print(\"      probe: \",bool(paradox_cond.subs(values_nonparadoxical).subs(probe)))\n",
    "print(\"neural_stable_detcond_v2:\")\n",
    "print(\"     \",neural_stable_detcond_v2)\n",
    "print(\"      border: \",neural_stable_detcond_v2_border_nonpdx)\n",
    "print(\"      probe: \",bool(neural_stable_detcond_v2.subs(values_nonparadoxical).subs(probe)))\n",
    "print(\"neural_stable_trcond_v2:\")\n",
    "print(\"     \",neural_stable_trcond_v2)\n",
    "print(\"      border: \",neural_stable_trcond_v2_border_nonpdx)\n",
    "print(\"      probe: \",bool(neural_stable_trcond_v2.subs(values_nonparadoxical).subs(probe)))\n",
    "print(\"synaptic_stable_cond1:\")\n",
    "print(\"     \",synaptic_stable_cond1)\n",
    "print(\"      border: \",synaptic_stable_cond1_border_pdx)\n",
    "print(\"      probe: \",bool(synaptic_stable_cond1.subs(values_nonparadoxical).subs(alphas).subs(probe)))\n",
    "print(\"synaptic_stable_cond2:\")\n",
    "print(\"     \",synaptic_stable_cond2)\n",
    "print(\"      border: \",synaptic_stable_cond2_border_pdx)\n",
    "print(\"      probe: \",bool(synaptic_stable_cond2.subs(values_nonparadoxical).subs(alphas).subs(probe)))\n",
    "if (I_ext-Theta_E).subs(values_nonparadoxical) > 0:\n",
    "    print(\"up_exist_cond_2_v2_pos:\")\n",
    "    print(\"     \",up_exist_cond_2_v2_pos)\n",
    "    print(\"      border: \",up_exist_cond_2_v2_border_pdx)\n",
    "    print(\"      probe: \",bool(up_exist_cond_2_v2_pos.subs(values_nonparadoxical).subs(probe)))\n",
    "else:\n",
    "    print(\"up_exist_cond_2_v2_neg:\")\n",
    "    print(\"     \",up_exist_cond_2_v2_neg)\n",
    "    print(\"      border: \",up_exist_cond_2_v2_neg_border_pdx)\n",
    "    print(\"      probe: \",bool(up_exist_cond_2_v2_neg.subs(values_nonparadoxical).subs(probe)))"
   ]
  },
  {
   "cell_type": "code",
   "execution_count": 89,
   "metadata": {},
   "outputs": [
    {
     "data": {
      "image/png": "[encoded data removed]",
      "text/plain": [
       "Graphics object consisting of 14 graphics primitives"
      ]
     },
     "metadata": {},
     "output_type": "display_data"
    }
   ],
   "source": [
    "W_EE_max = 10\n",
    "fig1 = line([[W_EE.subs(positive_WEI_cond_border_nonpdx),0],[W_EE.subs(positive_WEI_cond_border_nonpdx),50]],color='blue',linestyle='-',legend_label='positive WEI')\n",
    "fig2 = line([[0,W_IE.subs(positive_WII_cond_border_nonpdx)],[W_EE_max,W_IE.subs(positive_WII_cond_border_nonpdx)]],color='blue',linestyle='--',legend_label='positive WEI')\n",
    "fig3 = line([[W_EE.subs(paradox_cond_border_nonpdx),0],[W_EE.subs(paradox_cond_border_nonpdx),50]],color='magenta',legend_label='paradoxical')\n",
    "fig4 = plot(W_IE.subs(neural_stable_detcond_v2_border_nonpdx),(W_EE,0,W_EE_max),ymin=0,color='green',linestyle='-',legend_label='neural detcond')\n",
    "fig5 = plot(W_IE.subs(neural_stable_trcond_v2_border_nonpdx),(W_EE,0,W_EE_max),ymin=0,color='green',linestyle='--',legend_label='neural trcond')\n",
    "#fig6 = plot(W_IE.subs(up_exist_cond_2_v2_border_nonpdx),(W_EE,0,W_EE_max),ymin=0,color='black',linestyle='--',legend_label='up exists')\n",
    "fig7 = plot(W_IE.subs(synaptic_stable_cond1_border_nonpdx),(W_EE,0,W_EE_max),ymin=0,color='black',linestyle='-',legend_label='synaptic stable 1')\n",
    "fig8 = plot(W_IE.subs(synaptic_stable_cond2_border_nonpdx),(W_EE,0,W_EE_max),ymin=0,color='black',linestyle='--',legend_label='synaptic stable 2')\n",
    "tt1 = text('(positive WEI)', (0.1+W_EE.subs(positive_WEI_cond_border_nonpdx),20),color='blue',horizontal_alignment='left')\n",
    "tt2 = text('(positive WII)', (2.5,0.5+W_IE.subs(positive_WII_cond_border_nonpdx)),color='blue',horizontal_alignment='left')\n",
    "tt3 = text('(paradoxical)', (0.1+W_EE.subs(paradox_cond_border_nonpdx),18.5),color='magenta',horizontal_alignment='left')\n",
    "tt4 = text('(detcond\\n stable)', (0.9,9),color='green',horizontal_alignment='left')\n",
    "tt5 = text('(trcond\\nstable)', (7,7.5),color='green',horizontal_alignment='left')\n",
    "#tt6 = text('(up exists)', (1.2,7),color='black',horizontal_alignment='left')\n",
    "tt7 = text('(synaptic\\n stable 1)', (0.2,15),color='black',horizontal_alignment='left')\n",
    "tt8 = text('(synaptic\\n stable 2)', (0.6,12),color='black',horizontal_alignment='left')\n",
    "#fig = fig1 + fig2 + fig3 + fig4 + fig5 + fig6 + fig7 + fig8 + tt1 + tt2 + tt3 + tt4 + tt5 + tt6 + tt7 + tt8\n",
    "fig = fig1 + fig2 + fig3 + fig4 + fig5 + fig7 + fig8 + tt1 + tt2 + tt3 + tt4 + tt5 + tt7 + tt8\n",
    "fig.xmin(0)\n",
    "fig.xmax(W_EE_max)\n",
    "fig.ymin(0)\n",
    "fig.ymax(20)\n",
    "fig.axes_labels(['$W_{EE}$', '$W_{IE}$'])\n",
    "fig.set_legend_options(loc='upper right')\n",
    "fig.legend(False)\n",
    "#fig.save('BA_stability_nonparadoxical.pdf')\n",
    "show(fig)"
   ]
  },
  {
   "cell_type": "code",
   "execution_count": null,
   "metadata": {},
   "outputs": [],
   "source": []
  }
 ],
 "metadata": {
  "kernelspec": {
   "display_name": "SageMath 9.1",
   "language": "sage",
   "name": "sagemath"
  },
  "language_info": {
   "codemirror_mode": {
    "name": "ipython",
    "version": 3
   },
   "file_extension": ".py",
   "mimetype": "text/x-python",
   "name": "python",
   "nbconvert_exporter": "python",
   "pygments_lexer": "ipython3",
   "version": "3.7.3"
  }
 },
 "nbformat": 4,
 "nbformat_minor": 2
}
